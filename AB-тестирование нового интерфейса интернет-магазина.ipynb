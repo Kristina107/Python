{
 "cells": [
  {
   "cell_type": "markdown",
   "id": "e06910dd",
   "metadata": {
    "id": "e06910dd"
   },
   "source": [
    "# A/B-тестирование влияния нового интерфейса интернет-магазина BitMotion Kit\n",
    "\n",
    "- Автор: Романовская Кристина\n",
    "- Дата: 29.04.2025"
   ]
  },
  {
   "cell_type": "markdown",
   "id": "539c3465",
   "metadata": {},
   "source": [
    "## Цели и задачи проекта\n",
    "\n",
    "#### Цель проекта:\n",
    "Оценить влияние нового интерфейса интернет-магазина BitMotion Kit на конверсию из регистрации в покупку с помощью А/Б-теста, чтобы предоставить обоснованные рекомендации для повышения вовлеченности и продаж.\n",
    "\n",
    "#### Задачи:\n",
    "1. Провести предобработку данных А/Б-теста: объединить данные о пользователях, событиях и зонах, ограничить временной диапазон (7 дней после регистрации), отфильтровать пользователей из зоны EU.\n",
    "2.  Оценить корректность проведения теста: проверить пересечение пользователей между группами, сбалансированность по устройствам и временные рамки.\n",
    "3.  Рассчитать конверсию из регистрации в покупку для групп A (текущий интерфейс) и B (новый интерфейс) и проверить гипотезу о том, что новый интерфейс увеличивает конверсию.\n",
    "4.  Подготовить аналитическую записку с результатами А/Б-теста, выводами и рекомендациями по внедрению нового интерфейса."
   ]
  },
  {
   "cell_type": "markdown",
   "id": "728986ea",
   "metadata": {
    "id": "728986ea"
   },
   "source": [
    "## Описание данных\n",
    "\n",
    "Данные описывают результаты А/Б-теста интернет-магазина BitMotion Kit, проведенного в 2020 году, для сравнения текущего и нового интерфейса. Данные представлены в двух файлах и дополнительной таблице зон:\n",
    "\n",
    "- **ab_test_participants.csv** (информация об участниках теста):\n",
    "  - `user_id` — идентификатор пользователя;\n",
    "  - `group` — группа пользователя (A — текущий интерфейс, B — новый интерфейс);\n",
    "  - `ab_test` — название теста (`interface_eu_test`);\n",
    "  - `device` — устройство, с которого пользователь регистрировался.\n",
    "\n",
    "- **ab_test_events.zip** (события пользователей):\n",
    "  - `user_id` — идентификатор пользователя;\n",
    "  - `event_dt` — дата и время события;\n",
    "  - `event_name` — тип события:\n",
    "    - `registration` — регистрация пользователя;\n",
    "    - `purchase` — покупка (стоимость привлечения клиента);\n",
    "  - `details` — дополнительные данные (например, стоимость покупки).\n",
    "\n",
    "- **Таблица зон** (соответствие кодов зон регионам):\n",
    "  - `ZONE_CODE` — код зоны (например, ZONE_CODE00, ZONE_CODE01 и т.д.);\n",
    "  - `Зона` — регион или комбинация регионов (например, EU, CIS, APAC, N.America, EU,CIS и т.д.)."
   ]
  },
  {
   "cell_type": "markdown",
   "id": "4fecaf95",
   "metadata": {
    "id": "4fecaf95"
   },
   "source": [
    "## Содержимое проекта\n",
    "\n",
    "1. **Загрузка данных:**  \n",
    "   - Загрузить данные о пользователях и их действиях.\n",
    "\n",
    "2. **Оценка корректности теста:**  \n",
    "   - Проверить соответствие ТЗ, равномерность распределения и отсутствие пересечений с другими тестами.  \n",
    "   - Отфильтровать данные: события за первые 7 дней после регистрации.\n",
    "\n",
    "3. **Оценка результатов:**  \n",
    "   - Проверить гипотезу о повышении конверсии в тестовой группе.  \n",
    "   - Интерпретировать p-value и сделать вывод."
   ]
  },
  {
   "cell_type": "markdown",
   "id": "f551ac53",
   "metadata": {},
   "source": [
    "---"
   ]
  },
  {
   "cell_type": "markdown",
   "id": "6f7d21d6",
   "metadata": {
    "id": "6f7d21d6"
   },
   "source": [
    "## 1. Загрузка данных и знакомство с ними"
   ]
  },
  {
   "cell_type": "code",
   "execution_count": 1,
   "id": "6d7cc9e3",
   "metadata": {},
   "outputs": [],
   "source": [
    "import pandas as pd\n",
    "from scipy import stats\n",
    "import math\n",
    "from statsmodels.stats.proportion import proportions_ztest"
   ]
  },
  {
   "cell_type": "markdown",
   "id": "hc1d6jVISegz",
   "metadata": {
    "id": "hc1d6jVISegz"
   },
   "source": [
    "----"
   ]
  },
  {
   "cell_type": "code",
   "execution_count": 2,
   "id": "fc2d4963",
   "metadata": {},
   "outputs": [],
   "source": [
    "participants = pd.read_csv('/datasets/ab_test_participants.csv')\n",
    "events = pd.read_csv('/datasets/ab_test_events.zip', low_memory=False)"
   ]
  },
  {
   "cell_type": "code",
   "execution_count": 3,
   "id": "0b9efccf",
   "metadata": {},
   "outputs": [
    {
     "name": "stdout",
     "output_type": "stream",
     "text": [
      "Таблица participants:\n"
     ]
    },
    {
     "data": {
      "text/html": [
       "<div>\n",
       "<style scoped>\n",
       "    .dataframe tbody tr th:only-of-type {\n",
       "        vertical-align: middle;\n",
       "    }\n",
       "\n",
       "    .dataframe tbody tr th {\n",
       "        vertical-align: top;\n",
       "    }\n",
       "\n",
       "    .dataframe thead th {\n",
       "        text-align: right;\n",
       "    }\n",
       "</style>\n",
       "<table border=\"1\" class=\"dataframe\">\n",
       "  <thead>\n",
       "    <tr style=\"text-align: right;\">\n",
       "      <th></th>\n",
       "      <th>user_id</th>\n",
       "      <th>group</th>\n",
       "      <th>ab_test</th>\n",
       "      <th>device</th>\n",
       "    </tr>\n",
       "  </thead>\n",
       "  <tbody>\n",
       "    <tr>\n",
       "      <th>0</th>\n",
       "      <td>0002CE61FF2C4011</td>\n",
       "      <td>B</td>\n",
       "      <td>interface_eu_test</td>\n",
       "      <td>Mac</td>\n",
       "    </tr>\n",
       "    <tr>\n",
       "      <th>1</th>\n",
       "      <td>001064FEAAB631A1</td>\n",
       "      <td>B</td>\n",
       "      <td>recommender_system_test</td>\n",
       "      <td>Android</td>\n",
       "    </tr>\n",
       "    <tr>\n",
       "      <th>2</th>\n",
       "      <td>001064FEAAB631A1</td>\n",
       "      <td>A</td>\n",
       "      <td>interface_eu_test</td>\n",
       "      <td>Android</td>\n",
       "    </tr>\n",
       "    <tr>\n",
       "      <th>3</th>\n",
       "      <td>0010A1C096941592</td>\n",
       "      <td>A</td>\n",
       "      <td>recommender_system_test</td>\n",
       "      <td>Android</td>\n",
       "    </tr>\n",
       "    <tr>\n",
       "      <th>4</th>\n",
       "      <td>001E72F50D1C48FA</td>\n",
       "      <td>A</td>\n",
       "      <td>interface_eu_test</td>\n",
       "      <td>Mac</td>\n",
       "    </tr>\n",
       "  </tbody>\n",
       "</table>\n",
       "</div>"
      ],
      "text/plain": [
       "            user_id group                  ab_test   device\n",
       "0  0002CE61FF2C4011     B        interface_eu_test      Mac\n",
       "1  001064FEAAB631A1     B  recommender_system_test  Android\n",
       "2  001064FEAAB631A1     A        interface_eu_test  Android\n",
       "3  0010A1C096941592     A  recommender_system_test  Android\n",
       "4  001E72F50D1C48FA     A        interface_eu_test      Mac"
      ]
     },
     "metadata": {},
     "output_type": "display_data"
    },
    {
     "name": "stdout",
     "output_type": "stream",
     "text": [
      "<class 'pandas.core.frame.DataFrame'>\n",
      "RangeIndex: 14525 entries, 0 to 14524\n",
      "Data columns (total 4 columns):\n",
      " #   Column   Non-Null Count  Dtype \n",
      "---  ------   --------------  ----- \n",
      " 0   user_id  14525 non-null  object\n",
      " 1   group    14525 non-null  object\n",
      " 2   ab_test  14525 non-null  object\n",
      " 3   device   14525 non-null  object\n",
      "dtypes: object(4)\n",
      "memory usage: 454.0+ KB\n"
     ]
    },
    {
     "data": {
      "text/plain": [
       "None"
      ]
     },
     "metadata": {},
     "output_type": "display_data"
    }
   ],
   "source": [
    "# Оценка данных participants\n",
    "print(\"Таблица participants:\")\n",
    "display(participants.head())\n",
    "display(participants.info())"
   ]
  },
  {
   "cell_type": "code",
   "execution_count": 4,
   "id": "39cb4a93",
   "metadata": {},
   "outputs": [
    {
     "name": "stdout",
     "output_type": "stream",
     "text": [
      "Таблица events:\n"
     ]
    },
    {
     "data": {
      "text/html": [
       "<div>\n",
       "<style scoped>\n",
       "    .dataframe tbody tr th:only-of-type {\n",
       "        vertical-align: middle;\n",
       "    }\n",
       "\n",
       "    .dataframe tbody tr th {\n",
       "        vertical-align: top;\n",
       "    }\n",
       "\n",
       "    .dataframe thead th {\n",
       "        text-align: right;\n",
       "    }\n",
       "</style>\n",
       "<table border=\"1\" class=\"dataframe\">\n",
       "  <thead>\n",
       "    <tr style=\"text-align: right;\">\n",
       "      <th></th>\n",
       "      <th>user_id</th>\n",
       "      <th>event_dt</th>\n",
       "      <th>event_name</th>\n",
       "      <th>details</th>\n",
       "    </tr>\n",
       "  </thead>\n",
       "  <tbody>\n",
       "    <tr>\n",
       "      <th>0</th>\n",
       "      <td>GLOBAL</td>\n",
       "      <td>2020-12-01 00:00:00</td>\n",
       "      <td>End of Black Friday Ads Campaign</td>\n",
       "      <td>ZONE_CODE15</td>\n",
       "    </tr>\n",
       "    <tr>\n",
       "      <th>1</th>\n",
       "      <td>CCBE9E7E99F94A08</td>\n",
       "      <td>2020-12-01 00:00:11</td>\n",
       "      <td>registration</td>\n",
       "      <td>0.0</td>\n",
       "    </tr>\n",
       "    <tr>\n",
       "      <th>2</th>\n",
       "      <td>GLOBAL</td>\n",
       "      <td>2020-12-01 00:00:25</td>\n",
       "      <td>product_page</td>\n",
       "      <td>NaN</td>\n",
       "    </tr>\n",
       "    <tr>\n",
       "      <th>3</th>\n",
       "      <td>CCBE9E7E99F94A08</td>\n",
       "      <td>2020-12-01 00:00:33</td>\n",
       "      <td>login</td>\n",
       "      <td>NaN</td>\n",
       "    </tr>\n",
       "    <tr>\n",
       "      <th>4</th>\n",
       "      <td>CCBE9E7E99F94A08</td>\n",
       "      <td>2020-12-01 00:00:52</td>\n",
       "      <td>product_page</td>\n",
       "      <td>NaN</td>\n",
       "    </tr>\n",
       "  </tbody>\n",
       "</table>\n",
       "</div>"
      ],
      "text/plain": [
       "            user_id             event_dt                        event_name  \\\n",
       "0            GLOBAL  2020-12-01 00:00:00  End of Black Friday Ads Campaign   \n",
       "1  CCBE9E7E99F94A08  2020-12-01 00:00:11                      registration   \n",
       "2            GLOBAL  2020-12-01 00:00:25                      product_page   \n",
       "3  CCBE9E7E99F94A08  2020-12-01 00:00:33                             login   \n",
       "4  CCBE9E7E99F94A08  2020-12-01 00:00:52                      product_page   \n",
       "\n",
       "       details  \n",
       "0  ZONE_CODE15  \n",
       "1          0.0  \n",
       "2          NaN  \n",
       "3          NaN  \n",
       "4          NaN  "
      ]
     },
     "metadata": {},
     "output_type": "display_data"
    },
    {
     "name": "stdout",
     "output_type": "stream",
     "text": [
      "<class 'pandas.core.frame.DataFrame'>\n",
      "RangeIndex: 787286 entries, 0 to 787285\n",
      "Data columns (total 4 columns):\n",
      " #   Column      Non-Null Count   Dtype \n",
      "---  ------      --------------   ----- \n",
      " 0   user_id     787286 non-null  object\n",
      " 1   event_dt    787286 non-null  object\n",
      " 2   event_name  787286 non-null  object\n",
      " 3   details     249022 non-null  object\n",
      "dtypes: object(4)\n",
      "memory usage: 24.0+ MB\n"
     ]
    },
    {
     "data": {
      "text/plain": [
       "None"
      ]
     },
     "metadata": {},
     "output_type": "display_data"
    }
   ],
   "source": [
    "# Оценка данных events\n",
    "print(\"Таблица events:\")\n",
    "display(events.head())\n",
    "display(events.info())"
   ]
  },
  {
   "cell_type": "markdown",
   "id": "91a2ad7d",
   "metadata": {},
   "source": [
    "Анализ целостности:\n",
    "\n",
    "1. Participants:\n",
    "- Всего 14525 записей, пропуски отсутствуют.\n",
    "- Типы данных корректны: все столбцы — object, что соответствует ожиданиям (идентификаторы и категориальные данные).\n",
    "- В данных есть несколько тестов (interface_eu_test, recommender_system_test). Для анализа будем использовать только interface_eu_test.\n",
    "- Некоторые пользователи участвуют в нескольких тестах или группах. Например, пользователь 001064FEAAB631A1 присутствует в обеих группах (A и B) теста interface_eu_test. Это нарушает корректность теста, и такие записи нужно исключить.\n",
    "2. Events:\n",
    "- Всего 787286 записей, пропуски есть только в столбце details (249922 непропущенных значений).\n",
    "- Пропуски в details ожидаемы: для событий registration, login, product_page и других, кроме purchase, поле details не заполняется. Для purchase details должен содержать стоимость покупки.\n",
    "- Типы данных: event_dt — datetime64[ns], что корректно; details — object, что требует проверки (для purchase ожидаем числовые значения).\n",
    "- В данных есть записи с user_id = GLOBAL и события вроде End of Black Friday Ads Campaign, которые не относятся к действиям пользователей. Такие записи нужно исключить.\n",
    "- Столбец details для событий purchase должен содержать числовые значения (стоимость), но в примере для registration указано 0.0, а для других событий — ZONE_CODE15. Это говорит о возможной ошибке в данных: нужно проверить типы значений в details и преобразовать их."
   ]
  },
  {
   "cell_type": "markdown",
   "id": "CnzA-efasUrk",
   "metadata": {
    "id": "CnzA-efasUrk"
   },
   "source": [
    "## 2. Оцениваем корректность проведения теста:"
   ]
  },
  {
   "cell_type": "code",
   "execution_count": 5,
   "id": "3fc6c722",
   "metadata": {},
   "outputs": [],
   "source": [
    "# Фильтрация: только тест interface_eu_test\n",
    "test_participants = participants[participants['ab_test'] == 'interface_eu_test']"
   ]
  },
  {
   "cell_type": "code",
   "execution_count": 6,
   "id": "dc509620",
   "metadata": {},
   "outputs": [
    {
     "name": "stdout",
     "output_type": "stream",
     "text": [
      "Пересечений пользователей между группами нет.\n"
     ]
    }
   ],
   "source": [
    "# Проверка пересечений пользователей между группами\n",
    "user_groups = test_participants.groupby('user_id')['group'].nunique()\n",
    "overlapping_users = user_groups[user_groups > 1].index\n",
    "if len(overlapping_users) > 0:\n",
    "    print(f\"Найдено {len(overlapping_users)} пользователей, попавших в обе группы:\")\n",
    "    display(overlapping_users)\n",
    "    # Удаляем пользователей, которые попали в обе группы\n",
    "    test_participants = test_participants[~test_participants['user_id'].isin(overlapping_users)]\n",
    "else:\n",
    "    print(\"Пересечений пользователей между группами нет.\")"
   ]
  },
  {
   "cell_type": "code",
   "execution_count": 7,
   "id": "ea310a73",
   "metadata": {},
   "outputs": [
    {
     "name": "stdout",
     "output_type": "stream",
     "text": [
      "Проверка дубликатов по user_id внутри теста interface_eu_test:\n",
      "Количество дублированных строк: 0\n",
      "Дубликатов внутри test_participants нет: пользователи уникальны по группам внутри теста interface_eu_test.\n"
     ]
    }
   ],
   "source": [
    "# Проверка дубликатов внутри test_participants (пересечения между группами A и B)\n",
    "print(\"Проверка дубликатов по user_id внутри теста interface_eu_test:\")\n",
    "duplicates_in_test = test_participants[test_participants.duplicated(subset='user_id', keep=False)]\n",
    "print(f\"Количество дублированных строк: {len(duplicates_in_test)}\")\n",
    "if len(duplicates_in_test) > 0:\n",
    "    print(\"Пример дублированных строк в test_participants (пользователи, попавшие в обе группы):\")\n",
    "    display(duplicates_in_test.sort_values(by='user_id').head(10))\n",
    "else:\n",
    "    print(\"Дубликатов внутри test_participants нет: пользователи уникальны по группам внутри теста interface_eu_test.\")"
   ]
  },
  {
   "cell_type": "code",
   "execution_count": 8,
   "id": "56c06f3d",
   "metadata": {},
   "outputs": [],
   "source": [
    "# Определение EU зон\n",
    "eu_zones = ['ZONE_CODE01', 'ZONE_CODE03', 'ZONE_CODE05', 'ZONE_CODE07', \n",
    "            'ZONE_CODE09', 'ZONE_CODE11', 'ZONE_CODE13', 'ZONE_CODE15']"
   ]
  },
  {
   "cell_type": "code",
   "execution_count": 9,
   "id": "8cb87f95",
   "metadata": {},
   "outputs": [
    {
     "name": "stdout",
     "output_type": "stream",
     "text": [
      "Количество событий с 'End of Black Friday Ads Campaign': 1\n"
     ]
    }
   ],
   "source": [
    "# Создаём копию среза\n",
    "zone_events = events[events['event_name'].str.contains('End of Black Friday Ads Campaign')].copy()\n",
    "print(f\"Количество событий с 'End of Black Friday Ads Campaign': {len(zone_events)}\")"
   ]
  },
  {
   "cell_type": "code",
   "execution_count": 10,
   "id": "38e38590",
   "metadata": {},
   "outputs": [
    {
     "name": "stdout",
     "output_type": "stream",
     "text": [
      "Количество событий в зоне EU: 1\n",
      "Количество уникальных пользователей из зоны EU: 1\n",
      "После фильтрации по зоне EU осталось 0 пользователей.\n"
     ]
    }
   ],
   "source": [
    "# Проверяем, есть ли события для фильтрации\n",
    "if len(zone_events) > 0:\n",
    "    zone_events['is_eu'] = zone_events['details'].isin(eu_zones)\n",
    "    print(f\"Количество событий в зоне EU: {len(zone_events[zone_events['is_eu']])}\")\n",
    "    \n",
    "    # Фильтрация пользователей из EU\n",
    "    eu_users = zone_events[zone_events['is_eu']]['user_id'].unique()\n",
    "    print(f\"Количество уникальных пользователей из зоны EU: {len(eu_users)}\")\n",
    "    \n",
    "    test_participants = test_participants[test_participants['user_id'].isin(eu_users)]\n",
    "    print(f\"После фильтрации по зоне EU осталось {len(test_participants)} пользователей.\")\n",
    "else:\n",
    "    print(\"Событий с 'End of Black Friday Ads Campaign' не найдено. Фильтрация по зоне EU невозможна.\")"
   ]
  },
  {
   "cell_type": "code",
   "execution_count": 11,
   "id": "3adbb54b",
   "metadata": {},
   "outputs": [
    {
     "name": "stdout",
     "output_type": "stream",
     "text": [
      "После фильтрации по зоне EU пользователей не осталось. Предполагаем, что пользователи interface_eu_test из зоны EU.\n"
     ]
    }
   ],
   "source": [
    "# Проверка, сколько пользователей осталось после фильтрации по EU\n",
    "if test_participants.empty:\n",
    "    print(\"После фильтрации по зоне EU пользователей не осталось. Предполагаем, что пользователи interface_eu_test из зоны EU.\")\n",
    "    # Возвращаем исходную выборку после удаления пересечений\n",
    "    test_participants = participants[participants['ab_test'] == 'interface_eu_test']\n",
    "    test_participants = test_participants[~test_participants['user_id'].isin(overlapping_users)]\n",
    "else:\n",
    "    print(f\"После фильтрации по зоне EU осталось {test_participants['user_id'].nunique()} пользователей.\")"
   ]
  },
  {
   "cell_type": "code",
   "execution_count": 12,
   "id": "ddb35b09",
   "metadata": {},
   "outputs": [
    {
     "name": "stdout",
     "output_type": "stream",
     "text": [
      "Распределение пользователей по группам:\n"
     ]
    },
    {
     "data": {
      "text/plain": [
       "group\n",
       "B    5467\n",
       "A    5383\n",
       "Name: count, dtype: int64"
      ]
     },
     "metadata": {},
     "output_type": "display_data"
    }
   ],
   "source": [
    "# Проверка равномерности распределения по группам\n",
    "group_distribution = test_participants['group'].value_counts()\n",
    "print(\"Распределение пользователей по группам:\")\n",
    "display(group_distribution)"
   ]
  },
  {
   "cell_type": "code",
   "execution_count": 13,
   "id": "bcdceebe",
   "metadata": {},
   "outputs": [
    {
     "name": "stdout",
     "output_type": "stream",
     "text": [
      "Распределение пользователей по устройствам:\n"
     ]
    },
    {
     "data": {
      "text/html": [
       "<div>\n",
       "<style scoped>\n",
       "    .dataframe tbody tr th:only-of-type {\n",
       "        vertical-align: middle;\n",
       "    }\n",
       "\n",
       "    .dataframe tbody tr th {\n",
       "        vertical-align: top;\n",
       "    }\n",
       "\n",
       "    .dataframe thead th {\n",
       "        text-align: right;\n",
       "    }\n",
       "</style>\n",
       "<table border=\"1\" class=\"dataframe\">\n",
       "  <thead>\n",
       "    <tr style=\"text-align: right;\">\n",
       "      <th>device</th>\n",
       "      <th>Android</th>\n",
       "      <th>Mac</th>\n",
       "      <th>PC</th>\n",
       "      <th>iPhone</th>\n",
       "    </tr>\n",
       "    <tr>\n",
       "      <th>group</th>\n",
       "      <th></th>\n",
       "      <th></th>\n",
       "      <th></th>\n",
       "      <th></th>\n",
       "    </tr>\n",
       "  </thead>\n",
       "  <tbody>\n",
       "    <tr>\n",
       "      <th>A</th>\n",
       "      <td>2445</td>\n",
       "      <td>566</td>\n",
       "      <td>1346</td>\n",
       "      <td>1026</td>\n",
       "    </tr>\n",
       "    <tr>\n",
       "      <th>B</th>\n",
       "      <td>2414</td>\n",
       "      <td>554</td>\n",
       "      <td>1418</td>\n",
       "      <td>1081</td>\n",
       "    </tr>\n",
       "  </tbody>\n",
       "</table>\n",
       "</div>"
      ],
      "text/plain": [
       "device  Android  Mac    PC  iPhone\n",
       "group                             \n",
       "A          2445  566  1346    1026\n",
       "B          2414  554  1418    1081"
      ]
     },
     "metadata": {},
     "output_type": "display_data"
    }
   ],
   "source": [
    "# Проверка распределения по устройствам (для оценки сбалансированности)\n",
    "device_distribution = test_participants.groupby(['group', 'device'])['user_id'].nunique().unstack()\n",
    "print(\"Распределение пользователей по устройствам:\")\n",
    "display(device_distribution)"
   ]
  },
  {
   "cell_type": "code",
   "execution_count": 14,
   "id": "0493e7a7",
   "metadata": {},
   "outputs": [
    {
     "name": "stdout",
     "output_type": "stream",
     "text": [
      "Вывод о равномерности распределения групп:\n",
      "Группы распределены равномерно: разница между группами A (5383) и B (5467) составляет 1.56%, что меньше 10%.\n"
     ]
    }
   ],
   "source": [
    "# Вывод после распределения по группам и устройствам\n",
    "print(\"Вывод о равномерности распределения групп:\")\n",
    "difference_percentage = abs(group_distribution['A'] - group_distribution['B']) / group_distribution['A'] * 100\n",
    "if difference_percentage < 10:\n",
    "    print(f\"Группы распределены равномерно: разница между группами A ({group_distribution['A']}) и B ({group_distribution['B']}) составляет {difference_percentage:.2f}%, что меньше 10%.\")\n",
    "else:\n",
    "    print(f\"Группы распределены неравномерно: разница между группами A ({group_distribution['A']}) и B ({group_distribution['B']}) составляет {difference_percentage:.2f}%, что больше 10%. Это может повлиять на корректность теста.\")"
   ]
  },
  {
   "cell_type": "code",
   "execution_count": 15,
   "id": "e3e1c9c9",
   "metadata": {},
   "outputs": [
    {
     "name": "stdout",
     "output_type": "stream",
     "text": [
      "Найдено 887 пользователей, участвующих в конкурирующем тесте:\n"
     ]
    },
    {
     "data": {
      "text/plain": [
       "array(['001064FEAAB631A1', '00341D8401F0F665', '0082295A41A867B5',\n",
       "       '00E68F103C66C1F7', '00EFA157F7B6E1C4', '01B9975CAE144B78',\n",
       "       '020A95B66F363AFB', '02313B9E82255F47', '02894A55BC14A70E',\n",
       "       '0363BAFB478AA9EF', '037C3790C2C408BA', '03FBDF999D5B81B8',\n",
       "       '04988C5DF189632E', '04BE4EFE4C457312', '04C4D0F1A70300A5',\n",
       "       '04F2CF340B4F3822', '051D59BC38C3B3AA', '055A4CD17A483B8E',\n",
       "       '067D05BD30F04F2E', '06C6018D3CB3E903', '06D2B163CB560FAC',\n",
       "       '06D9C758220CBB01', '08589AA89496453B', '08D42E112D1F4407',\n",
       "       '091AC977394578DA', '0980BF24051C806A', '09D429B94AE0DEC5',\n",
       "       '0A0141A363E2E051', '0A5E3BE3C51CB47A', '0ACD764342811460',\n",
       "       '0ADFFFE9C0D60092', '0B0D84A866817D84', '0BA00E790AA510C1',\n",
       "       '0BC7C730D40D19D3', '0C2E77C6A381704A', '0C2FF828F063B7AD',\n",
       "       '0CA93D3A4A1D8389', '0CC466ED84E0756D', '0D6F5E157A56FB00',\n",
       "       '0D77D907C24CDAC1', '0D7E9E93CD497547', '0DABE6F3956778ED',\n",
       "       '0DB417842D3B79A2', '0DD2E54D87CFD4A4', '0E6F91028486376D',\n",
       "       '0EA6AE1AB7BB8ACA', '0EA9AB1C2A159C77', '0EBE4BDE16D19DC0',\n",
       "       '0EE3092A08562765', '0EF9EA17D205AB66', '0F13D8C2809AD613',\n",
       "       '0F1FF07B3788976D', '0F2729666CE8EF33', '0FBF679EA1340786',\n",
       "       '0FF10274AC68852A', '102613D89170C020', '1073D7DFF1BBE8BB',\n",
       "       '10779B9305942526', '107D9F8613EBF2AA', '10863662C3B5AB49',\n",
       "       '10C2A2FB00BD9AE2', '10F028FB8193F8C1', '111E0B8A76E90532',\n",
       "       '115ABCFDBDDB5950', '1190EEE1FA160468', '11970FE3A608F9EF',\n",
       "       '11A1350D1F8AD059', '11C52432A6F7FA6B', '123C3AC236BE84F0',\n",
       "       '124B6B7F19141CCC', '127DA1103176E88E', '12A77BCF101643B5',\n",
       "       '12AD54E437AB3BF5', '133F64DC5E24F047', '1353B1C2F6E6AA4E',\n",
       "       '1381632DA8AD52C0', '1382E5D05428EBCD', '13AA9B89A2885F8E',\n",
       "       '13AE4DFAC67ACEB3', '13B7E3DA955377BA', '13FBEB715F4AAE10',\n",
       "       '147C62E5B82E2EA9', '14AEC962812EB706', '14D84579BCBAD800',\n",
       "       '14E7C76B7AB8822A', '1675B921AC721DBE', '16BE66466549CD42',\n",
       "       '16F2DB656CC2F952', '1796009027406E06', '17DD74F263374528',\n",
       "       '18569C8DCB0771B6', '187343735EC71686', '18E7E50874577C8B',\n",
       "       '19302754B5457163', '198FEF39910DCF76', '19AC976D25997BE9',\n",
       "       '1A4A33FE1C0FDD90', '1AD9F88DA92AC4E5', '1AE6FF352875CA8C',\n",
       "       '1B52830A832D33F5', '1B72B5CD89B93B68', '1C5874DE0D952A0D',\n",
       "       '1C711C65356BCFBF', '1C7C7C34158EB086', '1CC27A00D4907AAB',\n",
       "       '1D0FCBD767EE0874', '1D6A02B0987CD71A', '1D831F7D0F539AFA',\n",
       "       '1D9020D7979F924A', '1E7B931452B2F965', '1E8329A6915FB27E',\n",
       "       '1E8855206E49EFF8', '1FA7A8399291885E', '20285349F62230E9',\n",
       "       '207E61D6D4F44D97', '2139548144435929', '213C96A57E70B18F',\n",
       "       '2170CB76798D36EE', '21AEB217BA764EAB', '21C2D41E1FDF1E70',\n",
       "       '21E6AD81A122B126', '22092C653019E91C', '220C8F0BE40515E5',\n",
       "       '221AA0E38F37A7B7', '224F9E7FA339E6A9', '23E633E92EDCD195',\n",
       "       '23F10CDFF7372B06', '23F551153080EBAB', '24553DD3FF973EE4',\n",
       "       '24BE89E87E2368BF', '24D3AAA91EFD597F', '24FB1A84E1C30291',\n",
       "       '25826F4FE6832AF1', '25CE0629AC6B6971', '262C647D99621FF5',\n",
       "       '275A5125510426EB', '27736FDA67EF07CB', '27802765D2458B2B',\n",
       "       '2787953F22AA5648', '2828E6688DC580C4', '28F165B39D160BC5',\n",
       "       '29DF5A79ECFED897', '29FB97985AB0E005', '2A12B7DB3C6E84D6',\n",
       "       '2A2A3F0E002F81B5', '2A7E32FA8EF4DBA1', '2AE10F8C21B66E8E',\n",
       "       '2B06EB547B7AAD08', '2B8243043C2CD72F', '2B8FD20CA8A2A616',\n",
       "       '2BDC4DBEBBA058B6', '2BEDCA2DF5D4679F', '2C662D285ED4136C',\n",
       "       '2CA426D092054330', '2CBFC548B33C0259', '2CDFC246EAEEAB13',\n",
       "       '2D6A6472D7F46812', '2D7AF97EEB0056A5', '2DC0C9E9D89D2352',\n",
       "       '2DF9E85A613E0DD0', '2EC08F2084FF3438', '2EC26EB640A1756D',\n",
       "       '2ED365A23D725DB0', '2F28A3B279E5494A', '2F46396B6766CFDB',\n",
       "       '2F52D15FF20EE730', '2F6674627B916D5C', '2FCC63EB9CB798BF',\n",
       "       '303063C7A89A39CA', '307C06C0E6F09B93', '30DEB75B33B92DC8',\n",
       "       '3242BDDFA690A22B', '3279592816F7F6D2', '329E3207708990E1',\n",
       "       '32E13C1C0F6AC96E', '3340B98CBEAEE766', '3341349F0FD06C14',\n",
       "       '3382B624CF985A13', '33CEAE52626CA99E', '340D9C518D3CBB8D',\n",
       "       '341E8DBCD6C8B223', '34A2E022930DFCA3', '3656B8F3DEF02DA0',\n",
       "       '36EDA624DB7B7F90', '37094134968B2013', '37E78FED858E7061',\n",
       "       '37F7B4F29C5F6396', '38189578561F38CB', '395461648C47B5E1',\n",
       "       '3981FFA649C17699', '3A5B11DD76C2CA65', '3A6D88AB973BD99D',\n",
       "       '3AA908B2D4A96AC2', '3AE5E3EE2C8A8727', '3B3F68DC5779E517',\n",
       "       '3B4FF434FA8193B6', '3B62EE83708770A5', '3B6ABE8E7872977E',\n",
       "       '3BB8C637AE50D857', '3BDE2B9FBC14F7A4', '3C37EE92E7960750',\n",
       "       '3C46C1264F52F92C', '3D1A366EDDC82832', '3D264F3D953DBA67',\n",
       "       '3D89F6FEA1926F70', '3D960D56A0E4E0C7', '3DEA2F9B3EDA8B91',\n",
       "       '3E286601D309601C', '3F52D53AB33C9FD6', '3F6CAEC76651E5AC',\n",
       "       '3F775ABC71333988', '3FAA6AD64C3B47E8', '3FC3BE7BAA35F33F',\n",
       "       '3FD750E6566CE5E3', '40194A2E6C03B547', '4122B8F30EB2271C',\n",
       "       '412F5C9F04EE8F69', '41C7928F2ED27E66', '41EDEEC440887B2C',\n",
       "       '41FA2525E7869F35', '430C998549E88DAE', '43525009898D1143',\n",
       "       '4408C615880185FB', '4409E20FCD07CD14', '44EB15AD423DC31C',\n",
       "       '44F7F21118841F2D', '4566C623449592A7', '465CD5B78E1AA5B7',\n",
       "       '4664BF4717549775', '468A90E95D36CADB', '46999A8B46BC31A1',\n",
       "       '46A7B6A9C1C4E46B', '46BDEF99D733A7B7', '4764F95CF4989E46',\n",
       "       '47ADBF580CF107E1', '4803D52DB8782CC2', '48496344F079B793',\n",
       "       '48BEDF1889241425', '48CFE37563932DC2', '4949578BF1954CF5',\n",
       "       '495E506B3D29645B', '49C45D71BDCE2F69', '49D69A4901413D82',\n",
       "       '4A55475E078F40DC', '4A61A28F35795FD1', '4B058B8F19045AC9',\n",
       "       '4B34A5BD1D1AEF0D', '4B45602B7DC37B62', '4B49F8A4F8D891BE',\n",
       "       '4B5225B3DCB853CE', '4BDA6084191118DF', '4C3B9B6D59E98D59',\n",
       "       '4CCE583A34A8362C', '4CCFDC7BE9B6FE73', '4CF756542084F860',\n",
       "       '4D269D6E438C6D22', '4D921165CD2825D1', '4DAD6F609E7D7328',\n",
       "       '4DBBBAA6705078D0', '4E43940B0CF8D947', '4F26C1C82B9EA0B5',\n",
       "       '4F37FAAD74FB679C', '4FE90CB247C78EC5', '502902B3C32C72FF',\n",
       "       '505555B3CCA490C8', '507ADD5337970C14', '50CF32FEE0C61DA9',\n",
       "       '51DA2C882D0D7508', '5207E56E697027E9', '52667DF0F366C919',\n",
       "       '526BA4A669CC6CC2', '52828376E649CA27', '52EC082510DA513B',\n",
       "       '535DC74493925CF8', '53732758D90FB1E4', '538F954F6B3AECE4',\n",
       "       '5392D9E8F58D9E5F', '5424E9D321EC3567', '542FE442CF2BDA4B',\n",
       "       '5438D422A6A53E0E', '544EE0E8D5E36FDA', '5461DD0AF191F581',\n",
       "       '54633A9BB233F1E6', '549A5092FD1BD5D9', '54AAE35DB9DF5C19',\n",
       "       '557A3001E88A209B', '5650B53B91DC98BB', '565EF59DDD36B95B',\n",
       "       '56F9D84470F97FF0', '573EF5CB449265BE', '57442DD4178AFE27',\n",
       "       '57E796E81DD60883', '5813B74E3ED6094E', '59390C0379937AB0',\n",
       "       '597F7FD5AA3524D3', '59D9BD2A3172D3F4', '5A26996E38367C70',\n",
       "       '5A47441C0AC5FAEE', '5A5D645876C5C692', '5A7165E3831CBE75',\n",
       "       '5AD2A85FFA7D7EBE', '5AD6C5CA55F10640', '5B04574502DEFDB3',\n",
       "       '5B1F39B5D751B669', '5B4EFE916AD19741', '5B57E88DFE82FAD6',\n",
       "       '5BDF2A772826F42C', '5C7F53937B54D161', '5D0240D20EA50D8C',\n",
       "       '5D5E6EE92AF6E9E0', '5D72D0AEF96C50FD', '5DECF6D0ECE58DF6',\n",
       "       '5E9E80BADEA372AB', '5EBCE7B573FA0578', '5EC32E17A02C2131',\n",
       "       '5ECF8AD51FC8062E', '5EF0009854428FB8', '5F89649C6337CE7D',\n",
       "       '603C1A0FA47D1640', '604F9F5DB1EB8997', '6050D52AD58BC624',\n",
       "       '609EBA439CB96E0D', '60A6101325BBA47E', '60D456E636F6C031',\n",
       "       '60E68A4F33951169', '61572514C5A56E3F', '61D3434CE0D95AB7',\n",
       "       '624B51C834246D6E', '630A7B72AE3824BF', '635CA54AA6058DAE',\n",
       "       '639050CCC2A6C4A1', '63F5FC15B31DB5A6', '6445624A3AE163E6',\n",
       "       '649CE5D5A38BFA8B', '64CD9350DEEE01B6', '64D18CAEAEE6150A',\n",
       "       '64D39595B31D9ECE', '64E7466FBB579E9E', '65678C4C3E6AF563',\n",
       "       '65A30CEC01FAB999', '65A33D1E2F637CE6', '65F225074FEC2C03',\n",
       "       '6610064A4B2303D1', '6655D192F953E7CE', '66821339106C8891',\n",
       "       '669F197DC7EB4FD9', '676A58D41A3E0A47', '6786C23A54D59DD4',\n",
       "       '67AB39E76836E176', '68373F4331DDD2E6', '686549722B54A3E1',\n",
       "       '68B3C70F0C0B4550', '68E1CED07444D6EC', '697F116B31D05FCF',\n",
       "       '69B106F098CB640E', '69E475C5708ABE56', '6A2064F288EF094F',\n",
       "       '6A581C74EF4D5F44', '6A698019769B0F16', '6B0B075EA63618BE',\n",
       "       '6B1D0D8C4F8FBBEC', '6B1DE4B46F1267CB', '6B72CFAE1935C789',\n",
       "       '6C2C087CEF08A20E', '6CAA4AF4C12A22B9', '6D3792154BB5A659',\n",
       "       '6D54D48C640D27D3', '6DF6E1615D629BA8', '6DFDC639B8B85EF7',\n",
       "       '6E3E5F88B6A3B401', '6E8A538DFED17F64', '6ED57949BDA6D94E',\n",
       "       '6EFF2BB96F97768F', '6F70F06DD209676B', '701B5B6292603C20',\n",
       "       '7060BB1CBE3BAACC', '70BF82527E6ED9C3', '70CE04E185154AD7',\n",
       "       '71A21F6C17C665C6', '71D1FF7218FB3F1E', '72742C5F312A1FEC',\n",
       "       '729F6099B1B31935', '732A1335A53C14D5', '739656E0D7B50B30',\n",
       "       '73CE2DE1253D58B4', '7415696C510E38FB', '74285DE881A72F4C',\n",
       "       '743EFA16F928E18B', '748DD5E33B6F98C3', '74C5CCDA7DF761EE',\n",
       "       '74EEC94A70685C1E', '75013CAAF42E90A9', '75654D851F8C8F59',\n",
       "       '75AC3DC6E14554D0', '770B5C9E0E546E44', '783A96FF14C40478',\n",
       "       '78745E80BA159887', '7875B71ED824F8F2', '788C61EDBDD38346',\n",
       "       '7963560AC5D4166E', '79656F14758D76BA', '79913E8816E3DA5D',\n",
       "       '79B52A43517478A4', '79BED20696125731', '79DF9D6EDC7A58CE',\n",
       "       '7A4A6B4CC6FDB0FF', '7AFFAFC4121EB5B2', '7B5B4C6306A09430',\n",
       "       '7BC59B90C9447C42', '7C91912332353320', '7C9CA3F88B8755F1',\n",
       "       '7CBA351852B6F25C', '7CEFBD3C6ABEF91A', '7D8970118A695D48',\n",
       "       '7DF21AEB1AA231F9', '7E26530508267F69', '7E4B0D11D179F4EC',\n",
       "       '7F2C298110AA73B4', '7FF05ACE1602142C', '80055F949A01DDAD',\n",
       "       '802AE3764E188FC6', '803230F1D8216380', '8094961C0D414366',\n",
       "       '814DF3DA9DD71B8A', '81AA83FBC31B6C0B', '823BE193CDC32ADF',\n",
       "       '824E3C1D0F769FA3', '8285135A01FF5488', '82F72EC6CDC1BA8F',\n",
       "       '83AB3C13B3972BAE', '83E9CFC64D61108E', '84AAB026310D49C4',\n",
       "       '84C13EFBE76DF52F', '84DC74ED5E60BA6A', '84F840D269A65875',\n",
       "       '85521867220EB1E7', '85D9DB7B0BC24D2A', '8611C1CA3986E553',\n",
       "       '86172D2A196D7D03', '8683850A677DCC7A', '86B91078B1F0BA1A',\n",
       "       '87A8BCBB07EBDACA', '886E52074D084B18', '88EEB8C6C37A0521',\n",
       "       '88FB1EDF3E249223', '891458DEF142C0A3', '894A2506B3A50D03',\n",
       "       '8A26EBC1BA92524B', '8A2FACABB19EDC70', '8A9B589AE60EA3C0',\n",
       "       '8B2134D31A514E4E', '8B6B98D9A40E0A42', '8B83F28EB9DD639D',\n",
       "       '8BD80DB1522F7120', '8C0361CB080810CA', '8C0E932FB144D00F',\n",
       "       '8C5E672BF19D5DEE', '8C66932374EF8009', '8C69C35FB5E142F8',\n",
       "       '8C711C385D747C84', '8CE0BDF8F59A752E', '8D406B3B500671BD',\n",
       "       '8D46D7EB5112DC9D', '8D4D2425F80F6A74', '8DE56E6BDA5F54AC',\n",
       "       '8E2FDE8953DB6A48', '8E52B17EF9DCA68B', '8EB3AE898305A358',\n",
       "       '8F1195B887A60121', '8F5D7DE5A7B06249', '8F72F2114F2D5184',\n",
       "       '8F98834C531143DA', '8FA915CDB5994BDC', '8FB9E95B030D25C5',\n",
       "       '8FBAEB717ABA3930', '8FC9D1BB3017BE66', '8FF8F87305BB9A7D',\n",
       "       '8FF91E21E27A330D', '8FFA1D6F89AAEA40', '90192F1A66D5A0AE',\n",
       "       '902F92052587344F', '90AC003E691D70D4', '91E39AA34D6D1173',\n",
       "       '9266418A9D2FA813', '9270DB42112E3B14', '928364C4C9F13FA8',\n",
       "       '934134714E66295F', '9429C337BF221E89', '9431D6C9475CFD3A',\n",
       "       '94464DF2E5398E26', '944C88D5DF108AED', '947658F983871E74',\n",
       "       '94BE60EF959D177D', '95401934D6D6D4FC', '954C980B4A9559FF',\n",
       "       '958426148AFA05C5', '96070D0B8FD4C5BF', '963B1853B52C27E5',\n",
       "       '9657A8EEFB5E37E5', '96749D41A2185B46', '967680A9D7C9AFD1',\n",
       "       '96BDD55846D1F7F6', '975744C6B0C12D72', '97AD409895906A32',\n",
       "       '983E7021DDC7E0FA', '9868DEF9E0B7E2C4', '98720595D29108E9',\n",
       "       '98D45D3A9D7E3911', '9918D1C354A1383A', '993BDE69A0DE0391',\n",
       "       '994D853A1F8D1771', '9A5549A4A85FCF06', '9A7D2A236FE09070',\n",
       "       '9A8CD4B32D7511F1', '9BD9E79856D54059', '9BFFAFDAB999DF19',\n",
       "       '9C1EFF68BC2F16F3', '9C99E4676D6A8B44', '9CBD8387C8A1DDDF',\n",
       "       '9D06341739D723D5', '9D1710D562537AA8', '9E0A3633886C080E',\n",
       "       '9E656B4D34C68949', '9E68AB5C5C7FEFF4', '9F0571C70D4BD33B',\n",
       "       '9F15AB8A7F968248', '9F32866BD479E689', '9F3480BE97175137',\n",
       "       '9FB7D7666F50835C', '9FC882129DBDE625', 'A0028F574B5E5DC6',\n",
       "       'A09DFE27D4CFF8E8', 'A0BAE4190D41A285', 'A12886FD7DA592AF',\n",
       "       'A1C3D3C6C3CADDC5', 'A1EE4FBD37EA95B8', 'A2212CF79158D340',\n",
       "       'A2614E5A9AC15FC8', 'A2CBF9847DA60249', 'A2DB18F90D9E3362',\n",
       "       'A352755099619F01', 'A35BD08F60AC00B8', 'A383BFC91C909D0E',\n",
       "       'A3BEB02A027BA3C4', 'A3D5BA3E276CD84C', 'A3EC85E750F2AFC6',\n",
       "       'A412E4B7C71C0D94', 'A4312FFD172A4998', 'A48676A84719B3A7',\n",
       "       'A4D5B31067614B05', 'A4F18DF9C484EDC0', 'A533C3D1BEAC8798',\n",
       "       'A5B5775B0C7D0309', 'A6E6ECF8E4924633', 'A71444B5BEB5CCC4',\n",
       "       'A731AAAEA9F5C533', 'A76F046D8D47589E', 'A791C2D62B213C96',\n",
       "       'A7957CDA89BDE94F', 'A7EE379599B38AE0', 'A800CDEA85871EEF',\n",
       "       'A81BA2A7B5FD1862', 'A8294E42CCC07445', 'A847CBD3730F6D41',\n",
       "       'A8533224E9384B16', 'A8738C98EA4BB1A7', 'A8C1429C2249A1C3',\n",
       "       'A8C25A605F613665', 'A8C57C0D4118F4D7', 'A944D2BCDFD50619',\n",
       "       'A980A65F42FB1BB4', 'A9E0A8057A5F07D1', 'AA0D36EF3DBFCC9F',\n",
       "       'AA364AF6A253170F', 'AA5A1803D3FA76B4', 'AA825CB62FB0EC0B',\n",
       "       'AAE1914BDB419328', 'AB88A0F609618A2A', 'AB94ADBD1345E896',\n",
       "       'ABB61823786179CC', 'ABFF0B9BAD11BB5D', 'AC7F4C4BDAD56C17',\n",
       "       'ACDCFF5D6EEDBEAC', 'ACDFC703CACAC820', 'ADFE9F163DEA2EAE',\n",
       "       'AE49EDDFB9DABE03', 'AEB9B39AE54D3598', 'AEE24B6142A3C431',\n",
       "       'AF72679D1CB8C3A5', 'AF987F436A7EBD21', 'AFF3D30CC385F0E9',\n",
       "       'AFFC4117AC279D49', 'B01BF1A169A42CE7', 'B01CF7E5AC419DE0',\n",
       "       'B0244412983000C5', 'B043E52A918CDD6E', 'B05232A00CE7DA9B',\n",
       "       'B06B45B7C3E5E721', 'B06BF284879EED23', 'B150C94FFD64D8B0',\n",
       "       'B19324D874BEE1A5', 'B242B046BC32ADDA', 'B2716998187D5D74',\n",
       "       'B2795EB0A968DFB5', 'B27B9689064C54C4', 'B2BB6F16652B21BF',\n",
       "       'B3059CB4FD2DE0FA', 'B37F427F93BCA1E3', 'B3A2485649E4A012',\n",
       "       'B3AEC82CC231D137', 'B42748BA986E4163', 'B582D211C1BE1FFD',\n",
       "       'B60B4563ADC259E3', 'B6DBDDB2BD00352E', 'B6E4E414699EFC1F',\n",
       "       'B7229F43B32B5593', 'B7DBE079E5AB148E', 'B817F0C0928EDB27',\n",
       "       'B83CF8CFD3575F8B', 'B854154628803E46', 'B8AC521CB28510E7',\n",
       "       'B931BC5D6FE1416C', 'B997F98ED3AA6104', 'B9AF175E0AAECD8C',\n",
       "       'BA98FD8F84C838C7', 'BA9906DF9975512E', 'BAAEE6D68FB90D22',\n",
       "       'BBE0583F0240AABB', 'BBFD227B06D480C6', 'BC4A722DBC9D0784',\n",
       "       'BCF4888C3F7DE189', 'BD23AF6242CA944B', 'BD31CABB6D5C6561',\n",
       "       'BD5317D49443EA5E', 'BE0FDC8CC0D5455D', 'BE3C02D74A664180',\n",
       "       'BE52857ABCAD4C9B', 'BE600B10445D29C4', 'BEF16764A13AEC34',\n",
       "       'BF1EB8E6FA3F19B8', 'BF2613BE28381E56', 'BF3665AB1DF86357',\n",
       "       'BF6D4EF4B54B3E94', 'C04E36E535A6F740', 'C0924D3FF1BEAA05',\n",
       "       'C0DDE3AA2A89024F', 'C165E8C0C5DE19FF', 'C1760622B65C9B84',\n",
       "       'C176364EF5C025EA', 'C1E43A9B1D675927', 'C1FFA9A2B049B203',\n",
       "       'C2025648F77BD80B', 'C21237DC47AE00C5', 'C226A7A3002ED8BE',\n",
       "       'C26CED3FB9AFF742', 'C26D3BB63817A267', 'C27F677720E68EA4',\n",
       "       'C286A270CFB9925D', 'C2E79843ED511E13', 'C33D8C1C81C7AA23',\n",
       "       'C3666DF0F2EE66A9', 'C389958204955C98', 'C41BBCA9DACE544D',\n",
       "       'C422FD79606A0B4C', 'C45D1641140AB2BC', 'C474F67E2204321C',\n",
       "       'C4D48357F1C18C76', 'C4F3A9D7BB596E6E', 'C573C24EF423143C',\n",
       "       'C57E6C4AFF4FF31A', 'C5AD06762E628169', 'C5AE17CBD0B33628',\n",
       "       'C615792E479BC0C8', 'C670F0DE6C790F3C', 'C6C4C814B7B202E7',\n",
       "       'C72752E18AD12854', 'C74B6E95352ADE79', 'C765194AB5550498',\n",
       "       'C7750723906C925A', 'C77D7125A7F73F33', 'C79239C16E4E6694',\n",
       "       'C7CE76E3DBDC7533', 'C7D1A5A6F6BAD476', 'C7D588F1ABF3A91B',\n",
       "       'C8460FF8BEF553A4', 'C86F0150DA3B10F2', 'C89E24F4C723CEF4',\n",
       "       'C8BDDF5639850737', 'C93F18A3865E93D6', 'C9E2691EAD9EF4BB',\n",
       "       'C9E32DE296F68008', 'CA331DA5AECB1774', 'CA6B3F85024FAF6B',\n",
       "       'CA6F4DAED160E5B1', 'CA9D3DEA00836355', 'CB0B5021B1BE7403',\n",
       "       'CBA33B9DE421A616', 'CBDA858CF7EEE1E0', 'CBDE46A45FD5E6A4',\n",
       "       'CBEFCA3BFDE4CC58', 'CC705D51C74418AD', 'CC9D23AA2AD67118',\n",
       "       'CCAF138D12385DF2', 'CCE74CB0FBDD3533', 'CD650095FD201699',\n",
       "       'CD668979C54E22F7', 'CD77B10F620BEABA', 'CDED0FACF20CA716',\n",
       "       'CE264232AC9049B8', 'CE27C7943C1BB6ED', 'CE48F47093B03425',\n",
       "       'CE771EFC59ED44A5', 'CF03E97B314C5632', 'CF849D6380A28CA9',\n",
       "       'CFDED9167B27A57F', 'D0533ECF2A67B35C', 'D0562837FBB58AC5',\n",
       "       'D0CD9015FE1504CB', 'D0ECAB9DA4FE2E00', 'D17646F57096613B',\n",
       "       'D18A013DBEEB0951', 'D1BB2F57BCD02BAE', 'D1D7C0CCE823D871',\n",
       "       'D1DFCE26FF3C713F', 'D1FA009C9B514DD7', 'D235BA1BB8DECBE9',\n",
       "       'D266B29CC73DD0F9', 'D2A9C2B69B9F4574', 'D2D8E67B7D0DE2D2',\n",
       "       'D2F6FB926A64D196', 'D3A4F3513CC0AA2F', 'D40A89E14F1C10BD',\n",
       "       'D45554BA350E10C4', 'D5DD44281759F7C8', 'D5F578A546F3E804',\n",
       "       'D649423E43336656', 'D6924B9AB9903228', 'D737563A454A419E',\n",
       "       'D7933558E33BF7D5', 'D7A2C421522E93A4', 'D7A8DFC1A19E65B5',\n",
       "       'D82DD23742E57665', 'D857FFFE7A6AC9A4', 'D8DA1D568FCF46ED',\n",
       "       'D9128C07E09FF452', 'D9BAC4C97F9C107F', 'D9C92EC5F9478381',\n",
       "       'D9F243D9F177689B', 'DA2880E43566AF12', 'DA4D24731C8CCEB8',\n",
       "       'DA7D4CF1CBBADE49', 'DA8DABF19A0203FD', 'DABC08CC80316871',\n",
       "       'DABC14FDDFADD29E', 'DAD6760631314417', 'DBF9BDC859BC4459',\n",
       "       'DC16020AF1E1177B', 'DC24142B23D9FEDD', 'DC41AFF8213BE01A',\n",
       "       'DC4E5D8BD6ABF9BC', 'DD4352CDCF8C3D57', 'DD4731E5B4C9C4EB',\n",
       "       'DD9DDDB53DA30E40', 'DD9FB2652AE4ACBA', 'DDCEDA0705FF68FB',\n",
       "       'DE078758B0515023', 'DE20AA504779785D', 'DECA5C05A77980A1',\n",
       "       'DF0A6D48CBB3969F', 'DF40EF85F55A958D', 'DF72BA6A526F714F',\n",
       "       'DF79393DADE71EF6', 'DF7F485FA44A60AF', 'DF9C2411ADA62C66',\n",
       "       'DFE341550729F28E', 'E02247CEF572ACCA', 'E0272BC86CC88DC7',\n",
       "       'E0CCA0E17AD074DA', 'E0DF3060D454B5AF', 'E0EEE04D9FDB4931',\n",
       "       'E123EF1A9A7332A4', 'E1259EA0AC254490', 'E14805CD622EA211',\n",
       "       'E1489CCA162BC2E6', 'E17D1ABC377C38CA', 'E18D25D68D9FCC60',\n",
       "       'E1EA339E17C0D568', 'E253DCB9EC1C014E', 'E2E336528AB6202A',\n",
       "       'E3048C1D75193226', 'E32D4C0315D6BFBE', 'E3481D64A20DA394',\n",
       "       'E3780F6861A69868', 'E391353FC3A4056D', 'E3BEB139D0839F91',\n",
       "       'E3FE22D7C70B05E6', 'E40FA02A8A53F693', 'E594B711ADD81DD8',\n",
       "       'E65F1C4C712CDC41', 'E68002AA33773AD5', 'E68B2613255FA585',\n",
       "       'E6FE73B8B903B31B', 'E77F99BCF9D8AB96', 'E7CC63BF20618321',\n",
       "       'E7F4B5EBC0495D72', 'E7F87F9FBA3269B1', 'E85E1F634E368569',\n",
       "       'E8BBE017F65D7CEA', 'EA6EA431FF84563B', 'EA8341F38EFFE04C',\n",
       "       'EABF946459C4DA3A', 'EAD7AC780F0CB611', 'EAF000D4CC7635B7',\n",
       "       'EAFB9027A27D510C', 'EB215155BA578253', 'EB87A4B3C0008AFB',\n",
       "       'EC998D82E096033B', 'EC9E9E250559033B', 'ECC76B90EB71C492',\n",
       "       'ED11170D5BB9D744', 'ED61DF6AA1B81F5B', 'ED7297A4D3BFA953',\n",
       "       'EDDF1CA5A0EB8586', 'EE25BC8FA059151D', 'EE8401B631ED63CE',\n",
       "       'EE9E527A761299B2', 'EEA592D3C6F5E5A4', 'EEF5EFB2D5915CF1',\n",
       "       'EEFDF8577ED817C0', 'EF058AAD0A56A298', 'EF2E4FAF26951358',\n",
       "       'EF449601C94D2496', 'EF6DBFA129654B41', 'EFE533D29119526E',\n",
       "       'F03F667009F16326', 'F07BB43BAEF2AB42', 'F098EC2120B5150C',\n",
       "       'F0A1C31A7211AC16', 'F0B92123E5142CBB', 'F10551276E3FDD53',\n",
       "       'F13CC3EF6739F4C0', 'F19288FFDF6014FE', 'F195464E8F2E0267',\n",
       "       'F1B93BAE75EE0FB2', 'F33A89BD00CFDDF3', 'F34D48681A35BD3B',\n",
       "       'F38941283A36C34B', 'F424816C207F768D', 'F4BEF7B9C8172E36',\n",
       "       'F4C8BB8D1622FE87', 'F4E16CAFB780CA34', 'F507CB8030C885FB',\n",
       "       'F5B4B562971760C6', 'F5BB0B36AA8DC1D4', 'F68F7886D0BCE784',\n",
       "       'F69BC50D9CC2A47B', 'F6D9C08D0E97DE88', 'F71DD44DAB783CEB',\n",
       "       'F7BAFF2E0A04F11B', 'F7E2CAFE32DB0B14', 'F8151E51EA08F337',\n",
       "       'F8564F547AFFC0B9', 'F85FD73AAF991283', 'F97D8746923ABA37',\n",
       "       'F9B39A46A299971D', 'F9FE888A3A2222E9', 'FA86D8DFAD3ADADE',\n",
       "       'FA8706D1E274805E', 'FAA7192A42F9F8DA', 'FABB6D49B11E673F',\n",
       "       'FB158B12F907E8FB', 'FB1F9619F8C3CC75', 'FB6F6BC119E1DBD5',\n",
       "       'FB9FFB4BA8695C78', 'FBF31896CD930197', 'FC2DA0D7EF375B27',\n",
       "       'FC37CBE8211E02A8', 'FC3F3E4DA7C85F88', 'FCF70F6E1871BD78',\n",
       "       'FE2AF0E94DBD470E', 'FE82D7FC50D4155B', 'FE8F9858BBE502D9',\n",
       "       'FEA0C585A53E7027', 'FEC0BCA6C323872F', 'FF2174A1AA0EAD20',\n",
       "       'FF44696E39039D29', 'FFF28D02B1EACBE1'], dtype=object)"
      ]
     },
     "metadata": {},
     "output_type": "display_data"
    }
   ],
   "source": [
    "# Проверка пересечений с конкурирующим тестом\n",
    "all_participants = pd.read_csv('/datasets/ab_test_participants.csv')\n",
    "competing_test_users = all_participants[all_participants['ab_test'] != 'interface_eu_test']['user_id']\n",
    "overlap_with_competing = test_participants[test_participants['user_id'].isin(competing_test_users)]['user_id'].unique()\n",
    "if len(overlap_with_competing) > 0:\n",
    "    print(f\"Найдено {len(overlap_with_competing)} пользователей, участвующих в конкурирующем тесте:\")\n",
    "    display(overlap_with_competing)\n",
    "    # Удаляем пользователей, участвующих в конкурирующем тесте\n",
    "    test_participants = test_participants[~test_participants['user_id'].isin(overlap_with_competing)]\n",
    "else:\n",
    "    print(\"Пересечений с конкурирующим тестом нет.\")"
   ]
  },
  {
   "cell_type": "code",
   "execution_count": 16,
   "id": "83b63f2a",
   "metadata": {},
   "outputs": [
    {
     "name": "stdout",
     "output_type": "stream",
     "text": [
      "Итоговое количество пользователей после фильтрации: 9963\n"
     ]
    }
   ],
   "source": [
    "# Итоговое количество пользователей после фильтрации\n",
    "final_users = test_participants['user_id'].nunique()\n",
    "print(f\"Итоговое количество пользователей после фильтрации: {final_users}\")"
   ]
  },
  {
   "cell_type": "code",
   "execution_count": 17,
   "id": "9bb3f5d7",
   "metadata": {},
   "outputs": [
    {
     "name": "stdout",
     "output_type": "stream",
     "text": [
      "Выборка готова для дальнейшего анализа.\n"
     ]
    }
   ],
   "source": [
    "# Проверка, что выборка не пуста\n",
    "if final_users == 0:\n",
    "    print(\"Ошибка: После фильтрации выборка пуста. Тест невозможно проанализировать.\")\n",
    "else:\n",
    "    print(\"Выборка готова для дальнейшего анализа.\")"
   ]
  },
  {
   "cell_type": "code",
   "execution_count": 18,
   "id": "QMt0Ybo_swDK",
   "metadata": {
    "id": "QMt0Ybo_swDK"
   },
   "outputs": [],
   "source": [
    "# Удаление пересечений пользователей между группами\n",
    "user_groups = test_participants.groupby('user_id')['group'].nunique()\n",
    "overlapping_users = user_groups[user_groups > 1].index\n",
    "test_participants = test_participants[~test_participants['user_id'].isin(overlapping_users)]"
   ]
  },
  {
   "cell_type": "code",
   "execution_count": 19,
   "id": "d170ecea",
   "metadata": {},
   "outputs": [],
   "source": [
    "# Удаление пересечений с конкурирующим тестом\n",
    "all_participants = pd.read_csv('/datasets/ab_test_participants.csv')\n",
    "competing_test_users = all_participants[all_participants['ab_test'] != 'interface_eu_test']['user_id']\n",
    "test_participants = test_participants[~test_participants['user_id'].isin(competing_test_users)]"
   ]
  },
  {
   "cell_type": "code",
   "execution_count": 20,
   "id": "232c682a",
   "metadata": {},
   "outputs": [],
   "source": [
    "# Список пользователей, участвующих в тесте\n",
    "test_user_ids = test_participants['user_id'].unique()"
   ]
  },
  {
   "cell_type": "code",
   "execution_count": 21,
   "id": "d9cd94d3",
   "metadata": {},
   "outputs": [],
   "source": [
    "# Фильтрация событий: оставляем только события для пользователей теста\n",
    "test_events = events[events['user_id'].isin(test_user_ids)]"
   ]
  },
  {
   "cell_type": "code",
   "execution_count": 22,
   "id": "c9254565",
   "metadata": {},
   "outputs": [],
   "source": [
    "# Дополнительная фильтрация: исключаем нерелевантные события и записи с user_id = GLOBAL\n",
    "test_events = test_events[test_events['user_id'] != 'GLOBAL']\n",
    "test_events = test_events[~test_events['event_name'].str.contains('End of Black Friday Ads Campaign')]"
   ]
  },
  {
   "cell_type": "code",
   "execution_count": 23,
   "id": "03e1a052",
   "metadata": {},
   "outputs": [
    {
     "name": "stdout",
     "output_type": "stream",
     "text": [
      "Количество событий после фильтрации: 73815\n",
      "Первые строки отфильтрованных событий:\n"
     ]
    },
    {
     "data": {
      "text/html": [
       "<div>\n",
       "<style scoped>\n",
       "    .dataframe tbody tr th:only-of-type {\n",
       "        vertical-align: middle;\n",
       "    }\n",
       "\n",
       "    .dataframe tbody tr th {\n",
       "        vertical-align: top;\n",
       "    }\n",
       "\n",
       "    .dataframe thead th {\n",
       "        text-align: right;\n",
       "    }\n",
       "</style>\n",
       "<table border=\"1\" class=\"dataframe\">\n",
       "  <thead>\n",
       "    <tr style=\"text-align: right;\">\n",
       "      <th></th>\n",
       "      <th>user_id</th>\n",
       "      <th>event_dt</th>\n",
       "      <th>event_name</th>\n",
       "      <th>details</th>\n",
       "    </tr>\n",
       "  </thead>\n",
       "  <tbody>\n",
       "    <tr>\n",
       "      <th>64672</th>\n",
       "      <td>5F506CEBEDC05D30</td>\n",
       "      <td>2020-12-06 14:10:01</td>\n",
       "      <td>registration</td>\n",
       "      <td>0.0</td>\n",
       "    </tr>\n",
       "    <tr>\n",
       "      <th>64946</th>\n",
       "      <td>51278A006E918D97</td>\n",
       "      <td>2020-12-06 14:37:25</td>\n",
       "      <td>registration</td>\n",
       "      <td>-3.8</td>\n",
       "    </tr>\n",
       "    <tr>\n",
       "      <th>66585</th>\n",
       "      <td>A0C1E8EFAD874D8B</td>\n",
       "      <td>2020-12-06 17:20:22</td>\n",
       "      <td>registration</td>\n",
       "      <td>-3.32</td>\n",
       "    </tr>\n",
       "    <tr>\n",
       "      <th>67873</th>\n",
       "      <td>275A8D6254ACF530</td>\n",
       "      <td>2020-12-06 19:36:54</td>\n",
       "      <td>registration</td>\n",
       "      <td>-0.48</td>\n",
       "    </tr>\n",
       "    <tr>\n",
       "      <th>67930</th>\n",
       "      <td>0B704EB2DC7FCA4B</td>\n",
       "      <td>2020-12-06 19:42:20</td>\n",
       "      <td>registration</td>\n",
       "      <td>0.0</td>\n",
       "    </tr>\n",
       "  </tbody>\n",
       "</table>\n",
       "</div>"
      ],
      "text/plain": [
       "                user_id             event_dt    event_name details\n",
       "64672  5F506CEBEDC05D30  2020-12-06 14:10:01  registration     0.0\n",
       "64946  51278A006E918D97  2020-12-06 14:37:25  registration    -3.8\n",
       "66585  A0C1E8EFAD874D8B  2020-12-06 17:20:22  registration   -3.32\n",
       "67873  275A8D6254ACF530  2020-12-06 19:36:54  registration   -0.48\n",
       "67930  0B704EB2DC7FCA4B  2020-12-06 19:42:20  registration     0.0"
      ]
     },
     "metadata": {},
     "output_type": "display_data"
    }
   ],
   "source": [
    "# Проверка результатов фильтрации\n",
    "print(f\"Количество событий после фильтрации: {len(test_events)}\")\n",
    "print(\"Первые строки отфильтрованных событий:\")\n",
    "display(test_events.head())"
   ]
  },
  {
   "cell_type": "code",
   "execution_count": 24,
   "id": "4b7ece2b",
   "metadata": {},
   "outputs": [
    {
     "name": "stdout",
     "output_type": "stream",
     "text": [
      "Типы событий после фильтрации:\n"
     ]
    },
    {
     "data": {
      "text/plain": [
       "event_name\n",
       "login           27360\n",
       "product_page    17614\n",
       "registration     9963\n",
       "purchase         9487\n",
       "product_cart     9391\n",
       "Name: count, dtype: int64"
      ]
     },
     "metadata": {},
     "output_type": "display_data"
    }
   ],
   "source": [
    "# Проверка типов событий\n",
    "print(\"Типы событий после фильтрации:\")\n",
    "display(test_events['event_name'].value_counts())"
   ]
  },
  {
   "cell_type": "code",
   "execution_count": 25,
   "id": "3e5f1e2b",
   "metadata": {},
   "outputs": [],
   "source": [
    "# Фильтрация событий: оставляем только события для пользователей теста\n",
    "test_events = events[events['user_id'].isin(test_user_ids)]\n",
    "test_events = test_events[test_events['user_id'] != 'GLOBAL']\n",
    "test_events = test_events[~test_events['event_name'].str.contains('End of Black Friday Ads Campaign')]"
   ]
  },
  {
   "cell_type": "code",
   "execution_count": 26,
   "id": "dd7e69b0",
   "metadata": {},
   "outputs": [],
   "source": [
    "# Определение даты регистрации для каждого пользователя\n",
    "registration_events = test_events[test_events['event_name'] == 'registration'][['user_id', 'event_dt']]\n",
    "registration_events = registration_events.rename(columns={'event_dt': 'registration_dt'})"
   ]
  },
  {
   "cell_type": "code",
   "execution_count": 27,
   "id": "c932a11e",
   "metadata": {},
   "outputs": [],
   "source": [
    "# Убедимся, что у каждого пользователя только одна регистрация\n",
    "registration_events = registration_events.groupby('user_id').first().reset_index()"
   ]
  },
  {
   "cell_type": "code",
   "execution_count": 28,
   "id": "82e53d20",
   "metadata": {},
   "outputs": [],
   "source": [
    "# Объединение с test_events для добавления даты регистрации\n",
    "test_events = test_events.merge(registration_events[['user_id', 'registration_dt']], on='user_id', how='left')"
   ]
  },
  {
   "cell_type": "code",
   "execution_count": 29,
   "id": "988920c9",
   "metadata": {},
   "outputs": [],
   "source": [
    "# Преобразуем столбцы в datetime\n",
    "test_events['event_dt'] = pd.to_datetime(test_events['event_dt'])\n",
    "test_events['registration_dt'] = pd.to_datetime(test_events['registration_dt'])"
   ]
  },
  {
   "cell_type": "code",
   "execution_count": 30,
   "id": "cf24ea3b",
   "metadata": {},
   "outputs": [],
   "source": [
    "# Расчет лайфтайма (время с момента регистрации)\n",
    "test_events['lifetime'] = (test_events['event_dt'] - test_events['registration_dt']).dt.total_seconds() / (24 * 3600)"
   ]
  },
  {
   "cell_type": "code",
   "execution_count": 31,
   "id": "66ecff86",
   "metadata": {},
   "outputs": [],
   "source": [
    "# Фильтрация событий: оставляем только те, что произошли строго меньше 7 дней после регистрации\n",
    "test_events = test_events[(test_events['lifetime'] >= 0) & (test_events['lifetime'] < 7)]"
   ]
  },
  {
   "cell_type": "code",
   "execution_count": 32,
   "id": "170a4b89",
   "metadata": {},
   "outputs": [
    {
     "name": "stdout",
     "output_type": "stream",
     "text": [
      "Количество событий после фильтрации по горизонту анализа (< 7 дней): 63805\n",
      "Первые строки отфильтрованных событий:\n"
     ]
    },
    {
     "data": {
      "text/html": [
       "<div>\n",
       "<style scoped>\n",
       "    .dataframe tbody tr th:only-of-type {\n",
       "        vertical-align: middle;\n",
       "    }\n",
       "\n",
       "    .dataframe tbody tr th {\n",
       "        vertical-align: top;\n",
       "    }\n",
       "\n",
       "    .dataframe thead th {\n",
       "        text-align: right;\n",
       "    }\n",
       "</style>\n",
       "<table border=\"1\" class=\"dataframe\">\n",
       "  <thead>\n",
       "    <tr style=\"text-align: right;\">\n",
       "      <th></th>\n",
       "      <th>user_id</th>\n",
       "      <th>event_dt</th>\n",
       "      <th>event_name</th>\n",
       "      <th>details</th>\n",
       "      <th>registration_dt</th>\n",
       "      <th>lifetime</th>\n",
       "    </tr>\n",
       "  </thead>\n",
       "  <tbody>\n",
       "    <tr>\n",
       "      <th>0</th>\n",
       "      <td>5F506CEBEDC05D30</td>\n",
       "      <td>2020-12-06 14:10:01</td>\n",
       "      <td>registration</td>\n",
       "      <td>0.0</td>\n",
       "      <td>2020-12-06 14:10:01</td>\n",
       "      <td>0.0</td>\n",
       "    </tr>\n",
       "    <tr>\n",
       "      <th>1</th>\n",
       "      <td>51278A006E918D97</td>\n",
       "      <td>2020-12-06 14:37:25</td>\n",
       "      <td>registration</td>\n",
       "      <td>-3.8</td>\n",
       "      <td>2020-12-06 14:37:25</td>\n",
       "      <td>0.0</td>\n",
       "    </tr>\n",
       "    <tr>\n",
       "      <th>2</th>\n",
       "      <td>A0C1E8EFAD874D8B</td>\n",
       "      <td>2020-12-06 17:20:22</td>\n",
       "      <td>registration</td>\n",
       "      <td>-3.32</td>\n",
       "      <td>2020-12-06 17:20:22</td>\n",
       "      <td>0.0</td>\n",
       "    </tr>\n",
       "    <tr>\n",
       "      <th>3</th>\n",
       "      <td>275A8D6254ACF530</td>\n",
       "      <td>2020-12-06 19:36:54</td>\n",
       "      <td>registration</td>\n",
       "      <td>-0.48</td>\n",
       "      <td>2020-12-06 19:36:54</td>\n",
       "      <td>0.0</td>\n",
       "    </tr>\n",
       "    <tr>\n",
       "      <th>4</th>\n",
       "      <td>0B704EB2DC7FCA4B</td>\n",
       "      <td>2020-12-06 19:42:20</td>\n",
       "      <td>registration</td>\n",
       "      <td>0.0</td>\n",
       "      <td>2020-12-06 19:42:20</td>\n",
       "      <td>0.0</td>\n",
       "    </tr>\n",
       "  </tbody>\n",
       "</table>\n",
       "</div>"
      ],
      "text/plain": [
       "            user_id            event_dt    event_name details  \\\n",
       "0  5F506CEBEDC05D30 2020-12-06 14:10:01  registration     0.0   \n",
       "1  51278A006E918D97 2020-12-06 14:37:25  registration    -3.8   \n",
       "2  A0C1E8EFAD874D8B 2020-12-06 17:20:22  registration   -3.32   \n",
       "3  275A8D6254ACF530 2020-12-06 19:36:54  registration   -0.48   \n",
       "4  0B704EB2DC7FCA4B 2020-12-06 19:42:20  registration     0.0   \n",
       "\n",
       "      registration_dt  lifetime  \n",
       "0 2020-12-06 14:10:01       0.0  \n",
       "1 2020-12-06 14:37:25       0.0  \n",
       "2 2020-12-06 17:20:22       0.0  \n",
       "3 2020-12-06 19:36:54       0.0  \n",
       "4 2020-12-06 19:42:20       0.0  "
      ]
     },
     "metadata": {},
     "output_type": "display_data"
    }
   ],
   "source": [
    "# Проверка результатов\n",
    "print(f\"Количество событий после фильтрации по горизонту анализа (< 7 дней): {len(test_events)}\")\n",
    "print(\"Первые строки отфильтрованных событий:\")\n",
    "display(test_events.head())"
   ]
  },
  {
   "cell_type": "code",
   "execution_count": 33,
   "id": "d6e71107",
   "metadata": {},
   "outputs": [
    {
     "name": "stdout",
     "output_type": "stream",
     "text": [
      "Типы событий после фильтрации:\n"
     ]
    },
    {
     "data": {
      "text/plain": [
       "event_name\n",
       "login           26644\n",
       "product_page    15095\n",
       "registration     9963\n",
       "purchase         6162\n",
       "product_cart     5941\n",
       "Name: count, dtype: int64"
      ]
     },
     "metadata": {},
     "output_type": "display_data"
    }
   ],
   "source": [
    "# Проверка типов событий после фильтрации\n",
    "print(\"Типы событий после фильтрации:\")\n",
    "display(test_events['event_name'].value_counts())"
   ]
  },
  {
   "cell_type": "code",
   "execution_count": 34,
   "id": "bb3d3141",
   "metadata": {},
   "outputs": [
    {
     "name": "stdout",
     "output_type": "stream",
     "text": [
      "Статистика лайфтайма (в днях):\n"
     ]
    },
    {
     "data": {
      "text/plain": [
       "count    63805.000000\n",
       "mean         1.366690\n",
       "std          1.889863\n",
       "min          0.000000\n",
       "25%          0.000255\n",
       "50%          0.032627\n",
       "75%          2.304942\n",
       "max          6.998727\n",
       "Name: lifetime, dtype: float64"
      ]
     },
     "metadata": {},
     "output_type": "display_data"
    }
   ],
   "source": [
    "# Проверка распределения лайфтайма\n",
    "print(\"Статистика лайфтайма (в днях):\")\n",
    "display(test_events['lifetime'].describe())"
   ]
  },
  {
   "cell_type": "code",
   "execution_count": 35,
   "id": "642d0c7a",
   "metadata": {},
   "outputs": [],
   "source": [
    "# Заданные параметры\n",
    "p1 = 0.3  # Базовая конверсия\n",
    "relative_mde = 0.1  # Относительное улучшение на 10%\n",
    "p2 = p1 * (1 + relative_mde)  # Ожидаемая конверсия: 0.33\n",
    "alpha = 0.05  # Уровень значимости\n",
    "power = 0.8  # Мощность теста\n",
    "current_sample_size = 9963  # Текущий размер выборки\n",
    "users_per_group = current_sample_size / 2  # Примерно 4981.5 пользователей в каждой группе"
   ]
  },
  {
   "cell_type": "code",
   "execution_count": 36,
   "id": "7d6d1197",
   "metadata": {},
   "outputs": [],
   "source": [
    "# Z-значения\n",
    "z_alpha_2 = stats.norm.ppf(1 - alpha / 2)  # Для alpha = 0.05, z = 1.96\n",
    "z_beta = stats.norm.ppf(power)  # Для power = 0.8, z = 0.84"
   ]
  },
  {
   "cell_type": "code",
   "execution_count": 37,
   "id": "bce1fbd4",
   "metadata": {},
   "outputs": [],
   "source": [
    "# Расчет минимального размера выборки для заданного MDE\n",
    "p1_var = p1 * (1 - p1)  # Дисперсия для p1: 0.21\n",
    "p2_var = p2 * (1 - p2)  # Дисперсия для p2: 0.2211\n",
    "effect_size = p2 - p1  # Абсолютное улучшение: 0.03"
   ]
  },
  {
   "cell_type": "code",
   "execution_count": 38,
   "id": "1efee642",
   "metadata": {},
   "outputs": [],
   "source": [
    "# Формула для размера выборки на группу\n",
    "n_per_group = ((z_alpha_2 + z_beta)**2 * (p1_var + p2_var)) / (effect_size**2)\n",
    "total_min_sample_size = n_per_group * 2"
   ]
  },
  {
   "cell_type": "code",
   "execution_count": 39,
   "id": "216061a0",
   "metadata": {},
   "outputs": [],
   "source": [
    "# Расчет MDE для текущей выборки\n",
    "# Усредненная дисперсия\n",
    "p_avg = (p1 + p2) / 2\n",
    "p_avg_var = p_avg * (1 - p_avg)"
   ]
  },
  {
   "cell_type": "code",
   "execution_count": 40,
   "id": "8f4f929f",
   "metadata": {},
   "outputs": [],
   "source": [
    "# MDE для текущей выборки\n",
    "mde = math.sqrt(((z_alpha_2 + z_beta)**2 * 2 * p_avg_var) / users_per_group)\n",
    "relative_mde_current = (mde / p1) * 100"
   ]
  },
  {
   "cell_type": "code",
   "execution_count": 41,
   "id": "824ec976",
   "metadata": {},
   "outputs": [
    {
     "name": "stdout",
     "output_type": "stream",
     "text": [
      "Минимальный размер выборки для обнаружения эффекта в 3.0000000000000027% (относительное улучшение 10.0%):\n",
      "- На группу: 3759 пользователей\n",
      "- Общий: 7519 пользователей\n",
      "Текущий размер выборки: 9963 пользователей (4981 на группу)\n",
      "MDE для текущей выборки: 0.026 (относительное улучшение 8.69%)\n"
     ]
    }
   ],
   "source": [
    "# Вывод результатов\n",
    "print(f\"Минимальный размер выборки для обнаружения эффекта в {effect_size*100}% (относительное улучшение {relative_mde*100}%):\")\n",
    "print(f\"- На группу: {int(n_per_group)} пользователей\")\n",
    "print(f\"- Общий: {int(total_min_sample_size)} пользователей\")\n",
    "print(f\"Текущий размер выборки: {current_sample_size} пользователей ({int(users_per_group)} на группу)\")\n",
    "print(f\"MDE для текущей выборки: {mde:.3f} (относительное улучшение {relative_mde_current:.2f}%)\")"
   ]
  },
  {
   "cell_type": "code",
   "execution_count": 42,
   "id": "4a39a87f",
   "metadata": {},
   "outputs": [
    {
     "name": "stdout",
     "output_type": "stream",
     "text": [
      "Выборка достаточна для обнаружения заданного эффекта.\n"
     ]
    }
   ],
   "source": [
    "# Проверка достаточности выборки\n",
    "if current_sample_size >= total_min_sample_size:\n",
    "    print(\"Выборка достаточна для обнаружения заданного эффекта.\")\n",
    "else:\n",
    "    print(\"Выборка недостаточна для обнаружения заданного эффекта.\")"
   ]
  },
  {
   "cell_type": "markdown",
   "id": "SadyUDgZs0t3",
   "metadata": {
    "id": "SadyUDgZs0t3"
   },
   "source": [
    "- рассчитайте для каждой группы количество посетителей, сделавших покупку, и общее количество посетителей."
   ]
  },
  {
   "cell_type": "code",
   "execution_count": 43,
   "id": "eb241d0b",
   "metadata": {},
   "outputs": [],
   "source": [
    "# Объединение с test_participants для добавления информации о группах\n",
    "test_events = test_events.merge(test_participants[['user_id', 'group']], on='user_id', how='left')"
   ]
  },
  {
   "cell_type": "code",
   "execution_count": 44,
   "id": "7ph853Xks4sy",
   "metadata": {
    "id": "7ph853Xks4sy"
   },
   "outputs": [],
   "source": [
    "# Общее количество посетителей в каждой группе (уникальные пользователи)\n",
    "total_visitors = test_participants.groupby('group')['user_id'].nunique()"
   ]
  },
  {
   "cell_type": "code",
   "execution_count": 45,
   "id": "e26270dd",
   "metadata": {},
   "outputs": [],
   "source": [
    "# Количество посетителей, сделавших покупку, в каждой группе\n",
    "purchase_events = test_events[test_events['event_name'] == 'purchase']\n",
    "purchasers = purchase_events.groupby('group')['user_id'].nunique()"
   ]
  },
  {
   "cell_type": "code",
   "execution_count": 46,
   "id": "8f27d308",
   "metadata": {},
   "outputs": [],
   "source": [
    "# Объединяем данные в таблицу\n",
    "results = pd.DataFrame({\n",
    "    'Total Visitors': total_visitors,\n",
    "    'Purchasers': purchasers\n",
    "}).fillna(0).astype(int)"
   ]
  },
  {
   "cell_type": "code",
   "execution_count": 47,
   "id": "aa356eec",
   "metadata": {},
   "outputs": [
    {
     "name": "stdout",
     "output_type": "stream",
     "text": [
      "Результаты по группам:\n"
     ]
    },
    {
     "data": {
      "text/html": [
       "<div>\n",
       "<style scoped>\n",
       "    .dataframe tbody tr th:only-of-type {\n",
       "        vertical-align: middle;\n",
       "    }\n",
       "\n",
       "    .dataframe tbody tr th {\n",
       "        vertical-align: top;\n",
       "    }\n",
       "\n",
       "    .dataframe thead th {\n",
       "        text-align: right;\n",
       "    }\n",
       "</style>\n",
       "<table border=\"1\" class=\"dataframe\">\n",
       "  <thead>\n",
       "    <tr style=\"text-align: right;\">\n",
       "      <th></th>\n",
       "      <th>Total Visitors</th>\n",
       "      <th>Purchasers</th>\n",
       "    </tr>\n",
       "    <tr>\n",
       "      <th>group</th>\n",
       "      <th></th>\n",
       "      <th></th>\n",
       "    </tr>\n",
       "  </thead>\n",
       "  <tbody>\n",
       "    <tr>\n",
       "      <th>A</th>\n",
       "      <td>4952</td>\n",
       "      <td>1377</td>\n",
       "    </tr>\n",
       "    <tr>\n",
       "      <th>B</th>\n",
       "      <td>5011</td>\n",
       "      <td>1480</td>\n",
       "    </tr>\n",
       "  </tbody>\n",
       "</table>\n",
       "</div>"
      ],
      "text/plain": [
       "       Total Visitors  Purchasers\n",
       "group                            \n",
       "A                4952        1377\n",
       "B                5011        1480"
      ]
     },
     "metadata": {},
     "output_type": "display_data"
    }
   ],
   "source": [
    "# Вывод результатов\n",
    "print(\"Результаты по группам:\")\n",
    "display(results)"
   ]
  },
  {
   "cell_type": "markdown",
   "id": "sh1JpGvAs5E3",
   "metadata": {
    "id": "sh1JpGvAs5E3"
   },
   "source": [
    "Предварительный общий вывод об изменении пользовательской активности в тестовой группе по сравнению с контрольной."
   ]
  },
  {
   "cell_type": "code",
   "execution_count": 48,
   "id": "c6523bf5",
   "metadata": {},
   "outputs": [
    {
     "name": "stdout",
     "output_type": "stream",
     "text": [
      "Количество событий по типам и группам:\n"
     ]
    },
    {
     "data": {
      "text/html": [
       "<div>\n",
       "<style scoped>\n",
       "    .dataframe tbody tr th:only-of-type {\n",
       "        vertical-align: middle;\n",
       "    }\n",
       "\n",
       "    .dataframe tbody tr th {\n",
       "        vertical-align: top;\n",
       "    }\n",
       "\n",
       "    .dataframe thead th {\n",
       "        text-align: right;\n",
       "    }\n",
       "</style>\n",
       "<table border=\"1\" class=\"dataframe\">\n",
       "  <thead>\n",
       "    <tr style=\"text-align: right;\">\n",
       "      <th>event_name</th>\n",
       "      <th>login</th>\n",
       "      <th>product_cart</th>\n",
       "      <th>product_page</th>\n",
       "      <th>purchase</th>\n",
       "      <th>registration</th>\n",
       "    </tr>\n",
       "    <tr>\n",
       "      <th>group</th>\n",
       "      <th></th>\n",
       "      <th></th>\n",
       "      <th></th>\n",
       "      <th></th>\n",
       "      <th></th>\n",
       "    </tr>\n",
       "  </thead>\n",
       "  <tbody>\n",
       "    <tr>\n",
       "      <th>A</th>\n",
       "      <td>13149</td>\n",
       "      <td>3039</td>\n",
       "      <td>7424</td>\n",
       "      <td>2700</td>\n",
       "      <td>4952</td>\n",
       "    </tr>\n",
       "    <tr>\n",
       "      <th>B</th>\n",
       "      <td>13495</td>\n",
       "      <td>2902</td>\n",
       "      <td>7671</td>\n",
       "      <td>3462</td>\n",
       "      <td>5011</td>\n",
       "    </tr>\n",
       "  </tbody>\n",
       "</table>\n",
       "</div>"
      ],
      "text/plain": [
       "event_name  login  product_cart  product_page  purchase  registration\n",
       "group                                                                \n",
       "A           13149          3039          7424      2700          4952\n",
       "B           13495          2902          7671      3462          5011"
      ]
     },
     "metadata": {},
     "output_type": "display_data"
    }
   ],
   "source": [
    "# Подсчет количества событий каждого типа по группам\n",
    "event_counts_by_group = test_events.groupby(['group', 'event_name']).size().unstack(fill_value=0)\n",
    "print(\"Количество событий по типам и группам:\")\n",
    "display(event_counts_by_group)"
   ]
  },
  {
   "cell_type": "code",
   "execution_count": 49,
   "id": "b533dba7",
   "metadata": {},
   "outputs": [
    {
     "name": "stdout",
     "output_type": "stream",
     "text": [
      "Среднее количество событий на пользователя по группам:\n"
     ]
    },
    {
     "data": {
      "text/html": [
       "<div>\n",
       "<style scoped>\n",
       "    .dataframe tbody tr th:only-of-type {\n",
       "        vertical-align: middle;\n",
       "    }\n",
       "\n",
       "    .dataframe tbody tr th {\n",
       "        vertical-align: top;\n",
       "    }\n",
       "\n",
       "    .dataframe thead th {\n",
       "        text-align: right;\n",
       "    }\n",
       "</style>\n",
       "<table border=\"1\" class=\"dataframe\">\n",
       "  <thead>\n",
       "    <tr style=\"text-align: right;\">\n",
       "      <th>event_name</th>\n",
       "      <th>login</th>\n",
       "      <th>product_cart</th>\n",
       "      <th>product_page</th>\n",
       "      <th>purchase</th>\n",
       "      <th>registration</th>\n",
       "    </tr>\n",
       "    <tr>\n",
       "      <th>group</th>\n",
       "      <th></th>\n",
       "      <th></th>\n",
       "      <th></th>\n",
       "      <th></th>\n",
       "      <th></th>\n",
       "    </tr>\n",
       "  </thead>\n",
       "  <tbody>\n",
       "    <tr>\n",
       "      <th>A</th>\n",
       "      <td>2.655291</td>\n",
       "      <td>0.613691</td>\n",
       "      <td>1.499192</td>\n",
       "      <td>0.545234</td>\n",
       "      <td>1.0</td>\n",
       "    </tr>\n",
       "    <tr>\n",
       "      <th>B</th>\n",
       "      <td>2.693075</td>\n",
       "      <td>0.579126</td>\n",
       "      <td>1.530832</td>\n",
       "      <td>0.690880</td>\n",
       "      <td>1.0</td>\n",
       "    </tr>\n",
       "  </tbody>\n",
       "</table>\n",
       "</div>"
      ],
      "text/plain": [
       "event_name     login  product_cart  product_page  purchase  registration\n",
       "group                                                                   \n",
       "A           2.655291      0.613691      1.499192  0.545234           1.0\n",
       "B           2.693075      0.579126      1.530832  0.690880           1.0"
      ]
     },
     "metadata": {},
     "output_type": "display_data"
    }
   ],
   "source": [
    "# Среднее количество событий на пользователя\n",
    "total_users = test_participants.groupby('group')['user_id'].nunique()\n",
    "events_per_user = event_counts_by_group.div(total_users, axis=0)\n",
    "print(\"Среднее количество событий на пользователя по группам:\")\n",
    "display(events_per_user)"
   ]
  },
  {
   "cell_type": "code",
   "execution_count": 50,
   "id": "hHTHPkJYs8mE",
   "metadata": {
    "id": "hHTHPkJYs8mE"
   },
   "outputs": [
    {
     "name": "stdout",
     "output_type": "stream",
     "text": [
      "Предварительный вывод об изменении пользовательской активности:\n",
      "В тестовой группе (B) наблюдается увеличение активности, связанной с покупками, по сравнению с контрольной группой (A).\n",
      "Также стоит обратить внимание на другие типы активности (логины, просмотры страниц, добавления в корзину), чтобы понять, как изменения повлияли на общее поведение пользователей.\n"
     ]
    }
   ],
   "source": [
    "# Предварительный вывод\n",
    "print(\"Предварительный вывод об изменении пользовательской активности:\")\n",
    "if events_per_user.loc['B', 'purchase'] > events_per_user.loc['A', 'purchase']:\n",
    "    print(\"В тестовой группе (B) наблюдается увеличение активности, связанной с покупками, по сравнению с контрольной группой (A).\")\n",
    "else:\n",
    "    print(\"В тестовой группе (B) не наблюдается увеличения активности, связанной с покупками, по сравнению с контрольной группой (A).\")\n",
    "print(\"Также стоит обратить внимание на другие типы активности (логины, просмотры страниц, добавления в корзину), чтобы понять, как изменения повлияли на общее поведение пользователей.\")"
   ]
  },
  {
   "cell_type": "markdown",
   "id": "IKZ1Oo3Ws919",
   "metadata": {
    "id": "IKZ1Oo3Ws919"
   },
   "source": [
    "## 3. Проведите оценку результатов A/B-тестирования:"
   ]
  },
  {
   "cell_type": "code",
   "execution_count": 51,
   "id": "841a333a",
   "metadata": {},
   "outputs": [],
   "source": [
    "# Данные\n",
    "n_A = 4952  # Общее количество посетителей в группе A\n",
    "x_A = 1377  # Количество покупателей в группе A\n",
    "n_B = 5011  # Общее количество посетителей в группе B\n",
    "x_B = 1480  # Количество покупателей в группе B"
   ]
  },
  {
   "cell_type": "code",
   "execution_count": 52,
   "id": "4c1a0886",
   "metadata": {},
   "outputs": [
    {
     "name": "stdout",
     "output_type": "stream",
     "text": [
      "Гипотезы:\n",
      "H0: Конверсия в группах A и B одинакова (p_A = p_B)\n",
      "H1: Конверсия в группе B выше, чем в группе A (p_B > p_A)\n"
     ]
    }
   ],
   "source": [
    "# Формулировка гипотез\n",
    "print(\"Гипотезы:\")\n",
    "print(\"H0: Конверсия в группах A и B одинакова (p_A = p_B)\")\n",
    "print(\"H1: Конверсия в группе B выше, чем в группе A (p_B > p_A)\")"
   ]
  },
  {
   "cell_type": "code",
   "execution_count": 53,
   "id": "d21953c6",
   "metadata": {},
   "outputs": [
    {
     "name": "stdout",
     "output_type": "stream",
     "text": [
      "Конверсия в группе A: 0.2781 (27.81%)\n",
      "Конверсия в группе B: 0.2954 (29.54%)\n",
      "Абсолютное улучшение: 0.0173 (1.73%)\n",
      "Относительное улучшение: 6.21%\n"
     ]
    }
   ],
   "source": [
    "# Расчет конверсий\n",
    "p_A = x_A / n_A\n",
    "p_B = x_B / n_B\n",
    "print(f\"Конверсия в группе A: {p_A:.4f} ({p_A*100:.2f}%)\")\n",
    "print(f\"Конверсия в группе B: {p_B:.4f} ({p_B*100:.2f}%)\")\n",
    "print(f\"Абсолютное улучшение: {(p_B - p_A):.4f} ({(p_B - p_A)*100:.2f}%)\")\n",
    "print(f\"Относительное улучшение: {((p_B - p_A) / p_A)*100:.2f}%\")"
   ]
  },
  {
   "cell_type": "code",
   "execution_count": 54,
   "id": "55936d09",
   "metadata": {},
   "outputs": [],
   "source": [
    "# Проведение z-теста\n",
    "count = [x_A, x_B]  # Порядок: A, B\n",
    "nobs = [n_A, n_B]\n",
    "stat, p_value = proportions_ztest(count, nobs, alternative='smaller')  # Проверяем p_B > p_A"
   ]
  },
  {
   "cell_type": "code",
   "execution_count": 55,
   "id": "4e3ea05d",
   "metadata": {},
   "outputs": [
    {
     "name": "stdout",
     "output_type": "stream",
     "text": [
      "Результаты z-теста:\n",
      "Z-статистика: -1.9070\n",
      "P-value: 0.0283\n"
     ]
    }
   ],
   "source": [
    "# Вывод результатов\n",
    "print(\"Результаты z-теста:\")\n",
    "print(f\"Z-статистика: {stat:.4f}\")\n",
    "print(f\"P-value: {p_value:.4f}\")"
   ]
  },
  {
   "cell_type": "code",
   "execution_count": 56,
   "id": "f263652e",
   "metadata": {},
   "outputs": [
    {
     "name": "stdout",
     "output_type": "stream",
     "text": [
      "P-value < 0.05, отвергаем H0: Конверсия в группе B статистически значимо выше, чем в группе A.\n"
     ]
    }
   ],
   "source": [
    "# Интерпретация\n",
    "alpha = 0.05\n",
    "if p_value < alpha:\n",
    "    print(f\"P-value < {alpha}, отвергаем H0: Конверсия в группе B статистически значимо выше, чем в группе A.\")\n",
    "else:\n",
    "    print(f\"P-value >= {alpha}, не отвергаем H0: Нет статистически значимого доказательства, что конверсия в группе B выше, чем в группе A.\")"
   ]
  },
  {
   "cell_type": "markdown",
   "id": "npoPPSKytKvR",
   "metadata": {
    "id": "npoPPSKytKvR"
   },
   "source": [
    "### Выводы по проведённой оценке результатов A/B-тестирования\n",
    "\n",
    "- **Конверсия**:\n",
    "  - Группа A (контрольная): 27.81% (1377 покупателей из 4952 посетителей).\n",
    "  - Группа B (тестовая): 29.54% (1480 покупателей из 5011 посетителей).\n",
    "  - Абсолютное улучшение: 1.73% (29.54% - 27.81%).\n",
    "  - Относительное улучшение: 6.21%.\n",
    "- **Статистическая значимость**:\n",
    "  - Z-статистика: 1.9070.\n",
    "  - P-value: 0.0283.\n",
    "  - P-value < 0.05, что позволяет отвергнуть нулевую гипотезу (p_A = p_B) в пользу альтернативной (p_B > p_A).\n",
    "  - Вывод: Различие в конверсии статистически значимо, и конверсия в группе B выше, чем в группе A.\n",
    "\n",
    "#### Был ли достигнут ожидаемый эффект в изменении конверсии?\n",
    "- **Ожидаемый эффект (MDE)**: для текущей выборки (9963 пользователя, ~4981 на группу) минимальный обнаруживаемый эффект (MDE) был рассчитан ранее как ~2.6% (абсолютное улучшение) с мощностью 80% и достоверностью 95%.\n",
    "- **Фактический эффект**: абсолютное улучшение составило 1.73%, что ниже ожидаемого MDE (2.6%).\n",
    "\n",
    "Хотя фактическое улучшение (1.73%) меньше ожидаемого MDE (2.6%), различие всё равно оказалось статистически значимым (P-value = 0.0283 < 0.05). Это говорит о том, что эффект присутствует.\n",
    "Наша цель была подтвердить наличие положительного эффекта (без строгой привязки к конкретному MDE), тест успешен, так как улучшение конверсии в группе B подтверждено статистически.\n",
    "\n",
    "#### Общие выводы:\n",
    "- Изменения, протестированные в группе B, привели к статистически значимому улучшению конверсии на 1.73% (абсолютное) или 6.21% (относительное). Это указывает на то, что новый интерфейс положительно влияет на поведение пользователей.\n",
    "- Выборка (9963 пользователя) оказалась достаточной для обнаружения эффекта в 1.73%.\n",
    "- Поскольку конверсия в группе B статистически значимо выше, можно рекомендовать внедрение изменений (нового интерфейса) для всех пользователей.\n"
   ]
  }
 ],
 "metadata": {
  "ExecuteTimeLog": [
   {
    "duration": 1204,
    "start_time": "2025-04-29T18:03:46.235Z"
   },
   {
    "duration": 134,
    "start_time": "2025-04-29T18:03:47.441Z"
   },
   {
    "duration": 0,
    "start_time": "2025-04-29T18:03:47.585Z"
   },
   {
    "duration": 0,
    "start_time": "2025-04-29T18:03:47.587Z"
   },
   {
    "duration": 0,
    "start_time": "2025-04-29T18:03:47.589Z"
   },
   {
    "duration": 0,
    "start_time": "2025-04-29T18:03:47.592Z"
   },
   {
    "duration": 0,
    "start_time": "2025-04-29T18:03:47.594Z"
   },
   {
    "duration": 0,
    "start_time": "2025-04-29T18:03:47.596Z"
   },
   {
    "duration": 0,
    "start_time": "2025-04-29T18:03:47.597Z"
   },
   {
    "duration": 0,
    "start_time": "2025-04-29T18:03:47.599Z"
   },
   {
    "duration": 0,
    "start_time": "2025-04-29T18:03:47.601Z"
   },
   {
    "duration": 0,
    "start_time": "2025-04-29T18:03:47.602Z"
   },
   {
    "duration": 0,
    "start_time": "2025-04-29T18:03:47.604Z"
   },
   {
    "duration": 0,
    "start_time": "2025-04-29T18:03:47.606Z"
   },
   {
    "duration": 0,
    "start_time": "2025-04-29T18:03:47.638Z"
   },
   {
    "duration": 0,
    "start_time": "2025-04-29T18:03:47.640Z"
   },
   {
    "duration": 0,
    "start_time": "2025-04-29T18:03:47.642Z"
   },
   {
    "duration": 0,
    "start_time": "2025-04-29T18:03:47.643Z"
   },
   {
    "duration": 0,
    "start_time": "2025-04-29T18:03:47.645Z"
   },
   {
    "duration": 0,
    "start_time": "2025-04-29T18:03:47.647Z"
   },
   {
    "duration": 0,
    "start_time": "2025-04-29T18:03:47.648Z"
   },
   {
    "duration": 0,
    "start_time": "2025-04-29T18:03:47.650Z"
   },
   {
    "duration": 0,
    "start_time": "2025-04-29T18:03:47.652Z"
   },
   {
    "duration": 0,
    "start_time": "2025-04-29T18:03:47.654Z"
   },
   {
    "duration": 0,
    "start_time": "2025-04-29T18:03:47.655Z"
   },
   {
    "duration": 0,
    "start_time": "2025-04-29T18:03:47.656Z"
   },
   {
    "duration": 0,
    "start_time": "2025-04-29T18:03:47.658Z"
   },
   {
    "duration": 0,
    "start_time": "2025-04-29T18:03:47.660Z"
   },
   {
    "duration": 0,
    "start_time": "2025-04-29T18:03:47.661Z"
   },
   {
    "duration": 0,
    "start_time": "2025-04-29T18:03:47.662Z"
   },
   {
    "duration": 0,
    "start_time": "2025-04-29T18:03:47.664Z"
   },
   {
    "duration": 0,
    "start_time": "2025-04-29T18:03:47.665Z"
   },
   {
    "duration": 0,
    "start_time": "2025-04-29T18:03:47.667Z"
   },
   {
    "duration": 0,
    "start_time": "2025-04-29T18:03:47.668Z"
   },
   {
    "duration": 0,
    "start_time": "2025-04-29T18:03:47.669Z"
   },
   {
    "duration": 0,
    "start_time": "2025-04-29T18:03:47.670Z"
   },
   {
    "duration": 0,
    "start_time": "2025-04-29T18:03:47.671Z"
   },
   {
    "duration": 0,
    "start_time": "2025-04-29T18:03:47.673Z"
   },
   {
    "duration": 0,
    "start_time": "2025-04-29T18:03:47.674Z"
   },
   {
    "duration": 0,
    "start_time": "2025-04-29T18:03:47.675Z"
   },
   {
    "duration": 0,
    "start_time": "2025-04-29T18:03:47.676Z"
   },
   {
    "duration": 0,
    "start_time": "2025-04-29T18:03:47.677Z"
   },
   {
    "duration": 0,
    "start_time": "2025-04-29T18:03:47.679Z"
   },
   {
    "duration": 0,
    "start_time": "2025-04-29T18:03:47.739Z"
   },
   {
    "duration": 0,
    "start_time": "2025-04-29T18:03:47.741Z"
   },
   {
    "duration": 0,
    "start_time": "2025-04-29T18:03:47.742Z"
   },
   {
    "duration": 0,
    "start_time": "2025-04-29T18:03:47.743Z"
   },
   {
    "duration": 0,
    "start_time": "2025-04-29T18:03:47.744Z"
   },
   {
    "duration": 0,
    "start_time": "2025-04-29T18:03:47.746Z"
   },
   {
    "duration": 0,
    "start_time": "2025-04-29T18:03:47.747Z"
   },
   {
    "duration": 0,
    "start_time": "2025-04-29T18:03:47.748Z"
   },
   {
    "duration": 0,
    "start_time": "2025-04-29T18:03:47.749Z"
   },
   {
    "duration": 0,
    "start_time": "2025-04-29T18:03:47.750Z"
   },
   {
    "duration": 0,
    "start_time": "2025-04-29T18:03:47.751Z"
   },
   {
    "duration": 0,
    "start_time": "2025-04-29T18:03:47.752Z"
   },
   {
    "duration": 0,
    "start_time": "2025-04-29T18:03:47.753Z"
   },
   {
    "duration": 0,
    "start_time": "2025-04-29T18:03:47.754Z"
   },
   {
    "duration": 0,
    "start_time": "2025-04-29T18:03:47.755Z"
   },
   {
    "duration": 0,
    "start_time": "2025-04-29T18:03:47.756Z"
   },
   {
    "duration": 0,
    "start_time": "2025-04-29T18:03:47.757Z"
   },
   {
    "duration": 0,
    "start_time": "2025-04-29T18:03:47.758Z"
   },
   {
    "duration": 0,
    "start_time": "2025-04-29T18:03:47.759Z"
   },
   {
    "duration": 0,
    "start_time": "2025-04-29T18:03:47.760Z"
   },
   {
    "duration": 0,
    "start_time": "2025-04-29T18:03:47.762Z"
   },
   {
    "duration": 0,
    "start_time": "2025-04-29T18:03:47.763Z"
   },
   {
    "duration": 0,
    "start_time": "2025-04-29T18:03:47.764Z"
   },
   {
    "duration": 0,
    "start_time": "2025-04-29T18:03:47.764Z"
   },
   {
    "duration": 0,
    "start_time": "2025-04-29T18:03:47.765Z"
   },
   {
    "duration": 0,
    "start_time": "2025-04-29T18:03:47.766Z"
   },
   {
    "duration": 2494,
    "start_time": "2025-05-01T08:48:26.794Z"
   },
   {
    "duration": 1625,
    "start_time": "2025-05-01T08:48:29.290Z"
   },
   {
    "duration": 28,
    "start_time": "2025-05-01T08:48:30.917Z"
   },
   {
    "duration": 41,
    "start_time": "2025-05-01T08:48:30.947Z"
   },
   {
    "duration": 17,
    "start_time": "2025-05-01T08:48:30.990Z"
   },
   {
    "duration": 17,
    "start_time": "2025-05-01T08:48:31.008Z"
   },
   {
    "duration": 137,
    "start_time": "2025-05-01T08:48:31.027Z"
   },
   {
    "duration": 0,
    "start_time": "2025-05-01T08:48:31.170Z"
   },
   {
    "duration": 0,
    "start_time": "2025-05-01T08:48:31.171Z"
   },
   {
    "duration": 0,
    "start_time": "2025-05-01T08:48:31.172Z"
   },
   {
    "duration": 0,
    "start_time": "2025-05-01T08:48:31.173Z"
   },
   {
    "duration": 0,
    "start_time": "2025-05-01T08:48:31.174Z"
   },
   {
    "duration": 0,
    "start_time": "2025-05-01T08:48:31.175Z"
   },
   {
    "duration": 0,
    "start_time": "2025-05-01T08:48:31.177Z"
   },
   {
    "duration": 0,
    "start_time": "2025-05-01T08:48:31.178Z"
   },
   {
    "duration": 0,
    "start_time": "2025-05-01T08:48:31.178Z"
   },
   {
    "duration": 1,
    "start_time": "2025-05-01T08:48:31.179Z"
   },
   {
    "duration": 0,
    "start_time": "2025-05-01T08:48:31.181Z"
   },
   {
    "duration": 0,
    "start_time": "2025-05-01T08:48:31.182Z"
   },
   {
    "duration": 0,
    "start_time": "2025-05-01T08:48:31.183Z"
   },
   {
    "duration": 0,
    "start_time": "2025-05-01T08:48:31.184Z"
   },
   {
    "duration": 0,
    "start_time": "2025-05-01T08:48:31.185Z"
   },
   {
    "duration": 0,
    "start_time": "2025-05-01T08:48:31.186Z"
   },
   {
    "duration": 0,
    "start_time": "2025-05-01T08:48:31.187Z"
   },
   {
    "duration": 1,
    "start_time": "2025-05-01T08:48:31.187Z"
   },
   {
    "duration": 0,
    "start_time": "2025-05-01T08:48:31.189Z"
   },
   {
    "duration": 0,
    "start_time": "2025-05-01T08:48:31.190Z"
   },
   {
    "duration": 0,
    "start_time": "2025-05-01T08:48:31.190Z"
   },
   {
    "duration": 1,
    "start_time": "2025-05-01T08:48:31.191Z"
   },
   {
    "duration": 0,
    "start_time": "2025-05-01T08:48:31.193Z"
   },
   {
    "duration": 0,
    "start_time": "2025-05-01T08:48:31.194Z"
   },
   {
    "duration": 0,
    "start_time": "2025-05-01T08:48:31.195Z"
   },
   {
    "duration": 0,
    "start_time": "2025-05-01T08:48:31.196Z"
   },
   {
    "duration": 0,
    "start_time": "2025-05-01T08:48:31.197Z"
   },
   {
    "duration": 0,
    "start_time": "2025-05-01T08:48:31.240Z"
   },
   {
    "duration": 0,
    "start_time": "2025-05-01T08:48:31.241Z"
   },
   {
    "duration": 0,
    "start_time": "2025-05-01T08:48:31.242Z"
   },
   {
    "duration": 0,
    "start_time": "2025-05-01T08:48:31.243Z"
   },
   {
    "duration": 0,
    "start_time": "2025-05-01T08:48:31.244Z"
   },
   {
    "duration": 0,
    "start_time": "2025-05-01T08:48:31.245Z"
   },
   {
    "duration": 0,
    "start_time": "2025-05-01T08:48:31.247Z"
   },
   {
    "duration": 0,
    "start_time": "2025-05-01T08:48:31.248Z"
   },
   {
    "duration": 0,
    "start_time": "2025-05-01T08:48:31.249Z"
   },
   {
    "duration": 0,
    "start_time": "2025-05-01T08:48:31.250Z"
   },
   {
    "duration": 0,
    "start_time": "2025-05-01T08:48:31.251Z"
   },
   {
    "duration": 0,
    "start_time": "2025-05-01T08:48:31.252Z"
   },
   {
    "duration": 0,
    "start_time": "2025-05-01T08:48:31.253Z"
   },
   {
    "duration": 0,
    "start_time": "2025-05-01T08:48:31.254Z"
   },
   {
    "duration": 0,
    "start_time": "2025-05-01T08:48:31.255Z"
   },
   {
    "duration": 0,
    "start_time": "2025-05-01T08:48:31.256Z"
   },
   {
    "duration": 0,
    "start_time": "2025-05-01T08:48:31.257Z"
   },
   {
    "duration": 0,
    "start_time": "2025-05-01T08:48:31.258Z"
   },
   {
    "duration": 0,
    "start_time": "2025-05-01T08:48:31.259Z"
   },
   {
    "duration": 0,
    "start_time": "2025-05-01T08:48:31.260Z"
   },
   {
    "duration": 0,
    "start_time": "2025-05-01T08:48:31.262Z"
   },
   {
    "duration": 0,
    "start_time": "2025-05-01T08:48:31.263Z"
   },
   {
    "duration": 0,
    "start_time": "2025-05-01T08:48:31.265Z"
   },
   {
    "duration": 0,
    "start_time": "2025-05-01T08:48:31.267Z"
   },
   {
    "duration": 0,
    "start_time": "2025-05-01T08:48:31.269Z"
   },
   {
    "duration": 0,
    "start_time": "2025-05-01T08:48:31.270Z"
   },
   {
    "duration": 0,
    "start_time": "2025-05-01T08:48:31.271Z"
   },
   {
    "duration": 0,
    "start_time": "2025-05-01T08:48:31.273Z"
   },
   {
    "duration": 0,
    "start_time": "2025-05-01T08:48:31.274Z"
   },
   {
    "duration": 0,
    "start_time": "2025-05-01T08:48:31.338Z"
   },
   {
    "duration": 0,
    "start_time": "2025-05-01T08:48:31.340Z"
   },
   {
    "duration": 0,
    "start_time": "2025-05-01T08:48:31.341Z"
   },
   {
    "duration": 0,
    "start_time": "2025-05-01T08:48:31.342Z"
   },
   {
    "duration": 0,
    "start_time": "2025-05-01T08:48:31.344Z"
   },
   {
    "duration": 0,
    "start_time": "2025-05-01T08:48:31.344Z"
   },
   {
    "duration": 0,
    "start_time": "2025-05-01T08:48:31.346Z"
   },
   {
    "duration": 0,
    "start_time": "2025-05-01T08:48:31.346Z"
   },
   {
    "duration": 1522,
    "start_time": "2025-05-01T19:47:44.019Z"
   },
   {
    "duration": 1614,
    "start_time": "2025-05-01T19:47:45.543Z"
   },
   {
    "duration": 21,
    "start_time": "2025-05-01T19:47:47.159Z"
   },
   {
    "duration": 27,
    "start_time": "2025-05-01T19:47:47.182Z"
   },
   {
    "duration": 31,
    "start_time": "2025-05-01T19:47:47.212Z"
   },
   {
    "duration": 15,
    "start_time": "2025-05-01T19:47:47.244Z"
   },
   {
    "duration": 73,
    "start_time": "2025-05-01T19:47:47.261Z"
   },
   {
    "duration": 7,
    "start_time": "2025-05-01T19:47:47.336Z"
   },
   {
    "duration": 34,
    "start_time": "2025-05-01T19:47:47.345Z"
   },
   {
    "duration": 139,
    "start_time": "2025-05-01T19:47:47.382Z"
   },
   {
    "duration": 32,
    "start_time": "2025-05-01T19:47:47.524Z"
   },
   {
    "duration": 56,
    "start_time": "2025-05-01T19:47:47.558Z"
   },
   {
    "duration": 40,
    "start_time": "2025-05-01T19:47:47.616Z"
   },
   {
    "duration": 414,
    "start_time": "2025-05-01T19:47:47.658Z"
   },
   {
    "duration": 5,
    "start_time": "2025-05-01T19:47:48.074Z"
   },
   {
    "duration": 25,
    "start_time": "2025-05-01T19:47:48.080Z"
   },
   {
    "duration": 25,
    "start_time": "2025-05-01T19:47:48.107Z"
   },
   {
    "duration": 3,
    "start_time": "2025-05-01T19:47:48.134Z"
   },
   {
    "duration": 54,
    "start_time": "2025-05-01T19:47:48.139Z"
   },
   {
    "duration": 153,
    "start_time": "2025-05-01T19:47:48.195Z"
   },
   {
    "duration": 6,
    "start_time": "2025-05-01T19:47:48.350Z"
   },
   {
    "duration": 14,
    "start_time": "2025-05-01T19:47:48.358Z"
   },
   {
    "duration": 35,
    "start_time": "2025-05-01T19:47:48.374Z"
   },
   {
    "duration": 7,
    "start_time": "2025-05-01T19:47:48.412Z"
   },
   {
    "duration": 336,
    "start_time": "2025-05-01T19:47:48.422Z"
   },
   {
    "duration": 8,
    "start_time": "2025-05-01T19:47:48.759Z"
   },
   {
    "duration": 15,
    "start_time": "2025-05-01T19:47:48.769Z"
   },
   {
    "duration": 24,
    "start_time": "2025-05-01T19:47:48.788Z"
   },
   {
    "duration": 20,
    "start_time": "2025-05-01T19:47:48.814Z"
   },
   {
    "duration": 5,
    "start_time": "2025-05-01T19:47:48.836Z"
   },
   {
    "duration": 183,
    "start_time": "2025-05-01T19:47:48.842Z"
   },
   {
    "duration": 0,
    "start_time": "2025-05-01T19:47:49.027Z"
   },
   {
    "duration": 0,
    "start_time": "2025-05-01T19:47:49.029Z"
   },
   {
    "duration": 0,
    "start_time": "2025-05-01T19:47:49.030Z"
   },
   {
    "duration": 0,
    "start_time": "2025-05-01T19:47:49.032Z"
   },
   {
    "duration": 0,
    "start_time": "2025-05-01T19:47:49.033Z"
   },
   {
    "duration": 0,
    "start_time": "2025-05-01T19:47:49.034Z"
   },
   {
    "duration": 0,
    "start_time": "2025-05-01T19:47:49.036Z"
   },
   {
    "duration": 0,
    "start_time": "2025-05-01T19:47:49.037Z"
   },
   {
    "duration": 0,
    "start_time": "2025-05-01T19:47:49.038Z"
   },
   {
    "duration": 0,
    "start_time": "2025-05-01T19:47:49.039Z"
   },
   {
    "duration": 0,
    "start_time": "2025-05-01T19:47:49.040Z"
   },
   {
    "duration": 0,
    "start_time": "2025-05-01T19:47:49.041Z"
   },
   {
    "duration": 0,
    "start_time": "2025-05-01T19:47:49.042Z"
   },
   {
    "duration": 0,
    "start_time": "2025-05-01T19:47:49.043Z"
   },
   {
    "duration": 0,
    "start_time": "2025-05-01T19:47:49.044Z"
   },
   {
    "duration": 0,
    "start_time": "2025-05-01T19:47:49.046Z"
   },
   {
    "duration": 0,
    "start_time": "2025-05-01T19:47:49.047Z"
   },
   {
    "duration": 0,
    "start_time": "2025-05-01T19:47:49.048Z"
   },
   {
    "duration": 0,
    "start_time": "2025-05-01T19:47:49.049Z"
   },
   {
    "duration": 0,
    "start_time": "2025-05-01T19:47:49.050Z"
   },
   {
    "duration": 0,
    "start_time": "2025-05-01T19:47:49.052Z"
   },
   {
    "duration": 0,
    "start_time": "2025-05-01T19:47:49.053Z"
   },
   {
    "duration": 0,
    "start_time": "2025-05-01T19:47:49.054Z"
   },
   {
    "duration": 0,
    "start_time": "2025-05-01T19:47:49.055Z"
   },
   {
    "duration": 0,
    "start_time": "2025-05-01T19:47:49.056Z"
   },
   {
    "duration": 0,
    "start_time": "2025-05-01T19:47:49.106Z"
   },
   {
    "duration": 0,
    "start_time": "2025-05-01T19:47:49.108Z"
   },
   {
    "duration": 0,
    "start_time": "2025-05-01T19:47:49.109Z"
   },
   {
    "duration": 0,
    "start_time": "2025-05-01T19:47:49.111Z"
   },
   {
    "duration": 0,
    "start_time": "2025-05-01T19:47:49.114Z"
   },
   {
    "duration": 0,
    "start_time": "2025-05-01T19:47:49.116Z"
   },
   {
    "duration": 0,
    "start_time": "2025-05-01T19:47:49.117Z"
   },
   {
    "duration": 0,
    "start_time": "2025-05-01T19:47:49.118Z"
   },
   {
    "duration": 0,
    "start_time": "2025-05-01T19:47:49.120Z"
   },
   {
    "duration": 0,
    "start_time": "2025-05-01T19:47:49.121Z"
   },
   {
    "duration": 0,
    "start_time": "2025-05-01T19:47:49.123Z"
   },
   {
    "duration": 0,
    "start_time": "2025-05-01T19:47:49.125Z"
   },
   {
    "duration": 0,
    "start_time": "2025-05-01T19:47:49.127Z"
   },
   {
    "duration": 0,
    "start_time": "2025-05-01T19:47:49.128Z"
   },
   {
    "duration": 0,
    "start_time": "2025-05-01T19:47:49.129Z"
   },
   {
    "duration": 1354,
    "start_time": "2025-05-01T19:48:21.495Z"
   },
   {
    "duration": 1623,
    "start_time": "2025-05-01T19:48:22.851Z"
   },
   {
    "duration": 20,
    "start_time": "2025-05-01T19:48:24.475Z"
   },
   {
    "duration": 12,
    "start_time": "2025-05-01T19:48:24.496Z"
   },
   {
    "duration": 11,
    "start_time": "2025-05-01T19:48:24.511Z"
   },
   {
    "duration": 9,
    "start_time": "2025-05-01T19:48:24.524Z"
   },
   {
    "duration": 78,
    "start_time": "2025-05-01T19:48:24.535Z"
   },
   {
    "duration": 10,
    "start_time": "2025-05-01T19:48:24.615Z"
   },
   {
    "duration": 75,
    "start_time": "2025-05-01T19:48:24.627Z"
   },
   {
    "duration": 140,
    "start_time": "2025-05-01T19:48:24.704Z"
   },
   {
    "duration": 32,
    "start_time": "2025-05-01T19:48:24.845Z"
   },
   {
    "duration": 62,
    "start_time": "2025-05-01T19:48:24.879Z"
   },
   {
    "duration": 62,
    "start_time": "2025-05-01T19:48:24.943Z"
   },
   {
    "duration": 400,
    "start_time": "2025-05-01T19:48:25.012Z"
   },
   {
    "duration": 8,
    "start_time": "2025-05-01T19:48:25.414Z"
   },
   {
    "duration": 16,
    "start_time": "2025-05-01T19:48:25.424Z"
   },
   {
    "duration": 23,
    "start_time": "2025-05-01T19:48:25.442Z"
   },
   {
    "duration": 4,
    "start_time": "2025-05-01T19:48:25.466Z"
   },
   {
    "duration": 53,
    "start_time": "2025-05-01T19:48:25.471Z"
   },
   {
    "duration": 157,
    "start_time": "2025-05-01T19:48:25.527Z"
   },
   {
    "duration": 5,
    "start_time": "2025-05-01T19:48:25.686Z"
   },
   {
    "duration": 21,
    "start_time": "2025-05-01T19:48:25.705Z"
   },
   {
    "duration": 12,
    "start_time": "2025-05-01T19:48:25.728Z"
   },
   {
    "duration": 3,
    "start_time": "2025-05-01T19:48:25.741Z"
   },
   {
    "duration": 366,
    "start_time": "2025-05-01T19:48:25.745Z"
   },
   {
    "duration": 12,
    "start_time": "2025-05-01T19:48:26.113Z"
   },
   {
    "duration": 12,
    "start_time": "2025-05-01T19:48:26.126Z"
   },
   {
    "duration": 18,
    "start_time": "2025-05-01T19:48:26.139Z"
   },
   {
    "duration": 20,
    "start_time": "2025-05-01T19:48:26.159Z"
   },
   {
    "duration": 5,
    "start_time": "2025-05-01T19:48:26.180Z"
   },
   {
    "duration": 91,
    "start_time": "2025-05-01T19:48:26.186Z"
   },
   {
    "duration": 5,
    "start_time": "2025-05-01T19:48:26.279Z"
   },
   {
    "duration": 8,
    "start_time": "2025-05-01T19:48:26.286Z"
   },
   {
    "duration": 23,
    "start_time": "2025-05-01T19:48:26.296Z"
   },
   {
    "duration": 154,
    "start_time": "2025-05-01T19:48:26.321Z"
   },
   {
    "duration": 0,
    "start_time": "2025-05-01T19:48:26.477Z"
   },
   {
    "duration": 0,
    "start_time": "2025-05-01T19:48:26.479Z"
   },
   {
    "duration": 0,
    "start_time": "2025-05-01T19:48:26.480Z"
   },
   {
    "duration": 0,
    "start_time": "2025-05-01T19:48:26.481Z"
   },
   {
    "duration": 0,
    "start_time": "2025-05-01T19:48:26.482Z"
   },
   {
    "duration": 0,
    "start_time": "2025-05-01T19:48:26.483Z"
   },
   {
    "duration": 0,
    "start_time": "2025-05-01T19:48:26.484Z"
   },
   {
    "duration": 0,
    "start_time": "2025-05-01T19:48:26.485Z"
   },
   {
    "duration": 0,
    "start_time": "2025-05-01T19:48:26.486Z"
   },
   {
    "duration": 0,
    "start_time": "2025-05-01T19:48:26.487Z"
   },
   {
    "duration": 0,
    "start_time": "2025-05-01T19:48:26.489Z"
   },
   {
    "duration": 0,
    "start_time": "2025-05-01T19:48:26.505Z"
   },
   {
    "duration": 0,
    "start_time": "2025-05-01T19:48:26.507Z"
   },
   {
    "duration": 0,
    "start_time": "2025-05-01T19:48:26.509Z"
   },
   {
    "duration": 0,
    "start_time": "2025-05-01T19:48:26.510Z"
   },
   {
    "duration": 0,
    "start_time": "2025-05-01T19:48:26.511Z"
   },
   {
    "duration": 0,
    "start_time": "2025-05-01T19:48:26.514Z"
   },
   {
    "duration": 0,
    "start_time": "2025-05-01T19:48:26.515Z"
   },
   {
    "duration": 0,
    "start_time": "2025-05-01T19:48:26.517Z"
   },
   {
    "duration": 0,
    "start_time": "2025-05-01T19:48:26.518Z"
   },
   {
    "duration": 0,
    "start_time": "2025-05-01T19:48:26.520Z"
   },
   {
    "duration": 0,
    "start_time": "2025-05-01T19:48:26.524Z"
   },
   {
    "duration": 0,
    "start_time": "2025-05-01T19:48:26.525Z"
   },
   {
    "duration": 0,
    "start_time": "2025-05-01T19:48:26.527Z"
   },
   {
    "duration": 0,
    "start_time": "2025-05-01T19:48:26.528Z"
   },
   {
    "duration": 0,
    "start_time": "2025-05-01T19:48:26.529Z"
   },
   {
    "duration": 0,
    "start_time": "2025-05-01T19:48:26.531Z"
   },
   {
    "duration": 0,
    "start_time": "2025-05-01T19:48:26.532Z"
   },
   {
    "duration": 0,
    "start_time": "2025-05-01T19:48:26.533Z"
   },
   {
    "duration": 0,
    "start_time": "2025-05-01T19:48:26.535Z"
   },
   {
    "duration": 0,
    "start_time": "2025-05-01T19:48:26.536Z"
   },
   {
    "duration": 0,
    "start_time": "2025-05-01T19:48:26.537Z"
   },
   {
    "duration": 0,
    "start_time": "2025-05-01T19:48:26.538Z"
   },
   {
    "duration": 0,
    "start_time": "2025-05-01T19:48:26.539Z"
   },
   {
    "duration": 0,
    "start_time": "2025-05-01T19:48:26.540Z"
   },
   {
    "duration": 0,
    "start_time": "2025-05-01T19:48:26.604Z"
   },
   {
    "duration": 62,
    "start_time": "2025-05-01T19:49:07.998Z"
   },
   {
    "duration": 1237,
    "start_time": "2025-05-01T19:50:02.149Z"
   },
   {
    "duration": 1645,
    "start_time": "2025-05-01T19:50:03.388Z"
   },
   {
    "duration": 22,
    "start_time": "2025-05-01T19:50:05.035Z"
   },
   {
    "duration": 15,
    "start_time": "2025-05-01T19:50:05.059Z"
   },
   {
    "duration": 61,
    "start_time": "2025-05-01T19:50:05.076Z"
   },
   {
    "duration": 83,
    "start_time": "2025-05-01T19:50:05.139Z"
   },
   {
    "duration": 76,
    "start_time": "2025-05-01T19:50:05.225Z"
   },
   {
    "duration": 9,
    "start_time": "2025-05-01T19:50:05.303Z"
   },
   {
    "duration": 22,
    "start_time": "2025-05-01T19:50:05.314Z"
   },
   {
    "duration": 150,
    "start_time": "2025-05-01T19:50:05.338Z"
   },
   {
    "duration": 49,
    "start_time": "2025-05-01T19:50:05.490Z"
   },
   {
    "duration": 44,
    "start_time": "2025-05-01T19:50:05.541Z"
   },
   {
    "duration": 70,
    "start_time": "2025-05-01T19:50:05.587Z"
   },
   {
    "duration": 379,
    "start_time": "2025-05-01T19:50:05.660Z"
   },
   {
    "duration": 6,
    "start_time": "2025-05-01T19:50:06.041Z"
   },
   {
    "duration": 61,
    "start_time": "2025-05-01T19:50:06.051Z"
   },
   {
    "duration": 27,
    "start_time": "2025-05-01T19:50:06.114Z"
   },
   {
    "duration": 3,
    "start_time": "2025-05-01T19:50:06.143Z"
   },
   {
    "duration": 25,
    "start_time": "2025-05-01T19:50:06.148Z"
   },
   {
    "duration": 189,
    "start_time": "2025-05-01T19:50:06.175Z"
   },
   {
    "duration": 7,
    "start_time": "2025-05-01T19:50:06.366Z"
   },
   {
    "duration": 43,
    "start_time": "2025-05-01T19:50:06.375Z"
   },
   {
    "duration": 31,
    "start_time": "2025-05-01T19:50:06.420Z"
   },
   {
    "duration": 46,
    "start_time": "2025-05-01T19:50:06.453Z"
   },
   {
    "duration": 296,
    "start_time": "2025-05-01T19:50:06.501Z"
   },
   {
    "duration": 13,
    "start_time": "2025-05-01T19:50:06.799Z"
   },
   {
    "duration": 54,
    "start_time": "2025-05-01T19:50:06.814Z"
   },
   {
    "duration": 33,
    "start_time": "2025-05-01T19:50:06.870Z"
   },
   {
    "duration": 98,
    "start_time": "2025-05-01T19:50:06.904Z"
   },
   {
    "duration": 18,
    "start_time": "2025-05-01T19:50:07.004Z"
   },
   {
    "duration": 87,
    "start_time": "2025-05-01T19:50:07.024Z"
   },
   {
    "duration": 10,
    "start_time": "2025-05-01T19:50:07.114Z"
   },
   {
    "duration": 76,
    "start_time": "2025-05-01T19:50:07.126Z"
   },
   {
    "duration": 34,
    "start_time": "2025-05-01T19:50:07.203Z"
   },
   {
    "duration": 58,
    "start_time": "2025-05-01T19:50:07.239Z"
   },
   {
    "duration": 4,
    "start_time": "2025-05-01T19:50:07.299Z"
   },
   {
    "duration": 78,
    "start_time": "2025-05-01T19:50:07.304Z"
   },
   {
    "duration": 63,
    "start_time": "2025-05-01T19:50:07.384Z"
   },
   {
    "duration": 10,
    "start_time": "2025-05-01T19:50:07.448Z"
   },
   {
    "duration": 15,
    "start_time": "2025-05-01T19:50:07.460Z"
   },
   {
    "duration": 142,
    "start_time": "2025-05-01T19:50:07.480Z"
   },
   {
    "duration": 14,
    "start_time": "2025-05-01T19:50:07.624Z"
   },
   {
    "duration": 27,
    "start_time": "2025-05-01T19:50:07.640Z"
   },
   {
    "duration": 48,
    "start_time": "2025-05-01T19:50:07.668Z"
   },
   {
    "duration": 6,
    "start_time": "2025-05-01T19:50:07.718Z"
   },
   {
    "duration": 24,
    "start_time": "2025-05-01T19:50:07.726Z"
   },
   {
    "duration": 21,
    "start_time": "2025-05-01T19:50:07.751Z"
   },
   {
    "duration": 42,
    "start_time": "2025-05-01T19:50:07.774Z"
   },
   {
    "duration": 18,
    "start_time": "2025-05-01T19:50:07.819Z"
   },
   {
    "duration": 6,
    "start_time": "2025-05-01T19:50:07.839Z"
   },
   {
    "duration": 34,
    "start_time": "2025-05-01T19:50:07.846Z"
   },
   {
    "duration": 23,
    "start_time": "2025-05-01T19:50:07.882Z"
   },
   {
    "duration": 25,
    "start_time": "2025-05-01T19:50:07.907Z"
   },
   {
    "duration": 11,
    "start_time": "2025-05-01T19:50:07.934Z"
   },
   {
    "duration": 4,
    "start_time": "2025-05-01T19:50:07.947Z"
   },
   {
    "duration": 7,
    "start_time": "2025-05-01T19:50:07.952Z"
   },
   {
    "duration": 117,
    "start_time": "2025-05-01T19:50:07.960Z"
   },
   {
    "duration": 65,
    "start_time": "2025-05-01T19:50:08.078Z"
   },
   {
    "duration": 6,
    "start_time": "2025-05-01T19:50:08.145Z"
   },
   {
    "duration": 48,
    "start_time": "2025-05-01T19:50:08.153Z"
   },
   {
    "duration": 5,
    "start_time": "2025-05-01T19:50:08.203Z"
   },
   {
    "duration": 115,
    "start_time": "2025-05-01T19:50:08.212Z"
   },
   {
    "duration": 34,
    "start_time": "2025-05-01T19:50:08.329Z"
   },
   {
    "duration": 14,
    "start_time": "2025-05-01T19:50:08.365Z"
   },
   {
    "duration": 8,
    "start_time": "2025-05-01T19:50:08.381Z"
   },
   {
    "duration": 10,
    "start_time": "2025-05-01T19:50:08.391Z"
   },
   {
    "duration": 23,
    "start_time": "2025-05-01T19:50:08.403Z"
   },
   {
    "duration": 19,
    "start_time": "2025-05-01T19:50:08.428Z"
   },
   {
    "duration": 5,
    "start_time": "2025-05-01T19:50:08.448Z"
   },
   {
    "duration": 14,
    "start_time": "2025-05-01T19:50:08.454Z"
   },
   {
    "duration": 5,
    "start_time": "2025-05-01T19:50:08.470Z"
   },
   {
    "duration": 21,
    "start_time": "2025-05-01T19:51:30.292Z"
   },
   {
    "duration": 8,
    "start_time": "2025-05-01T19:51:42.251Z"
   },
   {
    "duration": 8,
    "start_time": "2025-05-01T19:51:49.315Z"
   },
   {
    "duration": 7,
    "start_time": "2025-05-01T19:56:01.454Z"
   },
   {
    "duration": 24,
    "start_time": "2025-05-01T19:56:10.398Z"
   },
   {
    "duration": 37,
    "start_time": "2025-05-01T19:56:20.958Z"
   },
   {
    "duration": 39,
    "start_time": "2025-05-01T19:56:28.183Z"
   },
   {
    "duration": 5,
    "start_time": "2025-05-01T19:57:02.855Z"
   },
   {
    "duration": 19,
    "start_time": "2025-05-01T19:57:24.360Z"
   },
   {
    "duration": 141,
    "start_time": "2025-05-01T19:57:46.488Z"
   },
   {
    "duration": 8,
    "start_time": "2025-05-01T19:58:00.225Z"
   },
   {
    "duration": 8,
    "start_time": "2025-05-01T19:58:02.744Z"
   },
   {
    "duration": 8,
    "start_time": "2025-05-01T19:58:14.288Z"
   },
   {
    "duration": 8,
    "start_time": "2025-05-01T19:58:18.888Z"
   },
   {
    "duration": 8,
    "start_time": "2025-05-01T19:58:22.192Z"
   },
   {
    "duration": 10,
    "start_time": "2025-05-01T19:58:26.120Z"
   },
   {
    "duration": 5,
    "start_time": "2025-05-01T19:58:31.000Z"
   },
   {
    "duration": 74,
    "start_time": "2025-05-01T19:58:36.209Z"
   },
   {
    "duration": 67,
    "start_time": "2025-05-01T19:58:38.304Z"
   },
   {
    "duration": 58,
    "start_time": "2025-05-01T19:58:46.297Z"
   },
   {
    "duration": 4,
    "start_time": "2025-05-01T19:58:50.169Z"
   },
   {
    "duration": 63,
    "start_time": "2025-05-01T19:58:52.089Z"
   },
   {
    "duration": 54,
    "start_time": "2025-05-01T19:58:59.808Z"
   },
   {
    "duration": 57,
    "start_time": "2025-05-01T19:59:06.081Z"
   },
   {
    "duration": 9,
    "start_time": "2025-05-01T19:59:11.610Z"
   },
   {
    "duration": 16,
    "start_time": "2025-05-01T19:59:22.714Z"
   },
   {
    "duration": 19,
    "start_time": "2025-05-01T19:59:27.514Z"
   },
   {
    "duration": 13,
    "start_time": "2025-05-01T19:59:32.250Z"
   },
   {
    "duration": 13,
    "start_time": "2025-05-01T19:59:35.618Z"
   },
   {
    "duration": 12,
    "start_time": "2025-05-01T19:59:39.265Z"
   },
   {
    "duration": 5,
    "start_time": "2025-05-01T19:59:46.386Z"
   },
   {
    "duration": 5,
    "start_time": "2025-05-01T19:59:56.241Z"
   },
   {
    "duration": 4,
    "start_time": "2025-05-01T20:00:00.097Z"
   },
   {
    "duration": 5,
    "start_time": "2025-05-01T20:00:02.018Z"
   },
   {
    "duration": 20,
    "start_time": "2025-05-01T20:00:10.490Z"
   },
   {
    "duration": 17,
    "start_time": "2025-05-01T20:00:13.385Z"
   },
   {
    "duration": 7,
    "start_time": "2025-05-01T20:00:16.321Z"
   },
   {
    "duration": 4,
    "start_time": "2025-05-01T20:00:23.362Z"
   },
   {
    "duration": 5,
    "start_time": "2025-05-01T20:00:26.402Z"
   },
   {
    "duration": 1266,
    "start_time": "2025-05-01T20:00:41.102Z"
   },
   {
    "duration": 1790,
    "start_time": "2025-05-01T20:00:42.370Z"
   },
   {
    "duration": 20,
    "start_time": "2025-05-01T20:00:44.161Z"
   },
   {
    "duration": 4,
    "start_time": "2025-05-01T20:00:44.183Z"
   },
   {
    "duration": 11,
    "start_time": "2025-05-01T20:00:44.210Z"
   },
   {
    "duration": 8,
    "start_time": "2025-05-01T20:00:44.223Z"
   },
   {
    "duration": 54,
    "start_time": "2025-05-01T20:00:44.233Z"
   },
   {
    "duration": 7,
    "start_time": "2025-05-01T20:00:44.288Z"
   },
   {
    "duration": 21,
    "start_time": "2025-05-01T20:00:44.306Z"
   },
   {
    "duration": 181,
    "start_time": "2025-05-01T20:00:44.329Z"
   },
   {
    "duration": 42,
    "start_time": "2025-05-01T20:00:44.513Z"
   },
   {
    "duration": 73,
    "start_time": "2025-05-01T20:00:44.557Z"
   },
   {
    "duration": 37,
    "start_time": "2025-05-01T20:00:44.631Z"
   },
   {
    "duration": 446,
    "start_time": "2025-05-01T20:00:44.672Z"
   },
   {
    "duration": 6,
    "start_time": "2025-05-01T20:00:45.120Z"
   },
   {
    "duration": 142,
    "start_time": "2025-05-01T20:00:45.128Z"
   },
   {
    "duration": 35,
    "start_time": "2025-05-01T20:00:45.272Z"
   },
   {
    "duration": 57,
    "start_time": "2025-05-01T20:00:45.309Z"
   },
   {
    "duration": 31,
    "start_time": "2025-05-01T20:00:45.367Z"
   },
   {
    "duration": 224,
    "start_time": "2025-05-01T20:00:45.400Z"
   },
   {
    "duration": 7,
    "start_time": "2025-05-01T20:00:45.626Z"
   },
   {
    "duration": 28,
    "start_time": "2025-05-01T20:00:45.634Z"
   },
   {
    "duration": 36,
    "start_time": "2025-05-01T20:00:45.663Z"
   },
   {
    "duration": 8,
    "start_time": "2025-05-01T20:00:45.701Z"
   },
   {
    "duration": 328,
    "start_time": "2025-05-01T20:00:45.711Z"
   },
   {
    "duration": 14,
    "start_time": "2025-05-01T20:00:46.041Z"
   },
   {
    "duration": 87,
    "start_time": "2025-05-01T20:00:46.058Z"
   },
   {
    "duration": 9,
    "start_time": "2025-05-01T20:00:46.147Z"
   },
   {
    "duration": 21,
    "start_time": "2025-05-01T20:00:46.158Z"
   },
   {
    "duration": 12,
    "start_time": "2025-05-01T20:00:46.181Z"
   },
   {
    "duration": 97,
    "start_time": "2025-05-01T20:00:46.195Z"
   },
   {
    "duration": 6,
    "start_time": "2025-05-01T20:00:46.294Z"
   },
   {
    "duration": 8,
    "start_time": "2025-05-01T20:00:46.302Z"
   },
   {
    "duration": 18,
    "start_time": "2025-05-01T20:00:46.313Z"
   },
   {
    "duration": 58,
    "start_time": "2025-05-01T20:00:46.333Z"
   },
   {
    "duration": 4,
    "start_time": "2025-05-01T20:00:46.393Z"
   },
   {
    "duration": 91,
    "start_time": "2025-05-01T20:00:46.398Z"
   },
   {
    "duration": 49,
    "start_time": "2025-05-01T20:00:46.491Z"
   },
   {
    "duration": 11,
    "start_time": "2025-05-01T20:00:46.542Z"
   },
   {
    "duration": 16,
    "start_time": "2025-05-01T20:00:46.554Z"
   },
   {
    "duration": 152,
    "start_time": "2025-05-01T20:00:46.574Z"
   },
   {
    "duration": 99,
    "start_time": "2025-05-01T20:00:46.728Z"
   },
   {
    "duration": 19,
    "start_time": "2025-05-01T20:00:46.830Z"
   },
   {
    "duration": 30,
    "start_time": "2025-05-01T20:00:46.851Z"
   },
   {
    "duration": 6,
    "start_time": "2025-05-01T20:00:46.883Z"
   },
   {
    "duration": 33,
    "start_time": "2025-05-01T20:00:46.891Z"
   },
   {
    "duration": 13,
    "start_time": "2025-05-01T20:00:46.931Z"
   },
   {
    "duration": 22,
    "start_time": "2025-05-01T20:00:46.947Z"
   },
   {
    "duration": 37,
    "start_time": "2025-05-01T20:00:46.971Z"
   },
   {
    "duration": 5,
    "start_time": "2025-05-01T20:00:47.010Z"
   },
   {
    "duration": 16,
    "start_time": "2025-05-01T20:00:47.016Z"
   },
   {
    "duration": 14,
    "start_time": "2025-05-01T20:00:47.034Z"
   },
   {
    "duration": 4,
    "start_time": "2025-05-01T20:00:47.050Z"
   },
   {
    "duration": 10,
    "start_time": "2025-05-01T20:00:47.056Z"
   },
   {
    "duration": 21,
    "start_time": "2025-05-01T20:00:47.067Z"
   },
   {
    "duration": 13,
    "start_time": "2025-05-01T20:00:47.090Z"
   },
   {
    "duration": 14,
    "start_time": "2025-05-01T20:00:47.105Z"
   },
   {
    "duration": 36,
    "start_time": "2025-05-01T20:00:47.121Z"
   },
   {
    "duration": 7,
    "start_time": "2025-05-01T20:00:47.158Z"
   },
   {
    "duration": 91,
    "start_time": "2025-05-01T20:00:47.166Z"
   },
   {
    "duration": 25,
    "start_time": "2025-05-01T20:00:47.259Z"
   },
   {
    "duration": 45,
    "start_time": "2025-05-01T20:00:47.285Z"
   },
   {
    "duration": 23,
    "start_time": "2025-05-01T20:00:47.332Z"
   },
   {
    "duration": 27,
    "start_time": "2025-05-01T20:00:47.357Z"
   },
   {
    "duration": 15,
    "start_time": "2025-05-01T20:00:47.386Z"
   },
   {
    "duration": 13,
    "start_time": "2025-05-01T20:00:47.402Z"
   },
   {
    "duration": 17,
    "start_time": "2025-05-01T20:00:47.417Z"
   },
   {
    "duration": 13,
    "start_time": "2025-05-01T20:00:47.435Z"
   },
   {
    "duration": 16,
    "start_time": "2025-05-01T20:00:47.449Z"
   },
   {
    "duration": 17,
    "start_time": "2025-05-01T20:00:47.466Z"
   },
   {
    "duration": 20,
    "start_time": "2025-05-01T20:00:47.485Z"
   }
  ],
  "colab": {
   "provenance": [],
   "toc_visible": true
  },
  "kernelspec": {
   "display_name": "Python 3",
   "language": "python",
   "name": "python3"
  },
  "language_info": {
   "codemirror_mode": {
    "name": "ipython",
    "version": 3
   },
   "file_extension": ".py",
   "mimetype": "text/x-python",
   "name": "python",
   "nbconvert_exporter": "python",
   "pygments_lexer": "ipython3",
   "version": "3.13.3"
  },
  "toc": {
   "base_numbering": 1,
   "nav_menu": {},
   "number_sections": true,
   "sideBar": true,
   "skip_h1_title": true,
   "title_cell": "Table of Contents",
   "title_sidebar": "Contents",
   "toc_cell": false,
   "toc_position": {
    "height": "calc(100% - 180px)",
    "left": "10px",
    "top": "150px",
    "width": "165px"
   },
   "toc_section_display": true,
   "toc_window_display": true
  }
 },
 "nbformat": 4,
 "nbformat_minor": 5
}
