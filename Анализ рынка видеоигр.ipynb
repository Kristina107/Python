{
 "cells": [
  {
   "cell_type": "markdown",
   "id": "e06910dd",
   "metadata": {
    "id": "e06910dd"
   },
   "source": [
    "#  <font color='#6A5ACD'>Aнализ рынка видеоигр</font>\n",
    "\n",
    "- Автор: Романовская Кристина\n",
    "- Дата: 29.01.2025"
   ]
  },
  {
   "cell_type": "markdown",
   "id": "4149134c",
   "metadata": {
    "id": "4149134c"
   },
   "source": [
    "###  <font color='#00FFFF'>Цели и задачи проекта</font>\n",
    "\n",
    "####   <font color='#00FA9A'> Цель проекта:</font>\n",
    "Основная цель проекта заключается в проведении всестороннего анализа рынка видеоигр в период с 2000 по 2013 год на основе данных о продажах, оценках пользователей и критиков, а также информации о платформах и жанрах игр, с целью выявления ключевых трендов, характеристик и взаимосвязей, определяющих динамику развития индустрии. Мы стремимся получить структурированное представление о том, как различные факторы (оценки, платформы, жанры) влияли на рынок видеоигр в этот период.\n",
    "\n",
    "####   <font color='#00FA9A'> Задачи проекта:</font>\n",
    "\n",
    "1.  Подготовка данных:\n",
    "    *   Загрузка исходного датасета new_games.csv.\n",
    "    *   Предобработка данных: обработка пропусков, преобразование типов данных, нормализация текстовых значений и удаление дубликатов.\n",
    "    *   Выделение среза данных df_actual за период 2000-2013 гг.\n",
    "2.  Категоризация данных:\n",
    "    *   Создание категорий для оценок пользователей и критиков: \"высокая\", \"средняя\", \"низкая\" и \"не определено\".\n",
    "    *   Добавление столбцов user_score_category и critic_score_category.\n",
    "3.  Анализ данных:\n",
    "    *   Анализ распределения игр по категориям оценок.\n",
    "    *   Определение топ-7 платформ по количеству выпущенных игр.\n",
    "4.  Интерпретация результатов:\n",
    "    *   Формулирование выводов на основе проведенного анализа, выявление основных трендов и взаимосвязей.\n",
    "    *   Описание характеристик среза данных df_actual и добавленных столбцов.\n"
   ]
  },
  {
   "cell_type": "markdown",
   "id": "728986ea",
   "metadata": {
    "id": "728986ea"
   },
   "source": [
    "###  <font color='#00FFFF'> Описание данных</font>\n",
    "\n",
    "Данные /datasets/new_games.csv содержат информацию о продажах игр разных жанров и платформ, а также пользовательские и экспертные оценки игр:\n",
    "- Name — название игры.\n",
    "- Platform — название платформы.\n",
    "- Year of Release — год выпуска игры.\n",
    "- Genre — жанр игры.\n",
    "- NA sales — продажи в Северной Америке (в миллионах проданных копий).\n",
    "- EU sales — продажи в Европе (в миллионах проданных копий).\n",
    "- JP sales — продажи в Японии (в миллионах проданных копий).\n",
    "- Other sales — продажи в других странах (в миллионах проданных копий).\n",
    "- Critic Score — оценка критиков (от 0 до 100).\n",
    "- User Score — оценка пользователей (от 0 до 10).\n",
    "- Rating — рейтинг организации ESRB (англ. Entertainment Software Rating Board). Эта ассоциация определяет рейтинг компьютерных игр и присваивает им подходящую возрастную категорию."
   ]
  },
  {
   "cell_type": "markdown",
   "id": "4fecaf95",
   "metadata": {
    "id": "4fecaf95"
   },
   "source": [
    "###  <font color='#00FFFF'> Содержимое проекта</font>\n",
    "\n",
    "Основными шагами проекта были следующие:\n",
    "\n",
    "1.  <a href=\"#part1\">Загрузка и предобработка данных:</a>\n",
    "    *   Импорт необходимых библиотек (pandas, matplotlib).\n",
    "    *   Загрузка данных из файла new_games.csv.\n",
    "    *   Преобразование названий столбцов к snake_case.\n",
    "    *   Обработка пропусков и преобразование типов данных.\n",
    "    *   Нормализация текстовых значений.\n",
    "    *   Удаление явных дубликатов.\n",
    "\n",
    "2.  <a href=\"#part2\">Формирование актуального среза данных:</a>\n",
    "    *   Выделение данных за период с 2000 по 2013 год (создание df_actual).\n",
    "\n",
    "3.  <a href=\"#part3\">Категоризация данных:</a>\n",
    "    *   Определение функции для категоризации оценок пользователей (categorize_user_score).\n",
    "    *   Применение функции к столбцу user_score и создание столбца user_score_category.\n",
    "    *   Определение функции для категоризации оценок критиков (categorize_critic_score).\n",
    "    *   Применение функции к столбцу critic_score и создание столбца critic_score_category.\n",
    "\n",
    "4.  <a href=\"#part4\">Анализ данных и визуализация:</a>\n",
    "    *   Группировка данных по категориям оценок и подсчет количества игр в каждой категории (с использованием value_counts() и groupby()).\n",
    "    *   Группировка данных по платформам и подсчет количества выпущенных игр.\n",
    "    *   Сортировка платформ по убыванию количества выпущенных игр и выбор топ-7.\n",
    "\n",
    "5.  <a href=\"#part5\">Формулирование итоговых выводов:</a>\n",
    "    *   Описание среза данных df_actual и добавленных полей.\n",
    "    *   Интерпретация полученных результатов.\n",
    "    *   Формулировка общих выводов о рынке видеоигр в исследуемый период.\n",
    "\n",
    "\n",
    "---"
   ]
  },
  {
   "cell_type": "markdown",
   "id": "6f7d21d6",
   "metadata": {
    "id": "6f7d21d6"
   },
   "source": [
    "## 1. <a href=\"#part1\">Загрузка данных и знакомство с ними </a>"
   ]
  },
  {
   "cell_type": "code",
   "execution_count": 1,
   "id": "ebb66dc5",
   "metadata": {
    "id": "ebb66dc5"
   },
   "outputs": [],
   "source": [
    "import pandas as pd\n",
    "import matplotlib.pyplot as plt"
   ]
  },
  {
   "cell_type": "code",
   "execution_count": 2,
   "id": "ce87c1db",
   "metadata": {
    "id": "ce87c1db"
   },
   "outputs": [],
   "source": [
    "# Выгружаем данные из датасета new_games.csv в датафрейм games\n",
    "games = pd.read_csv('https://code.s3.yandex.net/datasets/new_games.csv')"
   ]
  },
  {
   "cell_type": "code",
   "execution_count": 3,
   "id": "2d3439ac",
   "metadata": {},
   "outputs": [],
   "source": [
    "# Сохраняем исходный размер датафрейма\n",
    "initial_size = games.shape[0]"
   ]
  },
  {
   "cell_type": "code",
   "execution_count": 4,
   "id": "3937acf7",
   "metadata": {
    "id": "3937acf7"
   },
   "outputs": [
    {
     "name": "stdout",
     "output_type": "stream",
     "text": [
      "<class 'pandas.core.frame.DataFrame'>\n",
      "RangeIndex: 16956 entries, 0 to 16955\n",
      "Data columns (total 11 columns):\n",
      " #   Column           Non-Null Count  Dtype  \n",
      "---  ------           --------------  -----  \n",
      " 0   Name             16954 non-null  object \n",
      " 1   Platform         16956 non-null  object \n",
      " 2   Year of Release  16681 non-null  float64\n",
      " 3   Genre            16954 non-null  object \n",
      " 4   NA sales         16956 non-null  float64\n",
      " 5   EU sales         16956 non-null  object \n",
      " 6   JP sales         16956 non-null  object \n",
      " 7   Other sales      16956 non-null  float64\n",
      " 8   Critic Score     8242 non-null   float64\n",
      " 9   User Score       10152 non-null  object \n",
      " 10  Rating           10085 non-null  object \n",
      "dtypes: float64(4), object(7)\n",
      "memory usage: 1.4+ MB\n"
     ]
    }
   ],
   "source": [
    "# Выводим информацию о датафрейме\n",
    "games.info()"
   ]
  },
  {
   "cell_type": "markdown",
   "id": "78f47342",
   "metadata": {},
   "source": [
    "####  <font color='#00FFFF'>Выводы о полученных данных, основанные на результатах выполнения games.info(): </font>\n",
    "\n",
    " <font color='#00FA9A'>Объем данных:</font>\n",
    "\n",
    "- Нам предоставили DataFrame, содержащий 16715 строк и 11 столбцов. Это достаточно большой объем данных, который позволяет проводить статистический анализ и выявлять закономерности.\n",
    "\n",
    " <font color='#00FA9A'>Соответствие описанию:</font>\n",
    "\n",
    "- Из предоставленной информации мы можем заключить, что данные соответствуют описанию набора данных об играх. У нас есть информация об играх (название, платформа, год выпуска), их жанре, продажах в различных регионах, оценках критиков и пользователей, а также возрастном рейтинге.\n",
    "\n",
    " <font color='#00FA9A'>Пропуски:</font>\n",
    "\n",
    "-   Да, в данных есть пропуски. Заметно, что в столбцах Name, Year_of_Release, Genre, Critic_Score, User_Score и Rating количество непустых значений меньше 16715. \n",
    "-   Name и Genre имеют совсем небольшое количество пропусков.\n",
    "-   Year_of_Release также имеет относительно небольшое количество пропусков, но их может быть достаточно, чтобы повлиять на некоторые выводы.\n",
    "-    Critic_Score, User_Score, и Rating содержат большое количество пропусков, что может потребовать особой обработки.\n",
    "\n",
    " <font color='#00FA9A'>Типы данных:</font>\n",
    "\n",
    "- В основном типы данных соответствуют ожидаемым:\n",
    "- Столбцы с продажами (NA_sales, EU_sales, JP_sales, Other_sales) имеют числовой тип float64, что логично.\n",
    "- Столбцы оценок (Critic_Score, User_Score) также имеют тип float64, что также соответствует их природе.\n",
    "- Столбец Year_of_Release имеет тип float64, хотя год выпуска - это, как правило, целочисленное значение, поэтому позже имеет смысл изменить тип.\n",
    "- Столбцы с текстовой информацией (Name, Platform, Genre, Rating) имеют тип object.\n",
    "- Неточность: Year_of_Release лучше всего представить как целочисленный тип данных int."
   ]
  },
  {
   "cell_type": "markdown",
   "id": "ef830209",
   "metadata": {},
   "source": [
    " <font color='#6A5ACD'>Другие особенности, на которые стоит обратить внимание при предобработке:</font>\n",
    "\n",
    "1.  <font color='#00FA9A'>Названия столбцов:</font>\n",
    "- Названия столбцов написаны в стиле snake_case, что является стандартным подходом для работы в Python, и это хорошо.\n",
    "- Все названия отражают содержимое данных, поэтому не требуется их переименование.\n",
    "\n",
    "2.  <font color='#00FA9A'>Пропуски:</font>\n",
    "- Необходимо решить, как обрабатывать пропуски в каждом столбце. Например, пропуски в Year_of_Release можно заполнить на основе других данных (если это возможно), либо удалить эти строки, если их количество невелико.\n",
    "- Большое количество пропусков в столбцах Critic_Score, User_Score и Rating может потребовать более сложного подхода, например, заполнение медианными значениями или использование алгоритмов машинного обучения для предсказания этих значений. Удаление таких строк может привести к значительной потере данных.\n",
    "\n",
    "3.  <font color='#00FA9A'>Возможные дубликаты:</font>\n",
    "- Стоит проверить наличие полных дубликатов строк, особенно из-за наличия пропусков в столбцах, которые могут их скрывать. Дубликаты могли появиться из-за ошибок сбора данных.\n",
    "\n",
    "4.  <font color='#00FA9A'>Столбец User_Score: </font>\n",
    "- Стоит проверить уникальные значения в столбце User_Score на наличие нетипичных значений, например, \"tbd\" или \"nan\", чтобы решить, как с ними работать. \"tbd\" означает \"to be determined\" и, по сути, является пропуском, который нужно обработать."
   ]
  },
  {
   "cell_type": "markdown",
   "id": "d51d4ba0",
   "metadata": {},
   "source": [
    "<font color='#00FFFF'>Предварительные выводы: </font>\n",
    "\n",
    "Предоставленный набор данных требует некоторой предобработки. Основными задачами являются:\n",
    "1. Обработка пропусков данных в разных столбцах.\n",
    "2. Проверка и удаление дубликатов, если таковые имеются.\n",
    "3. Преобразование типа данных столбца Year_of_Release в int и обработка нетипичных значений User_Score.\n",
    "4. Анализ значений User_Score на наличие нетипичных значений и их корректная обработка.\n",
    "\n",
    "После проведения предобработки мы сможем приступить к более детальному анализу данных и выявлению закономерностей."
   ]
  },
  {
   "cell_type": "markdown",
   "id": "774bf76e",
   "metadata": {
    "id": "774bf76e"
   },
   "source": [
    "---\n",
    "\n",
    "## 2.  <a href=\"#part2\">Проверка ошибок в данных и их предобработка</a>\n",
    "\n",
    "\n",
    "### 2.1. Названия, или метки, столбцов датафрейма"
   ]
  },
  {
   "cell_type": "code",
   "execution_count": 5,
   "id": "b9276a2b",
   "metadata": {
    "id": "b9276a2b"
   },
   "outputs": [
    {
     "data": {
      "text/plain": [
       "'Исходные названия столбцов:'"
      ]
     },
     "metadata": {},
     "output_type": "display_data"
    },
    {
     "data": {
      "text/plain": [
       "['Name',\n",
       " 'Platform',\n",
       " 'Year of Release',\n",
       " 'Genre',\n",
       " 'NA sales',\n",
       " 'EU sales',\n",
       " 'JP sales',\n",
       " 'Other sales',\n",
       " 'Critic Score',\n",
       " 'User Score',\n",
       " 'Rating']"
      ]
     },
     "metadata": {},
     "output_type": "display_data"
    }
   ],
   "source": [
    "# Выводим названия всех столбцов\n",
    "display(\"Исходные названия столбцов:\", games.columns.tolist())"
   ]
  },
  {
   "cell_type": "code",
   "execution_count": 6,
   "id": "d554563c",
   "metadata": {
    "id": "d554563c"
   },
   "outputs": [],
   "source": [
    "# Приводим названия столбцов к snake_case\n",
    "games.columns = games.columns.str.lower().str.replace(' ', '_')"
   ]
  },
  {
   "cell_type": "code",
   "execution_count": 7,
   "id": "87b573dd",
   "metadata": {
    "id": "87b573dd"
   },
   "outputs": [
    {
     "data": {
      "text/plain": [
       "'Названия столбцов после преобразования:'"
      ]
     },
     "metadata": {},
     "output_type": "display_data"
    },
    {
     "data": {
      "text/plain": [
       "['name',\n",
       " 'platform',\n",
       " 'year_of_release',\n",
       " 'genre',\n",
       " 'na_sales',\n",
       " 'eu_sales',\n",
       " 'jp_sales',\n",
       " 'other_sales',\n",
       " 'critic_score',\n",
       " 'user_score',\n",
       " 'rating']"
      ]
     },
     "metadata": {},
     "output_type": "display_data"
    }
   ],
   "source": [
    "# Выводим названия столбцов после преобразования\n",
    "display(\"Названия столбцов после преобразования:\", games.columns.tolist())"
   ]
  },
  {
   "cell_type": "markdown",
   "id": "41bc6bf8",
   "metadata": {
    "id": "41bc6bf8"
   },
   "source": [
    "### 2.2. Типы данных"
   ]
  },
  {
   "cell_type": "code",
   "execution_count": 8,
   "id": "8adaac81",
   "metadata": {
    "id": "8adaac81"
   },
   "outputs": [
    {
     "data": {
      "text/plain": [
       "'Типы данных до преобразования:'"
      ]
     },
     "metadata": {},
     "output_type": "display_data"
    },
    {
     "data": {
      "text/plain": [
       "name                object\n",
       "platform            object\n",
       "year_of_release    float64\n",
       "genre               object\n",
       "na_sales           float64\n",
       "eu_sales            object\n",
       "jp_sales            object\n",
       "other_sales        float64\n",
       "critic_score       float64\n",
       "user_score          object\n",
       "rating              object\n",
       "dtype: object"
      ]
     },
     "metadata": {},
     "output_type": "display_data"
    }
   ],
   "source": [
    "# Выводим информацию о типах данных до преобразования\n",
    "display(\"Типы данных до преобразования:\")\n",
    "display(games.dtypes)"
   ]
  },
  {
   "cell_type": "code",
   "execution_count": null,
   "id": "e8412c01",
   "metadata": {
    "id": "e8412c01"
   },
   "outputs": [],
   "source": [
    "# Обработка пропусков в 'year_of_release'\n",
    "# Заполняем пропуски значением -1 для последующего преобразования типов\n",
    "games['year_of_release'] = games['year_of_release'].fillna(-1)"
   ]
  },
  {
   "cell_type": "code",
   "execution_count": null,
   "id": "9e53cff4",
   "metadata": {
    "id": "9e53cff4"
   },
   "outputs": [],
   "source": [
    "# Преобразуем 'year_of_release' в int (после заполнения пропусков)\n",
    "games['year_of_release'] = games['year_of_release'].astype('int')"
   ]
  },
  {
   "cell_type": "code",
   "execution_count": 11,
   "id": "40cd5706",
   "metadata": {},
   "outputs": [],
   "source": [
    "# Обработка 'user_score' и его преобразование к типу float\n",
    "# Сначала заменим значения 'tbd' на NaN, потом преобразуем в float\n",
    "games['user_score'] = games['user_score'].replace('tbd', float('NaN'))\n",
    "games['user_score'] = games['user_score'].astype(float)"
   ]
  },
  {
   "cell_type": "code",
   "execution_count": 12,
   "id": "c0328cf3",
   "metadata": {},
   "outputs": [
    {
     "data": {
      "text/plain": [
       "'Типы данных после преобразования:'"
      ]
     },
     "metadata": {},
     "output_type": "display_data"
    },
    {
     "data": {
      "text/plain": [
       "name                object\n",
       "platform            object\n",
       "year_of_release      int64\n",
       "genre               object\n",
       "na_sales           float64\n",
       "eu_sales            object\n",
       "jp_sales            object\n",
       "other_sales        float64\n",
       "critic_score       float64\n",
       "user_score         float64\n",
       "rating              object\n",
       "dtype: object"
      ]
     },
     "metadata": {},
     "output_type": "display_data"
    }
   ],
   "source": [
    "# Выводим информацию о типах данных после преобразования\n",
    "display(\"Типы данных после преобразования:\")\n",
    "display(games.dtypes)"
   ]
  },
  {
   "cell_type": "code",
   "execution_count": 13,
   "id": "55540bc7",
   "metadata": {},
   "outputs": [
    {
     "data": {
      "text/plain": [
       "'Первые 5 строк датафрейма:'"
      ]
     },
     "metadata": {},
     "output_type": "display_data"
    },
    {
     "data": {
      "text/html": [
       "<div>\n",
       "<style scoped>\n",
       "    .dataframe tbody tr th:only-of-type {\n",
       "        vertical-align: middle;\n",
       "    }\n",
       "\n",
       "    .dataframe tbody tr th {\n",
       "        vertical-align: top;\n",
       "    }\n",
       "\n",
       "    .dataframe thead th {\n",
       "        text-align: right;\n",
       "    }\n",
       "</style>\n",
       "<table border=\"1\" class=\"dataframe\">\n",
       "  <thead>\n",
       "    <tr style=\"text-align: right;\">\n",
       "      <th></th>\n",
       "      <th>name</th>\n",
       "      <th>platform</th>\n",
       "      <th>year_of_release</th>\n",
       "      <th>genre</th>\n",
       "      <th>na_sales</th>\n",
       "      <th>eu_sales</th>\n",
       "      <th>jp_sales</th>\n",
       "      <th>other_sales</th>\n",
       "      <th>critic_score</th>\n",
       "      <th>user_score</th>\n",
       "      <th>rating</th>\n",
       "    </tr>\n",
       "  </thead>\n",
       "  <tbody>\n",
       "    <tr>\n",
       "      <th>0</th>\n",
       "      <td>Wii Sports</td>\n",
       "      <td>Wii</td>\n",
       "      <td>2006</td>\n",
       "      <td>Sports</td>\n",
       "      <td>41.36</td>\n",
       "      <td>28.96</td>\n",
       "      <td>3.77</td>\n",
       "      <td>8.45</td>\n",
       "      <td>76.0</td>\n",
       "      <td>8.0</td>\n",
       "      <td>E</td>\n",
       "    </tr>\n",
       "    <tr>\n",
       "      <th>1</th>\n",
       "      <td>Super Mario Bros.</td>\n",
       "      <td>NES</td>\n",
       "      <td>1985</td>\n",
       "      <td>Platform</td>\n",
       "      <td>29.08</td>\n",
       "      <td>3.58</td>\n",
       "      <td>6.81</td>\n",
       "      <td>0.77</td>\n",
       "      <td>NaN</td>\n",
       "      <td>NaN</td>\n",
       "      <td>NaN</td>\n",
       "    </tr>\n",
       "    <tr>\n",
       "      <th>2</th>\n",
       "      <td>Mario Kart Wii</td>\n",
       "      <td>Wii</td>\n",
       "      <td>2008</td>\n",
       "      <td>Racing</td>\n",
       "      <td>15.68</td>\n",
       "      <td>12.76</td>\n",
       "      <td>3.79</td>\n",
       "      <td>3.29</td>\n",
       "      <td>82.0</td>\n",
       "      <td>8.3</td>\n",
       "      <td>E</td>\n",
       "    </tr>\n",
       "    <tr>\n",
       "      <th>3</th>\n",
       "      <td>Wii Sports Resort</td>\n",
       "      <td>Wii</td>\n",
       "      <td>2009</td>\n",
       "      <td>Sports</td>\n",
       "      <td>15.61</td>\n",
       "      <td>10.93</td>\n",
       "      <td>3.28</td>\n",
       "      <td>2.95</td>\n",
       "      <td>80.0</td>\n",
       "      <td>8.0</td>\n",
       "      <td>E</td>\n",
       "    </tr>\n",
       "    <tr>\n",
       "      <th>4</th>\n",
       "      <td>Pokemon Red/Pokemon Blue</td>\n",
       "      <td>GB</td>\n",
       "      <td>1996</td>\n",
       "      <td>Role-Playing</td>\n",
       "      <td>11.27</td>\n",
       "      <td>8.89</td>\n",
       "      <td>10.22</td>\n",
       "      <td>1.00</td>\n",
       "      <td>NaN</td>\n",
       "      <td>NaN</td>\n",
       "      <td>NaN</td>\n",
       "    </tr>\n",
       "  </tbody>\n",
       "</table>\n",
       "</div>"
      ],
      "text/plain": [
       "                       name platform  year_of_release         genre  na_sales  \\\n",
       "0                Wii Sports      Wii             2006        Sports     41.36   \n",
       "1         Super Mario Bros.      NES             1985      Platform     29.08   \n",
       "2            Mario Kart Wii      Wii             2008        Racing     15.68   \n",
       "3         Wii Sports Resort      Wii             2009        Sports     15.61   \n",
       "4  Pokemon Red/Pokemon Blue       GB             1996  Role-Playing     11.27   \n",
       "\n",
       "  eu_sales jp_sales  other_sales  critic_score  user_score rating  \n",
       "0    28.96     3.77         8.45          76.0         8.0      E  \n",
       "1     3.58     6.81         0.77           NaN         NaN    NaN  \n",
       "2    12.76     3.79         3.29          82.0         8.3      E  \n",
       "3    10.93     3.28         2.95          80.0         8.0      E  \n",
       "4     8.89    10.22         1.00           NaN         NaN    NaN  "
      ]
     },
     "metadata": {},
     "output_type": "display_data"
    }
   ],
   "source": [
    "# Выводим информацию о первых 5 строках DataFrame для контроля\n",
    "display(\"Первые 5 строк датафрейма:\")\n",
    "display(games.head())"
   ]
  },
  {
   "cell_type": "code",
   "execution_count": 14,
   "id": "5033ee32",
   "metadata": {
    "id": "5033ee32"
   },
   "outputs": [],
   "source": [
    "# Список числовых столбцов для проверки\n",
    "numeric_cols = ['na_sales', 'eu_sales', 'jp_sales', 'other_sales', 'critic_score', 'user_score']"
   ]
  },
  {
   "cell_type": "code",
   "execution_count": 15,
   "id": "3a26fb26",
   "metadata": {
    "id": "3a26fb26"
   },
   "outputs": [],
   "source": [
    "# Функция для замены нечисловых значений на NaN и преобразования к float\n",
    "def convert_to_numeric(df, column):\n",
    "    df[column] = pd.to_numeric(df[column], errors='coerce')\n",
    "    return df"
   ]
  },
  {
   "cell_type": "code",
   "execution_count": 16,
   "id": "11003d69",
   "metadata": {
    "id": "11003d69"
   },
   "outputs": [],
   "source": [
    "# Применяем функцию к каждому числовому столбцу\n",
    "for col in numeric_cols:\n",
    "    games = convert_to_numeric(games, col)"
   ]
  },
  {
   "cell_type": "code",
   "execution_count": 17,
   "id": "41399f07",
   "metadata": {},
   "outputs": [
    {
     "data": {
      "text/plain": [
       "'Типы данных после обработки:'"
      ]
     },
     "metadata": {},
     "output_type": "display_data"
    },
    {
     "data": {
      "text/plain": [
       "name                object\n",
       "platform            object\n",
       "year_of_release      int64\n",
       "genre               object\n",
       "na_sales           float64\n",
       "eu_sales           float64\n",
       "jp_sales           float64\n",
       "other_sales        float64\n",
       "critic_score       float64\n",
       "user_score         float64\n",
       "rating              object\n",
       "dtype: object"
      ]
     },
     "metadata": {},
     "output_type": "display_data"
    }
   ],
   "source": [
    "# Выводим информацию о типах данных после обработки\n",
    "display(\"Типы данных после обработки:\")\n",
    "display(games.dtypes)"
   ]
  },
  {
   "cell_type": "code",
   "execution_count": 18,
   "id": "219efbf4",
   "metadata": {},
   "outputs": [
    {
     "data": {
      "text/plain": [
       "'Первые 5 строк датафрейма:'"
      ]
     },
     "metadata": {},
     "output_type": "display_data"
    },
    {
     "data": {
      "text/html": [
       "<div>\n",
       "<style scoped>\n",
       "    .dataframe tbody tr th:only-of-type {\n",
       "        vertical-align: middle;\n",
       "    }\n",
       "\n",
       "    .dataframe tbody tr th {\n",
       "        vertical-align: top;\n",
       "    }\n",
       "\n",
       "    .dataframe thead th {\n",
       "        text-align: right;\n",
       "    }\n",
       "</style>\n",
       "<table border=\"1\" class=\"dataframe\">\n",
       "  <thead>\n",
       "    <tr style=\"text-align: right;\">\n",
       "      <th></th>\n",
       "      <th>name</th>\n",
       "      <th>platform</th>\n",
       "      <th>year_of_release</th>\n",
       "      <th>genre</th>\n",
       "      <th>na_sales</th>\n",
       "      <th>eu_sales</th>\n",
       "      <th>jp_sales</th>\n",
       "      <th>other_sales</th>\n",
       "      <th>critic_score</th>\n",
       "      <th>user_score</th>\n",
       "      <th>rating</th>\n",
       "    </tr>\n",
       "  </thead>\n",
       "  <tbody>\n",
       "    <tr>\n",
       "      <th>0</th>\n",
       "      <td>Wii Sports</td>\n",
       "      <td>Wii</td>\n",
       "      <td>2006</td>\n",
       "      <td>Sports</td>\n",
       "      <td>41.36</td>\n",
       "      <td>28.96</td>\n",
       "      <td>3.77</td>\n",
       "      <td>8.45</td>\n",
       "      <td>76.0</td>\n",
       "      <td>8.0</td>\n",
       "      <td>E</td>\n",
       "    </tr>\n",
       "    <tr>\n",
       "      <th>1</th>\n",
       "      <td>Super Mario Bros.</td>\n",
       "      <td>NES</td>\n",
       "      <td>1985</td>\n",
       "      <td>Platform</td>\n",
       "      <td>29.08</td>\n",
       "      <td>3.58</td>\n",
       "      <td>6.81</td>\n",
       "      <td>0.77</td>\n",
       "      <td>NaN</td>\n",
       "      <td>NaN</td>\n",
       "      <td>NaN</td>\n",
       "    </tr>\n",
       "    <tr>\n",
       "      <th>2</th>\n",
       "      <td>Mario Kart Wii</td>\n",
       "      <td>Wii</td>\n",
       "      <td>2008</td>\n",
       "      <td>Racing</td>\n",
       "      <td>15.68</td>\n",
       "      <td>12.76</td>\n",
       "      <td>3.79</td>\n",
       "      <td>3.29</td>\n",
       "      <td>82.0</td>\n",
       "      <td>8.3</td>\n",
       "      <td>E</td>\n",
       "    </tr>\n",
       "    <tr>\n",
       "      <th>3</th>\n",
       "      <td>Wii Sports Resort</td>\n",
       "      <td>Wii</td>\n",
       "      <td>2009</td>\n",
       "      <td>Sports</td>\n",
       "      <td>15.61</td>\n",
       "      <td>10.93</td>\n",
       "      <td>3.28</td>\n",
       "      <td>2.95</td>\n",
       "      <td>80.0</td>\n",
       "      <td>8.0</td>\n",
       "      <td>E</td>\n",
       "    </tr>\n",
       "    <tr>\n",
       "      <th>4</th>\n",
       "      <td>Pokemon Red/Pokemon Blue</td>\n",
       "      <td>GB</td>\n",
       "      <td>1996</td>\n",
       "      <td>Role-Playing</td>\n",
       "      <td>11.27</td>\n",
       "      <td>8.89</td>\n",
       "      <td>10.22</td>\n",
       "      <td>1.00</td>\n",
       "      <td>NaN</td>\n",
       "      <td>NaN</td>\n",
       "      <td>NaN</td>\n",
       "    </tr>\n",
       "  </tbody>\n",
       "</table>\n",
       "</div>"
      ],
      "text/plain": [
       "                       name platform  year_of_release         genre  na_sales  \\\n",
       "0                Wii Sports      Wii             2006        Sports     41.36   \n",
       "1         Super Mario Bros.      NES             1985      Platform     29.08   \n",
       "2            Mario Kart Wii      Wii             2008        Racing     15.68   \n",
       "3         Wii Sports Resort      Wii             2009        Sports     15.61   \n",
       "4  Pokemon Red/Pokemon Blue       GB             1996  Role-Playing     11.27   \n",
       "\n",
       "   eu_sales  jp_sales  other_sales  critic_score  user_score rating  \n",
       "0     28.96      3.77         8.45          76.0         8.0      E  \n",
       "1      3.58      6.81         0.77           NaN         NaN    NaN  \n",
       "2     12.76      3.79         3.29          82.0         8.3      E  \n",
       "3     10.93      3.28         2.95          80.0         8.0      E  \n",
       "4      8.89     10.22         1.00           NaN         NaN    NaN  "
      ]
     },
     "metadata": {},
     "output_type": "display_data"
    }
   ],
   "source": [
    "# Выводим первые 5 строк датафрейма\n",
    "display(\"Первые 5 строк датафрейма:\")\n",
    "display(games.head())"
   ]
  },
  {
   "cell_type": "markdown",
   "id": "b39893cb",
   "metadata": {
    "id": "b39893cb"
   },
   "source": [
    "### 2.3. Наличие пропусков в данных"
   ]
  },
  {
   "cell_type": "code",
   "execution_count": 19,
   "id": "0f1c91a8",
   "metadata": {
    "id": "0f1c91a8"
   },
   "outputs": [],
   "source": [
    "# Расчет пропусков в абсолютных значениях\n",
    "missing_abs = games.isnull().sum()"
   ]
  },
  {
   "cell_type": "code",
   "execution_count": 20,
   "id": "86cd1cc1",
   "metadata": {
    "id": "86cd1cc1"
   },
   "outputs": [],
   "source": [
    "# Расчет пропусков в относительных значениях\n",
    "missing_rel = games.isnull().sum() / len(games) * 100"
   ]
  },
  {
   "cell_type": "code",
   "execution_count": 21,
   "id": "247a6cf7",
   "metadata": {
    "id": "247a6cf7"
   },
   "outputs": [
    {
     "data": {
      "text/plain": [
       "'Пропуски в абсолютных значениях:'"
      ]
     },
     "metadata": {},
     "output_type": "display_data"
    },
    {
     "data": {
      "text/plain": [
       "name                  2\n",
       "platform              0\n",
       "year_of_release       0\n",
       "genre                 2\n",
       "na_sales              0\n",
       "eu_sales              6\n",
       "jp_sales              4\n",
       "other_sales           0\n",
       "critic_score       8714\n",
       "user_score         9268\n",
       "rating             6871\n",
       "dtype: int64"
      ]
     },
     "metadata": {},
     "output_type": "display_data"
    },
    {
     "data": {
      "text/plain": [
       "'Пропуски в относительных значениях (%):'"
      ]
     },
     "metadata": {},
     "output_type": "display_data"
    },
    {
     "data": {
      "text/plain": [
       "name                0.011795\n",
       "platform            0.000000\n",
       "year_of_release     0.000000\n",
       "genre               0.011795\n",
       "na_sales            0.000000\n",
       "eu_sales            0.035386\n",
       "jp_sales            0.023590\n",
       "other_sales         0.000000\n",
       "critic_score       51.391838\n",
       "user_score         54.659118\n",
       "rating             40.522529\n",
       "dtype: float64"
      ]
     },
     "metadata": {},
     "output_type": "display_data"
    }
   ],
   "source": [
    "# Вывод результатов\n",
    "display(\"Пропуски в абсолютных значениях:\", missing_abs)\n",
    "display(\"Пропуски в относительных значениях (%):\", missing_rel)"
   ]
  },
  {
   "cell_type": "markdown",
   "id": "b309de66",
   "metadata": {},
   "source": [
    "####  <font color='#00FFFF'>Промежуточный вывод на основе полученной информации.  </font>\n",
    "\n",
    "<font color='#6A5ACD'>Пропуски встречаются в следующих столбцах:</font>\n",
    "\n",
    "- name (название игры): 2 пропуска (0.01% от общего числа строк).\n",
    "- genre (жанр игры): 2 пропуска (0.01% от общего числа строк).\n",
    "- eu_sales (продажи в Европе): 6 пропусков (0.04% от общего числа строк).\n",
    "- jp_sales (продажи в Японии): 4 пропуска (0.02% от общего числа строк).\n",
    "- critic_score (оценка критиков): 8714 пропусков (51.39% от общего числа строк).\n",
    "- user_score (оценка пользователей): 9268 пропусков (54.66% от общего числа строк).\n",
    "- rating (рейтинг): 6871 пропусков (40.52% от общего числа строк).\n"
   ]
  },
  {
   "cell_type": "markdown",
   "id": "99c1cd78",
   "metadata": {},
   "source": [
    "<font color='#6A5ACD'>Предположения о причинах пропусков: </font>\n",
    "\n",
    "1.  Пропуски в name и genre могут быть результатом ошибок при сборе данных. Возможно, при переносе или сборе информации об играх некоторые записи были неполными, и название и/или жанр игры не были зафиксированы. Поскольку количество таких пропусков невелико, это может говорить о случайном характере ошибок.\n",
    "  \n",
    "2.  Отсутствие оценок на момент сбора данных. Оценка критиков и пользователей может отсутствовать для новых игр, только вышедших или не получивших достаточной популярности для сбора оценок.\n",
    "3.  Не у всех игр есть оценки. Многие игры, особенно старые, могут просто не иметь оценок.\n",
    "4.  Данные собирались из разных источников. Разные источники могут иметь разную полноту данных.\n",
    "5.  Рейтинги критиков и пользователей могли быть не запрошены. Возможно, процесс сбора данных был реализован таким образом, что рейтинги критиков и пользователей не всегда были приоритетными для запроса.\n",
    "6.  Разные стандарты рейтингов. Существует несколько рейтинговых систем, и в зависимости от региона или платформы, рейтинг может быть не определен."
   ]
  },
  {
   "cell_type": "markdown",
   "id": "ff154cdc",
   "metadata": {},
   "source": [
    " <font color='#6A5ACD'>Действия с данными и обоснование:</font>\n",
    "\n",
    "1.  <font color='#00FA9A'>name и genre:</font>\n",
    "- Действие: \n",
    "    *  Поскольку количество пропусков крайне мало (по 2 в каждом столбце), можно удалить строки с пропусками.\n",
    "- Обоснование: \n",
    "    *  Удаление всего 2 строк из общего объема данных не повлияет на результаты анализа. Удаление пропусков в данном случае, является самым простым решением.\n",
    "\n",
    "2.  <font color='#00FA9A'>critic_score и user_score:</font>\n",
    "- Действие: \n",
    "    *  Использование -1 может помочь нам при анализе, позволяя не потерять данные из других столбцов.\n",
    "- Обоснование: \n",
    "    *  Заполнение средним или медианным значением может быть неинформативным, так как много пропусков.\n",
    "3.  <font color='#00FA9A'>rating:</font>\n",
    "- Действие: \n",
    "    *  Заполнение значением unknown'.\n",
    "- Обоснование: \n",
    "    *  Заполнение значением 'unknown' подходит, поскольку это категориальный столбец и наличие пропусков не является ошибкой, а означает, что у игры нет рейтинга.\n",
    "4. <font color='#00FA9A'>na_sales, eu_sales, jp_sales:</font>\n",
    "- Действие: \n",
    "   *  Заполнение пропусков.\n",
    "- Обоснование: \n",
    "   *  Заполнение средним или медианным значением может исказить картину, так как нули/пропуски несут в себе смысл отсутствия продаж. Попробовуем сгруппировать продажи по году и платформе и заполнить медианой по этой группе, так как это может дать более корректные результаты."
   ]
  },
  {
   "cell_type": "code",
   "execution_count": 22,
   "id": "c5ff5a6f",
   "metadata": {},
   "outputs": [],
   "source": [
    "# Заполняем пропуски в 'rating' строкой 'unknown'\n",
    "games['rating'] = games['rating'].fillna('unknown')"
   ]
  },
  {
   "cell_type": "code",
   "execution_count": 23,
   "id": "b05f7741",
   "metadata": {},
   "outputs": [],
   "source": [
    "# Заполняем пропуски в 'critic_score' и 'user_score' значением -1\n",
    "games['critic_score'] = games['critic_score'].fillna(-1)\n",
    "games['user_score'] = games['user_score'].fillna(-1)"
   ]
  },
  {
   "cell_type": "code",
   "execution_count": 24,
   "id": "154be65d",
   "metadata": {
    "id": "154be65d"
   },
   "outputs": [],
   "source": [
    "# Удаление строк с пропусками в 'name' и 'genre'\n",
    "games.dropna(subset=['name', 'genre'], inplace=True)"
   ]
  },
  {
   "cell_type": "code",
   "execution_count": 25,
   "id": "2784c760",
   "metadata": {
    "id": "2784c760"
   },
   "outputs": [],
   "source": [
    "# Заполнение пропусков в столбцах продаж на средние значения по платформе и году\n",
    "for column in ['na_sales', 'eu_sales', 'jp_sales']:\n",
    "    games[column] = games.groupby(['platform', 'year_of_release'])[column].transform(lambda x: x.fillna(x.mean()))"
   ]
  },
  {
   "cell_type": "code",
   "execution_count": 26,
   "id": "3f42817b",
   "metadata": {
    "id": "3f42817b"
   },
   "outputs": [
    {
     "data": {
      "text/plain": [
       "'Пропуски после обработки:'"
      ]
     },
     "metadata": {},
     "output_type": "display_data"
    },
    {
     "data": {
      "text/plain": [
       "name               0\n",
       "platform           0\n",
       "year_of_release    0\n",
       "genre              0\n",
       "na_sales           0\n",
       "eu_sales           0\n",
       "jp_sales           0\n",
       "other_sales        0\n",
       "critic_score       0\n",
       "user_score         0\n",
       "rating             0\n",
       "dtype: int64"
      ]
     },
     "metadata": {},
     "output_type": "display_data"
    }
   ],
   "source": [
    "# Проверка и вывод количества пропусков после обработки\n",
    "display(\"Пропуски после обработки:\")\n",
    "display(games.isnull().sum())"
   ]
  },
  {
   "cell_type": "code",
   "execution_count": 27,
   "id": "26421f6e",
   "metadata": {},
   "outputs": [
    {
     "data": {
      "text/plain": [
       "'Первые 5 строк датафрейма:'"
      ]
     },
     "metadata": {},
     "output_type": "display_data"
    },
    {
     "data": {
      "text/html": [
       "<div>\n",
       "<style scoped>\n",
       "    .dataframe tbody tr th:only-of-type {\n",
       "        vertical-align: middle;\n",
       "    }\n",
       "\n",
       "    .dataframe tbody tr th {\n",
       "        vertical-align: top;\n",
       "    }\n",
       "\n",
       "    .dataframe thead th {\n",
       "        text-align: right;\n",
       "    }\n",
       "</style>\n",
       "<table border=\"1\" class=\"dataframe\">\n",
       "  <thead>\n",
       "    <tr style=\"text-align: right;\">\n",
       "      <th></th>\n",
       "      <th>name</th>\n",
       "      <th>platform</th>\n",
       "      <th>year_of_release</th>\n",
       "      <th>genre</th>\n",
       "      <th>na_sales</th>\n",
       "      <th>eu_sales</th>\n",
       "      <th>jp_sales</th>\n",
       "      <th>other_sales</th>\n",
       "      <th>critic_score</th>\n",
       "      <th>user_score</th>\n",
       "      <th>rating</th>\n",
       "    </tr>\n",
       "  </thead>\n",
       "  <tbody>\n",
       "    <tr>\n",
       "      <th>0</th>\n",
       "      <td>Wii Sports</td>\n",
       "      <td>Wii</td>\n",
       "      <td>2006</td>\n",
       "      <td>Sports</td>\n",
       "      <td>41.36</td>\n",
       "      <td>28.96</td>\n",
       "      <td>3.77</td>\n",
       "      <td>8.45</td>\n",
       "      <td>76.0</td>\n",
       "      <td>8.0</td>\n",
       "      <td>E</td>\n",
       "    </tr>\n",
       "    <tr>\n",
       "      <th>1</th>\n",
       "      <td>Super Mario Bros.</td>\n",
       "      <td>NES</td>\n",
       "      <td>1985</td>\n",
       "      <td>Platform</td>\n",
       "      <td>29.08</td>\n",
       "      <td>3.58</td>\n",
       "      <td>6.81</td>\n",
       "      <td>0.77</td>\n",
       "      <td>-1.0</td>\n",
       "      <td>-1.0</td>\n",
       "      <td>unknown</td>\n",
       "    </tr>\n",
       "    <tr>\n",
       "      <th>2</th>\n",
       "      <td>Mario Kart Wii</td>\n",
       "      <td>Wii</td>\n",
       "      <td>2008</td>\n",
       "      <td>Racing</td>\n",
       "      <td>15.68</td>\n",
       "      <td>12.76</td>\n",
       "      <td>3.79</td>\n",
       "      <td>3.29</td>\n",
       "      <td>82.0</td>\n",
       "      <td>8.3</td>\n",
       "      <td>E</td>\n",
       "    </tr>\n",
       "    <tr>\n",
       "      <th>3</th>\n",
       "      <td>Wii Sports Resort</td>\n",
       "      <td>Wii</td>\n",
       "      <td>2009</td>\n",
       "      <td>Sports</td>\n",
       "      <td>15.61</td>\n",
       "      <td>10.93</td>\n",
       "      <td>3.28</td>\n",
       "      <td>2.95</td>\n",
       "      <td>80.0</td>\n",
       "      <td>8.0</td>\n",
       "      <td>E</td>\n",
       "    </tr>\n",
       "    <tr>\n",
       "      <th>4</th>\n",
       "      <td>Pokemon Red/Pokemon Blue</td>\n",
       "      <td>GB</td>\n",
       "      <td>1996</td>\n",
       "      <td>Role-Playing</td>\n",
       "      <td>11.27</td>\n",
       "      <td>8.89</td>\n",
       "      <td>10.22</td>\n",
       "      <td>1.00</td>\n",
       "      <td>-1.0</td>\n",
       "      <td>-1.0</td>\n",
       "      <td>unknown</td>\n",
       "    </tr>\n",
       "  </tbody>\n",
       "</table>\n",
       "</div>"
      ],
      "text/plain": [
       "                       name platform  year_of_release         genre  na_sales  \\\n",
       "0                Wii Sports      Wii             2006        Sports     41.36   \n",
       "1         Super Mario Bros.      NES             1985      Platform     29.08   \n",
       "2            Mario Kart Wii      Wii             2008        Racing     15.68   \n",
       "3         Wii Sports Resort      Wii             2009        Sports     15.61   \n",
       "4  Pokemon Red/Pokemon Blue       GB             1996  Role-Playing     11.27   \n",
       "\n",
       "   eu_sales  jp_sales  other_sales  critic_score  user_score   rating  \n",
       "0     28.96      3.77         8.45          76.0         8.0        E  \n",
       "1      3.58      6.81         0.77          -1.0        -1.0  unknown  \n",
       "2     12.76      3.79         3.29          82.0         8.3        E  \n",
       "3     10.93      3.28         2.95          80.0         8.0        E  \n",
       "4      8.89     10.22         1.00          -1.0        -1.0  unknown  "
      ]
     },
     "metadata": {},
     "output_type": "display_data"
    }
   ],
   "source": [
    "# Выводим первые 5 строк датафрейма\n",
    "display(\"Первые 5 строк датафрейма:\")\n",
    "display(games.head())"
   ]
  },
  {
   "cell_type": "markdown",
   "id": "a63363fd",
   "metadata": {
    "id": "a63363fd"
   },
   "source": [
    "### 2.4. Явные и неявные дубликаты в данных"
   ]
  },
  {
   "cell_type": "code",
   "execution_count": 28,
   "id": "491c9c39",
   "metadata": {
    "id": "491c9c39"
   },
   "outputs": [
    {
     "name": "stdout",
     "output_type": "stream",
     "text": [
      "Уникальные значения в столбце 'platform':\n",
      "['Wii' 'NES' 'GB' 'DS' 'X360' 'PS3' 'PS2' 'SNES' 'GBA' 'PS4' '3DS' 'N64'\n",
      " 'PS' 'XB' 'PC' '2600' 'PSP' 'XOne' 'WiiU' 'GC' 'GEN' 'DC' 'PSV' 'SAT'\n",
      " 'SCD' 'WS' 'NG' 'TG16' '3DO' 'GG' 'PCFX']\n",
      "--------------------------------------------------\n",
      "Уникальные значения в столбце 'genre':\n",
      "['Sports' 'Platform' 'Racing' 'Role-Playing' 'Puzzle' 'Misc' 'Shooter'\n",
      " 'Simulation' 'Action' 'Fighting' 'Adventure' 'Strategy' 'MISC'\n",
      " 'ROLE-PLAYING' 'RACING' 'ACTION' 'SHOOTER' 'FIGHTING' 'SPORTS' 'PLATFORM'\n",
      " 'ADVENTURE' 'SIMULATION' 'PUZZLE' 'STRATEGY']\n",
      "--------------------------------------------------\n",
      "Уникальные значения в столбце 'rating':\n",
      "['E' 'unknown' 'M' 'T' 'E10+' 'K-A' 'AO' 'EC' 'RP']\n",
      "--------------------------------------------------\n"
     ]
    }
   ],
   "source": [
    "# Изучаем уникальные значения в категориальных столбцах\n",
    "categorical_cols = ['platform', 'genre', 'rating']\n",
    "\n",
    "for col in categorical_cols:\n",
    "    print(f\"Уникальные значения в столбце '{col}':\")\n",
    "    print(games[col].unique())\n",
    "    print(\"-\" * 50)"
   ]
  },
  {
   "cell_type": "code",
   "execution_count": 29,
   "id": "f1627198",
   "metadata": {
    "id": "f1627198"
   },
   "outputs": [],
   "source": [
    "# Нормализация текстовых значений\n",
    "games['genre'] = games['genre'].str.lower()\n",
    "games['rating'] = games['rating'].str.upper()"
   ]
  },
  {
   "cell_type": "code",
   "execution_count": 30,
   "id": "0c8bdad7",
   "metadata": {},
   "outputs": [],
   "source": [
    "# Заменяем нестандартные рейтинги на стандартизированные ESRB\n",
    "games['rating'] = games['rating'].replace('K-A', 'E')"
   ]
  },
  {
   "cell_type": "code",
   "execution_count": 31,
   "id": "a0cac80c",
   "metadata": {
    "id": "a0cac80c"
   },
   "outputs": [
    {
     "data": {
      "text/plain": [
       "'Уникальные значения после нормализации:'"
      ]
     },
     "metadata": {},
     "output_type": "display_data"
    },
    {
     "name": "stdout",
     "output_type": "stream",
     "text": [
      "Уникальные значения в столбце 'platform':\n",
      "['Wii' 'NES' 'GB' 'DS' 'X360' 'PS3' 'PS2' 'SNES' 'GBA' 'PS4' '3DS' 'N64'\n",
      " 'PS' 'XB' 'PC' '2600' 'PSP' 'XOne' 'WiiU' 'GC' 'GEN' 'DC' 'PSV' 'SAT'\n",
      " 'SCD' 'WS' 'NG' 'TG16' '3DO' 'GG' 'PCFX']\n",
      "--------------------------------------------------\n",
      "Уникальные значения в столбце 'genre':\n",
      "['sports' 'platform' 'racing' 'role-playing' 'puzzle' 'misc' 'shooter'\n",
      " 'simulation' 'action' 'fighting' 'adventure' 'strategy']\n",
      "--------------------------------------------------\n",
      "Уникальные значения в столбце 'rating':\n",
      "['E' 'UNKNOWN' 'M' 'T' 'E10+' 'AO' 'EC' 'RP']\n",
      "--------------------------------------------------\n"
     ]
    }
   ],
   "source": [
    "# Выводим уникальные значения после нормализации\n",
    "display(\"Уникальные значения после нормализации:\")\n",
    "for col in categorical_cols:\n",
    "    print(f\"Уникальные значения в столбце '{col}':\")\n",
    "    print(games[col].unique())\n",
    "    print(\"-\" * 50)"
   ]
  },
  {
   "cell_type": "code",
   "execution_count": 32,
   "id": "7da79bbd",
   "metadata": {},
   "outputs": [
    {
     "data": {
      "text/plain": [
       "\"Уникальные значения в столбце 'year_of_release':\""
      ]
     },
     "metadata": {},
     "output_type": "display_data"
    },
    {
     "data": {
      "text/plain": [
       "array([2006, 1985, 2008, 2009, 1996, 1989, 1984, 2005, 1999, 2007, 2010,\n",
       "       2013, 2004, 1990, 1988, 2002, 2001, 2011, 1998, 2015, 2012, 2014,\n",
       "       1992, 1997, 1993, 1994, 1982, 2016, 2003, 1986, 2000,   -1, 1995,\n",
       "       1991, 1981, 1987, 1980, 1983])"
      ]
     },
     "metadata": {},
     "output_type": "display_data"
    }
   ],
   "source": [
    "# Проверка уникальных значений в year_of_release\n",
    "display(f\"Уникальные значения в столбце 'year_of_release':\")\n",
    "display(games['year_of_release'].unique())"
   ]
  },
  {
   "cell_type": "code",
   "execution_count": 33,
   "id": "1ce750e0",
   "metadata": {},
   "outputs": [],
   "source": [
    "# Поиск явных дубликатов\n",
    "duplicates = games.duplicated()"
   ]
  },
  {
   "cell_type": "code",
   "execution_count": 34,
   "id": "fc5c91b5",
   "metadata": {
    "id": "fc5c91b5"
   },
   "outputs": [
    {
     "data": {
      "text/plain": [
       "'Количество явных дубликатов: 241'"
      ]
     },
     "metadata": {},
     "output_type": "display_data"
    }
   ],
   "source": [
    "# Вывод количества дубликатов\n",
    "display(f\"Количество явных дубликатов: {duplicates.sum()}\")"
   ]
  },
  {
   "cell_type": "code",
   "execution_count": 35,
   "id": "2f61e076",
   "metadata": {
    "id": "2f61e076"
   },
   "outputs": [
    {
     "data": {
      "text/plain": [
       "'Дублирующиеся строки:'"
      ]
     },
     "metadata": {},
     "output_type": "display_data"
    },
    {
     "data": {
      "text/html": [
       "<div>\n",
       "<style scoped>\n",
       "    .dataframe tbody tr th:only-of-type {\n",
       "        vertical-align: middle;\n",
       "    }\n",
       "\n",
       "    .dataframe tbody tr th {\n",
       "        vertical-align: top;\n",
       "    }\n",
       "\n",
       "    .dataframe thead th {\n",
       "        text-align: right;\n",
       "    }\n",
       "</style>\n",
       "<table border=\"1\" class=\"dataframe\">\n",
       "  <thead>\n",
       "    <tr style=\"text-align: right;\">\n",
       "      <th></th>\n",
       "      <th>name</th>\n",
       "      <th>platform</th>\n",
       "      <th>year_of_release</th>\n",
       "      <th>genre</th>\n",
       "      <th>na_sales</th>\n",
       "      <th>eu_sales</th>\n",
       "      <th>jp_sales</th>\n",
       "      <th>other_sales</th>\n",
       "      <th>critic_score</th>\n",
       "      <th>user_score</th>\n",
       "      <th>rating</th>\n",
       "    </tr>\n",
       "  </thead>\n",
       "  <tbody>\n",
       "    <tr>\n",
       "      <th>268</th>\n",
       "      <td>Batman: Arkham Asylum</td>\n",
       "      <td>PS3</td>\n",
       "      <td>2009</td>\n",
       "      <td>action</td>\n",
       "      <td>2.24</td>\n",
       "      <td>1.31</td>\n",
       "      <td>0.07</td>\n",
       "      <td>0.61</td>\n",
       "      <td>91.0</td>\n",
       "      <td>8.9</td>\n",
       "      <td>T</td>\n",
       "    </tr>\n",
       "    <tr>\n",
       "      <th>368</th>\n",
       "      <td>James Bond 007: Agent Under Fire</td>\n",
       "      <td>PS2</td>\n",
       "      <td>2001</td>\n",
       "      <td>shooter</td>\n",
       "      <td>1.90</td>\n",
       "      <td>1.13</td>\n",
       "      <td>0.10</td>\n",
       "      <td>0.41</td>\n",
       "      <td>72.0</td>\n",
       "      <td>7.9</td>\n",
       "      <td>T</td>\n",
       "    </tr>\n",
       "    <tr>\n",
       "      <th>717</th>\n",
       "      <td>God of War: Ascension</td>\n",
       "      <td>PS3</td>\n",
       "      <td>2013</td>\n",
       "      <td>action</td>\n",
       "      <td>1.23</td>\n",
       "      <td>0.63</td>\n",
       "      <td>0.04</td>\n",
       "      <td>0.35</td>\n",
       "      <td>80.0</td>\n",
       "      <td>7.5</td>\n",
       "      <td>M</td>\n",
       "    </tr>\n",
       "    <tr>\n",
       "      <th>823</th>\n",
       "      <td>Wipeout: The Game</td>\n",
       "      <td>Wii</td>\n",
       "      <td>2009</td>\n",
       "      <td>misc</td>\n",
       "      <td>1.94</td>\n",
       "      <td>0.00</td>\n",
       "      <td>0.00</td>\n",
       "      <td>0.12</td>\n",
       "      <td>-1.0</td>\n",
       "      <td>-1.0</td>\n",
       "      <td>UNKNOWN</td>\n",
       "    </tr>\n",
       "    <tr>\n",
       "      <th>848</th>\n",
       "      <td>Rayman Raving Rabbids: TV Party</td>\n",
       "      <td>Wii</td>\n",
       "      <td>2008</td>\n",
       "      <td>misc</td>\n",
       "      <td>0.72</td>\n",
       "      <td>1.08</td>\n",
       "      <td>0.00</td>\n",
       "      <td>0.23</td>\n",
       "      <td>73.0</td>\n",
       "      <td>7.7</td>\n",
       "      <td>E10+</td>\n",
       "    </tr>\n",
       "    <tr>\n",
       "      <th>...</th>\n",
       "      <td>...</td>\n",
       "      <td>...</td>\n",
       "      <td>...</td>\n",
       "      <td>...</td>\n",
       "      <td>...</td>\n",
       "      <td>...</td>\n",
       "      <td>...</td>\n",
       "      <td>...</td>\n",
       "      <td>...</td>\n",
       "      <td>...</td>\n",
       "      <td>...</td>\n",
       "    </tr>\n",
       "    <tr>\n",
       "      <th>16671</th>\n",
       "      <td>Fullmetal Alchemist: Prince of the Dawn</td>\n",
       "      <td>Wii</td>\n",
       "      <td>2009</td>\n",
       "      <td>adventure</td>\n",
       "      <td>0.00</td>\n",
       "      <td>0.00</td>\n",
       "      <td>0.01</td>\n",
       "      <td>0.00</td>\n",
       "      <td>-1.0</td>\n",
       "      <td>-1.0</td>\n",
       "      <td>UNKNOWN</td>\n",
       "    </tr>\n",
       "    <tr>\n",
       "      <th>16753</th>\n",
       "      <td>Routes PE</td>\n",
       "      <td>PS2</td>\n",
       "      <td>2007</td>\n",
       "      <td>adventure</td>\n",
       "      <td>0.00</td>\n",
       "      <td>0.00</td>\n",
       "      <td>0.01</td>\n",
       "      <td>0.00</td>\n",
       "      <td>-1.0</td>\n",
       "      <td>-1.0</td>\n",
       "      <td>UNKNOWN</td>\n",
       "    </tr>\n",
       "    <tr>\n",
       "      <th>16799</th>\n",
       "      <td>Transformers: Prime</td>\n",
       "      <td>Wii</td>\n",
       "      <td>2012</td>\n",
       "      <td>action</td>\n",
       "      <td>0.00</td>\n",
       "      <td>0.01</td>\n",
       "      <td>0.00</td>\n",
       "      <td>0.00</td>\n",
       "      <td>-1.0</td>\n",
       "      <td>-1.0</td>\n",
       "      <td>UNKNOWN</td>\n",
       "    </tr>\n",
       "    <tr>\n",
       "      <th>16912</th>\n",
       "      <td>Metal Gear Solid V: The Definitive Experience</td>\n",
       "      <td>XOne</td>\n",
       "      <td>2016</td>\n",
       "      <td>action</td>\n",
       "      <td>0.01</td>\n",
       "      <td>0.00</td>\n",
       "      <td>0.00</td>\n",
       "      <td>0.00</td>\n",
       "      <td>-1.0</td>\n",
       "      <td>-1.0</td>\n",
       "      <td>M</td>\n",
       "    </tr>\n",
       "    <tr>\n",
       "      <th>16940</th>\n",
       "      <td>The Longest 5 Minutes</td>\n",
       "      <td>PSV</td>\n",
       "      <td>2016</td>\n",
       "      <td>action</td>\n",
       "      <td>0.00</td>\n",
       "      <td>0.00</td>\n",
       "      <td>0.01</td>\n",
       "      <td>0.00</td>\n",
       "      <td>-1.0</td>\n",
       "      <td>-1.0</td>\n",
       "      <td>UNKNOWN</td>\n",
       "    </tr>\n",
       "  </tbody>\n",
       "</table>\n",
       "<p>241 rows × 11 columns</p>\n",
       "</div>"
      ],
      "text/plain": [
       "                                                name platform  \\\n",
       "268                            Batman: Arkham Asylum      PS3   \n",
       "368                 James Bond 007: Agent Under Fire      PS2   \n",
       "717                            God of War: Ascension      PS3   \n",
       "823                                Wipeout: The Game      Wii   \n",
       "848                  Rayman Raving Rabbids: TV Party      Wii   \n",
       "...                                              ...      ...   \n",
       "16671        Fullmetal Alchemist: Prince of the Dawn      Wii   \n",
       "16753                                      Routes PE      PS2   \n",
       "16799                            Transformers: Prime      Wii   \n",
       "16912  Metal Gear Solid V: The Definitive Experience     XOne   \n",
       "16940                          The Longest 5 Minutes      PSV   \n",
       "\n",
       "       year_of_release      genre  na_sales  eu_sales  jp_sales  other_sales  \\\n",
       "268               2009     action      2.24      1.31      0.07         0.61   \n",
       "368               2001    shooter      1.90      1.13      0.10         0.41   \n",
       "717               2013     action      1.23      0.63      0.04         0.35   \n",
       "823               2009       misc      1.94      0.00      0.00         0.12   \n",
       "848               2008       misc      0.72      1.08      0.00         0.23   \n",
       "...                ...        ...       ...       ...       ...          ...   \n",
       "16671             2009  adventure      0.00      0.00      0.01         0.00   \n",
       "16753             2007  adventure      0.00      0.00      0.01         0.00   \n",
       "16799             2012     action      0.00      0.01      0.00         0.00   \n",
       "16912             2016     action      0.01      0.00      0.00         0.00   \n",
       "16940             2016     action      0.00      0.00      0.01         0.00   \n",
       "\n",
       "       critic_score  user_score   rating  \n",
       "268            91.0         8.9        T  \n",
       "368            72.0         7.9        T  \n",
       "717            80.0         7.5        M  \n",
       "823            -1.0        -1.0  UNKNOWN  \n",
       "848            73.0         7.7     E10+  \n",
       "...             ...         ...      ...  \n",
       "16671          -1.0        -1.0  UNKNOWN  \n",
       "16753          -1.0        -1.0  UNKNOWN  \n",
       "16799          -1.0        -1.0  UNKNOWN  \n",
       "16912          -1.0        -1.0        M  \n",
       "16940          -1.0        -1.0  UNKNOWN  \n",
       "\n",
       "[241 rows x 11 columns]"
      ]
     },
     "metadata": {},
     "output_type": "display_data"
    }
   ],
   "source": [
    "# Вывод дублирующихся строк\n",
    "display(\"Дублирующиеся строки:\")\n",
    "display(games[duplicates])"
   ]
  },
  {
   "cell_type": "code",
   "execution_count": 36,
   "id": "29e57705",
   "metadata": {
    "id": "29e57705"
   },
   "outputs": [],
   "source": [
    "# Удаление дубликатов\n",
    "games.drop_duplicates(inplace=True)"
   ]
  },
  {
   "cell_type": "code",
   "execution_count": 37,
   "id": "b9630cc1",
   "metadata": {},
   "outputs": [
    {
     "data": {
      "text/plain": [
       "'Размер датафрейма после удаления дубликатов: (16713, 11)'"
      ]
     },
     "metadata": {},
     "output_type": "display_data"
    }
   ],
   "source": [
    "# Вывод размера датафрейма после удаления\n",
    "display(f\"Размер датафрейма после удаления дубликатов: {games.shape}\")"
   ]
  },
  {
   "cell_type": "markdown",
   "id": "7c979bc8",
   "metadata": {},
   "source": [
    "#### <font color='#00FFFF'>Промежуточный вывод по дубликатам: </font>\n",
    "\n",
    "В результате обработки данных были найдены и удалены 241 полных дубликата. \n",
    "Размер DataFrame после удаления дубликатов составляет 16713 строк."
   ]
  },
  {
   "cell_type": "code",
   "execution_count": 38,
   "id": "f9d8ee19",
   "metadata": {
    "id": "f9d8ee19"
   },
   "outputs": [],
   "source": [
    "# Сохраняем размер датафрейма после удаления\n",
    "final_size = games.shape[0]"
   ]
  },
  {
   "cell_type": "code",
   "execution_count": 39,
   "id": "3d7a9d8e",
   "metadata": {
    "id": "3d7a9d8e"
   },
   "outputs": [],
   "source": [
    "# Расчет количества удаленных строк в абсолютном значении\n",
    "rows_dropped_abs = initial_size - final_size"
   ]
  },
  {
   "cell_type": "code",
   "execution_count": 40,
   "id": "1e48a7ce",
   "metadata": {
    "id": "1e48a7ce"
   },
   "outputs": [],
   "source": [
    "# Расчет количества удаленных строк в относительном значении\n",
    "rows_dropped_rel = rows_dropped_abs / initial_size * 100"
   ]
  },
  {
   "cell_type": "code",
   "execution_count": 41,
   "id": "ee8e41fe",
   "metadata": {},
   "outputs": [
    {
     "data": {
      "text/plain": [
       "'Количество удаленных строк в абсолютном значении: 243'"
      ]
     },
     "metadata": {},
     "output_type": "display_data"
    },
    {
     "data": {
      "text/plain": [
       "'Количество удаленных строк в относительном значении: 1.43%'"
      ]
     },
     "metadata": {},
     "output_type": "display_data"
    }
   ],
   "source": [
    "# Вывод результата\n",
    "display(f\"Количество удаленных строк в абсолютном значении: {rows_dropped_abs}\")\n",
    "display(f\"Количество удаленных строк в относительном значении: {rows_dropped_rel:.2f}%\")"
   ]
  },
  {
   "cell_type": "markdown",
   "id": "f5b1e820",
   "metadata": {},
   "source": [
    "####  <font color='#00FFFF'>Общий промежуточный вывод после предобработки данных: </font>\n",
    "\n",
    "На данном этапе завершен процесс предобработки данных, включающий в себя следующие шаги:\n",
    "- Данные очищены от пропусков в столбцах name, genre, na_sales, eu_sales, jp_sales и year_of_release, user_score.\n",
    "- Типы данных в столбцах year_of_release и user_score приведены к корректным типам.\n",
    "- Категориальные данные нормализованы, устранены неявные дубликаты.\n",
    "- Удалены явные дубликаты.\n",
    "\n",
    "#### <font color='#00FFFF'>Общий вывод: </font>\n",
    "\n",
    "В результате всех этих шагов, получили очищенный, структурированный и готовый к анализу набор данных. Основные проблемы (пропуски, некорректные типы данных, дубликаты) были устранены, что позволяет нам проводить дальнейший анализ без риска получения неверных результатов из-за некачественных данных. На следующем этапе можно приступать к фильтрации данных по заданным условиям."
   ]
  },
  {
   "cell_type": "markdown",
   "id": "613f0eb0",
   "metadata": {
    "id": "613f0eb0"
   },
   "source": [
    "---\n",
    "\n",
    "## 3. <a href=\"#part3\">Фильтрация данных</a>\n",
    "\n",
    "Коллеги хотят изучить историю продаж игр в начале XXI века, и их интересует период с 2000 по 2013 год включительно. "
   ]
  },
  {
   "cell_type": "code",
   "execution_count": 42,
   "id": "2344916d",
   "metadata": {
    "id": "2344916d"
   },
   "outputs": [],
   "source": [
    "# Отбор данных за период с 2000 по 2013 год\n",
    "df_actual = games[(games['year_of_release'] >= 2000) & (games['year_of_release'] <= 2013)].copy()"
   ]
  },
  {
   "cell_type": "code",
   "execution_count": 43,
   "id": "44d7529f",
   "metadata": {
    "id": "44d7529f"
   },
   "outputs": [
    {
     "data": {
      "text/plain": [
       "'Размер нового датафрейма df_actual:'"
      ]
     },
     "metadata": {},
     "output_type": "display_data"
    },
    {
     "data": {
      "text/plain": [
       "(12781, 11)"
      ]
     },
     "metadata": {},
     "output_type": "display_data"
    }
   ],
   "source": [
    "# Вывод размера нового датафрейма\n",
    "display(\"Размер нового датафрейма df_actual:\", df_actual.shape)"
   ]
  },
  {
   "cell_type": "code",
   "execution_count": 44,
   "id": "906577e8",
   "metadata": {
    "id": "906577e8"
   },
   "outputs": [
    {
     "data": {
      "text/plain": [
       "'Первые 5 строк df_actual:'"
      ]
     },
     "metadata": {},
     "output_type": "display_data"
    },
    {
     "data": {
      "text/html": [
       "<div>\n",
       "<style scoped>\n",
       "    .dataframe tbody tr th:only-of-type {\n",
       "        vertical-align: middle;\n",
       "    }\n",
       "\n",
       "    .dataframe tbody tr th {\n",
       "        vertical-align: top;\n",
       "    }\n",
       "\n",
       "    .dataframe thead th {\n",
       "        text-align: right;\n",
       "    }\n",
       "</style>\n",
       "<table border=\"1\" class=\"dataframe\">\n",
       "  <thead>\n",
       "    <tr style=\"text-align: right;\">\n",
       "      <th></th>\n",
       "      <th>name</th>\n",
       "      <th>platform</th>\n",
       "      <th>year_of_release</th>\n",
       "      <th>genre</th>\n",
       "      <th>na_sales</th>\n",
       "      <th>eu_sales</th>\n",
       "      <th>jp_sales</th>\n",
       "      <th>other_sales</th>\n",
       "      <th>critic_score</th>\n",
       "      <th>user_score</th>\n",
       "      <th>rating</th>\n",
       "    </tr>\n",
       "  </thead>\n",
       "  <tbody>\n",
       "    <tr>\n",
       "      <th>0</th>\n",
       "      <td>Wii Sports</td>\n",
       "      <td>Wii</td>\n",
       "      <td>2006</td>\n",
       "      <td>sports</td>\n",
       "      <td>41.36</td>\n",
       "      <td>28.96</td>\n",
       "      <td>3.77</td>\n",
       "      <td>8.45</td>\n",
       "      <td>76.0</td>\n",
       "      <td>8.0</td>\n",
       "      <td>E</td>\n",
       "    </tr>\n",
       "    <tr>\n",
       "      <th>2</th>\n",
       "      <td>Mario Kart Wii</td>\n",
       "      <td>Wii</td>\n",
       "      <td>2008</td>\n",
       "      <td>racing</td>\n",
       "      <td>15.68</td>\n",
       "      <td>12.76</td>\n",
       "      <td>3.79</td>\n",
       "      <td>3.29</td>\n",
       "      <td>82.0</td>\n",
       "      <td>8.3</td>\n",
       "      <td>E</td>\n",
       "    </tr>\n",
       "    <tr>\n",
       "      <th>3</th>\n",
       "      <td>Wii Sports Resort</td>\n",
       "      <td>Wii</td>\n",
       "      <td>2009</td>\n",
       "      <td>sports</td>\n",
       "      <td>15.61</td>\n",
       "      <td>10.93</td>\n",
       "      <td>3.28</td>\n",
       "      <td>2.95</td>\n",
       "      <td>80.0</td>\n",
       "      <td>8.0</td>\n",
       "      <td>E</td>\n",
       "    </tr>\n",
       "    <tr>\n",
       "      <th>6</th>\n",
       "      <td>New Super Mario Bros.</td>\n",
       "      <td>DS</td>\n",
       "      <td>2006</td>\n",
       "      <td>platform</td>\n",
       "      <td>11.28</td>\n",
       "      <td>9.14</td>\n",
       "      <td>6.50</td>\n",
       "      <td>2.88</td>\n",
       "      <td>89.0</td>\n",
       "      <td>8.5</td>\n",
       "      <td>E</td>\n",
       "    </tr>\n",
       "    <tr>\n",
       "      <th>7</th>\n",
       "      <td>Wii Play</td>\n",
       "      <td>Wii</td>\n",
       "      <td>2006</td>\n",
       "      <td>misc</td>\n",
       "      <td>13.96</td>\n",
       "      <td>9.18</td>\n",
       "      <td>2.93</td>\n",
       "      <td>2.84</td>\n",
       "      <td>58.0</td>\n",
       "      <td>6.6</td>\n",
       "      <td>E</td>\n",
       "    </tr>\n",
       "  </tbody>\n",
       "</table>\n",
       "</div>"
      ],
      "text/plain": [
       "                    name platform  year_of_release     genre  na_sales  \\\n",
       "0             Wii Sports      Wii             2006    sports     41.36   \n",
       "2         Mario Kart Wii      Wii             2008    racing     15.68   \n",
       "3      Wii Sports Resort      Wii             2009    sports     15.61   \n",
       "6  New Super Mario Bros.       DS             2006  platform     11.28   \n",
       "7               Wii Play      Wii             2006      misc     13.96   \n",
       "\n",
       "   eu_sales  jp_sales  other_sales  critic_score  user_score rating  \n",
       "0     28.96      3.77         8.45          76.0         8.0      E  \n",
       "2     12.76      3.79         3.29          82.0         8.3      E  \n",
       "3     10.93      3.28         2.95          80.0         8.0      E  \n",
       "6      9.14      6.50         2.88          89.0         8.5      E  \n",
       "7      9.18      2.93         2.84          58.0         6.6      E  "
      ]
     },
     "metadata": {},
     "output_type": "display_data"
    }
   ],
   "source": [
    "# Вывод первых 5 строк нового датафрейма\n",
    "display(\"Первые 5 строк df_actual:\")\n",
    "display(df_actual.head())"
   ]
  },
  {
   "cell_type": "markdown",
   "id": "65efd6e6",
   "metadata": {},
   "source": [
    " ####  <font color='#00FFFF'>Промежуточные выводы:</font>\n",
    "- Новый DataFrame df_actual содержит только данные об играх, выпущенных в период с 2000 по 2013 год.\n",
    "- Размер нового DataFrame df_actual составляет 12781 строк и 11 столбцов.\n",
    "- Выведены первые 5 строк для проверки."
   ]
  },
  {
   "cell_type": "markdown",
   "id": "a6f10b01",
   "metadata": {
    "id": "a6f10b01"
   },
   "source": [
    "---\n",
    "\n",
    "## 4. <a href=\"#part4\">Категоризация данных</a>"
   ]
  },
  {
   "cell_type": "code",
   "execution_count": 45,
   "id": "3db87229",
   "metadata": {
    "id": "3db87229"
   },
   "outputs": [],
   "source": [
    "# Функция для категоризации оценок\n",
    "def categorize_user_score(score):\n",
    "    if score >= 8 and score <= 10:\n",
    "        return 'высокая оценка'\n",
    "    elif score >= 3 and score < 8:\n",
    "        return 'средняя оценка'\n",
    "    elif score >= 0 and score < 3:\n",
    "        return 'низкая оценка'\n",
    "    else:\n",
    "        return 'не определено'"
   ]
  },
  {
   "cell_type": "code",
   "execution_count": 46,
   "id": "9b0ca0f2",
   "metadata": {
    "id": "9b0ca0f2"
   },
   "outputs": [],
   "source": [
    "# Применяем функцию для создания нового столбца с категориями оценок\n",
    "df_actual['user_score_category'] = df_actual['user_score'].apply(categorize_user_score)\n"
   ]
  },
  {
   "cell_type": "code",
   "execution_count": 47,
   "id": "35438bd6",
   "metadata": {
    "id": "35438bd6"
   },
   "outputs": [
    {
     "data": {
      "text/plain": [
       "'Размер нового датафрейма df_actual:'"
      ]
     },
     "metadata": {},
     "output_type": "display_data"
    },
    {
     "data": {
      "text/plain": [
       "(12781, 12)"
      ]
     },
     "metadata": {},
     "output_type": "display_data"
    }
   ],
   "source": [
    "# Вывод размера нового датафрейма\n",
    "display(\"Размер нового датафрейма df_actual:\", df_actual.shape)"
   ]
  },
  {
   "cell_type": "code",
   "execution_count": 48,
   "id": "bf920bd1",
   "metadata": {},
   "outputs": [
    {
     "data": {
      "text/plain": [
       "'Первые 5 строк df_actual:'"
      ]
     },
     "metadata": {},
     "output_type": "display_data"
    },
    {
     "data": {
      "text/html": [
       "<div>\n",
       "<style scoped>\n",
       "    .dataframe tbody tr th:only-of-type {\n",
       "        vertical-align: middle;\n",
       "    }\n",
       "\n",
       "    .dataframe tbody tr th {\n",
       "        vertical-align: top;\n",
       "    }\n",
       "\n",
       "    .dataframe thead th {\n",
       "        text-align: right;\n",
       "    }\n",
       "</style>\n",
       "<table border=\"1\" class=\"dataframe\">\n",
       "  <thead>\n",
       "    <tr style=\"text-align: right;\">\n",
       "      <th></th>\n",
       "      <th>name</th>\n",
       "      <th>platform</th>\n",
       "      <th>year_of_release</th>\n",
       "      <th>genre</th>\n",
       "      <th>na_sales</th>\n",
       "      <th>eu_sales</th>\n",
       "      <th>jp_sales</th>\n",
       "      <th>other_sales</th>\n",
       "      <th>critic_score</th>\n",
       "      <th>user_score</th>\n",
       "      <th>rating</th>\n",
       "      <th>user_score_category</th>\n",
       "    </tr>\n",
       "  </thead>\n",
       "  <tbody>\n",
       "    <tr>\n",
       "      <th>0</th>\n",
       "      <td>Wii Sports</td>\n",
       "      <td>Wii</td>\n",
       "      <td>2006</td>\n",
       "      <td>sports</td>\n",
       "      <td>41.36</td>\n",
       "      <td>28.96</td>\n",
       "      <td>3.77</td>\n",
       "      <td>8.45</td>\n",
       "      <td>76.0</td>\n",
       "      <td>8.0</td>\n",
       "      <td>E</td>\n",
       "      <td>высокая оценка</td>\n",
       "    </tr>\n",
       "    <tr>\n",
       "      <th>2</th>\n",
       "      <td>Mario Kart Wii</td>\n",
       "      <td>Wii</td>\n",
       "      <td>2008</td>\n",
       "      <td>racing</td>\n",
       "      <td>15.68</td>\n",
       "      <td>12.76</td>\n",
       "      <td>3.79</td>\n",
       "      <td>3.29</td>\n",
       "      <td>82.0</td>\n",
       "      <td>8.3</td>\n",
       "      <td>E</td>\n",
       "      <td>высокая оценка</td>\n",
       "    </tr>\n",
       "    <tr>\n",
       "      <th>3</th>\n",
       "      <td>Wii Sports Resort</td>\n",
       "      <td>Wii</td>\n",
       "      <td>2009</td>\n",
       "      <td>sports</td>\n",
       "      <td>15.61</td>\n",
       "      <td>10.93</td>\n",
       "      <td>3.28</td>\n",
       "      <td>2.95</td>\n",
       "      <td>80.0</td>\n",
       "      <td>8.0</td>\n",
       "      <td>E</td>\n",
       "      <td>высокая оценка</td>\n",
       "    </tr>\n",
       "    <tr>\n",
       "      <th>6</th>\n",
       "      <td>New Super Mario Bros.</td>\n",
       "      <td>DS</td>\n",
       "      <td>2006</td>\n",
       "      <td>platform</td>\n",
       "      <td>11.28</td>\n",
       "      <td>9.14</td>\n",
       "      <td>6.50</td>\n",
       "      <td>2.88</td>\n",
       "      <td>89.0</td>\n",
       "      <td>8.5</td>\n",
       "      <td>E</td>\n",
       "      <td>высокая оценка</td>\n",
       "    </tr>\n",
       "    <tr>\n",
       "      <th>7</th>\n",
       "      <td>Wii Play</td>\n",
       "      <td>Wii</td>\n",
       "      <td>2006</td>\n",
       "      <td>misc</td>\n",
       "      <td>13.96</td>\n",
       "      <td>9.18</td>\n",
       "      <td>2.93</td>\n",
       "      <td>2.84</td>\n",
       "      <td>58.0</td>\n",
       "      <td>6.6</td>\n",
       "      <td>E</td>\n",
       "      <td>средняя оценка</td>\n",
       "    </tr>\n",
       "  </tbody>\n",
       "</table>\n",
       "</div>"
      ],
      "text/plain": [
       "                    name platform  year_of_release     genre  na_sales  \\\n",
       "0             Wii Sports      Wii             2006    sports     41.36   \n",
       "2         Mario Kart Wii      Wii             2008    racing     15.68   \n",
       "3      Wii Sports Resort      Wii             2009    sports     15.61   \n",
       "6  New Super Mario Bros.       DS             2006  platform     11.28   \n",
       "7               Wii Play      Wii             2006      misc     13.96   \n",
       "\n",
       "   eu_sales  jp_sales  other_sales  critic_score  user_score rating  \\\n",
       "0     28.96      3.77         8.45          76.0         8.0      E   \n",
       "2     12.76      3.79         3.29          82.0         8.3      E   \n",
       "3     10.93      3.28         2.95          80.0         8.0      E   \n",
       "6      9.14      6.50         2.88          89.0         8.5      E   \n",
       "7      9.18      2.93         2.84          58.0         6.6      E   \n",
       "\n",
       "  user_score_category  \n",
       "0      высокая оценка  \n",
       "2      высокая оценка  \n",
       "3      высокая оценка  \n",
       "6      высокая оценка  \n",
       "7      средняя оценка  "
      ]
     },
     "metadata": {},
     "output_type": "display_data"
    }
   ],
   "source": [
    "# Вывод первых 5 строк нового датафрейма с новой колонкой\n",
    "display(\"Первые 5 строк df_actual:\")\n",
    "display(df_actual.head())"
   ]
  },
  {
   "cell_type": "code",
   "execution_count": 49,
   "id": "1b988c7c",
   "metadata": {},
   "outputs": [
    {
     "data": {
      "text/plain": [
       "'Количество игр в каждой категории оценок:'"
      ]
     },
     "metadata": {},
     "output_type": "display_data"
    },
    {
     "data": {
      "text/plain": [
       "user_score_category\n",
       "не определено     6298\n",
       "средняя оценка    4081\n",
       "высокая оценка    2286\n",
       "низкая оценка      116\n",
       "Name: count, dtype: int64"
      ]
     },
     "metadata": {},
     "output_type": "display_data"
    }
   ],
   "source": [
    "# Вывод количества игр в каждой категории\n",
    "display(\"Количество игр в каждой категории оценок:\")\n",
    "display(df_actual['user_score_category'].value_counts())"
   ]
  },
  {
   "cell_type": "markdown",
   "id": "f8f34b40",
   "metadata": {
    "id": "f8f34b40"
   },
   "source": [
    "- Разделяем все игры по оценкам критиков и выделяем следующие категории: высокая оценка (от 80 до 100 включительно), средняя оценка (от 30 до 80, не включая правую границу интервала) и низкая оценка (от 0 до 30, не включая правую границу интервала)."
   ]
  },
  {
   "cell_type": "code",
   "execution_count": 50,
   "id": "e3f7acb0",
   "metadata": {
    "id": "e3f7acb0"
   },
   "outputs": [],
   "source": [
    "# Функция для категоризации оценок критиков\n",
    "def categorize_critic_score(score):\n",
    "    if score >= 80 and score <= 100:\n",
    "        return 'высокая оценка'\n",
    "    elif score >= 30 and score < 80:\n",
    "        return 'средняя оценка'\n",
    "    elif score >= 0 and score < 30:\n",
    "        return 'низкая оценка'\n",
    "    else:\n",
    "        return 'не определено'"
   ]
  },
  {
   "cell_type": "code",
   "execution_count": 51,
   "id": "548fde17",
   "metadata": {
    "id": "548fde17"
   },
   "outputs": [],
   "source": [
    "# Применяем функцию для создания нового столбца с категориями оценок критиков\n",
    "df_actual['critic_score_category'] = df_actual['critic_score'].apply(categorize_critic_score)"
   ]
  },
  {
   "cell_type": "code",
   "execution_count": 52,
   "id": "d136d06b",
   "metadata": {
    "id": "d136d06b"
   },
   "outputs": [
    {
     "data": {
      "text/plain": [
       "'Размер нового датафрейма df_actual:'"
      ]
     },
     "metadata": {},
     "output_type": "display_data"
    },
    {
     "data": {
      "text/plain": [
       "(12781, 13)"
      ]
     },
     "metadata": {},
     "output_type": "display_data"
    }
   ],
   "source": [
    "# Вывод размера нового датафрейма\n",
    "display(\"Размер нового датафрейма df_actual:\", df_actual.shape)"
   ]
  },
  {
   "cell_type": "code",
   "execution_count": 53,
   "id": "dff7d5e2",
   "metadata": {},
   "outputs": [
    {
     "data": {
      "text/plain": [
       "'Первые 5 строк df_actual:'"
      ]
     },
     "metadata": {},
     "output_type": "display_data"
    },
    {
     "data": {
      "text/html": [
       "<div>\n",
       "<style scoped>\n",
       "    .dataframe tbody tr th:only-of-type {\n",
       "        vertical-align: middle;\n",
       "    }\n",
       "\n",
       "    .dataframe tbody tr th {\n",
       "        vertical-align: top;\n",
       "    }\n",
       "\n",
       "    .dataframe thead th {\n",
       "        text-align: right;\n",
       "    }\n",
       "</style>\n",
       "<table border=\"1\" class=\"dataframe\">\n",
       "  <thead>\n",
       "    <tr style=\"text-align: right;\">\n",
       "      <th></th>\n",
       "      <th>name</th>\n",
       "      <th>platform</th>\n",
       "      <th>year_of_release</th>\n",
       "      <th>genre</th>\n",
       "      <th>na_sales</th>\n",
       "      <th>eu_sales</th>\n",
       "      <th>jp_sales</th>\n",
       "      <th>other_sales</th>\n",
       "      <th>critic_score</th>\n",
       "      <th>user_score</th>\n",
       "      <th>rating</th>\n",
       "      <th>user_score_category</th>\n",
       "      <th>critic_score_category</th>\n",
       "    </tr>\n",
       "  </thead>\n",
       "  <tbody>\n",
       "    <tr>\n",
       "      <th>0</th>\n",
       "      <td>Wii Sports</td>\n",
       "      <td>Wii</td>\n",
       "      <td>2006</td>\n",
       "      <td>sports</td>\n",
       "      <td>41.36</td>\n",
       "      <td>28.96</td>\n",
       "      <td>3.77</td>\n",
       "      <td>8.45</td>\n",
       "      <td>76.0</td>\n",
       "      <td>8.0</td>\n",
       "      <td>E</td>\n",
       "      <td>высокая оценка</td>\n",
       "      <td>средняя оценка</td>\n",
       "    </tr>\n",
       "    <tr>\n",
       "      <th>2</th>\n",
       "      <td>Mario Kart Wii</td>\n",
       "      <td>Wii</td>\n",
       "      <td>2008</td>\n",
       "      <td>racing</td>\n",
       "      <td>15.68</td>\n",
       "      <td>12.76</td>\n",
       "      <td>3.79</td>\n",
       "      <td>3.29</td>\n",
       "      <td>82.0</td>\n",
       "      <td>8.3</td>\n",
       "      <td>E</td>\n",
       "      <td>высокая оценка</td>\n",
       "      <td>высокая оценка</td>\n",
       "    </tr>\n",
       "    <tr>\n",
       "      <th>3</th>\n",
       "      <td>Wii Sports Resort</td>\n",
       "      <td>Wii</td>\n",
       "      <td>2009</td>\n",
       "      <td>sports</td>\n",
       "      <td>15.61</td>\n",
       "      <td>10.93</td>\n",
       "      <td>3.28</td>\n",
       "      <td>2.95</td>\n",
       "      <td>80.0</td>\n",
       "      <td>8.0</td>\n",
       "      <td>E</td>\n",
       "      <td>высокая оценка</td>\n",
       "      <td>высокая оценка</td>\n",
       "    </tr>\n",
       "    <tr>\n",
       "      <th>6</th>\n",
       "      <td>New Super Mario Bros.</td>\n",
       "      <td>DS</td>\n",
       "      <td>2006</td>\n",
       "      <td>platform</td>\n",
       "      <td>11.28</td>\n",
       "      <td>9.14</td>\n",
       "      <td>6.50</td>\n",
       "      <td>2.88</td>\n",
       "      <td>89.0</td>\n",
       "      <td>8.5</td>\n",
       "      <td>E</td>\n",
       "      <td>высокая оценка</td>\n",
       "      <td>высокая оценка</td>\n",
       "    </tr>\n",
       "    <tr>\n",
       "      <th>7</th>\n",
       "      <td>Wii Play</td>\n",
       "      <td>Wii</td>\n",
       "      <td>2006</td>\n",
       "      <td>misc</td>\n",
       "      <td>13.96</td>\n",
       "      <td>9.18</td>\n",
       "      <td>2.93</td>\n",
       "      <td>2.84</td>\n",
       "      <td>58.0</td>\n",
       "      <td>6.6</td>\n",
       "      <td>E</td>\n",
       "      <td>средняя оценка</td>\n",
       "      <td>средняя оценка</td>\n",
       "    </tr>\n",
       "  </tbody>\n",
       "</table>\n",
       "</div>"
      ],
      "text/plain": [
       "                    name platform  year_of_release     genre  na_sales  \\\n",
       "0             Wii Sports      Wii             2006    sports     41.36   \n",
       "2         Mario Kart Wii      Wii             2008    racing     15.68   \n",
       "3      Wii Sports Resort      Wii             2009    sports     15.61   \n",
       "6  New Super Mario Bros.       DS             2006  platform     11.28   \n",
       "7               Wii Play      Wii             2006      misc     13.96   \n",
       "\n",
       "   eu_sales  jp_sales  other_sales  critic_score  user_score rating  \\\n",
       "0     28.96      3.77         8.45          76.0         8.0      E   \n",
       "2     12.76      3.79         3.29          82.0         8.3      E   \n",
       "3     10.93      3.28         2.95          80.0         8.0      E   \n",
       "6      9.14      6.50         2.88          89.0         8.5      E   \n",
       "7      9.18      2.93         2.84          58.0         6.6      E   \n",
       "\n",
       "  user_score_category critic_score_category  \n",
       "0      высокая оценка        средняя оценка  \n",
       "2      высокая оценка        высокая оценка  \n",
       "3      высокая оценка        высокая оценка  \n",
       "6      высокая оценка        высокая оценка  \n",
       "7      средняя оценка        средняя оценка  "
      ]
     },
     "metadata": {},
     "output_type": "display_data"
    }
   ],
   "source": [
    "# Вывод первых 5 строк нового датафрейма с новыми колонками\n",
    "display(\"Первые 5 строк df_actual:\")\n",
    "display(df_actual.head())"
   ]
  },
  {
   "cell_type": "code",
   "execution_count": 54,
   "id": "0dbbbbed",
   "metadata": {},
   "outputs": [
    {
     "data": {
      "text/plain": [
       "'Количество игр в каждой категории оценок критиков:'"
      ]
     },
     "metadata": {},
     "output_type": "display_data"
    },
    {
     "data": {
      "text/html": [
       "<div>\n",
       "<style scoped>\n",
       "    .dataframe tbody tr th:only-of-type {\n",
       "        vertical-align: middle;\n",
       "    }\n",
       "\n",
       "    .dataframe tbody tr th {\n",
       "        vertical-align: top;\n",
       "    }\n",
       "\n",
       "    .dataframe thead th {\n",
       "        text-align: right;\n",
       "    }\n",
       "</style>\n",
       "<table border=\"1\" class=\"dataframe\">\n",
       "  <thead>\n",
       "    <tr style=\"text-align: right;\">\n",
       "      <th></th>\n",
       "      <th>critic_score_category</th>\n",
       "      <th>count</th>\n",
       "    </tr>\n",
       "  </thead>\n",
       "  <tbody>\n",
       "    <tr>\n",
       "      <th>0</th>\n",
       "      <td>не определено</td>\n",
       "      <td>5612</td>\n",
       "    </tr>\n",
       "    <tr>\n",
       "      <th>1</th>\n",
       "      <td>средняя оценка</td>\n",
       "      <td>5422</td>\n",
       "    </tr>\n",
       "    <tr>\n",
       "      <th>2</th>\n",
       "      <td>высокая оценка</td>\n",
       "      <td>1692</td>\n",
       "    </tr>\n",
       "    <tr>\n",
       "      <th>3</th>\n",
       "      <td>низкая оценка</td>\n",
       "      <td>55</td>\n",
       "    </tr>\n",
       "  </tbody>\n",
       "</table>\n",
       "</div>"
      ],
      "text/plain": [
       "  critic_score_category  count\n",
       "0         не определено   5612\n",
       "1        средняя оценка   5422\n",
       "2        высокая оценка   1692\n",
       "3         низкая оценка     55"
      ]
     },
     "metadata": {},
     "output_type": "display_data"
    }
   ],
   "source": [
    "# Вывод количества игр в каждой категории оценок критиков\n",
    "critic_score_counts = df_actual['critic_score_category'].value_counts().reset_index(name='count')\n",
    "critic_score_counts = critic_score_counts.rename(columns={'index': 'critic_score_category'})\n",
    "display(\"Количество игр в каждой категории оценок критиков:\")\n",
    "display(critic_score_counts)"
   ]
  },
  {
   "cell_type": "code",
   "execution_count": 55,
   "id": "HW0Nsp-4UMSL",
   "metadata": {
    "id": "HW0Nsp-4UMSL"
   },
   "outputs": [
    {
     "data": {
      "text/plain": [
       "'Количество игр в каждой категории оценок пользователей:'"
      ]
     },
     "metadata": {},
     "output_type": "display_data"
    },
    {
     "data": {
      "text/html": [
       "<div>\n",
       "<style scoped>\n",
       "    .dataframe tbody tr th:only-of-type {\n",
       "        vertical-align: middle;\n",
       "    }\n",
       "\n",
       "    .dataframe tbody tr th {\n",
       "        vertical-align: top;\n",
       "    }\n",
       "\n",
       "    .dataframe thead th {\n",
       "        text-align: right;\n",
       "    }\n",
       "</style>\n",
       "<table border=\"1\" class=\"dataframe\">\n",
       "  <thead>\n",
       "    <tr style=\"text-align: right;\">\n",
       "      <th></th>\n",
       "      <th>user_score_category</th>\n",
       "      <th>count</th>\n",
       "    </tr>\n",
       "  </thead>\n",
       "  <tbody>\n",
       "    <tr>\n",
       "      <th>0</th>\n",
       "      <td>высокая оценка</td>\n",
       "      <td>2286</td>\n",
       "    </tr>\n",
       "    <tr>\n",
       "      <th>1</th>\n",
       "      <td>не определено</td>\n",
       "      <td>6298</td>\n",
       "    </tr>\n",
       "    <tr>\n",
       "      <th>2</th>\n",
       "      <td>низкая оценка</td>\n",
       "      <td>116</td>\n",
       "    </tr>\n",
       "    <tr>\n",
       "      <th>3</th>\n",
       "      <td>средняя оценка</td>\n",
       "      <td>4081</td>\n",
       "    </tr>\n",
       "  </tbody>\n",
       "</table>\n",
       "</div>"
      ],
      "text/plain": [
       "  user_score_category  count\n",
       "0      высокая оценка   2286\n",
       "1       не определено   6298\n",
       "2       низкая оценка    116\n",
       "3      средняя оценка   4081"
      ]
     },
     "metadata": {},
     "output_type": "display_data"
    }
   ],
   "source": [
    "# Группируем данные по категориям оценок пользователей и считаем количество игр\n",
    "user_score_counts = df_actual.groupby('user_score_category')['name'].count().reset_index(name='count')\n",
    "display(\"Количество игр в каждой категории оценок пользователей:\")\n",
    "display(user_score_counts)"
   ]
  },
  {
   "cell_type": "code",
   "execution_count": 56,
   "id": "x2ne0HIpUMMD",
   "metadata": {
    "id": "x2ne0HIpUMMD"
   },
   "outputs": [
    {
     "data": {
      "text/plain": [
       "'Количество игр в каждой категории оценок критиков:'"
      ]
     },
     "metadata": {},
     "output_type": "display_data"
    },
    {
     "data": {
      "text/html": [
       "<div>\n",
       "<style scoped>\n",
       "    .dataframe tbody tr th:only-of-type {\n",
       "        vertical-align: middle;\n",
       "    }\n",
       "\n",
       "    .dataframe tbody tr th {\n",
       "        vertical-align: top;\n",
       "    }\n",
       "\n",
       "    .dataframe thead th {\n",
       "        text-align: right;\n",
       "    }\n",
       "</style>\n",
       "<table border=\"1\" class=\"dataframe\">\n",
       "  <thead>\n",
       "    <tr style=\"text-align: right;\">\n",
       "      <th></th>\n",
       "      <th>critic_score_category</th>\n",
       "      <th>count</th>\n",
       "    </tr>\n",
       "  </thead>\n",
       "  <tbody>\n",
       "    <tr>\n",
       "      <th>0</th>\n",
       "      <td>высокая оценка</td>\n",
       "      <td>1692</td>\n",
       "    </tr>\n",
       "    <tr>\n",
       "      <th>1</th>\n",
       "      <td>не определено</td>\n",
       "      <td>5612</td>\n",
       "    </tr>\n",
       "    <tr>\n",
       "      <th>2</th>\n",
       "      <td>низкая оценка</td>\n",
       "      <td>55</td>\n",
       "    </tr>\n",
       "    <tr>\n",
       "      <th>3</th>\n",
       "      <td>средняя оценка</td>\n",
       "      <td>5422</td>\n",
       "    </tr>\n",
       "  </tbody>\n",
       "</table>\n",
       "</div>"
      ],
      "text/plain": [
       "  critic_score_category  count\n",
       "0        высокая оценка   1692\n",
       "1         не определено   5612\n",
       "2         низкая оценка     55\n",
       "3        средняя оценка   5422"
      ]
     },
     "metadata": {},
     "output_type": "display_data"
    }
   ],
   "source": [
    "# Группируем данные по категориям оценок критиков и считаем количество игр\n",
    "critic_score_counts = df_actual.groupby('critic_score_category')['name'].count().reset_index(name='count')\n",
    "display(\"Количество игр в каждой категории оценок критиков:\")\n",
    "display(critic_score_counts)"
   ]
  },
  {
   "cell_type": "markdown",
   "id": "6a98444c",
   "metadata": {
    "id": "6a98444c"
   },
   "source": [
    "- Находим топ-7 платформ по количеству игр, выпущенных за весь актуальный период."
   ]
  },
  {
   "cell_type": "code",
   "execution_count": 57,
   "id": "003caa2c",
   "metadata": {
    "id": "003caa2c"
   },
   "outputs": [],
   "source": [
    "# Группируем данные по платформам и считаем количество игр\n",
    "platform_counts = df_actual.groupby('platform')['name'].count().reset_index(name='count')"
   ]
  },
  {
   "cell_type": "code",
   "execution_count": 58,
   "id": "e8d8a1d0",
   "metadata": {
    "id": "e8d8a1d0"
   },
   "outputs": [],
   "source": [
    "# Сортируем платформы по убыванию количества игр и выбираем топ-7\n",
    "top_platforms = platform_counts.sort_values(by='count', ascending=False).head(7)"
   ]
  },
  {
   "cell_type": "code",
   "execution_count": 59,
   "id": "f240904a",
   "metadata": {
    "id": "f240904a"
   },
   "outputs": [
    {
     "data": {
      "text/plain": [
       "'Топ-7 платформ по количеству выпущенных игр:'"
      ]
     },
     "metadata": {},
     "output_type": "display_data"
    },
    {
     "data": {
      "text/html": [
       "<div>\n",
       "<style scoped>\n",
       "    .dataframe tbody tr th:only-of-type {\n",
       "        vertical-align: middle;\n",
       "    }\n",
       "\n",
       "    .dataframe tbody tr th {\n",
       "        vertical-align: top;\n",
       "    }\n",
       "\n",
       "    .dataframe thead th {\n",
       "        text-align: right;\n",
       "    }\n",
       "</style>\n",
       "<table border=\"1\" class=\"dataframe\">\n",
       "  <thead>\n",
       "    <tr style=\"text-align: right;\">\n",
       "      <th></th>\n",
       "      <th>platform</th>\n",
       "      <th>count</th>\n",
       "    </tr>\n",
       "  </thead>\n",
       "  <tbody>\n",
       "    <tr>\n",
       "      <th>9</th>\n",
       "      <td>PS2</td>\n",
       "      <td>2127</td>\n",
       "    </tr>\n",
       "    <tr>\n",
       "      <th>2</th>\n",
       "      <td>DS</td>\n",
       "      <td>2120</td>\n",
       "    </tr>\n",
       "    <tr>\n",
       "      <th>15</th>\n",
       "      <td>Wii</td>\n",
       "      <td>1275</td>\n",
       "    </tr>\n",
       "    <tr>\n",
       "      <th>12</th>\n",
       "      <td>PSP</td>\n",
       "      <td>1180</td>\n",
       "    </tr>\n",
       "    <tr>\n",
       "      <th>17</th>\n",
       "      <td>X360</td>\n",
       "      <td>1121</td>\n",
       "    </tr>\n",
       "    <tr>\n",
       "      <th>10</th>\n",
       "      <td>PS3</td>\n",
       "      <td>1087</td>\n",
       "    </tr>\n",
       "    <tr>\n",
       "      <th>4</th>\n",
       "      <td>GBA</td>\n",
       "      <td>811</td>\n",
       "    </tr>\n",
       "  </tbody>\n",
       "</table>\n",
       "</div>"
      ],
      "text/plain": [
       "   platform  count\n",
       "9       PS2   2127\n",
       "2        DS   2120\n",
       "15      Wii   1275\n",
       "12      PSP   1180\n",
       "17     X360   1121\n",
       "10      PS3   1087\n",
       "4       GBA    811"
      ]
     },
     "metadata": {},
     "output_type": "display_data"
    }
   ],
   "source": [
    "display(\"Топ-7 платформ по количеству выпущенных игр:\")\n",
    "display(top_platforms) "
   ]
  },
  {
   "cell_type": "code",
   "execution_count": 60,
   "id": "20175f5b",
   "metadata": {
    "id": "20175f5b"
   },
   "outputs": [
    {
     "data": {
      "image/png": "[encoded data removed]",
      "text/plain": [
       "<Figure size 1200x600 with 1 Axes>"
      ]
     },
     "metadata": {},
     "output_type": "display_data"
    }
   ],
   "source": [
    "# Визуализация топ-7 платформ\n",
    "plt.figure(figsize=(12, 6))\n",
    "colors = ['skyblue', 'lightcoral', 'lightgreen', 'orange', 'lightpink', 'lightseagreen', 'mediumpurple']\n",
    "plt.bar(top_platforms['platform'], top_platforms['count'], color=colors)\n",
    "plt.xlabel('Платформа')\n",
    "plt.ylabel('Количество игр')\n",
    "plt.title('Топ-7 платформ по количеству выпущенных игр (2000-2013)')\n",
    "plt.xticks()\n",
    "plt.tight_layout()\n",
    "plt.show()\n"
   ]
  },
  {
   "cell_type": "markdown",
   "id": "fd870b82",
   "metadata": {},
   "source": [
    "Лидеры по количеству выпускаемых игр PS2 (2127) и DS (2120). Наименьший результат показала GBA (811)."
   ]
  },
  {
   "cell_type": "markdown",
   "id": "c0158881",
   "metadata": {
    "id": "c0158881"
   },
   "source": [
    "---\n",
    "\n",
    "## 5. <a href=\"#part5\">Итоговые выводы</a>"
   ]
  },
  {
   "cell_type": "markdown",
   "id": "38a83541",
   "metadata": {},
   "source": [
    " <font color='#6A5ACD'>- Категории оценок пользователей:</font>\n",
    "  * Наибольшее количество игр (4081) получило \"среднюю оценку\" от пользователей, что указывает на то, что большая часть игр на рынке получает относительно неплохие отзывы игроков.\n",
    "  * Значительное количество игр (2286) также получило \"высокую оценку\", что подчеркивает наличие качественных проектов на рынке.\n",
    "  * При этом, существенное число игр (6298) имеют неопределенную оценку пользователей, что может указывать либо на недостаток отзывов, либо на неоднозначное восприятие этих игр.\n",
    "  * Небольшое количество игр (116) получило \"низкую оценку\", что показывает, что есть игры, которые не получили положительных отзывов от игроков.\n",
    "\n",
    " <font color='#6A5ACD'>- Категории оценок критиков:</font>\n",
    "  * Большинство игр (5422) имеет \"среднюю оценку\" от критиков, что похоже на распределение пользовательских оценок.\n",
    "  * Достаточно много игр (1692) получили \"высокую оценку\", что говорит о том, что на рынке есть много качественных проектов.\n",
    "  * Значительное количество игр (5612) имеют неопределенную оценку критиков, что может указывать на отсутствие оценок от критиков либо на неоднозначность их восприятия.\n",
    "  * Очень мало игр (55) получило \"низкую оценку\" от критиков, что говорит о том, что большинство игр не являются откровенно плохими по мнению критиков.\n",
    "\n",
    " <font color='#6A5ACD'>- Топ-7 платформ:</font>\n",
    "  * Самыми популярными платформами по количеству выпущенных игр являются <font color='#87CEEB'>PS2</font> (2127) и <font color='#F08080'>DS</font> (2120), что подчеркивает их доминирующее положение на рынке в рассматриваемый период.\n",
    "  * Также в топ-7 вошли Wii, PSP, X360, PS3 и GBA, что указывает на наличие большого числа игр на этих платформах.\n",
    "  * Результаты демонстрируют, что компании, производящие игровые приставки, имели большое влияние на рынке в то время."
   ]
  },
  {
   "cell_type": "markdown",
   "id": "c8be9cdc",
   "metadata": {},
   "source": [
    " <font color='#00FFFF'>Общие выводы: </font>\n",
    "\n",
    "- Полученные данные позволяют сделать вывод, что большинство игр имеют средние оценки как от пользователей, так и от критиков. При этом, существенное число игр имеет неопределенные оценки, что говорит о возможном недопредставлении их в обзорах.\n",
    "- Лидерами по количеству выпущенных игр являются консоли  <font color='#87CEEB'>PS2</font> и  <font color='#F08080'>DS</font>, что может быть связано с их популярностью и широкой аудиторией."
   ]
  }
 ],
 "metadata": {
  "ExecuteTimeLog": [
   {
    "duration": 455,
    "start_time": "2025-01-29T11:08:00.994Z"
   },
   {
    "duration": 92,
    "start_time": "2025-01-29T11:08:01.451Z"
   },
   {
    "duration": 3,
    "start_time": "2025-01-29T11:08:01.549Z"
   },
   {
    "duration": 92,
    "start_time": "2025-01-29T11:08:01.554Z"
   },
   {
    "duration": 24,
    "start_time": "2025-01-29T11:08:01.647Z"
   },
   {
    "duration": 121,
    "start_time": "2025-01-29T11:08:01.673Z"
   },
   {
    "duration": 39,
    "start_time": "2025-01-29T11:08:01.796Z"
   },
   {
    "duration": 50,
    "start_time": "2025-01-29T11:08:01.836Z"
   },
   {
    "duration": 38,
    "start_time": "2025-01-29T11:08:01.888Z"
   },
   {
    "duration": 50,
    "start_time": "2025-01-29T11:08:01.929Z"
   },
   {
    "duration": 27,
    "start_time": "2025-01-29T11:08:01.981Z"
   },
   {
    "duration": 50,
    "start_time": "2025-01-29T11:08:02.009Z"
   },
   {
    "duration": 80,
    "start_time": "2025-01-29T11:08:02.061Z"
   },
   {
    "duration": 32,
    "start_time": "2025-01-29T11:08:02.145Z"
   },
   {
    "duration": 31,
    "start_time": "2025-01-29T11:08:02.179Z"
   },
   {
    "duration": 46,
    "start_time": "2025-01-29T11:08:02.212Z"
   },
   {
    "duration": 35,
    "start_time": "2025-01-29T11:08:02.260Z"
   },
   {
    "duration": 54,
    "start_time": "2025-01-29T11:08:02.297Z"
   },
   {
    "duration": 60,
    "start_time": "2025-01-29T11:08:02.353Z"
   },
   {
    "duration": 40,
    "start_time": "2025-01-29T11:08:02.415Z"
   },
   {
    "duration": 49,
    "start_time": "2025-01-29T11:08:02.458Z"
   },
   {
    "duration": 47,
    "start_time": "2025-01-29T11:08:02.508Z"
   },
   {
    "duration": 334,
    "start_time": "2025-01-29T11:08:02.557Z"
   },
   {
    "duration": 6,
    "start_time": "2025-01-29T11:08:02.893Z"
   },
   {
    "duration": 43,
    "start_time": "2025-01-29T11:08:02.901Z"
   },
   {
    "duration": 20,
    "start_time": "2025-01-29T11:08:02.950Z"
   },
   {
    "duration": 28,
    "start_time": "2025-01-29T11:08:02.971Z"
   },
   {
    "duration": 17,
    "start_time": "2025-01-29T11:08:03.003Z"
   },
   {
    "duration": 30,
    "start_time": "2025-01-29T11:08:03.022Z"
   },
   {
    "duration": 30,
    "start_time": "2025-01-29T11:08:03.053Z"
   },
   {
    "duration": 8,
    "start_time": "2025-01-29T11:08:03.085Z"
   },
   {
    "duration": 31,
    "start_time": "2025-01-29T11:08:03.094Z"
   },
   {
    "duration": 43,
    "start_time": "2025-01-29T11:08:03.127Z"
   },
   {
    "duration": 3,
    "start_time": "2025-01-29T11:08:03.172Z"
   },
   {
    "duration": 17,
    "start_time": "2025-01-29T11:08:03.177Z"
   },
   {
    "duration": 18,
    "start_time": "2025-01-29T11:08:03.196Z"
   },
   {
    "duration": 47,
    "start_time": "2025-01-29T11:08:03.216Z"
   },
   {
    "duration": 41,
    "start_time": "2025-01-29T11:08:03.265Z"
   },
   {
    "duration": 213,
    "start_time": "2025-01-29T11:08:03.308Z"
   },
   {
    "duration": 39,
    "start_time": "2025-01-29T11:08:03.523Z"
   },
   {
    "duration": 20,
    "start_time": "2025-01-29T11:08:03.563Z"
   },
   {
    "duration": 23,
    "start_time": "2025-01-29T11:08:03.585Z"
   },
   {
    "duration": 20,
    "start_time": "2025-01-29T11:08:03.610Z"
   },
   {
    "duration": 37,
    "start_time": "2025-01-29T11:08:03.632Z"
   },
   {
    "duration": 112,
    "start_time": "2025-01-29T11:08:03.671Z"
   },
   {
    "duration": 35,
    "start_time": "2025-01-29T11:08:03.785Z"
   },
   {
    "duration": 29,
    "start_time": "2025-01-29T11:08:03.822Z"
   },
   {
    "duration": 15,
    "start_time": "2025-01-29T11:08:03.853Z"
   },
   {
    "duration": 13,
    "start_time": "2025-01-29T11:08:03.870Z"
   },
   {
    "duration": 40,
    "start_time": "2025-01-29T11:08:03.885Z"
   },
   {
    "duration": 51,
    "start_time": "2025-01-29T11:08:03.926Z"
   },
   {
    "duration": 45,
    "start_time": "2025-01-29T11:08:03.979Z"
   },
   {
    "duration": 20,
    "start_time": "2025-01-29T11:08:04.026Z"
   },
   {
    "duration": 19,
    "start_time": "2025-01-29T11:08:04.048Z"
   },
   {
    "duration": 9,
    "start_time": "2025-01-29T11:08:04.069Z"
   },
   {
    "duration": 37,
    "start_time": "2025-01-29T11:08:04.080Z"
   },
   {
    "duration": 448,
    "start_time": "2025-01-29T11:08:04.119Z"
   },
   {
    "duration": 390,
    "start_time": "2025-01-29T11:08:04.569Z"
   }
  ],
  "colab": {
   "provenance": []
  },
  "kernelspec": {
   "display_name": "Python 3",
   "language": "python",
   "name": "python3"
  },
  "language_info": {
   "codemirror_mode": {
    "name": "ipython",
    "version": 3
   },
   "file_extension": ".py",
   "mimetype": "text/x-python",
   "name": "python",
   "nbconvert_exporter": "python",
   "pygments_lexer": "ipython3",
   "version": "3.13.3"
  },
  "toc": {
   "base_numbering": 1,
   "nav_menu": {},
   "number_sections": true,
   "sideBar": true,
   "skip_h1_title": true,
   "title_cell": "Table of Contents",
   "title_sidebar": "Contents",
   "toc_cell": false,
   "toc_position": {},
   "toc_section_display": true,
   "toc_window_display": false
  }
 },
 "nbformat": 4,
 "nbformat_minor": 5
}
