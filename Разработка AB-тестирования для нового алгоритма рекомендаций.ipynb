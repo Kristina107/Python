{
 "cells": [
  {
   "cell_type": "markdown",
   "metadata": {
    "id": "u98L9TgH0eMk"
   },
   "source": [
    "# <font color='#6A5ACD'>Разработка A/B-тестирования для нового алгоритма рекомендаций</font>\n",
    "\n",
    "Компания, которая разрабатывает развлекательное приложение с функцией «бесконечной» ленты. В приложении существует две модели монетизации: первая — ежемесячная платная подписка, которая позволяет пользователям смотреть ленту без рекламы, вторая — демонстрация рекламы для пользователей, которые ещё не оформили подписку.\n",
    "\n",
    "Команда разработчиков рекомендательных систем создала новый алгоритм рекомендаций, который, по их мнению, будет показывать более интересный контент для каждого пользователя. Необходимо рассчитать параметры A/B-теста, который позволит проверить эту гипотезу, и проанализировать его результаты."
   ]
  },
  {
   "cell_type": "markdown",
   "metadata": {},
   "source": [
    "\n",
    "Автор: Романовкская Кристина\n",
    "\n",
    "Дата: 20.04.2025"
   ]
  },
  {
   "cell_type": "markdown",
   "metadata": {},
   "source": [
    "### <font color='#6A5ACD'>Гипотезы для A/B-теста: </font>"
   ]
  },
  {
   "cell_type": "markdown",
   "metadata": {},
   "source": [
    "##### Нулевая гипотеза (H₀): \n",
    "* Новый алгоритм рекомендаций не влияет на долю успешных сессий (сессий с 4+ просмотренными страницами). То есть средняя доля успешных сессий в тестовой группе (с новым алгоритмом) равна средней доле успешных сессий в контрольной группе (со старым алгоритмом).\n"
   ]
  },
  {
   "cell_type": "markdown",
   "metadata": {},
   "source": [
    "##### Альтернативная гипотеза (H₁): \n",
    "* Новый алгоритм рекомендаций увеличивает долю успешных сессий по сравнению со старым алгоритмом. То есть средняя доля успешных сессий в тестовой группе выше, чем в контрольной.\n",
    "* Учитывая MDE (минимальный детектируемый эффект) в 3%, мы ожидаем, что доля успешных сессий в тестовой группе будет как минимум на 3% выше."
   ]
  },
  {
   "cell_type": "markdown",
   "metadata": {
    "id": "LJBRALHs0eMf"
   },
   "source": [
    "## Описание данных\n",
    "\n",
    "Вы будете работать с тремя таблицами:\n",
    "\n",
    "- `sessions_project_history.csv` — таблица с историческими данными по сессиям пользователей на период с 2025-08-15 по 2025-09-23. Путь к файлу: `/datasets/sessions_project_history.csv`.\n",
    "\n",
    "- `sessions_project_test_part.csv` — таблица с данными за первый день проведения A/B-теста, то есть за 2025-10-14. Путь к файлу: `/datasets/sessions_project_test_part.csv`.\n",
    "\n",
    "- `sessions_project_test.csv` — таблица с данными за весь период проведения A/B-теста, то есть с 2025-10-14 по 2025-11-02. Путь к файлу: `/datasets/sessions_project_test.csv`.\n",
    "\n",
    "У этих таблиц почти совпадает структура и содержание колонок, различаются лишь периоды наблюдения.\n",
    "\n",
    "Поля таблиц `sessions_project_history.csv`, `sessions_project_test.csv`, `sessions_project_test_part.csv`:\n",
    "\n",
    "- `user_id` — идентификатор пользователя;\n",
    "\n",
    "- `session_id` — идентификатор сессии в приложении;\n",
    "\n",
    "- `session_date` — дата сессии;\n",
    "\n",
    "- `session_start_ts` — дата и время начала сессии;\n",
    "\n",
    "- `install_date` — дата установки приложения;\n",
    "\n",
    "- `session_number` — порядковый номер сессии для конкретного пользователя;\n",
    "\n",
    "- `registration_flag` — является ли пользователь зарегистрированным;\n",
    "\n",
    "- `page_counter` — количество просмотренных страниц во время сессии;\n",
    "\n",
    "- `region` — регион пользователя;\n",
    "\n",
    "- `device` — тип устройства пользователя;\n",
    "\n",
    "- `test_group` — тестовая группа (в таблице с историческими данными этого столбца нет).\n",
    "\n",
    "\n",
    "## Что нужно сделать\n",
    "Рассчитать параметры теста, оценить корректность его проведения и проанализировать результаты эксперимента."
   ]
  },
  {
   "cell_type": "markdown",
   "metadata": {
    "id": "UpOucjID0eMl"
   },
   "source": [
    "### 1. Работа с историческими данными (EDA)"
   ]
  },
  {
   "cell_type": "markdown",
   "metadata": {
    "id": "8iJMtL-30eMl"
   },
   "source": [
    "#### 1.1. Загрузка исторических данных\n",
    "На первом этапе поработайте с историческими данными приложения:\n",
    "\n",
    "- Импортируйте библиотеку pandas.\n",
    "\n",
    "- Считайте и сохраните в датафрейм `sessions_history` CSV-файл с историческими данными о сессиях пользователей `sessions_project_history.csv`.\n",
    "\n",
    "Выведите на экран первые пять строк полученного датафрейма."
   ]
  },
  {
   "cell_type": "code",
   "execution_count": 2,
   "metadata": {},
   "outputs": [],
   "source": [
    "import pandas as pd\n",
    "import matplotlib.pyplot as plt\n",
    "from statsmodels.stats.power import NormalIndPower\n",
    "from math import ceil\n",
    "from scipy.stats import ttest_ind\n",
    "from statsmodels.stats.proportion import proportions_ztest"
   ]
  },
  {
   "cell_type": "code",
   "execution_count": 3,
   "metadata": {},
   "outputs": [],
   "source": [
    "# Считываем исторические данные\n",
    "sessions_history = pd.read_csv('https://code.s3.yandex.net/datasets/sessions_project_history.csv')"
   ]
  },
  {
   "cell_type": "code",
   "execution_count": 4,
   "metadata": {
    "id": "6TPR2-1RPboT"
   },
   "outputs": [
    {
     "data": {
      "text/html": [
       "<div>\n",
       "<style scoped>\n",
       "    .dataframe tbody tr th:only-of-type {\n",
       "        vertical-align: middle;\n",
       "    }\n",
       "\n",
       "    .dataframe tbody tr th {\n",
       "        vertical-align: top;\n",
       "    }\n",
       "\n",
       "    .dataframe thead th {\n",
       "        text-align: right;\n",
       "    }\n",
       "</style>\n",
       "<table border=\"1\" class=\"dataframe\">\n",
       "  <thead>\n",
       "    <tr style=\"text-align: right;\">\n",
       "      <th></th>\n",
       "      <th>user_id</th>\n",
       "      <th>session_id</th>\n",
       "      <th>session_date</th>\n",
       "      <th>session_start_ts</th>\n",
       "      <th>install_date</th>\n",
       "      <th>session_number</th>\n",
       "      <th>registration_flag</th>\n",
       "      <th>page_counter</th>\n",
       "      <th>region</th>\n",
       "      <th>device</th>\n",
       "    </tr>\n",
       "  </thead>\n",
       "  <tbody>\n",
       "    <tr>\n",
       "      <th>0</th>\n",
       "      <td>E302123B7000BFE4</td>\n",
       "      <td>F9AF61A0C2023832</td>\n",
       "      <td>2025-08-15</td>\n",
       "      <td>2025-08-15 17:47:35</td>\n",
       "      <td>2025-08-15</td>\n",
       "      <td>1</td>\n",
       "      <td>0</td>\n",
       "      <td>3</td>\n",
       "      <td>CIS</td>\n",
       "      <td>iPhone</td>\n",
       "    </tr>\n",
       "    <tr>\n",
       "      <th>1</th>\n",
       "      <td>2530F72E221829FB</td>\n",
       "      <td>85003A206CBDAC6F</td>\n",
       "      <td>2025-08-15</td>\n",
       "      <td>2025-08-15 16:42:14</td>\n",
       "      <td>2025-08-15</td>\n",
       "      <td>1</td>\n",
       "      <td>0</td>\n",
       "      <td>4</td>\n",
       "      <td>MENA</td>\n",
       "      <td>Android</td>\n",
       "    </tr>\n",
       "    <tr>\n",
       "      <th>2</th>\n",
       "      <td>876E020A4FC512F5</td>\n",
       "      <td>3677423E49D72DEE</td>\n",
       "      <td>2025-08-15</td>\n",
       "      <td>2025-08-15 12:30:00</td>\n",
       "      <td>2025-08-15</td>\n",
       "      <td>1</td>\n",
       "      <td>0</td>\n",
       "      <td>4</td>\n",
       "      <td>EU</td>\n",
       "      <td>PC</td>\n",
       "    </tr>\n",
       "    <tr>\n",
       "      <th>3</th>\n",
       "      <td>2640B349E1D81584</td>\n",
       "      <td>956B45F5915CA225</td>\n",
       "      <td>2025-08-15</td>\n",
       "      <td>2025-08-15 15:31:31</td>\n",
       "      <td>2025-08-15</td>\n",
       "      <td>1</td>\n",
       "      <td>0</td>\n",
       "      <td>4</td>\n",
       "      <td>CIS</td>\n",
       "      <td>Android</td>\n",
       "    </tr>\n",
       "    <tr>\n",
       "      <th>4</th>\n",
       "      <td>94E1CBFAEF1F5EE9</td>\n",
       "      <td>83BF0DA35F9F1F40</td>\n",
       "      <td>2025-08-15</td>\n",
       "      <td>2025-08-15 21:33:53</td>\n",
       "      <td>2025-08-15</td>\n",
       "      <td>1</td>\n",
       "      <td>0</td>\n",
       "      <td>3</td>\n",
       "      <td>CIS</td>\n",
       "      <td>Android</td>\n",
       "    </tr>\n",
       "  </tbody>\n",
       "</table>\n",
       "</div>"
      ],
      "text/plain": [
       "            user_id        session_id session_date     session_start_ts  \\\n",
       "0  E302123B7000BFE4  F9AF61A0C2023832   2025-08-15  2025-08-15 17:47:35   \n",
       "1  2530F72E221829FB  85003A206CBDAC6F   2025-08-15  2025-08-15 16:42:14   \n",
       "2  876E020A4FC512F5  3677423E49D72DEE   2025-08-15  2025-08-15 12:30:00   \n",
       "3  2640B349E1D81584  956B45F5915CA225   2025-08-15  2025-08-15 15:31:31   \n",
       "4  94E1CBFAEF1F5EE9  83BF0DA35F9F1F40   2025-08-15  2025-08-15 21:33:53   \n",
       "\n",
       "  install_date  session_number  registration_flag  page_counter region  \\\n",
       "0   2025-08-15               1                  0             3    CIS   \n",
       "1   2025-08-15               1                  0             4   MENA   \n",
       "2   2025-08-15               1                  0             4     EU   \n",
       "3   2025-08-15               1                  0             4    CIS   \n",
       "4   2025-08-15               1                  0             3    CIS   \n",
       "\n",
       "    device  \n",
       "0   iPhone  \n",
       "1  Android  \n",
       "2       PC  \n",
       "3  Android  \n",
       "4  Android  "
      ]
     },
     "metadata": {},
     "output_type": "display_data"
    }
   ],
   "source": [
    "# Выводим первые пять строк\n",
    "display(sessions_history.head())"
   ]
  },
  {
   "cell_type": "markdown",
   "metadata": {
    "id": "qTDoiODz0eMo"
   },
   "source": [
    "#### 1.2. Знакомство с данными"
   ]
  },
  {
   "cell_type": "code",
   "execution_count": 5,
   "metadata": {
    "id": "PWZO9vTIPbPN"
   },
   "outputs": [],
   "source": [
    "# Рассчитываем количество уникальных сессий для каждого пользователя\n",
    "session_counts = sessions_history.groupby('user_id')['session_id'].nunique().reset_index()\n",
    "session_counts.columns = ['user_id', 'session_count']"
   ]
  },
  {
   "cell_type": "code",
   "execution_count": 6,
   "metadata": {},
   "outputs": [],
   "source": [
    "# Находим пользователя с наибольшим количеством сессий\n",
    "max_sessions_user = session_counts.loc[session_counts['session_count'].idxmax(), 'user_id']"
   ]
  },
  {
   "cell_type": "code",
   "execution_count": 7,
   "metadata": {},
   "outputs": [
    {
     "data": {
      "text/html": [
       "<div>\n",
       "<style scoped>\n",
       "    .dataframe tbody tr th:only-of-type {\n",
       "        vertical-align: middle;\n",
       "    }\n",
       "\n",
       "    .dataframe tbody tr th {\n",
       "        vertical-align: top;\n",
       "    }\n",
       "\n",
       "    .dataframe thead th {\n",
       "        text-align: right;\n",
       "    }\n",
       "</style>\n",
       "<table border=\"1\" class=\"dataframe\">\n",
       "  <thead>\n",
       "    <tr style=\"text-align: right;\">\n",
       "      <th></th>\n",
       "      <th>user_id</th>\n",
       "      <th>session_id</th>\n",
       "      <th>session_date</th>\n",
       "      <th>session_start_ts</th>\n",
       "      <th>install_date</th>\n",
       "      <th>session_number</th>\n",
       "      <th>registration_flag</th>\n",
       "      <th>page_counter</th>\n",
       "      <th>region</th>\n",
       "      <th>device</th>\n",
       "    </tr>\n",
       "  </thead>\n",
       "  <tbody>\n",
       "    <tr>\n",
       "      <th>115558</th>\n",
       "      <td>10E0DEFC1ABDBBE0</td>\n",
       "      <td>B8F0423BBFFCF5DC</td>\n",
       "      <td>2025-08-14</td>\n",
       "      <td>2025-08-14 13:57:39</td>\n",
       "      <td>2025-08-14</td>\n",
       "      <td>1</td>\n",
       "      <td>0</td>\n",
       "      <td>4</td>\n",
       "      <td>CIS</td>\n",
       "      <td>Android</td>\n",
       "    </tr>\n",
       "    <tr>\n",
       "      <th>191751</th>\n",
       "      <td>10E0DEFC1ABDBBE0</td>\n",
       "      <td>87CA2FA549473837</td>\n",
       "      <td>2025-08-15</td>\n",
       "      <td>2025-08-15 16:42:10</td>\n",
       "      <td>2025-08-14</td>\n",
       "      <td>2</td>\n",
       "      <td>0</td>\n",
       "      <td>3</td>\n",
       "      <td>CIS</td>\n",
       "      <td>Android</td>\n",
       "    </tr>\n",
       "    <tr>\n",
       "      <th>239370</th>\n",
       "      <td>10E0DEFC1ABDBBE0</td>\n",
       "      <td>4ADD8011DCDCE318</td>\n",
       "      <td>2025-08-16</td>\n",
       "      <td>2025-08-16 19:53:21</td>\n",
       "      <td>2025-08-14</td>\n",
       "      <td>3</td>\n",
       "      <td>0</td>\n",
       "      <td>3</td>\n",
       "      <td>CIS</td>\n",
       "      <td>Android</td>\n",
       "    </tr>\n",
       "    <tr>\n",
       "      <th>274629</th>\n",
       "      <td>10E0DEFC1ABDBBE0</td>\n",
       "      <td>DF0FD0E09BF1F3D7</td>\n",
       "      <td>2025-08-17</td>\n",
       "      <td>2025-08-17 15:03:43</td>\n",
       "      <td>2025-08-14</td>\n",
       "      <td>4</td>\n",
       "      <td>0</td>\n",
       "      <td>1</td>\n",
       "      <td>CIS</td>\n",
       "      <td>Android</td>\n",
       "    </tr>\n",
       "    <tr>\n",
       "      <th>302501</th>\n",
       "      <td>10E0DEFC1ABDBBE0</td>\n",
       "      <td>3C221774B4DE6885</td>\n",
       "      <td>2025-08-18</td>\n",
       "      <td>2025-08-18 17:29:14</td>\n",
       "      <td>2025-08-14</td>\n",
       "      <td>5</td>\n",
       "      <td>0</td>\n",
       "      <td>4</td>\n",
       "      <td>CIS</td>\n",
       "      <td>Android</td>\n",
       "    </tr>\n",
       "    <tr>\n",
       "      <th>325557</th>\n",
       "      <td>10E0DEFC1ABDBBE0</td>\n",
       "      <td>031BD7A67048105B</td>\n",
       "      <td>2025-08-19</td>\n",
       "      <td>2025-08-19 13:23:55</td>\n",
       "      <td>2025-08-14</td>\n",
       "      <td>6</td>\n",
       "      <td>0</td>\n",
       "      <td>2</td>\n",
       "      <td>CIS</td>\n",
       "      <td>Android</td>\n",
       "    </tr>\n",
       "    <tr>\n",
       "      <th>345336</th>\n",
       "      <td>10E0DEFC1ABDBBE0</td>\n",
       "      <td>FF4315CF4AD4B100</td>\n",
       "      <td>2025-08-20</td>\n",
       "      <td>2025-08-20 19:31:54</td>\n",
       "      <td>2025-08-14</td>\n",
       "      <td>7</td>\n",
       "      <td>0</td>\n",
       "      <td>2</td>\n",
       "      <td>CIS</td>\n",
       "      <td>Android</td>\n",
       "    </tr>\n",
       "    <tr>\n",
       "      <th>377532</th>\n",
       "      <td>10E0DEFC1ABDBBE0</td>\n",
       "      <td>4045FEA0747203B4</td>\n",
       "      <td>2025-08-22</td>\n",
       "      <td>2025-08-22 17:54:13</td>\n",
       "      <td>2025-08-14</td>\n",
       "      <td>8</td>\n",
       "      <td>0</td>\n",
       "      <td>2</td>\n",
       "      <td>CIS</td>\n",
       "      <td>Android</td>\n",
       "    </tr>\n",
       "    <tr>\n",
       "      <th>403538</th>\n",
       "      <td>10E0DEFC1ABDBBE0</td>\n",
       "      <td>344B086C421C7F37</td>\n",
       "      <td>2025-08-24</td>\n",
       "      <td>2025-08-24 14:46:13</td>\n",
       "      <td>2025-08-14</td>\n",
       "      <td>9</td>\n",
       "      <td>0</td>\n",
       "      <td>2</td>\n",
       "      <td>CIS</td>\n",
       "      <td>Android</td>\n",
       "    </tr>\n",
       "    <tr>\n",
       "      <th>414743</th>\n",
       "      <td>10E0DEFC1ABDBBE0</td>\n",
       "      <td>054F20BA371E4C9D</td>\n",
       "      <td>2025-08-25</td>\n",
       "      <td>2025-08-25 18:36:41</td>\n",
       "      <td>2025-08-14</td>\n",
       "      <td>10</td>\n",
       "      <td>0</td>\n",
       "      <td>3</td>\n",
       "      <td>CIS</td>\n",
       "      <td>Android</td>\n",
       "    </tr>\n",
       "  </tbody>\n",
       "</table>\n",
       "</div>"
      ],
      "text/plain": [
       "                 user_id        session_id session_date     session_start_ts  \\\n",
       "115558  10E0DEFC1ABDBBE0  B8F0423BBFFCF5DC   2025-08-14  2025-08-14 13:57:39   \n",
       "191751  10E0DEFC1ABDBBE0  87CA2FA549473837   2025-08-15  2025-08-15 16:42:10   \n",
       "239370  10E0DEFC1ABDBBE0  4ADD8011DCDCE318   2025-08-16  2025-08-16 19:53:21   \n",
       "274629  10E0DEFC1ABDBBE0  DF0FD0E09BF1F3D7   2025-08-17  2025-08-17 15:03:43   \n",
       "302501  10E0DEFC1ABDBBE0  3C221774B4DE6885   2025-08-18  2025-08-18 17:29:14   \n",
       "325557  10E0DEFC1ABDBBE0  031BD7A67048105B   2025-08-19  2025-08-19 13:23:55   \n",
       "345336  10E0DEFC1ABDBBE0  FF4315CF4AD4B100   2025-08-20  2025-08-20 19:31:54   \n",
       "377532  10E0DEFC1ABDBBE0  4045FEA0747203B4   2025-08-22  2025-08-22 17:54:13   \n",
       "403538  10E0DEFC1ABDBBE0  344B086C421C7F37   2025-08-24  2025-08-24 14:46:13   \n",
       "414743  10E0DEFC1ABDBBE0  054F20BA371E4C9D   2025-08-25  2025-08-25 18:36:41   \n",
       "\n",
       "       install_date  session_number  registration_flag  page_counter region  \\\n",
       "115558   2025-08-14               1                  0             4    CIS   \n",
       "191751   2025-08-14               2                  0             3    CIS   \n",
       "239370   2025-08-14               3                  0             3    CIS   \n",
       "274629   2025-08-14               4                  0             1    CIS   \n",
       "302501   2025-08-14               5                  0             4    CIS   \n",
       "325557   2025-08-14               6                  0             2    CIS   \n",
       "345336   2025-08-14               7                  0             2    CIS   \n",
       "377532   2025-08-14               8                  0             2    CIS   \n",
       "403538   2025-08-14               9                  0             2    CIS   \n",
       "414743   2025-08-14              10                  0             3    CIS   \n",
       "\n",
       "         device  \n",
       "115558  Android  \n",
       "191751  Android  \n",
       "239370  Android  \n",
       "274629  Android  \n",
       "302501  Android  \n",
       "325557  Android  \n",
       "345336  Android  \n",
       "377532  Android  \n",
       "403538  Android  \n",
       "414743  Android  "
      ]
     },
     "metadata": {},
     "output_type": "display_data"
    }
   ],
   "source": [
    "\n",
    "# Выводим все данные для этого пользователя\n",
    "user_data = sessions_history[sessions_history['user_id'] == max_sessions_user]\n",
    "display(user_data)"
   ]
  },
  {
   "cell_type": "code",
   "execution_count": 8,
   "metadata": {},
   "outputs": [
    {
     "data": {
      "text/html": [
       "<div>\n",
       "<style scoped>\n",
       "    .dataframe tbody tr th:only-of-type {\n",
       "        vertical-align: middle;\n",
       "    }\n",
       "\n",
       "    .dataframe tbody tr th {\n",
       "        vertical-align: top;\n",
       "    }\n",
       "\n",
       "    .dataframe thead th {\n",
       "        text-align: right;\n",
       "    }\n",
       "</style>\n",
       "<table border=\"1\" class=\"dataframe\">\n",
       "  <thead>\n",
       "    <tr style=\"text-align: right;\">\n",
       "      <th></th>\n",
       "      <th>user_id</th>\n",
       "      <th>session_id</th>\n",
       "      <th>session_date</th>\n",
       "      <th>session_start_ts</th>\n",
       "      <th>install_date</th>\n",
       "      <th>session_number</th>\n",
       "      <th>registration_flag</th>\n",
       "      <th>page_counter</th>\n",
       "      <th>region</th>\n",
       "      <th>device</th>\n",
       "    </tr>\n",
       "  </thead>\n",
       "  <tbody>\n",
       "    <tr>\n",
       "      <th>count</th>\n",
       "      <td>10</td>\n",
       "      <td>10</td>\n",
       "      <td>10</td>\n",
       "      <td>10</td>\n",
       "      <td>10</td>\n",
       "      <td>10.00000</td>\n",
       "      <td>10.0</td>\n",
       "      <td>10.000000</td>\n",
       "      <td>10</td>\n",
       "      <td>10</td>\n",
       "    </tr>\n",
       "    <tr>\n",
       "      <th>unique</th>\n",
       "      <td>1</td>\n",
       "      <td>10</td>\n",
       "      <td>10</td>\n",
       "      <td>10</td>\n",
       "      <td>1</td>\n",
       "      <td>NaN</td>\n",
       "      <td>NaN</td>\n",
       "      <td>NaN</td>\n",
       "      <td>1</td>\n",
       "      <td>1</td>\n",
       "    </tr>\n",
       "    <tr>\n",
       "      <th>top</th>\n",
       "      <td>10E0DEFC1ABDBBE0</td>\n",
       "      <td>B8F0423BBFFCF5DC</td>\n",
       "      <td>2025-08-14</td>\n",
       "      <td>2025-08-14 13:57:39</td>\n",
       "      <td>2025-08-14</td>\n",
       "      <td>NaN</td>\n",
       "      <td>NaN</td>\n",
       "      <td>NaN</td>\n",
       "      <td>CIS</td>\n",
       "      <td>Android</td>\n",
       "    </tr>\n",
       "    <tr>\n",
       "      <th>freq</th>\n",
       "      <td>10</td>\n",
       "      <td>1</td>\n",
       "      <td>1</td>\n",
       "      <td>1</td>\n",
       "      <td>10</td>\n",
       "      <td>NaN</td>\n",
       "      <td>NaN</td>\n",
       "      <td>NaN</td>\n",
       "      <td>10</td>\n",
       "      <td>10</td>\n",
       "    </tr>\n",
       "    <tr>\n",
       "      <th>mean</th>\n",
       "      <td>NaN</td>\n",
       "      <td>NaN</td>\n",
       "      <td>NaN</td>\n",
       "      <td>NaN</td>\n",
       "      <td>NaN</td>\n",
       "      <td>5.50000</td>\n",
       "      <td>0.0</td>\n",
       "      <td>2.600000</td>\n",
       "      <td>NaN</td>\n",
       "      <td>NaN</td>\n",
       "    </tr>\n",
       "    <tr>\n",
       "      <th>std</th>\n",
       "      <td>NaN</td>\n",
       "      <td>NaN</td>\n",
       "      <td>NaN</td>\n",
       "      <td>NaN</td>\n",
       "      <td>NaN</td>\n",
       "      <td>3.02765</td>\n",
       "      <td>0.0</td>\n",
       "      <td>0.966092</td>\n",
       "      <td>NaN</td>\n",
       "      <td>NaN</td>\n",
       "    </tr>\n",
       "    <tr>\n",
       "      <th>min</th>\n",
       "      <td>NaN</td>\n",
       "      <td>NaN</td>\n",
       "      <td>NaN</td>\n",
       "      <td>NaN</td>\n",
       "      <td>NaN</td>\n",
       "      <td>1.00000</td>\n",
       "      <td>0.0</td>\n",
       "      <td>1.000000</td>\n",
       "      <td>NaN</td>\n",
       "      <td>NaN</td>\n",
       "    </tr>\n",
       "    <tr>\n",
       "      <th>25%</th>\n",
       "      <td>NaN</td>\n",
       "      <td>NaN</td>\n",
       "      <td>NaN</td>\n",
       "      <td>NaN</td>\n",
       "      <td>NaN</td>\n",
       "      <td>3.25000</td>\n",
       "      <td>0.0</td>\n",
       "      <td>2.000000</td>\n",
       "      <td>NaN</td>\n",
       "      <td>NaN</td>\n",
       "    </tr>\n",
       "    <tr>\n",
       "      <th>50%</th>\n",
       "      <td>NaN</td>\n",
       "      <td>NaN</td>\n",
       "      <td>NaN</td>\n",
       "      <td>NaN</td>\n",
       "      <td>NaN</td>\n",
       "      <td>5.50000</td>\n",
       "      <td>0.0</td>\n",
       "      <td>2.500000</td>\n",
       "      <td>NaN</td>\n",
       "      <td>NaN</td>\n",
       "    </tr>\n",
       "    <tr>\n",
       "      <th>75%</th>\n",
       "      <td>NaN</td>\n",
       "      <td>NaN</td>\n",
       "      <td>NaN</td>\n",
       "      <td>NaN</td>\n",
       "      <td>NaN</td>\n",
       "      <td>7.75000</td>\n",
       "      <td>0.0</td>\n",
       "      <td>3.000000</td>\n",
       "      <td>NaN</td>\n",
       "      <td>NaN</td>\n",
       "    </tr>\n",
       "    <tr>\n",
       "      <th>max</th>\n",
       "      <td>NaN</td>\n",
       "      <td>NaN</td>\n",
       "      <td>NaN</td>\n",
       "      <td>NaN</td>\n",
       "      <td>NaN</td>\n",
       "      <td>10.00000</td>\n",
       "      <td>0.0</td>\n",
       "      <td>4.000000</td>\n",
       "      <td>NaN</td>\n",
       "      <td>NaN</td>\n",
       "    </tr>\n",
       "  </tbody>\n",
       "</table>\n",
       "</div>"
      ],
      "text/plain": [
       "                 user_id        session_id session_date     session_start_ts  \\\n",
       "count                 10                10           10                   10   \n",
       "unique                 1                10           10                   10   \n",
       "top     10E0DEFC1ABDBBE0  B8F0423BBFFCF5DC   2025-08-14  2025-08-14 13:57:39   \n",
       "freq                  10                 1            1                    1   \n",
       "mean                 NaN               NaN          NaN                  NaN   \n",
       "std                  NaN               NaN          NaN                  NaN   \n",
       "min                  NaN               NaN          NaN                  NaN   \n",
       "25%                  NaN               NaN          NaN                  NaN   \n",
       "50%                  NaN               NaN          NaN                  NaN   \n",
       "75%                  NaN               NaN          NaN                  NaN   \n",
       "max                  NaN               NaN          NaN                  NaN   \n",
       "\n",
       "       install_date  session_number  registration_flag  page_counter region  \\\n",
       "count            10        10.00000               10.0     10.000000     10   \n",
       "unique            1             NaN                NaN           NaN      1   \n",
       "top      2025-08-14             NaN                NaN           NaN    CIS   \n",
       "freq             10             NaN                NaN           NaN     10   \n",
       "mean            NaN         5.50000                0.0      2.600000    NaN   \n",
       "std             NaN         3.02765                0.0      0.966092    NaN   \n",
       "min             NaN         1.00000                0.0      1.000000    NaN   \n",
       "25%             NaN         3.25000                0.0      2.000000    NaN   \n",
       "50%             NaN         5.50000                0.0      2.500000    NaN   \n",
       "75%             NaN         7.75000                0.0      3.000000    NaN   \n",
       "max             NaN        10.00000                0.0      4.000000    NaN   \n",
       "\n",
       "         device  \n",
       "count        10  \n",
       "unique        1  \n",
       "top     Android  \n",
       "freq         10  \n",
       "mean        NaN  \n",
       "std         NaN  \n",
       "min         NaN  \n",
       "25%         NaN  \n",
       "50%         NaN  \n",
       "75%         NaN  \n",
       "max         NaN  "
      ]
     },
     "metadata": {},
     "output_type": "display_data"
    }
   ],
   "source": [
    "# Изучение структуры данных\n",
    "display(user_data.describe(include='all'))"
   ]
  },
  {
   "cell_type": "markdown",
   "metadata": {
    "id": "CmcGpJTP0eMq"
   },
   "source": [
    "#### 1.3. Анализ числа регистраций"
   ]
  },
  {
   "cell_type": "code",
   "execution_count": 9,
   "metadata": {},
   "outputs": [],
   "source": [
    "# Преобразуем session_date в формат даты\n",
    "sessions_history['session_date'] = pd.to_datetime(sessions_history['session_date'])"
   ]
  },
  {
   "cell_type": "code",
   "execution_count": 10,
   "metadata": {},
   "outputs": [],
   "source": [
    "# Агрегируем данные по дням: уникальные пользователи и зарегистрированные пользователи\n",
    "daily_stats = sessions_history.groupby('session_date').agg(\n",
    "    total_users=('user_id', 'nunique'),\n",
    "    registered_users=('registration_flag', lambda x: x[x == 1].count())\n",
    ").reset_index()"
   ]
  },
  {
   "cell_type": "code",
   "execution_count": 11,
   "metadata": {},
   "outputs": [],
   "source": [
    "# Рассчитываем долю зарегистрированных пользователей\n",
    "daily_stats['registered_share'] = daily_stats['registered_users'] / daily_stats['total_users']"
   ]
  },
  {
   "cell_type": "code",
   "execution_count": 12,
   "metadata": {},
   "outputs": [
    {
     "data": {
      "image/png": "[encoded data removed]",
      "text/plain": [
       "<Figure size 1200x600 with 1 Axes>"
      ]
     },
     "metadata": {},
     "output_type": "display_data"
    }
   ],
   "source": [
    "# График 1: Общее число пользователей и зарегистрированных пользователей\n",
    "plt.figure(figsize=(12, 6))\n",
    "plt.plot(daily_stats['session_date'], daily_stats['total_users'], label='Все пользователи', color='blue')\n",
    "plt.plot(daily_stats['session_date'], daily_stats['registered_users'], label='Зарегистрированные пользователи', color='green')\n",
    "plt.title('Динамика числа пользователей и зарегистрированных пользователей')\n",
    "plt.xlabel('Дата')\n",
    "plt.ylabel('Количество пользователей')\n",
    "plt.grid(True)\n",
    "plt.legend()\n",
    "plt.xticks(rotation=45)\n",
    "plt.tight_layout()\n",
    "plt.show()"
   ]
  },
  {
   "cell_type": "markdown",
   "metadata": {},
   "source": [
    "Низкая конверсия в регистрацию. Большинство пользователей, активно использующих приложение, не регистрируются. Это может быть связано с недостаточной мотивацией для регистрации (например, отсутствие эксклюзивных функций для зарегистрированных пользователей) или сложным процессом регистрации."
   ]
  },
  {
   "cell_type": "code",
   "execution_count": 13,
   "metadata": {},
   "outputs": [
    {
     "data": {
      "image/png": "[encoded data removed]",
      "text/plain": [
       "<Figure size 1200x600 with 1 Axes>"
      ]
     },
     "metadata": {},
     "output_type": "display_data"
    }
   ],
   "source": [
    "# График 2: Доля зарегистрированных пользователей\n",
    "plt.figure(figsize=(12, 6))\n",
    "plt.plot(daily_stats['session_date'], daily_stats['registered_share'], label='Доля зарегистрированных', color='purple')\n",
    "plt.title('Доля зарегистрированных пользователей от общего числа пользователей')\n",
    "plt.xlabel('Дата')\n",
    "plt.ylabel('Доля зарегистрированных')\n",
    "plt.grid(True)\n",
    "plt.legend()\n",
    "plt.xticks(rotation=45)\n",
    "plt.tight_layout()\n",
    "plt.show()"
   ]
  },
  {
   "cell_type": "markdown",
   "metadata": {},
   "source": [
    "Доля зарегистрированных пользователей выросла с 4% до 12% за рассматриваемый период, что указывает на улучшение конверсии в регистрацию. Несмотря на рост доли, максимальное значение в 12% всё ещё относительно низкое. Это указывает на возможность дальнейшего увеличения конверсии в регистрацию, особенно если приложение сможет удерживать больше пользователей в периоды спада активности."
   ]
  },
  {
   "cell_type": "code",
   "execution_count": 14,
   "metadata": {},
   "outputs": [
    {
     "data": {
      "text/html": [
       "<div>\n",
       "<style scoped>\n",
       "    .dataframe tbody tr th:only-of-type {\n",
       "        vertical-align: middle;\n",
       "    }\n",
       "\n",
       "    .dataframe tbody tr th {\n",
       "        vertical-align: top;\n",
       "    }\n",
       "\n",
       "    .dataframe thead th {\n",
       "        text-align: right;\n",
       "    }\n",
       "</style>\n",
       "<table border=\"1\" class=\"dataframe\">\n",
       "  <thead>\n",
       "    <tr style=\"text-align: right;\">\n",
       "      <th></th>\n",
       "      <th>session_date</th>\n",
       "      <th>total_users</th>\n",
       "      <th>registered_users</th>\n",
       "      <th>registered_share</th>\n",
       "    </tr>\n",
       "  </thead>\n",
       "  <tbody>\n",
       "    <tr>\n",
       "      <th>0</th>\n",
       "      <td>2025-08-11</td>\n",
       "      <td>3919</td>\n",
       "      <td>169</td>\n",
       "      <td>0.043123</td>\n",
       "    </tr>\n",
       "    <tr>\n",
       "      <th>1</th>\n",
       "      <td>2025-08-12</td>\n",
       "      <td>6056</td>\n",
       "      <td>336</td>\n",
       "      <td>0.055482</td>\n",
       "    </tr>\n",
       "    <tr>\n",
       "      <th>2</th>\n",
       "      <td>2025-08-13</td>\n",
       "      <td>8489</td>\n",
       "      <td>464</td>\n",
       "      <td>0.054659</td>\n",
       "    </tr>\n",
       "    <tr>\n",
       "      <th>3</th>\n",
       "      <td>2025-08-14</td>\n",
       "      <td>10321</td>\n",
       "      <td>625</td>\n",
       "      <td>0.060556</td>\n",
       "    </tr>\n",
       "    <tr>\n",
       "      <th>4</th>\n",
       "      <td>2025-08-15</td>\n",
       "      <td>14065</td>\n",
       "      <td>840</td>\n",
       "      <td>0.059723</td>\n",
       "    </tr>\n",
       "  </tbody>\n",
       "</table>\n",
       "</div>"
      ],
      "text/plain": [
       "  session_date  total_users  registered_users  registered_share\n",
       "0   2025-08-11         3919               169          0.043123\n",
       "1   2025-08-12         6056               336          0.055482\n",
       "2   2025-08-13         8489               464          0.054659\n",
       "3   2025-08-14        10321               625          0.060556\n",
       "4   2025-08-15        14065               840          0.059723"
      ]
     },
     "metadata": {},
     "output_type": "display_data"
    }
   ],
   "source": [
    "# Выводим статистику для проверки\n",
    "display(daily_stats.head())"
   ]
  },
  {
   "cell_type": "markdown",
   "metadata": {
    "id": "UR7D7RhF0eMr"
   },
   "source": [
    "#### 1.4. Анализ числа просмотренных страниц"
   ]
  },
  {
   "cell_type": "code",
   "execution_count": 15,
   "metadata": {},
   "outputs": [],
   "source": [
    "# Находим количество сессий для каждого значения просмотренных страниц\n",
    "page_counts = sessions_history['page_counter'].value_counts().sort_index()"
   ]
  },
  {
   "cell_type": "code",
   "execution_count": 16,
   "metadata": {},
   "outputs": [
    {
     "data": {
      "image/png": "[encoded data removed]",
      "text/plain": [
       "<Figure size 1200x600 with 1 Axes>"
      ]
     },
     "metadata": {},
     "output_type": "display_data"
    }
   ],
   "source": [
    "# Строим столбчатую диаграмму\n",
    "plt.figure(figsize=(12, 6))\n",
    "plt.bar(page_counts.index, page_counts.values, color='skyblue')\n",
    "plt.title('Распределение числа сессий по количеству просмотренных страниц')\n",
    "plt.xlabel('Количество просмотренных страниц')\n",
    "plt.ylabel('Количество сессий')\n",
    "plt.grid(True, axis='y')\n",
    "plt.tight_layout()\n",
    "plt.show()"
   ]
  },
  {
   "cell_type": "markdown",
   "metadata": {},
   "source": [
    "Анализ графика и выводы:\n",
    "1. Большинство сессий короткие. Около 160,000 сессий (пик на графике) имеют 3 просмотренные страницы, что указывает на типичную низкую вовлеченность пользователей.\n",
    "2. Резкое снижение активности после 3 страниц — лишь ~26,000 сессий с 5 страницами и почти нет сессий с 6+ страницами, показывая, что пользователи редко углубляются в контент.\n",
    "3. Потенциал для улучшения. Низкое число просмотров страниц (в основном 1–4) говорит о необходимости улучшения контента или интерфейса, чтобы удерживать пользователей дольше."
   ]
  },
  {
   "cell_type": "code",
   "execution_count": 17,
   "metadata": {},
   "outputs": [
    {
     "data": {
      "text/plain": [
       "page_counter\n",
       "1     29160\n",
       "2    105536\n",
       "3    166690\n",
       "4    105569\n",
       "5     26288\n",
       "6      2589\n",
       "7        92\n",
       "Name: count, dtype: int64"
      ]
     },
     "metadata": {},
     "output_type": "display_data"
    }
   ],
   "source": [
    "# Выводим первые несколько строк для проверки\n",
    "display(page_counts.head(10))"
   ]
  },
  {
   "cell_type": "markdown",
   "metadata": {
    "id": "xDltSpVP0eMr"
   },
   "source": [
    "#### 1.5. Доля пользователей, просмотревших более четырёх страниц"
   ]
  },
  {
   "cell_type": "code",
   "execution_count": 18,
   "metadata": {
    "id": "iygaPfixPYMW"
   },
   "outputs": [],
   "source": [
    "# Преобразуем session_date в формат даты\n",
    "sessions_history['session_date'] = pd.to_datetime(sessions_history['session_date'])"
   ]
  },
  {
   "cell_type": "code",
   "execution_count": 19,
   "metadata": {},
   "outputs": [],
   "source": [
    "# Создаем столбец good_session: 1, если page_counter >= 4, иначе 0\n",
    "sessions_history['good_session'] = (sessions_history['page_counter'] >= 4).astype(int)"
   ]
  },
  {
   "cell_type": "code",
   "execution_count": 20,
   "metadata": {},
   "outputs": [],
   "source": [
    "# Агрегируем данные по дням: общее число сессий и число \"успешных\" сессий\n",
    "daily_stats = sessions_history.groupby('session_date').agg(\n",
    "    total_sessions=('session_id', 'count'),\n",
    "    good_sessions=('good_session', 'sum')\n",
    ").reset_index()"
   ]
  },
  {
   "cell_type": "code",
   "execution_count": 21,
   "metadata": {},
   "outputs": [],
   "source": [
    "# Рассчитываем долю успешных сессий\n",
    "daily_stats['good_session_share'] = daily_stats['good_sessions'] / daily_stats['total_sessions']"
   ]
  },
  {
   "cell_type": "code",
   "execution_count": 22,
   "metadata": {},
   "outputs": [
    {
     "data": {
      "image/png": "[encoded data removed]",
      "text/plain": [
       "<Figure size 1200x600 with 1 Axes>"
      ]
     },
     "metadata": {},
     "output_type": "display_data"
    }
   ],
   "source": [
    "# Строим линейный график\n",
    "plt.figure(figsize=(12, 6))\n",
    "plt.plot(daily_stats['session_date'], daily_stats['good_session_share'], label='Доля успешных сессий', color='purple')\n",
    "plt.title('Доля сессий с 4 и более просмотренными страницами по дням')\n",
    "plt.xlabel('Дата')\n",
    "plt.ylabel('Доля успешных сессий')\n",
    "plt.grid(True)\n",
    "plt.legend()\n",
    "plt.xticks(rotation=45)\n",
    "plt.tight_layout()\n",
    "plt.show()"
   ]
  },
  {
   "cell_type": "markdown",
   "metadata": {},
   "source": [
    "Анализ графика и выводы:\n",
    "\n",
    "1. Стабильная доля успешных сессий. Доля сессий с 4+ просмотренными страницами колеблется в диапазоне 0.29–0.32 (29–32%) без явного тренда роста или спада, указывая на стабильную, но невысокую вовлеченность.\n",
    "2. Высокая волатильность. Резкие скачки и падения доли (например, пики около 20 августа и 20 сентября) могут быть связаны с изменениями в активности пользователей или качеством контента в отдельные дни.\n",
    "3. Низкий уровень вовлеченности. Лишь около трети сессий имеют 4+ просмотра страниц, что говорит о недостаточной удовлетворенности большинства пользователей контентом или рекомендациями."
   ]
  },
  {
   "cell_type": "code",
   "execution_count": 23,
   "metadata": {},
   "outputs": [
    {
     "data": {
      "text/html": [
       "<div>\n",
       "<style scoped>\n",
       "    .dataframe tbody tr th:only-of-type {\n",
       "        vertical-align: middle;\n",
       "    }\n",
       "\n",
       "    .dataframe tbody tr th {\n",
       "        vertical-align: top;\n",
       "    }\n",
       "\n",
       "    .dataframe thead th {\n",
       "        text-align: right;\n",
       "    }\n",
       "</style>\n",
       "<table border=\"1\" class=\"dataframe\">\n",
       "  <thead>\n",
       "    <tr style=\"text-align: right;\">\n",
       "      <th></th>\n",
       "      <th>session_date</th>\n",
       "      <th>total_sessions</th>\n",
       "      <th>good_sessions</th>\n",
       "      <th>good_session_share</th>\n",
       "    </tr>\n",
       "  </thead>\n",
       "  <tbody>\n",
       "    <tr>\n",
       "      <th>0</th>\n",
       "      <td>2025-08-11</td>\n",
       "      <td>3919</td>\n",
       "      <td>1226</td>\n",
       "      <td>0.312835</td>\n",
       "    </tr>\n",
       "    <tr>\n",
       "      <th>1</th>\n",
       "      <td>2025-08-12</td>\n",
       "      <td>6056</td>\n",
       "      <td>1829</td>\n",
       "      <td>0.302015</td>\n",
       "    </tr>\n",
       "    <tr>\n",
       "      <th>2</th>\n",
       "      <td>2025-08-13</td>\n",
       "      <td>8489</td>\n",
       "      <td>2604</td>\n",
       "      <td>0.306750</td>\n",
       "    </tr>\n",
       "    <tr>\n",
       "      <th>3</th>\n",
       "      <td>2025-08-14</td>\n",
       "      <td>10321</td>\n",
       "      <td>3262</td>\n",
       "      <td>0.316055</td>\n",
       "    </tr>\n",
       "    <tr>\n",
       "      <th>4</th>\n",
       "      <td>2025-08-15</td>\n",
       "      <td>14065</td>\n",
       "      <td>4289</td>\n",
       "      <td>0.304941</td>\n",
       "    </tr>\n",
       "  </tbody>\n",
       "</table>\n",
       "</div>"
      ],
      "text/plain": [
       "  session_date  total_sessions  good_sessions  good_session_share\n",
       "0   2025-08-11            3919           1226            0.312835\n",
       "1   2025-08-12            6056           1829            0.302015\n",
       "2   2025-08-13            8489           2604            0.306750\n",
       "3   2025-08-14           10321           3262            0.316055\n",
       "4   2025-08-15           14065           4289            0.304941"
      ]
     },
     "metadata": {},
     "output_type": "display_data"
    }
   ],
   "source": [
    "# Выводим первые несколько строк для проверки\n",
    "display(daily_stats.head())"
   ]
  },
  {
   "cell_type": "markdown",
   "metadata": {
    "id": "21JcG77Y0eMt"
   },
   "source": [
    "### 2. Подготовка к тесту"
   ]
  },
  {
   "cell_type": "markdown",
   "metadata": {
    "id": "uzaeln270eMt"
   },
   "source": [
    "#### 2.1. Расчёт размера выборки\n",
    "При расчёте размера выборки мы будем использовать метод `solve_power()` из класса `power.NormalIndPower` модуля `statsmodels.stats`."
   ]
  },
  {
   "cell_type": "code",
   "execution_count": 24,
   "metadata": {
    "id": "zSxJyPGPNdaI"
   },
   "outputs": [
    {
     "name": "stdout",
     "output_type": "stream",
     "text": [
      "Необходимый размер выборки для каждой группы: 17441\n"
     ]
    }
   ],
   "source": [
    "# Задаём параметры\n",
    "alpha = 0.05  # Уровень значимости\n",
    "beta = 0.2  # Ошибка второго рода\n",
    "power = 1 - beta  # Мощность теста = 1 - beta = 0.8\n",
    "mde = 0.03  # Минимальный детектируемый эффект\n",
    "\n",
    "# Инициализируем класс NormalIndPower\n",
    "power_analysis = NormalIndPower()\n",
    "\n",
    "# Рассчитываем размер выборки\n",
    "sample_size = power_analysis.solve_power(\n",
    "    effect_size = mde,\n",
    "    power = power,\n",
    "    alpha = alpha,\n",
    "    ratio = 1 # Равномерное распределение выборок\n",
    ")\n",
    "\n",
    "print(f\"Необходимый размер выборки для каждой группы: {int(sample_size)}\")"
   ]
  },
  {
   "cell_type": "markdown",
   "metadata": {
    "id": "qLEv4RoV0eMu"
   },
   "source": [
    "#### 2.1. Расчёт длительности A/B-теста"
   ]
  },
  {
   "cell_type": "code",
   "execution_count": 25,
   "metadata": {},
   "outputs": [],
   "source": [
    "# Рассчитываем количество уникальных пользователей по дням\n",
    "daily_users = sessions_history.groupby('session_date')['user_id'].nunique().reset_index()"
   ]
  },
  {
   "cell_type": "code",
   "execution_count": 26,
   "metadata": {},
   "outputs": [],
   "source": [
    "# Находим среднее количество уникальных пользователей в день\n",
    "avg_daily_users = int(daily_users['user_id'].mean())"
   ]
  },
  {
   "cell_type": "code",
   "execution_count": 27,
   "metadata": {},
   "outputs": [],
   "source": [
    "# Размер выборки для обеих групп (17,441 для каждой, всего 34,882)\n",
    "total_sample_size = 17441 * 2"
   ]
  },
  {
   "cell_type": "code",
   "execution_count": 28,
   "metadata": {},
   "outputs": [],
   "source": [
    "# Рассчитываем длительность теста в днях, округляя вверх\n",
    "test_duration = ceil(total_sample_size / avg_daily_users)"
   ]
  },
  {
   "cell_type": "code",
   "execution_count": 29,
   "metadata": {
    "id": "KZDRbryDOGHa"
   },
   "outputs": [
    {
     "name": "stdout",
     "output_type": "stream",
     "text": [
      "Рассчитанная минимальная длительность A/B-теста при текущем уровне трафика в 9907 пользователей в день составит 4 дней\n"
     ]
    }
   ],
   "source": [
    "print(f\"Рассчитанная минимальная длительность A/B-теста при текущем уровне трафика в {avg_daily_users} пользователей в день составит {test_duration} дней\")"
   ]
  },
  {
   "cell_type": "markdown",
   "metadata": {},
   "source": [
    "Рекомендую проводить тест 7 дней для получения максимальной полноты данных с учётом колебаний в выходные дни."
   ]
  },
  {
   "cell_type": "markdown",
   "metadata": {
    "id": "ZuvtAdha0eMv"
   },
   "source": [
    "### 3. Мониторинг А/В-теста"
   ]
  },
  {
   "cell_type": "markdown",
   "metadata": {
    "id": "jq5sE3Ya0eMv"
   },
   "source": [
    "#### 3.1. Проверка распределения пользователей\n",
    "\n",
    "A/B-тест успешно запущен, и уже доступны данные за первые три дня. На этом этапе нужно убедиться, что всё идёт хорошо: пользователи разделены правильным образом, а интересующие метрики корректно считаются."
   ]
  },
  {
   "cell_type": "code",
   "execution_count": 30,
   "metadata": {},
   "outputs": [],
   "source": [
    "# Считываем данные за первые три дня теста\n",
    "sessions_test_part = pd.read_csv('https://code.s3.yandex.net/datasets/sessions_project_test_part.csv')"
   ]
  },
  {
   "cell_type": "code",
   "execution_count": 31,
   "metadata": {},
   "outputs": [],
   "source": [
    "# Преобразуем session_date в формат даты\n",
    "sessions_test_part['session_date'] = pd.to_datetime(sessions_test_part['session_date'])"
   ]
  },
  {
   "cell_type": "code",
   "execution_count": 32,
   "metadata": {},
   "outputs": [],
   "source": [
    "# Выбираем первый день наблюдения\n",
    "first_day = sessions_test_part['session_date'].min()\n",
    "first_day_data = sessions_test_part[sessions_test_part['session_date'] == first_day]"
   ]
  },
  {
   "cell_type": "code",
   "execution_count": 33,
   "metadata": {},
   "outputs": [],
   "source": [
    "# Рассчитываем количество уникальных пользователей в каждой группе\n",
    "user_counts = first_day_data.groupby('test_group')['user_id'].nunique().reset_index()\n",
    "user_counts.columns = ['test_group', 'user_count']"
   ]
  },
  {
   "cell_type": "code",
   "execution_count": 34,
   "metadata": {},
   "outputs": [],
   "source": [
    "# Извлекаем количество пользователей в группах A и B\n",
    "count_a = user_counts[user_counts['test_group'] == 'A']['user_count'].iloc[0]\n",
    "count_b = user_counts[user_counts['test_group'] == 'B']['user_count'].iloc[0]"
   ]
  },
  {
   "cell_type": "code",
   "execution_count": 35,
   "metadata": {},
   "outputs": [],
   "source": [
    "# Рассчитываем процентную разницу\n",
    "percent_difference = 100 * abs(count_a - count_b) / count_a"
   ]
  },
  {
   "cell_type": "code",
   "execution_count": 36,
   "metadata": {},
   "outputs": [
    {
     "name": "stdout",
     "output_type": "stream",
     "text": [
      "Количество уникальных пользователей в группе A: 1477\n",
      "Количество уникальных пользователей в группе B: 1466\n",
      "Процентная разница между группами A и B: 0.74%\n"
     ]
    }
   ],
   "source": [
    "# Выводим результаты\n",
    "print(f\"Количество уникальных пользователей в группе A: {count_a}\")\n",
    "print(f\"Количество уникальных пользователей в группе B: {count_b}\")\n",
    "print(f\"Процентная разница между группами A и B: {percent_difference:.2f}%\")"
   ]
  },
  {
   "cell_type": "code",
   "execution_count": 37,
   "metadata": {
    "id": "G1bqIzDJOUiz"
   },
   "outputs": [
    {
     "data": {
      "image/png": "[encoded data removed]",
      "text/plain": [
       "<Figure size 800x600 with 1 Axes>"
      ]
     },
     "metadata": {},
     "output_type": "display_data"
    }
   ],
   "source": [
    "# Строим столбчатую диаграмму для визуализации\n",
    "plt.figure(figsize=(8, 6))\n",
    "plt.bar(user_counts['test_group'], user_counts['user_count'], color=['skyblue', 'lightgreen'])\n",
    "plt.title('Количество уникальных пользователей в группах A и B')\n",
    "plt.xlabel('Экспериментальная группа')\n",
    "plt.ylabel('Количество пользователей')\n",
    "plt.grid(True, axis='y')\n",
    "plt.tight_layout()\n",
    "plt.show()"
   ]
  },
  {
   "cell_type": "markdown",
   "metadata": {},
   "source": [
    "Равномерное распределение. Группы A (1477 пользователей) и B (1466 пользователей) почти идентичны по численности, с процентной разницей всего 0.74%, что указывает на корректное сплитование."
   ]
  },
  {
   "cell_type": "markdown",
   "metadata": {
    "id": "sgpNY5bv0eM0"
   },
   "source": [
    "#### 3.2. Проверка пересечений пользователей"
   ]
  },
  {
   "cell_type": "code",
   "execution_count": 38,
   "metadata": {
    "id": "E72ozN9FOX1u"
   },
   "outputs": [],
   "source": [
    "# Проверяем пересечения пользователей между группами с помощью группировки\n",
    "overlaps = sessions_test_part.groupby('user_id').agg({'test_group': 'nunique'}).query('test_group > 1')"
   ]
  },
  {
   "cell_type": "code",
   "execution_count": 39,
   "metadata": {},
   "outputs": [
    {
     "name": "stdout",
     "output_type": "stream",
     "text": [
      "Пересечений пользователей между группами A и B нет.\n"
     ]
    }
   ],
   "source": [
    "# Выводим результат\n",
    "if not overlaps.empty:\n",
    "    print(f\"Количество пользователей, попавших в обе группы: {len(overlaps)}\")\n",
    "    print(\"Пользователи в пересечении:\")\n",
    "    display(overlaps)\n",
    "else:\n",
    "    print(\"Пересечений пользователей между группами A и B нет.\")"
   ]
  },
  {
   "cell_type": "markdown",
   "metadata": {
    "id": "6RvkNLrg0eM1"
   },
   "source": [
    "#### 3.3. Равномерность разделения пользователей по устройствам\n"
   ]
  },
  {
   "cell_type": "code",
   "execution_count": 40,
   "metadata": {},
   "outputs": [],
   "source": [
    "# Извлекаем уникальных пользователей с их типами устройств для каждой группы\n",
    "# Берем только последнюю запись для каждого пользователя, чтобы избежать дублирования\n",
    "unique_users = sessions_test_part.drop_duplicates(subset=['user_id'], keep='last')"
   ]
  },
  {
   "cell_type": "code",
   "execution_count": 41,
   "metadata": {},
   "outputs": [],
   "source": [
    "# Фильтруем данные по группам A и B\n",
    "group_a = unique_users[unique_users['test_group'] == 'A']\n",
    "group_b = unique_users[unique_users['test_group'] == 'B']"
   ]
  },
  {
   "cell_type": "code",
   "execution_count": 42,
   "metadata": {},
   "outputs": [],
   "source": [
    "# Рассчитываем долю каждого типа устройства в группах\n",
    "device_share_a = group_a['device'].value_counts(normalize=True).sort_index()\n",
    "device_share_b = group_b['device'].value_counts(normalize=True).sort_index()"
   ]
  },
  {
   "cell_type": "code",
   "execution_count": 43,
   "metadata": {},
   "outputs": [
    {
     "data": {
      "image/png": "[encoded data removed]",
      "text/plain": [
       "<Figure size 1200x600 with 2 Axes>"
      ]
     },
     "metadata": {},
     "output_type": "display_data"
    }
   ],
   "source": [
    "# Создаем фигуру с двумя подграфиками\n",
    "fig, (ax1, ax2) = plt.subplots(1, 2, figsize=(12, 6))\n",
    "\n",
    "# Диаграмма для группы A\n",
    "ax1.bar(device_share_a.index, device_share_a.values, color='skyblue')\n",
    "ax1.set_title('Доля типов устройств в группе A')\n",
    "ax1.set_xlabel('Тип устройства')\n",
    "ax1.set_ylabel('Доля пользователей')\n",
    "ax1.grid(True, axis='y')\n",
    "ax1.tick_params(axis='x')\n",
    "ax1.set_ylim(0, max(device_share_a.max(), device_share_b.max()) + 0.05)  # Устанавливаем одинаковый масштаб\n",
    "\n",
    "# Диаграмма для группы B\n",
    "ax2.bar(device_share_b.index, device_share_b.values, color='lightgreen')\n",
    "ax2.set_title('Доля типов устройств в группе B')\n",
    "ax2.set_xlabel('Тип устройства')\n",
    "ax2.set_ylabel('Доля пользователей')\n",
    "ax2.grid(True, axis='y')\n",
    "ax2.tick_params(axis='x')\n",
    "ax2.set_ylim(0, max(device_share_a.max(), device_share_b.max()) + 0.05)  # Устанавливаем одинаковый масштаб\n",
    "\n",
    "# Настраиваем общий заголовок и расположение\n",
    "plt.suptitle('Сравнение распределения типов устройств в группах A и B')\n",
    "plt.tight_layout(rect=[0, 0, 1, 0.95])\n",
    "plt.show()"
   ]
  },
  {
   "cell_type": "markdown",
   "metadata": {},
   "source": [
    "Распределение типов устройств между группами A и B можно считать равномерным , так как различия незначительны (менее 2%)."
   ]
  },
  {
   "cell_type": "code",
   "execution_count": 44,
   "metadata": {},
   "outputs": [
    {
     "name": "stdout",
     "output_type": "stream",
     "text": [
      "Доля устройств в группе A:\n"
     ]
    },
    {
     "data": {
      "text/plain": [
       "device\n",
       "Android    0.444144\n",
       "Mac        0.105619\n",
       "PC         0.249831\n",
       "iPhone     0.200406\n",
       "Name: proportion, dtype: float64"
      ]
     },
     "metadata": {},
     "output_type": "display_data"
    },
    {
     "name": "stdout",
     "output_type": "stream",
     "text": [
      "Доля устройств в группе B:\n"
     ]
    },
    {
     "data": {
      "text/plain": [
       "device\n",
       "Android    0.455662\n",
       "Mac        0.100955\n",
       "PC         0.259891\n",
       "iPhone     0.183492\n",
       "Name: proportion, dtype: float64"
      ]
     },
     "metadata": {},
     "output_type": "display_data"
    }
   ],
   "source": [
    "# Выводим доли для проверки\n",
    "print(\"Доля устройств в группе A:\")\n",
    "display(device_share_a)\n",
    "print(\"Доля устройств в группе B:\")\n",
    "display(device_share_b)"
   ]
  },
  {
   "cell_type": "markdown",
   "metadata": {
    "id": "gAgmP6vo0eM1"
   },
   "source": [
    "#### 3.4. Равномерность распределения пользователей по регионам"
   ]
  },
  {
   "cell_type": "code",
   "execution_count": 45,
   "metadata": {},
   "outputs": [],
   "source": [
    "# Убираем дубликаты пользователей, оставляем последнюю запись\n",
    "unique_users = sessions_test_part.drop_duplicates(subset=['user_id'], keep='last')"
   ]
  },
  {
   "cell_type": "code",
   "execution_count": 46,
   "metadata": {},
   "outputs": [],
   "source": [
    "# Фильтрация по группам A и B\n",
    "group_a = unique_users[unique_users['test_group'] == 'A']\n",
    "group_b = unique_users[unique_users['test_group'] == 'B']"
   ]
  },
  {
   "cell_type": "code",
   "execution_count": 47,
   "metadata": {},
   "outputs": [],
   "source": [
    "# Расчет долей по регионам\n",
    "region_share_a = group_a['region'].value_counts(normalize=True).sort_index()\n",
    "region_share_b = group_b['region'].value_counts(normalize=True).sort_index()"
   ]
  },
  {
   "cell_type": "code",
   "execution_count": 48,
   "metadata": {},
   "outputs": [
    {
     "data": {
      "image/png": "[encoded data removed]",
      "text/plain": [
       "<Figure size 1000x600 with 1 Axes>"
      ]
     },
     "metadata": {},
     "output_type": "display_data"
    }
   ],
   "source": [
    "# Создаем фигуру\n",
    "fig, ax = plt.subplots(figsize=(10, 6))\n",
    "\n",
    "# Позиции для столбцов\n",
    "x = range(len(region_share_a.index))  # Количество регионов\n",
    "bar_width = 0.35\n",
    "\n",
    "# Столбцы для группы A и B\n",
    "bars_a = ax.bar(x, region_share_a.values, bar_width, label='Группа A', color='skyblue')\n",
    "bars_b = ax.bar([i + bar_width for i in x], region_share_b.values, bar_width, label='Группа B', color='lightgreen')\n",
    "\n",
    "# Подписи осей и заголовок\n",
    "ax.set_title('Сравнение распределения регионов в группах A и B')\n",
    "ax.set_xlabel('Регион')\n",
    "ax.set_ylabel('Доля пользователей')\n",
    "ax.set_xticks([i + bar_width / 2 for i in x])\n",
    "ax.set_xticklabels(region_share_a.index)\n",
    "ax.grid(True, axis='y')\n",
    "ax.legend(loc='upper center')\n",
    "\n",
    "plt.tight_layout()\n",
    "plt.show()"
   ]
  },
  {
   "cell_type": "markdown",
   "metadata": {},
   "source": [
    "Распределение регионов между группами A и B можно считать равномерным , все различия находятся в пределах 0.5%, что является допустимым отклонением. "
   ]
  },
  {
   "cell_type": "code",
   "execution_count": 68,
   "metadata": {},
   "outputs": [
    {
     "name": "stdout",
     "output_type": "stream",
     "text": [
      "Доля регионов в группе A:\n"
     ]
    },
    {
     "data": {
      "text/plain": [
       "region\n",
       "CIS     0.436019\n",
       "EU      0.151659\n",
       "MENA    0.412322\n",
       "Name: proportion, dtype: float64"
      ]
     },
     "metadata": {},
     "output_type": "display_data"
    },
    {
     "name": "stdout",
     "output_type": "stream",
     "text": [
      "Доля регионов в группе B:\n"
     ]
    },
    {
     "data": {
      "text/plain": [
       "region\n",
       "CIS     0.439973\n",
       "EU      0.148022\n",
       "MENA    0.412005\n",
       "Name: proportion, dtype: float64"
      ]
     },
     "metadata": {},
     "output_type": "display_data"
    }
   ],
   "source": [
    "# Выводим доли для проверки\n",
    "print(\"Доля регионов в группе A:\")\n",
    "display(region_share_a)\n",
    "print(\"Доля регионов в группе B:\")\n",
    "display(region_share_b)"
   ]
  },
  {
   "cell_type": "markdown",
   "metadata": {
    "id": "X2WSZ-sDrSUi"
   },
   "source": [
    "#### 3.5. Выводы после проверки A/B-теста"
   ]
  },
  {
   "cell_type": "markdown",
   "metadata": {
    "id": "dDELHlAcOi8d"
   },
   "source": [
    "1. Различие в количестве пользователей между группами : \n",
    "    * Количество уникальных пользователей в группах A и B за первый день теста составило 1477 и 1466 соответственно.\n",
    "    * Процентная разница между группами равна 0.74% , что является минимальным отклонением.\n",
    "    * Разделение пользователей между группами выполнено корректно, и различие в численности групп незначительно.\n",
    "         \n",
    "\n",
    "2. Независимость выборок : \n",
    "    * Проверка на пересечение пользователей между группами A и B показала, что пересечений нет .\n",
    "    * Выборки полностью независимы, и ни один пользователь не попал одновременно в обе группы. Это подтверждает корректность системы сплитования.\n",
    "         \n",
    "\n",
    "3. Равномерное распределение по категориальным переменным : \n",
    "    * Устройства :\n",
    "        * Распределение типов устройств в группах A и B практически идентично:\n",
    "            - Android: группа A — 44.4%, группа B — 45.6% (разница 1.2%);\n",
    "            - Mac: группа A — 10.6%, группа B — 10.1% (разница 0.5%);\n",
    "            - PC: группа A — 25.0%, группа B — 26.0% (разница 1.0%);\n",
    "            - iPhone: группа A — 20.0%, группа B — 18.3% (разница 1.7%).\n",
    "        * Распределение по типам устройств равномерное, различия незначительны (менее 2%).\n",
    "             \n",
    "    * Регионы :\n",
    "        * Распределение регионов также близко:\n",
    "            - CIS: группа A — 43.6%, группа B — 44.0% (разница 0.4%);\n",
    "            - EU: группа A — 15.2%, группа B — 14.8% (разница 0.4%);\n",
    "            - MENA: группа A — 41.2%, группа B — 41.2% (разница 0.0%).\n",
    "        * Распределение по регионам равномерное, различия минимальны (менее 0.5%)."
   ]
  },
  {
   "cell_type": "markdown",
   "metadata": {},
   "source": [
    "#### Общий вывод о корректности A/B-теста : \n",
    "1) Различие в количестве пользователей между группами незначительно (0.74%).\n",
    "2) Пересечения пользователей между группами отсутствуют, что подтверждает их независимость.\n",
    "3) Распределение пользователей по категориальным переменным (устройства и регионы) равномерное, различия находятся в пределах допустимых значений (менее 2%).\n",
    "4) A/B-тест проходит корректно, нарушений в процессе распределения пользователей или данных не выявлено. "
   ]
  },
  {
   "cell_type": "markdown",
   "metadata": {
    "id": "nudRr_BQ0eM2"
   },
   "source": [
    "### 4. Проверка результатов A/B-теста"
   ]
  },
  {
   "cell_type": "markdown",
   "metadata": {
    "id": "JVve-YBB0eM2"
   },
   "source": [
    "#### 4.1. Получение результатов теста и подсчёт основной метрики"
   ]
  },
  {
   "cell_type": "code",
   "execution_count": 50,
   "metadata": {},
   "outputs": [],
   "source": [
    "# Считываем данные за весь период теста\n",
    "sessions_test = pd.read_csv('https://code.s3.yandex.net/datasets/sessions_project_test.csv')"
   ]
  },
  {
   "cell_type": "code",
   "execution_count": 51,
   "metadata": {},
   "outputs": [],
   "source": [
    "# Преобразуем session_date в формат даты (если это еще не сделано)\n",
    "sessions_test['session_date'] = pd.to_datetime(sessions_test['session_date'])"
   ]
  },
  {
   "cell_type": "code",
   "execution_count": 52,
   "metadata": {},
   "outputs": [],
   "source": [
    "# Создаем столбец good_session: 1, если page_counter >= 4, иначе 0\n",
    "sessions_test['good_session'] = (sessions_test['page_counter'] >= 4).astype(int)"
   ]
  },
  {
   "cell_type": "code",
   "execution_count": 53,
   "metadata": {
    "id": "EqRlwMtKPTir"
   },
   "outputs": [
    {
     "data": {
      "text/html": [
       "<div>\n",
       "<style scoped>\n",
       "    .dataframe tbody tr th:only-of-type {\n",
       "        vertical-align: middle;\n",
       "    }\n",
       "\n",
       "    .dataframe tbody tr th {\n",
       "        vertical-align: top;\n",
       "    }\n",
       "\n",
       "    .dataframe thead th {\n",
       "        text-align: right;\n",
       "    }\n",
       "</style>\n",
       "<table border=\"1\" class=\"dataframe\">\n",
       "  <thead>\n",
       "    <tr style=\"text-align: right;\">\n",
       "      <th></th>\n",
       "      <th>user_id</th>\n",
       "      <th>session_id</th>\n",
       "      <th>session_date</th>\n",
       "      <th>session_start_ts</th>\n",
       "      <th>install_date</th>\n",
       "      <th>session_number</th>\n",
       "      <th>registration_flag</th>\n",
       "      <th>page_counter</th>\n",
       "      <th>region</th>\n",
       "      <th>device</th>\n",
       "      <th>test_group</th>\n",
       "      <th>good_session</th>\n",
       "    </tr>\n",
       "  </thead>\n",
       "  <tbody>\n",
       "    <tr>\n",
       "      <th>0</th>\n",
       "      <td>6DAE3B3654DA738E</td>\n",
       "      <td>C69249E26E58F6E2</td>\n",
       "      <td>2025-10-26</td>\n",
       "      <td>2025-10-26 18:15:05</td>\n",
       "      <td>2025-10-16</td>\n",
       "      <td>3</td>\n",
       "      <td>0</td>\n",
       "      <td>3</td>\n",
       "      <td>MENA</td>\n",
       "      <td>Android</td>\n",
       "      <td>A</td>\n",
       "      <td>0</td>\n",
       "    </tr>\n",
       "    <tr>\n",
       "      <th>1</th>\n",
       "      <td>0A3FE5D1DD59110A</td>\n",
       "      <td>66D66D7C9F5181B7</td>\n",
       "      <td>2025-10-21</td>\n",
       "      <td>2025-10-21 17:04:53</td>\n",
       "      <td>2025-10-15</td>\n",
       "      <td>2</td>\n",
       "      <td>1</td>\n",
       "      <td>2</td>\n",
       "      <td>CIS</td>\n",
       "      <td>Android</td>\n",
       "      <td>B</td>\n",
       "      <td>0</td>\n",
       "    </tr>\n",
       "    <tr>\n",
       "      <th>2</th>\n",
       "      <td>2041F1D7AA740B88</td>\n",
       "      <td>50DE51D42215E74C</td>\n",
       "      <td>2025-10-23</td>\n",
       "      <td>2025-10-23 17:39:29</td>\n",
       "      <td>2025-10-19</td>\n",
       "      <td>3</td>\n",
       "      <td>0</td>\n",
       "      <td>2</td>\n",
       "      <td>MENA</td>\n",
       "      <td>Android</td>\n",
       "      <td>A</td>\n",
       "      <td>0</td>\n",
       "    </tr>\n",
       "    <tr>\n",
       "      <th>3</th>\n",
       "      <td>43D7585009168086</td>\n",
       "      <td>5763C0C353C22263</td>\n",
       "      <td>2025-10-24</td>\n",
       "      <td>2025-10-24 15:01:57</td>\n",
       "      <td>2025-10-18</td>\n",
       "      <td>4</td>\n",
       "      <td>0</td>\n",
       "      <td>1</td>\n",
       "      <td>CIS</td>\n",
       "      <td>iPhone</td>\n",
       "      <td>B</td>\n",
       "      <td>0</td>\n",
       "    </tr>\n",
       "    <tr>\n",
       "      <th>4</th>\n",
       "      <td>15AD68B14D62D88C</td>\n",
       "      <td>B1AD09F93C1053BC</td>\n",
       "      <td>2025-10-17</td>\n",
       "      <td>2025-10-17 17:34:39</td>\n",
       "      <td>2025-10-17</td>\n",
       "      <td>1</td>\n",
       "      <td>0</td>\n",
       "      <td>2</td>\n",
       "      <td>MENA</td>\n",
       "      <td>Android</td>\n",
       "      <td>B</td>\n",
       "      <td>0</td>\n",
       "    </tr>\n",
       "  </tbody>\n",
       "</table>\n",
       "</div>"
      ],
      "text/plain": [
       "            user_id        session_id session_date     session_start_ts  \\\n",
       "0  6DAE3B3654DA738E  C69249E26E58F6E2   2025-10-26  2025-10-26 18:15:05   \n",
       "1  0A3FE5D1DD59110A  66D66D7C9F5181B7   2025-10-21  2025-10-21 17:04:53   \n",
       "2  2041F1D7AA740B88  50DE51D42215E74C   2025-10-23  2025-10-23 17:39:29   \n",
       "3  43D7585009168086  5763C0C353C22263   2025-10-24  2025-10-24 15:01:57   \n",
       "4  15AD68B14D62D88C  B1AD09F93C1053BC   2025-10-17  2025-10-17 17:34:39   \n",
       "\n",
       "  install_date  session_number  registration_flag  page_counter region  \\\n",
       "0   2025-10-16               3                  0             3   MENA   \n",
       "1   2025-10-15               2                  1             2    CIS   \n",
       "2   2025-10-19               3                  0             2   MENA   \n",
       "3   2025-10-18               4                  0             1    CIS   \n",
       "4   2025-10-17               1                  0             2   MENA   \n",
       "\n",
       "    device test_group  good_session  \n",
       "0  Android          A             0  \n",
       "1  Android          B             0  \n",
       "2  Android          A             0  \n",
       "3   iPhone          B             0  \n",
       "4  Android          B             0  "
      ]
     },
     "metadata": {},
     "output_type": "display_data"
    }
   ],
   "source": [
    "# Выводим первые строки датафрейма для проверки\n",
    "display(sessions_test.head())"
   ]
  },
  {
   "cell_type": "markdown",
   "metadata": {
    "id": "aeYhrMYy0eM2"
   },
   "source": [
    "#### 4.2. Проверка корректности результатов теста"
   ]
  },
  {
   "cell_type": "code",
   "execution_count": 54,
   "metadata": {},
   "outputs": [],
   "source": [
    "# Рассчитываем количество уникальных сессий для каждого дня и группы\n",
    "daily_sessions = sessions_test.groupby(['session_date', 'test_group'])['session_id'].nunique().reset_index()\n",
    "daily_sessions.columns = ['session_date', 'test_group', 'session_count']"
   ]
  },
  {
   "cell_type": "code",
   "execution_count": 55,
   "metadata": {},
   "outputs": [],
   "source": [
    "# Разделяем данные по группам A и B\n",
    "group_a_sessions = daily_sessions[daily_sessions['test_group'] == 'A']['session_count']\n",
    "group_b_sessions = daily_sessions[daily_sessions['test_group'] == 'B']['session_count']"
   ]
  },
  {
   "cell_type": "code",
   "execution_count": 56,
   "metadata": {},
   "outputs": [],
   "source": [
    "# Формулировка гипотез:\n",
    "# H₀: Количество уникальных дневных сессий не различается между группами A и B (μ_A = μ_B)\n",
    "# H₁: Количество уникальных дневных сессий различается между группами A и B (μ_A ≠ μ_B)"
   ]
  },
  {
   "cell_type": "code",
   "execution_count": 57,
   "metadata": {},
   "outputs": [],
   "source": [
    "# Проводим t-тест для проверки равенства средних\n",
    "t_stat, p_value = ttest_ind(group_a_sessions, group_b_sessions, equal_var=False)"
   ]
  },
  {
   "cell_type": "code",
   "execution_count": 58,
   "metadata": {},
   "outputs": [
    {
     "name": "stdout",
     "output_type": "stream",
     "text": [
      "P-value: 0.9382\n",
      "P-value >= 0.05: Нет статистически значимых различий в количестве уникальных дневных сессий между группами A и B.\n",
      "Группы сопоставимы по количеству сессий, тест проведен корректно.\n"
     ]
    }
   ],
   "source": [
    "# Выводим p-value и интерпретируем результат\n",
    "print(f\"P-value: {p_value:.4f}\")\n",
    "if p_value < 0.05:\n",
    "    print(\"P-value < 0.05: Есть статистически значимые различия в количестве уникальных дневных сессий между группами A и B.\")\n",
    "    print(\"Это может указывать на проблему в распределении пользователей или сессий.\")\n",
    "else:\n",
    "    print(\"P-value >= 0.05: Нет статистически значимых различий в количестве уникальных дневных сессий между группами A и B.\")\n",
    "    print(\"Группы сопоставимы по количеству сессий, тест проведен корректно.\")"
   ]
  },
  {
   "cell_type": "markdown",
   "metadata": {
    "id": "7kwRxzg70eM3"
   },
   "source": [
    "#### 4.3. Сравнение доли успешных сессий"
   ]
  },
  {
   "cell_type": "code",
   "execution_count": 59,
   "metadata": {
    "id": "Uku-V1CpPRCz"
   },
   "outputs": [],
   "source": [
    "# Рассчитываем количество успешных сессий и общее количество сессий для каждой группы\n",
    "sessions_by_group = sessions_test.groupby('test_group').agg(\n",
    "    total_sessions=('session_id', 'count'),\n",
    "    good_sessions=('good_session', 'sum')\n",
    ").reset_index()"
   ]
  },
  {
   "cell_type": "code",
   "execution_count": 60,
   "metadata": {},
   "outputs": [],
   "source": [
    "# Рассчитываем долю успешных сессий\n",
    "sessions_by_group['good_session_share'] = sessions_by_group['good_sessions'] / sessions_by_group['total_sessions']"
   ]
  },
  {
   "cell_type": "code",
   "execution_count": 61,
   "metadata": {},
   "outputs": [],
   "source": [
    "# Извлекаем доли для групп A и B\n",
    "share_a = sessions_by_group[sessions_by_group['test_group'] == 'A']['good_session_share'].iloc[0]\n",
    "share_b = sessions_by_group[sessions_by_group['test_group'] == 'B']['good_session_share'].iloc[0]"
   ]
  },
  {
   "cell_type": "code",
   "execution_count": 62,
   "metadata": {},
   "outputs": [],
   "source": [
    "# Рассчитываем разницу в долях (B - A)\n",
    "diff_share = share_b - share_a"
   ]
  },
  {
   "cell_type": "code",
   "execution_count": 63,
   "metadata": {},
   "outputs": [
    {
     "name": "stdout",
     "output_type": "stream",
     "text": [
      "Доля успешных сессий в группе A: 0.3077\n",
      "Доля успешных сессий в группе B: 0.3183\n",
      "Разница в доле успешных сессий (B - A): 0.0106 (1.06%)\n"
     ]
    }
   ],
   "source": [
    "# Выводим результаты\n",
    "print(f\"Доля успешных сессий в группе A: {share_a:.4f}\")\n",
    "print(f\"Доля успешных сессий в группе B: {share_b:.4f}\")\n",
    "print(f\"Разница в доле успешных сессий (B - A): {diff_share:.4f} ({diff_share * 100:.2f}%)\")"
   ]
  },
  {
   "cell_type": "markdown",
   "metadata": {
    "id": "9fMFuja10eM4"
   },
   "source": [
    "#### 4.4. Насколько статистически значимо изменение ключевой метрики"
   ]
  },
  {
   "cell_type": "code",
   "execution_count": 64,
   "metadata": {},
   "outputs": [],
   "source": [
    "# Формулировка гипотез:\n",
    "# H₀: Доля успешных сессий в группе A равна доле в группе B (p_A = p_B)\n",
    "# H₁: Доля успешных сессий различается между группами A и B (μ_A ≠ μ_B)"
   ]
  },
  {
   "cell_type": "code",
   "execution_count": 65,
   "metadata": {},
   "outputs": [],
   "source": [
    "# Проводим z-тест для пропорций\n",
    "stat, p_value = proportions_ztest(\n",
    "    count=sessions_by_group['good_sessions'],  # Количество успехов: [good_sessions_a, good_sessions_b]\n",
    "    nobs=sessions_by_group['total_sessions'],  # Общее количество: [total_sessions_a, total_sessions_b]\n",
    "    alternative='two-sided'  # Проверяем, что доля в A отличается от B (H₁: (μ_A ≠ μ_B))\n",
    ")"
   ]
  },
  {
   "cell_type": "code",
   "execution_count": 69,
   "metadata": {},
   "outputs": [
    {
     "name": "stdout",
     "output_type": "stream",
     "text": [
      "P-value: 0.0003\n",
      "P-value < 0.05: Есть статистически значимые основания отвергнуть H₀ на уровне значимости 5%.\n",
      "Различие в доле успешных сессий между группами A и B является статистически значимым.\n"
     ]
    }
   ],
   "source": [
    "# Выводим p-value и интерпретируем результат\n",
    "print(f\"P-value: {p_value:.4f}\")\n",
    "if p_value < 0.05:\n",
    "    print(\"P-value < 0.05: Есть статистически значимые основания отвергнуть H₀ на уровне значимости 5%.\")\n",
    "    print(\"Различие в доле успешных сессий между группами A и B является статистически значимым.\")\n",
    "else:\n",
    "    print(\"P-value >= 0.05: Нет статистически значимых оснований отвергнуть H₀ на уровне значимости 5%.\")\n",
    "    print(\"Различие в доле успешных сессий между группами A и B не является статистически значимым.\")"
   ]
  },
  {
   "cell_type": "code",
   "execution_count": 70,
   "metadata": {},
   "outputs": [
    {
     "name": "stdout",
     "output_type": "stream",
     "text": [
      "Агрегированные данные по группам:\n"
     ]
    },
    {
     "data": {
      "text/html": [
       "<div>\n",
       "<style scoped>\n",
       "    .dataframe tbody tr th:only-of-type {\n",
       "        vertical-align: middle;\n",
       "    }\n",
       "\n",
       "    .dataframe tbody tr th {\n",
       "        vertical-align: top;\n",
       "    }\n",
       "\n",
       "    .dataframe thead th {\n",
       "        text-align: right;\n",
       "    }\n",
       "</style>\n",
       "<table border=\"1\" class=\"dataframe\">\n",
       "  <thead>\n",
       "    <tr style=\"text-align: right;\">\n",
       "      <th></th>\n",
       "      <th>test_group</th>\n",
       "      <th>total_sessions</th>\n",
       "      <th>good_sessions</th>\n",
       "      <th>good_session_share</th>\n",
       "    </tr>\n",
       "  </thead>\n",
       "  <tbody>\n",
       "    <tr>\n",
       "      <th>0</th>\n",
       "      <td>A</td>\n",
       "      <td>49551</td>\n",
       "      <td>15248</td>\n",
       "      <td>0.307723</td>\n",
       "    </tr>\n",
       "    <tr>\n",
       "      <th>1</th>\n",
       "      <td>B</td>\n",
       "      <td>50454</td>\n",
       "      <td>16059</td>\n",
       "      <td>0.318290</td>\n",
       "    </tr>\n",
       "  </tbody>\n",
       "</table>\n",
       "</div>"
      ],
      "text/plain": [
       "  test_group  total_sessions  good_sessions  good_session_share\n",
       "0          A           49551          15248            0.307723\n",
       "1          B           50454          16059            0.318290"
      ]
     },
     "metadata": {},
     "output_type": "display_data"
    }
   ],
   "source": [
    "# Выводим агрегированные данные для проверки\n",
    "print(\"Агрегированные данные по группам:\")\n",
    "display(sessions_by_group)"
   ]
  },
  {
   "cell_type": "markdown",
   "metadata": {
    "id": "GnJrkY9Q63zS"
   },
   "source": [
    "#### 4.5. Выводы по результатам A/B-эксперимента"
   ]
  },
  {
   "cell_type": "markdown",
   "metadata": {},
   "source": [
    "**Характеристики эксперимента**:\n",
    "- A/B-тест проводился для оценки влияния нового алгоритма рекомендаций на ключевую метрику — долю успешных сессий (сессий с 4+ просмотренными страницами).\n",
    "- В эксперименте участвовало **34 882 уникальных пользователя** (по 17 441 в каждой группе: контрольной A и тестовой B), что соответствует рассчитанному размеру выборки для MDE 3% при уровне значимости ( alpha = 0.05 ) и мощности 0.8.\n",
    "- Длительность эксперимента составила **7 дней**, исходя из среднего дневного трафика в 9 907 уникальных пользователей.\n",
    "\n",
    "**Влияние нового алгоритма на ключевую метрику**:\n",
    "- Новый алгоритм рекомендаций (группа B) увеличил долю успешных сессий на **1.1%** по сравнению с контрольной группой (группа A). Например, если доля в группе A составляла 10%, то в группе B она выросла до 11.1%.\n",
    "- Это улучшение указывает на рост вовлеченности пользователей, так как они чаще просматривают 4 и более страниц за сессию, что соответствует цели эксперимента — повысить удовлетворенность контентом.\n",
    "\n",
    "**Статистическая значимость эффекта**:\n",
    "- Для оценки статистической значимости использовался z-тест для пропорций. Полученное значение p-value составило **0.0002**.\n",
    "- P-value < 0.05, что позволяет отвергнуть нулевую гипотезу (H₀: доли успешных сессий равны) и подтвердить, что различие статистически значимо. Новый алгоритм действительно увеличивает долю успешных сессий.\n",
    "\n",
    "**Рекомендация по внедрению**:\n",
    "- **Новый алгоритм стоит внедрить**, так как он демонстрирует статистически значимое улучшение ключевой метрики (доли успешных сессий) на 1.1%.\n",
    "- Однако эффект (1.1%) меньше ожидаемого минимального детектируемого эффекта (MDE = 3%), для которого рассчитывался размер выборки. Это говорит о том, что улучшение, хотя и значимое, относительно небольшое.\n",
    "- Перед внедрением рекомендуется:\n",
    "  1. Оценить экономическую целесообразность: рассчитать, как рост вовлеченности на 1.1% влияет на ключевые бизнес-метрики (например, доход от подписок или рекламы).\n",
    "  2. Провести дополнительный анализ по сегментам (например, по устройствам или регионам), чтобы понять, где эффект наиболее выражен, и, возможно, оптимизировать алгоритм.\n",
    "  3. Рассмотреть долгосрочные эффекты: запустить мониторинг после внедрения, чтобы убедиться, что улучшение сохраняется со временем.\n",
    "- Если эффект окажется недостаточным для оправдания затрат на внедрение, можно протестировать другие улучшения алгоритма для достижения большего роста вовлеченности."
   ]
  }
 ],
 "metadata": {
  "ExecuteTimeLog": [
   {
    "duration": 2476,
    "start_time": "2025-04-19T09:56:00.317Z"
   },
   {
    "duration": 598,
    "start_time": "2025-04-19T09:56:02.795Z"
   },
   {
    "duration": 7,
    "start_time": "2025-04-19T09:56:03.395Z"
   },
   {
    "duration": 82,
    "start_time": "2025-04-19T09:56:03.403Z"
   },
   {
    "duration": 35,
    "start_time": "2025-04-19T09:56:03.488Z"
   },
   {
    "duration": 266,
    "start_time": "2025-04-19T09:56:03.525Z"
   },
   {
    "duration": 120,
    "start_time": "2025-04-19T09:56:03.793Z"
   },
   {
    "duration": 185,
    "start_time": "2025-04-19T09:56:03.915Z"
   },
   {
    "duration": 4,
    "start_time": "2025-04-19T09:56:04.101Z"
   },
   {
    "duration": 493,
    "start_time": "2025-04-19T09:56:04.107Z"
   },
   {
    "duration": 395,
    "start_time": "2025-04-19T09:56:04.602Z"
   },
   {
    "duration": 9,
    "start_time": "2025-04-19T09:56:04.999Z"
   },
   {
    "duration": 26,
    "start_time": "2025-04-19T09:56:05.009Z"
   },
   {
    "duration": 338,
    "start_time": "2025-04-19T09:56:05.038Z"
   },
   {
    "duration": 5,
    "start_time": "2025-04-19T09:56:05.378Z"
   },
   {
    "duration": 104,
    "start_time": "2025-04-19T09:56:05.385Z"
   },
   {
    "duration": 6,
    "start_time": "2025-04-19T09:56:05.491Z"
   },
   {
    "duration": 56,
    "start_time": "2025-04-19T09:56:05.499Z"
   },
   {
    "duration": 6,
    "start_time": "2025-04-19T09:56:05.556Z"
   },
   {
    "duration": 349,
    "start_time": "2025-04-19T09:56:05.563Z"
   },
   {
    "duration": 9,
    "start_time": "2025-04-19T09:56:05.914Z"
   },
   {
    "duration": 477,
    "start_time": "2025-04-19T09:56:05.925Z"
   },
   {
    "duration": 161,
    "start_time": "2025-04-19T09:56:06.404Z"
   },
   {
    "duration": 62,
    "start_time": "2025-04-19T09:56:06.567Z"
   },
   {
    "duration": 5,
    "start_time": "2025-04-19T09:56:06.631Z"
   },
   {
    "duration": 11,
    "start_time": "2025-04-19T09:56:06.638Z"
   },
   {
    "duration": 10,
    "start_time": "2025-04-19T09:56:06.650Z"
   },
   {
    "duration": 11,
    "start_time": "2025-04-19T09:56:06.662Z"
   },
   {
    "duration": 20,
    "start_time": "2025-04-19T09:56:06.674Z"
   },
   {
    "duration": 18,
    "start_time": "2025-04-19T09:56:06.696Z"
   },
   {
    "duration": 303,
    "start_time": "2025-04-19T09:56:06.715Z"
   },
   {
    "duration": 7,
    "start_time": "2025-04-19T09:56:07.020Z"
   },
   {
    "duration": 15,
    "start_time": "2025-04-19T09:56:07.029Z"
   },
   {
    "duration": 30,
    "start_time": "2025-04-19T09:56:07.045Z"
   },
   {
    "duration": 25,
    "start_time": "2025-04-19T09:56:07.077Z"
   },
   {
    "duration": 27,
    "start_time": "2025-04-19T09:56:07.103Z"
   },
   {
    "duration": 18,
    "start_time": "2025-04-19T09:56:07.132Z"
   },
   {
    "duration": 439,
    "start_time": "2025-04-19T09:56:07.152Z"
   },
   {
    "duration": 10,
    "start_time": "2025-04-19T09:56:07.592Z"
   },
   {
    "duration": 6,
    "start_time": "2025-04-19T09:56:07.603Z"
   },
   {
    "duration": 6,
    "start_time": "2025-04-19T09:56:07.613Z"
   },
   {
    "duration": 18,
    "start_time": "2025-04-19T09:56:07.621Z"
   },
   {
    "duration": 325,
    "start_time": "2025-04-19T09:56:07.641Z"
   },
   {
    "duration": 8,
    "start_time": "2025-04-19T09:56:07.968Z"
   },
   {
    "duration": 987,
    "start_time": "2025-04-19T09:56:07.978Z"
   },
   {
    "duration": 25,
    "start_time": "2025-04-19T09:56:08.966Z"
   },
   {
    "duration": 4,
    "start_time": "2025-04-19T09:56:08.993Z"
   },
   {
    "duration": 73,
    "start_time": "2025-04-19T09:56:08.999Z"
   },
   {
    "duration": 4,
    "start_time": "2025-04-19T09:56:09.073Z"
   },
   {
    "duration": 186,
    "start_time": "2025-04-19T09:56:09.078Z"
   },
   {
    "duration": 38,
    "start_time": "2025-04-19T09:56:09.266Z"
   },
   {
    "duration": 5,
    "start_time": "2025-04-19T09:56:09.305Z"
   },
   {
    "duration": 5,
    "start_time": "2025-04-19T09:56:09.312Z"
   },
   {
    "duration": 11,
    "start_time": "2025-04-19T09:56:09.318Z"
   },
   {
    "duration": 5,
    "start_time": "2025-04-19T09:56:09.363Z"
   },
   {
    "duration": 33,
    "start_time": "2025-04-19T09:56:09.370Z"
   },
   {
    "duration": 4,
    "start_time": "2025-04-19T09:56:09.405Z"
   },
   {
    "duration": 6,
    "start_time": "2025-04-19T09:56:09.411Z"
   },
   {
    "duration": 7,
    "start_time": "2025-04-19T09:56:09.418Z"
   },
   {
    "duration": 7,
    "start_time": "2025-04-19T09:56:09.427Z"
   },
   {
    "duration": 54,
    "start_time": "2025-04-19T09:56:09.436Z"
   },
   {
    "duration": 4,
    "start_time": "2025-04-19T09:56:09.492Z"
   },
   {
    "duration": 11,
    "start_time": "2025-04-19T09:56:09.498Z"
   },
   {
    "duration": 4,
    "start_time": "2025-04-19T09:56:09.511Z"
   },
   {
    "duration": 69,
    "start_time": "2025-04-19T09:57:25.901Z"
   },
   {
    "duration": 18,
    "start_time": "2025-04-19T09:58:54.976Z"
   },
   {
    "duration": 6,
    "start_time": "2025-04-19T09:59:01.756Z"
   },
   {
    "duration": 13,
    "start_time": "2025-04-19T10:00:15.370Z"
   },
   {
    "duration": 12,
    "start_time": "2025-04-19T10:00:22.010Z"
   },
   {
    "duration": 16,
    "start_time": "2025-04-19T10:00:29.961Z"
   },
   {
    "duration": 5,
    "start_time": "2025-04-19T10:01:33.719Z"
   },
   {
    "duration": 8,
    "start_time": "2025-04-19T10:01:33.905Z"
   },
   {
    "duration": 6,
    "start_time": "2025-04-19T10:01:34.189Z"
   },
   {
    "duration": 396,
    "start_time": "2025-04-19T10:01:34.404Z"
   },
   {
    "duration": 10,
    "start_time": "2025-04-19T10:01:36.888Z"
   },
   {
    "duration": 12,
    "start_time": "2025-04-19T10:01:37.735Z"
   },
   {
    "duration": 14,
    "start_time": "2025-04-19T10:01:48.374Z"
   },
   {
    "duration": 15,
    "start_time": "2025-04-19T10:02:06.143Z"
   },
   {
    "duration": 7,
    "start_time": "2025-04-19T10:02:18.657Z"
   },
   {
    "duration": 8,
    "start_time": "2025-04-19T10:02:19.044Z"
   },
   {
    "duration": 9,
    "start_time": "2025-04-19T10:02:19.387Z"
   },
   {
    "duration": 310,
    "start_time": "2025-04-19T10:02:19.962Z"
   },
   {
    "duration": 10,
    "start_time": "2025-04-19T10:02:22.475Z"
   },
   {
    "duration": 14,
    "start_time": "2025-04-19T10:02:26.673Z"
   },
   {
    "duration": 13,
    "start_time": "2025-04-19T10:02:47.138Z"
   },
   {
    "duration": 7,
    "start_time": "2025-04-19T10:02:53.885Z"
   },
   {
    "duration": 1187,
    "start_time": "2025-04-19T20:14:42.132Z"
   },
   {
    "duration": 2106,
    "start_time": "2025-04-19T20:14:43.321Z"
   },
   {
    "duration": 17,
    "start_time": "2025-04-19T20:14:45.428Z"
   },
   {
    "duration": 640,
    "start_time": "2025-04-19T20:14:45.447Z"
   },
   {
    "duration": 17,
    "start_time": "2025-04-19T20:14:46.089Z"
   },
   {
    "duration": 44,
    "start_time": "2025-04-19T20:14:46.109Z"
   },
   {
    "duration": 39,
    "start_time": "2025-04-19T20:14:46.154Z"
   },
   {
    "duration": 138,
    "start_time": "2025-04-19T20:14:46.195Z"
   },
   {
    "duration": 396,
    "start_time": "2025-04-19T20:14:46.335Z"
   },
   {
    "duration": 4,
    "start_time": "2025-04-19T20:14:46.733Z"
   },
   {
    "duration": 791,
    "start_time": "2025-04-19T20:14:46.738Z"
   },
   {
    "duration": 520,
    "start_time": "2025-04-19T20:14:47.531Z"
   },
   {
    "duration": 8,
    "start_time": "2025-04-19T20:14:48.053Z"
   },
   {
    "duration": 13,
    "start_time": "2025-04-19T20:14:48.063Z"
   },
   {
    "duration": 330,
    "start_time": "2025-04-19T20:14:48.078Z"
   },
   {
    "duration": 5,
    "start_time": "2025-04-19T20:14:48.410Z"
   },
   {
    "duration": 30,
    "start_time": "2025-04-19T20:14:48.416Z"
   },
   {
    "duration": 6,
    "start_time": "2025-04-19T20:14:48.448Z"
   },
   {
    "duration": 54,
    "start_time": "2025-04-19T20:14:48.455Z"
   },
   {
    "duration": 4,
    "start_time": "2025-04-19T20:14:48.510Z"
   },
   {
    "duration": 348,
    "start_time": "2025-04-19T20:14:48.516Z"
   },
   {
    "duration": 10,
    "start_time": "2025-04-19T20:14:48.866Z"
   },
   {
    "duration": 29,
    "start_time": "2025-04-19T20:14:48.878Z"
   },
   {
    "duration": 160,
    "start_time": "2025-04-19T20:14:48.908Z"
   },
   {
    "duration": 3,
    "start_time": "2025-04-19T20:14:49.070Z"
   },
   {
    "duration": 16,
    "start_time": "2025-04-19T20:14:49.074Z"
   },
   {
    "duration": 5,
    "start_time": "2025-04-19T20:14:49.091Z"
   },
   {
    "duration": 28,
    "start_time": "2025-04-19T20:14:49.104Z"
   },
   {
    "duration": 79,
    "start_time": "2025-04-19T20:14:49.133Z"
   },
   {
    "duration": 44,
    "start_time": "2025-04-19T20:14:49.214Z"
   },
   {
    "duration": 5,
    "start_time": "2025-04-19T20:14:49.259Z"
   },
   {
    "duration": 24,
    "start_time": "2025-04-19T20:14:49.266Z"
   },
   {
    "duration": 10,
    "start_time": "2025-04-19T20:14:49.291Z"
   },
   {
    "duration": 17,
    "start_time": "2025-04-19T20:14:49.302Z"
   },
   {
    "duration": 6,
    "start_time": "2025-04-19T20:14:49.322Z"
   },
   {
    "duration": 237,
    "start_time": "2025-04-19T20:14:49.330Z"
   },
   {
    "duration": 45,
    "start_time": "2025-04-19T20:14:49.568Z"
   },
   {
    "duration": 6,
    "start_time": "2025-04-19T20:14:49.615Z"
   },
   {
    "duration": 10,
    "start_time": "2025-04-19T20:14:49.623Z"
   },
   {
    "duration": 13,
    "start_time": "2025-04-19T20:14:49.635Z"
   },
   {
    "duration": 18,
    "start_time": "2025-04-19T20:14:49.650Z"
   },
   {
    "duration": 394,
    "start_time": "2025-04-19T20:14:49.670Z"
   },
   {
    "duration": 8,
    "start_time": "2025-04-19T20:14:50.066Z"
   },
   {
    "duration": 19,
    "start_time": "2025-04-19T20:14:50.076Z"
   },
   {
    "duration": 17,
    "start_time": "2025-04-19T20:14:50.097Z"
   },
   {
    "duration": 22,
    "start_time": "2025-04-19T20:14:50.116Z"
   },
   {
    "duration": 314,
    "start_time": "2025-04-19T20:14:50.140Z"
   },
   {
    "duration": 9,
    "start_time": "2025-04-19T20:14:50.457Z"
   },
   {
    "duration": 486,
    "start_time": "2025-04-19T20:14:50.469Z"
   },
   {
    "duration": 29,
    "start_time": "2025-04-19T20:14:50.957Z"
   },
   {
    "duration": 10,
    "start_time": "2025-04-19T20:14:50.988Z"
   },
   {
    "duration": 50,
    "start_time": "2025-04-19T20:14:51.000Z"
   },
   {
    "duration": 52,
    "start_time": "2025-04-19T20:14:51.052Z"
   },
   {
    "duration": 5,
    "start_time": "2025-04-19T20:14:51.106Z"
   },
   {
    "duration": 27,
    "start_time": "2025-04-19T20:14:51.112Z"
   },
   {
    "duration": 8,
    "start_time": "2025-04-19T20:14:51.141Z"
   },
   {
    "duration": 111,
    "start_time": "2025-04-19T20:14:51.151Z"
   },
   {
    "duration": 41,
    "start_time": "2025-04-19T20:14:51.264Z"
   },
   {
    "duration": 12,
    "start_time": "2025-04-19T20:14:51.307Z"
   },
   {
    "duration": 87,
    "start_time": "2025-04-19T20:14:51.320Z"
   },
   {
    "duration": 18,
    "start_time": "2025-04-19T20:14:51.408Z"
   },
   {
    "duration": 38,
    "start_time": "2025-04-19T20:14:51.428Z"
   },
   {
    "duration": 49,
    "start_time": "2025-04-19T20:14:51.468Z"
   },
   {
    "duration": 17,
    "start_time": "2025-04-19T20:14:51.519Z"
   },
   {
    "duration": 23,
    "start_time": "2025-04-19T20:14:51.539Z"
   },
   {
    "duration": 44,
    "start_time": "2025-04-19T20:14:51.564Z"
   },
   {
    "duration": 28,
    "start_time": "2025-04-19T20:14:51.610Z"
   },
   {
    "duration": 4,
    "start_time": "2025-04-19T20:32:03.807Z"
   },
   {
    "duration": 4,
    "start_time": "2025-04-19T20:32:08.111Z"
   }
  ],
  "colab": {
   "provenance": []
  },
  "kernelspec": {
   "display_name": "Python 3",
   "language": "python",
   "name": "python3"
  },
  "language_info": {
   "codemirror_mode": {
    "name": "ipython",
    "version": 3
   },
   "file_extension": ".py",
   "mimetype": "text/x-python",
   "name": "python",
   "nbconvert_exporter": "python",
   "pygments_lexer": "ipython3",
   "version": "3.13.3"
  },
  "toc": {
   "base_numbering": 1,
   "nav_menu": {},
   "number_sections": true,
   "sideBar": true,
   "skip_h1_title": true,
   "title_cell": "Table of Contents",
   "title_sidebar": "Contents",
   "toc_cell": false,
   "toc_position": {},
   "toc_section_display": true,
   "toc_window_display": true
  }
 },
 "nbformat": 4,
 "nbformat_minor": 1
}
