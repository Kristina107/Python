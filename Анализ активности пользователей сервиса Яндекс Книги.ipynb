{
 "cells": [
  {
   "cell_type": "markdown",
   "id": "e06910dd",
   "metadata": {
    "id": "e06910dd"
   },
   "source": [
    "# Анализ активности пользователей сервиса Яндекс Книги\n",
    "\n",
    "- Автор: Романовская Кристина\n",
    "- Дата: 28.04.2025"
   ]
  },
  {
   "cell_type": "markdown",
   "id": "539c3465",
   "metadata": {},
   "source": [
    "## Цели и задачи проекта\n",
    "\n",
    "#### Цель проекта:\n",
    "Определить различия в активности пользователей сервиса Яндекс Книги между Москвой и Санкт-Петербургом, чтобы предоставить обоснованные рекомендации для повышения вовлеченности и продаж.\n",
    "\n",
    "#### Задачи:\n",
    "1. **Загрузка данных:**  \n",
    "   Загрузить данные и провести первичный анализ.\n",
    "   \n",
    "2. **Проверка гипотезы:**  \n",
    "   Проверить, проводят ли пользователи из Санкт-Петербурга больше времени за чтением и прослушиванием, чем пользователи из Москвы.  \n",
    "   - Нулевая гипотеза $ H_0 $: Средняя активность одинакова.  \n",
    "   - Альтернативная гипотеза $ H_1 $: Активность в Санкт-Петербурге выше.  \n",
    "\n",
    "3. **Аналитическая записка:**  \n",
    "   Описать выбранный метод проверки гипотезы, результаты (p-value) и интерпретацию."
   ]
  },
  {
   "cell_type": "markdown",
   "id": "728986ea",
   "metadata": {
    "id": "728986ea"
   },
   "source": [
    "## Описание данных\n",
    "\n",
    "Данные содержат информацию о чтении и прослушивании контента в сервисе Яндекс Книги за период с 1 сентября по 11 декабря 2024 года. Данные представлены в нескольких таблицах:\n",
    "\n",
    "- **bookmate.audition** (данные об активности пользователей):\n",
    "  - `audition_id` — уникальный идентификатор сессии чтения или прослушивания;\n",
    "  - `puid` — идентификатор пользователя;\n",
    "  - `usage_platform_ru` — название платформы, с которой пользователь потреблял контент;\n",
    "  - `msk_business_dt_str` — дата события в формате строки (московское время);\n",
    "  - `app_version` — версия приложения, использованного для чтения или прослушивания;\n",
    "  - `adult_content_flg` — флаг контента для взрослых (True/False);\n",
    "  - `hours` — длительность чтения или прослушивания в часах;\n",
    "  - `hours_sessions_long` — продолжительность длинных сессий в часах;\n",
    "  - `kids_content_flg` — флаг детского контента (True/False);\n",
    "  - `main_content_id` — идентификатор основного контента;\n",
    "  - `usage_geo_id` — идентификатор географического местоположения.\n",
    "\n",
    "- **bookmate.content** (данные о контенте):\n",
    "  - `main_content_id` — идентификатор основного контента;\n",
    "  - `main_author_id` — идентификатор основного автора контента;\n",
    "  - `main_content_type` — тип контента;\n",
    "  - `main_content_name` — название контента;\n",
    "  - `main_content_duration_hours` — длительность контента в часах;\n",
    "  - `published_topic_title_list` — список жанров контента.\n",
    "\n",
    "- **bookmate.author** (данные об авторах):\n",
    "  - `main_author_id` — идентификатор основного автора контента;\n",
    "  - `main_author_name` — имя основного автора контента.\n",
    "\n",
    "- **bookmate.geo** (данные о местоположении):\n",
    "  - `usage_geo_id` — идентификатор географического положения;\n",
    "  - `usage_geo_id_name` — город или регион (например, Москва, Санкт-Петербург);\n",
    "  - `usage_country_name` — страна географического положения.\n",
    "\n",
    "**Предобработанные данные**:\n",
    "Для анализа активности пользователей из Москвы и Санкт-Петербурга был выполнен SQL-запрос, результат которого сохранен в файл `yandex_knigi_data.csv`. Этот файл содержит:\n",
    "- `city` — город (Москва или Санкт-Петербург);\n",
    "- `puid` — идентификатор пользователя;\n",
    "- `hours` — сумма часов активности пользователя."
   ]
  },
  {
   "cell_type": "markdown",
   "id": "f551ac53",
   "metadata": {},
   "source": [
    "---"
   ]
  },
  {
   "cell_type": "markdown",
   "id": "6f7d21d6",
   "metadata": {
    "id": "6f7d21d6"
   },
   "source": [
    "## 1. Загрузка данных и знакомство с ними"
   ]
  },
  {
   "cell_type": "code",
   "execution_count": 90,
   "id": "6d7cc9e3",
   "metadata": {},
   "outputs": [],
   "source": [
    "import pandas as pd\n",
    "from scipy import stats\n",
    "import matplotlib.pyplot as plt\n",
    "import seaborn as sns"
   ]
  },
  {
   "cell_type": "code",
   "execution_count": 73,
   "id": "52e186f9",
   "metadata": {},
   "outputs": [],
   "source": [
    "# Загрузка данных\n",
    "participants = pd.read_csv('/datasets/ab_test_participants.csv')\n",
    "events = pd.read_csv('/datasets/ab_test_events.zip', parse_dates=['event_dt'], low_memory=False)"
   ]
  },
  {
   "cell_type": "code",
   "execution_count": 74,
   "id": "04bcf557",
   "metadata": {},
   "outputs": [
    {
     "name": "stdout",
     "output_type": "stream",
     "text": [
      "Анализ дубликатов по user_id в исходной таблице participants:\n",
      "Количество дублированных строк: 1774\n",
      "Пример дублированных строк:\n"
     ]
    },
    {
     "data": {
      "text/html": [
       "<div>\n",
       "<style scoped>\n",
       "    .dataframe tbody tr th:only-of-type {\n",
       "        vertical-align: middle;\n",
       "    }\n",
       "\n",
       "    .dataframe tbody tr th {\n",
       "        vertical-align: top;\n",
       "    }\n",
       "\n",
       "    .dataframe thead th {\n",
       "        text-align: right;\n",
       "    }\n",
       "</style>\n",
       "<table border=\"1\" class=\"dataframe\">\n",
       "  <thead>\n",
       "    <tr style=\"text-align: right;\">\n",
       "      <th></th>\n",
       "      <th>user_id</th>\n",
       "      <th>group</th>\n",
       "      <th>ab_test</th>\n",
       "      <th>device</th>\n",
       "    </tr>\n",
       "  </thead>\n",
       "  <tbody>\n",
       "    <tr>\n",
       "      <th>1</th>\n",
       "      <td>001064FEAAB631A1</td>\n",
       "      <td>B</td>\n",
       "      <td>recommender_system_test</td>\n",
       "      <td>Android</td>\n",
       "    </tr>\n",
       "    <tr>\n",
       "      <th>2</th>\n",
       "      <td>001064FEAAB631A1</td>\n",
       "      <td>A</td>\n",
       "      <td>interface_eu_test</td>\n",
       "      <td>Android</td>\n",
       "    </tr>\n",
       "    <tr>\n",
       "      <th>9</th>\n",
       "      <td>00341D8401F0F665</td>\n",
       "      <td>A</td>\n",
       "      <td>recommender_system_test</td>\n",
       "      <td>iPhone</td>\n",
       "    </tr>\n",
       "    <tr>\n",
       "      <th>10</th>\n",
       "      <td>00341D8401F0F665</td>\n",
       "      <td>B</td>\n",
       "      <td>interface_eu_test</td>\n",
       "      <td>iPhone</td>\n",
       "    </tr>\n",
       "    <tr>\n",
       "      <th>25</th>\n",
       "      <td>0082295A41A867B5</td>\n",
       "      <td>A</td>\n",
       "      <td>interface_eu_test</td>\n",
       "      <td>iPhone</td>\n",
       "    </tr>\n",
       "    <tr>\n",
       "      <th>26</th>\n",
       "      <td>0082295A41A867B5</td>\n",
       "      <td>A</td>\n",
       "      <td>recommender_system_test</td>\n",
       "      <td>iPhone</td>\n",
       "    </tr>\n",
       "    <tr>\n",
       "      <th>41</th>\n",
       "      <td>00E68F103C66C1F7</td>\n",
       "      <td>A</td>\n",
       "      <td>recommender_system_test</td>\n",
       "      <td>PC</td>\n",
       "    </tr>\n",
       "    <tr>\n",
       "      <th>42</th>\n",
       "      <td>00E68F103C66C1F7</td>\n",
       "      <td>A</td>\n",
       "      <td>interface_eu_test</td>\n",
       "      <td>PC</td>\n",
       "    </tr>\n",
       "    <tr>\n",
       "      <th>45</th>\n",
       "      <td>00EFA157F7B6E1C4</td>\n",
       "      <td>B</td>\n",
       "      <td>interface_eu_test</td>\n",
       "      <td>Android</td>\n",
       "    </tr>\n",
       "    <tr>\n",
       "      <th>46</th>\n",
       "      <td>00EFA157F7B6E1C4</td>\n",
       "      <td>A</td>\n",
       "      <td>recommender_system_test</td>\n",
       "      <td>Android</td>\n",
       "    </tr>\n",
       "  </tbody>\n",
       "</table>\n",
       "</div>"
      ],
      "text/plain": [
       "             user_id group                  ab_test   device\n",
       "1   001064FEAAB631A1     B  recommender_system_test  Android\n",
       "2   001064FEAAB631A1     A        interface_eu_test  Android\n",
       "9   00341D8401F0F665     A  recommender_system_test   iPhone\n",
       "10  00341D8401F0F665     B        interface_eu_test   iPhone\n",
       "25  0082295A41A867B5     A        interface_eu_test   iPhone\n",
       "26  0082295A41A867B5     A  recommender_system_test   iPhone\n",
       "41  00E68F103C66C1F7     A  recommender_system_test       PC\n",
       "42  00E68F103C66C1F7     A        interface_eu_test       PC\n",
       "45  00EFA157F7B6E1C4     B        interface_eu_test  Android\n",
       "46  00EFA157F7B6E1C4     A  recommender_system_test  Android"
      ]
     },
     "metadata": {},
     "output_type": "display_data"
    }
   ],
   "source": [
    "# Анализ дубликатов в исходной таблице participants\n",
    "print(\"Анализ дубликатов по user_id в исходной таблице participants:\")\n",
    "duplicates_all = participants[participants.duplicated(subset='user_id', keep=False)]\n",
    "print(f\"Количество дублированных строк: {len(duplicates_all)}\")\n",
    "print(\"Пример дублированных строк:\")\n",
    "display(duplicates_all.sort_values(by='user_id').head(10))"
   ]
  },
  {
   "cell_type": "code",
   "execution_count": 75,
   "id": "debd3c53",
   "metadata": {},
   "outputs": [],
   "source": [
    "# Фильтрация: только тест interface_eu_test\n",
    "test_participants = participants[participants['ab_test'] == 'interface_eu_test']"
   ]
  },
  {
   "cell_type": "code",
   "execution_count": 76,
   "id": "d5cefb23",
   "metadata": {},
   "outputs": [
    {
     "name": "stdout",
     "output_type": "stream",
     "text": [
      "Анализ дубликатов по user_id в test_participants (после фильтрации по interface_eu_test):\n",
      "Количество дублированных строк: 0\n",
      "Дубликатов внутри test_participants нет, что ожидаемо: каждый пользователь в рамках одного теста должен принадлежать только одной группе (A или B).\n"
     ]
    }
   ],
   "source": [
    "# Проверка дубликатов в test_participants (ожидаем, что их нет, так как пользователи внутри теста уникальны)\n",
    "print(\"Анализ дубликатов по user_id в test_participants (после фильтрации по interface_eu_test):\")\n",
    "duplicates_test = test_participants[test_participants.duplicated(subset='user_id', keep=False)]\n",
    "print(f\"Количество дублированных строк: {len(duplicates_test)}\")\n",
    "if len(duplicates_test) == 0:\n",
    "    print(\"Дубликатов внутри test_participants нет, что ожидаемо: каждый пользователь в рамках одного теста должен принадлежать только одной группе (A или B).\")\n",
    "else:\n",
    "    print(\"Пример дублированных строк в test_participants:\")\n",
    "    display(duplicates_test.sort_values(by='user_id').head())"
   ]
  },
  {
   "cell_type": "code",
   "execution_count": 77,
   "id": "8fc9ddc8",
   "metadata": {},
   "outputs": [
    {
     "name": "stdout",
     "output_type": "stream",
     "text": [
      "Количество пользователей после фильтрации по interface_eu_test: 10850\n"
     ]
    }
   ],
   "source": [
    "# Количество пользователей после фильтрации\n",
    "print(f\"Количество пользователей после фильтрации по interface_eu_test: {len(test_participants)}\")"
   ]
  },
  {
   "cell_type": "code",
   "execution_count": 78,
   "id": "a7faa25b",
   "metadata": {},
   "outputs": [],
   "source": [
    "# Удаление пересечений с конкурирующим тестом\n",
    "all_participants = pd.read_csv('/datasets/ab_test_participants.csv')\n",
    "competing_test_users = all_participants[all_participants['ab_test'] != 'interface_eu_test']['user_id']\n",
    "test_participants = test_participants[~test_participants['user_id'].isin(competing_test_users)]"
   ]
  },
  {
   "cell_type": "code",
   "execution_count": 79,
   "id": "cb59039d",
   "metadata": {},
   "outputs": [
    {
     "name": "stdout",
     "output_type": "stream",
     "text": [
      "Распределение пользователей по группам:\n"
     ]
    },
    {
     "data": {
      "text/plain": [
       "group\n",
       "B    5011\n",
       "A    4952\n",
       "Name: count, dtype: int64"
      ]
     },
     "metadata": {},
     "output_type": "display_data"
    }
   ],
   "source": [
    "# Распределение пользователей по группам\n",
    "group_distribution = test_participants['group'].value_counts()\n",
    "print(\"Распределение пользователей по группам:\")\n",
    "display(group_distribution)"
   ]
  },
  {
   "cell_type": "code",
   "execution_count": 80,
   "id": "ea30c94d",
   "metadata": {},
   "outputs": [
    {
     "name": "stdout",
     "output_type": "stream",
     "text": [
      "Статистика по группам (устройства):\n"
     ]
    },
    {
     "data": {
      "text/html": [
       "<div>\n",
       "<style scoped>\n",
       "    .dataframe tbody tr th:only-of-type {\n",
       "        vertical-align: middle;\n",
       "    }\n",
       "\n",
       "    .dataframe tbody tr th {\n",
       "        vertical-align: top;\n",
       "    }\n",
       "\n",
       "    .dataframe thead th {\n",
       "        text-align: right;\n",
       "    }\n",
       "</style>\n",
       "<table border=\"1\" class=\"dataframe\">\n",
       "  <thead>\n",
       "    <tr style=\"text-align: right;\">\n",
       "      <th></th>\n",
       "      <th>count</th>\n",
       "      <th>unique</th>\n",
       "      <th>top</th>\n",
       "      <th>freq</th>\n",
       "    </tr>\n",
       "    <tr>\n",
       "      <th>group</th>\n",
       "      <th></th>\n",
       "      <th></th>\n",
       "      <th></th>\n",
       "      <th></th>\n",
       "    </tr>\n",
       "  </thead>\n",
       "  <tbody>\n",
       "    <tr>\n",
       "      <th>A</th>\n",
       "      <td>4952</td>\n",
       "      <td>4</td>\n",
       "      <td>Android</td>\n",
       "      <td>2264</td>\n",
       "    </tr>\n",
       "    <tr>\n",
       "      <th>B</th>\n",
       "      <td>5011</td>\n",
       "      <td>4</td>\n",
       "      <td>Android</td>\n",
       "      <td>2218</td>\n",
       "    </tr>\n",
       "  </tbody>\n",
       "</table>\n",
       "</div>"
      ],
      "text/plain": [
       "      count unique      top  freq\n",
       "group                            \n",
       "A      4952      4  Android  2264\n",
       "B      5011      4  Android  2218"
      ]
     },
     "metadata": {},
     "output_type": "display_data"
    }
   ],
   "source": [
    "# Статистика по группам\n",
    "print(\"Статистика по группам (устройства):\")\n",
    "display(test_participants.groupby('group')['device'].describe())"
   ]
  },
  {
   "cell_type": "code",
   "execution_count": 81,
   "id": "c6e5c3c3",
   "metadata": {},
   "outputs": [],
   "source": [
    "# Подсчет активности пользователей (количество событий и часов активности)\n",
    "test_user_ids = test_participants['user_id'].unique()\n",
    "test_events = events[events['user_id'].isin(test_user_ids)]\n",
    "test_events = test_events[test_events['user_id'] != 'GLOBAL']\n",
    "test_events = test_events[~test_events['event_name'].str.contains('End of Black Friday Ads Campaign')]"
   ]
  },
  {
   "cell_type": "code",
   "execution_count": 82,
   "id": "23bc99c7",
   "metadata": {},
   "outputs": [],
   "source": [
    "# Подсчет количества событий на пользователя\n",
    "event_counts = test_events.groupby('user_id').size().reset_index(name='event_count')\n",
    "event_counts = event_counts.merge(test_participants[['user_id', 'group']], on='user_id', how='left')"
   ]
  },
  {
   "cell_type": "code",
   "execution_count": 83,
   "id": "7f047fa8",
   "metadata": {},
   "outputs": [],
   "source": [
    "# Расчет времени активности (разница между первым и последним событием в часах)\n",
    "user_activity = test_events.groupby('user_id').agg(\n",
    "    first_event=('event_dt', 'min'),\n",
    "    last_event=('event_dt', 'max')\n",
    ").reset_index()\n",
    "user_activity['hours_active'] = (user_activity['last_event'] - user_activity['first_event']).dt.total_seconds() / 3600\n",
    "user_activity = user_activity.merge(test_participants[['user_id', 'group']], on='user_id', how='left')"
   ]
  },
  {
   "cell_type": "code",
   "execution_count": 84,
   "id": "fc664737",
   "metadata": {},
   "outputs": [
    {
     "name": "stdout",
     "output_type": "stream",
     "text": [
      "Статистика количества событий по группам:\n"
     ]
    },
    {
     "data": {
      "text/html": [
       "<div>\n",
       "<style scoped>\n",
       "    .dataframe tbody tr th:only-of-type {\n",
       "        vertical-align: middle;\n",
       "    }\n",
       "\n",
       "    .dataframe tbody tr th {\n",
       "        vertical-align: top;\n",
       "    }\n",
       "\n",
       "    .dataframe thead th {\n",
       "        text-align: right;\n",
       "    }\n",
       "</style>\n",
       "<table border=\"1\" class=\"dataframe\">\n",
       "  <thead>\n",
       "    <tr style=\"text-align: right;\">\n",
       "      <th></th>\n",
       "      <th>count</th>\n",
       "      <th>mean</th>\n",
       "      <th>std</th>\n",
       "      <th>min</th>\n",
       "      <th>25%</th>\n",
       "      <th>50%</th>\n",
       "      <th>75%</th>\n",
       "      <th>max</th>\n",
       "    </tr>\n",
       "    <tr>\n",
       "      <th>group</th>\n",
       "      <th></th>\n",
       "      <th></th>\n",
       "      <th></th>\n",
       "      <th></th>\n",
       "      <th></th>\n",
       "      <th></th>\n",
       "      <th></th>\n",
       "      <th></th>\n",
       "    </tr>\n",
       "  </thead>\n",
       "  <tbody>\n",
       "    <tr>\n",
       "      <th>A</th>\n",
       "      <td>4952.0</td>\n",
       "      <td>7.209208</td>\n",
       "      <td>3.589164</td>\n",
       "      <td>2.0</td>\n",
       "      <td>5.0</td>\n",
       "      <td>7.0</td>\n",
       "      <td>10.0</td>\n",
       "      <td>29.0</td>\n",
       "    </tr>\n",
       "    <tr>\n",
       "      <th>B</th>\n",
       "      <td>5011.0</td>\n",
       "      <td>7.606266</td>\n",
       "      <td>3.926271</td>\n",
       "      <td>2.0</td>\n",
       "      <td>5.0</td>\n",
       "      <td>7.0</td>\n",
       "      <td>10.0</td>\n",
       "      <td>28.0</td>\n",
       "    </tr>\n",
       "  </tbody>\n",
       "</table>\n",
       "</div>"
      ],
      "text/plain": [
       "        count      mean       std  min  25%  50%   75%   max\n",
       "group                                                       \n",
       "A      4952.0  7.209208  3.589164  2.0  5.0  7.0  10.0  29.0\n",
       "B      5011.0  7.606266  3.926271  2.0  5.0  7.0  10.0  28.0"
      ]
     },
     "metadata": {},
     "output_type": "display_data"
    },
    {
     "name": "stdout",
     "output_type": "stream",
     "text": [
      "Статистика времени активности (в часах) по группам:\n"
     ]
    },
    {
     "data": {
      "text/html": [
       "<div>\n",
       "<style scoped>\n",
       "    .dataframe tbody tr th:only-of-type {\n",
       "        vertical-align: middle;\n",
       "    }\n",
       "\n",
       "    .dataframe tbody tr th {\n",
       "        vertical-align: top;\n",
       "    }\n",
       "\n",
       "    .dataframe thead th {\n",
       "        text-align: right;\n",
       "    }\n",
       "</style>\n",
       "<table border=\"1\" class=\"dataframe\">\n",
       "  <thead>\n",
       "    <tr style=\"text-align: right;\">\n",
       "      <th></th>\n",
       "      <th>count</th>\n",
       "      <th>mean</th>\n",
       "      <th>std</th>\n",
       "      <th>min</th>\n",
       "      <th>25%</th>\n",
       "      <th>50%</th>\n",
       "      <th>75%</th>\n",
       "      <th>max</th>\n",
       "    </tr>\n",
       "    <tr>\n",
       "      <th>group</th>\n",
       "      <th></th>\n",
       "      <th></th>\n",
       "      <th></th>\n",
       "      <th></th>\n",
       "      <th></th>\n",
       "      <th></th>\n",
       "      <th></th>\n",
       "      <th></th>\n",
       "    </tr>\n",
       "  </thead>\n",
       "  <tbody>\n",
       "    <tr>\n",
       "      <th>A</th>\n",
       "      <td>4952.0</td>\n",
       "      <td>155.547094</td>\n",
       "      <td>123.203094</td>\n",
       "      <td>0.0</td>\n",
       "      <td>54.584722</td>\n",
       "      <td>132.050972</td>\n",
       "      <td>229.120694</td>\n",
       "      <td>546.889167</td>\n",
       "    </tr>\n",
       "    <tr>\n",
       "      <th>B</th>\n",
       "      <td>5011.0</td>\n",
       "      <td>159.138543</td>\n",
       "      <td>122.978033</td>\n",
       "      <td>0.0</td>\n",
       "      <td>57.722222</td>\n",
       "      <td>138.302222</td>\n",
       "      <td>235.365833</td>\n",
       "      <td>551.966111</td>\n",
       "    </tr>\n",
       "  </tbody>\n",
       "</table>\n",
       "</div>"
      ],
      "text/plain": [
       "        count        mean         std  min        25%         50%         75%  \\\n",
       "group                                                                           \n",
       "A      4952.0  155.547094  123.203094  0.0  54.584722  132.050972  229.120694   \n",
       "B      5011.0  159.138543  122.978033  0.0  57.722222  138.302222  235.365833   \n",
       "\n",
       "              max  \n",
       "group              \n",
       "A      546.889167  \n",
       "B      551.966111  "
      ]
     },
     "metadata": {},
     "output_type": "display_data"
    }
   ],
   "source": [
    "# Статистика по количеству событий и времени активности\n",
    "print(\"Статистика количества событий по группам:\")\n",
    "display(event_counts.groupby('group')['event_count'].describe())\n",
    "print(\"Статистика времени активности (в часах) по группам:\")\n",
    "display(user_activity.groupby('group')['hours_active'].describe())"
   ]
  },
  {
   "cell_type": "code",
   "execution_count": 85,
   "id": "e4892ab5",
   "metadata": {},
   "outputs": [
    {
     "data": {
      "image/png": "[encoded data removed]",
      "text/plain": [
       "<Figure size 1000x600 with 1 Axes>"
      ]
     },
     "metadata": {},
     "output_type": "display_data"
    }
   ],
   "source": [
    "# Гистограмма распределения времени активности\n",
    "plt.figure(figsize=(10, 6))\n",
    "for group in user_activity['group'].unique():\n",
    "    sns.histplot(user_activity[user_activity['group'] == group]['hours_active'], label=group, kde=True, stat='density')\n",
    "plt.title('Распределение времени активности пользователей по группам (в часах)')\n",
    "plt.xlabel('Время активности (часы)')\n",
    "plt.ylabel('Плотность')\n",
    "plt.legend()\n",
    "plt.show()"
   ]
  },
  {
   "cell_type": "markdown",
   "id": "79247a76",
   "metadata": {},
   "source": [
    "Пик активности для обеих групп приходится на первые 100 часов, где плотность максимальна. Спад активности наблюдается после 100 часов, что указывает на уменьшение числа активных пользователей."
   ]
  },
  {
   "cell_type": "code",
   "execution_count": 86,
   "id": "9b07ac54",
   "metadata": {},
   "outputs": [
    {
     "name": "stdout",
     "output_type": "stream",
     "text": [
      "Анализ влияния распределения пользователей:\n",
      "Разница между группами составляет 1.19%, что меньше 10%. Распределение можно считать равномерным, и это не должно существенно повлиять на исследование.\n"
     ]
    }
   ],
   "source": [
    "# Вывод о влиянии распределения\n",
    "print(\"Анализ влияния распределения пользователей:\")\n",
    "difference_percentage = abs(group_distribution['A'] - group_distribution['B']) / group_distribution['A'] * 100\n",
    "if difference_percentage < 10:\n",
    "    print(f\"Разница между группами составляет {difference_percentage:.2f}%, что меньше 10%. \"\n",
    "          \"Распределение можно считать равномерным, и это не должно существенно повлиять на исследование.\")\n",
    "else:\n",
    "    print(f\"Разница между группами составляет {difference_percentage:.2f}%, что больше 10%. \"\n",
    "          \"Такое неравномерное распределение может повлиять на исследование: \"\n",
    "          \"группа с большим числом пользователей может доминировать в результатах, \"\n",
    "          \"что может исказить оценку эффекта, особенно если поведение пользователей в группах различается.\")"
   ]
  },
  {
   "cell_type": "markdown",
   "id": "956e82e2",
   "metadata": {
    "id": "956e82e2"
   },
   "source": [
    "## 2. Проверка гипотезы\n",
    "\n",
    "Гипотеза звучит так: пользователи из Санкт-Петербурга проводят в среднем больше времени за чтением и прослушиванием книг в приложении, чем пользователи из Москвы. \n",
    "\n",
    "- Нулевая гипотеза H₀: Средняя активность пользователей в часах в двух группах (Москва и Санкт-Петербург) не различается.\n",
    "\n",
    "- Альтернативная гипотеза H₁: Средняя активность пользователей в Санкт-Петербурге больше, и это различие статистически значимо."
   ]
  },
  {
   "cell_type": "code",
   "execution_count": 87,
   "id": "41cd9255",
   "metadata": {},
   "outputs": [],
   "source": [
    "# Разделение данных по группам\n",
    "group_A = user_activity[user_activity['group'] == 'A']['hours_active']\n",
    "group_B = user_activity[user_activity['group'] == 'B']['hours_active']"
   ]
  },
  {
   "cell_type": "code",
   "execution_count": 88,
   "id": "88b22f8a",
   "metadata": {},
   "outputs": [
    {
     "name": "stdout",
     "output_type": "stream",
     "text": [
      "Результаты U-тест Манна-Уитни:\n"
     ]
    },
    {
     "data": {
      "text/html": [
       "<div>\n",
       "<style scoped>\n",
       "    .dataframe tbody tr th:only-of-type {\n",
       "        vertical-align: middle;\n",
       "    }\n",
       "\n",
       "    .dataframe tbody tr th {\n",
       "        vertical-align: top;\n",
       "    }\n",
       "\n",
       "    .dataframe thead th {\n",
       "        text-align: right;\n",
       "    }\n",
       "</style>\n",
       "<table border=\"1\" class=\"dataframe\">\n",
       "  <thead>\n",
       "    <tr style=\"text-align: right;\">\n",
       "      <th></th>\n",
       "      <th>Статистика</th>\n",
       "      <th>p-value</th>\n",
       "    </tr>\n",
       "  </thead>\n",
       "  <tbody>\n",
       "    <tr>\n",
       "      <th>Результат</th>\n",
       "      <td>12156773.0</td>\n",
       "      <td>0.040503</td>\n",
       "    </tr>\n",
       "  </tbody>\n",
       "</table>\n",
       "</div>"
      ],
      "text/plain": [
       "           Статистика   p-value\n",
       "Результат  12156773.0  0.040503"
      ]
     },
     "metadata": {},
     "output_type": "display_data"
    }
   ],
   "source": [
    "# Нулевая гипотеза H0: Среднее время активности пользователей в группе B не больше, чем в группе A (B ≤ A).\n",
    "# Альтернативная гипотеза H1: Среднее время активности пользователей в группе B больше, чем в группе A (B > A).\n",
    "# Используем U-тест Манна-Уитни, так как распределение времени активности может быть ненормальным\n",
    "u_stat, p_value = stats.mannwhitneyu(group_A, group_B, alternative='less')\n",
    "test_name = \"U-тест Манна-Уитни\"\n",
    "\n",
    "# Вывод результатов теста\n",
    "print(f\"Результаты {test_name}:\")\n",
    "display(pd.DataFrame({\n",
    "    'Статистика': [u_stat],\n",
    "    'p-value': [p_value]\n",
    "}, index=['Результат']))"
   ]
  },
  {
   "cell_type": "code",
   "execution_count": 89,
   "id": "b6d9e141",
   "metadata": {},
   "outputs": [
    {
     "name": "stdout",
     "output_type": "stream",
     "text": [
      "P-value < 0.05: Отвергаем нулевую гипотезу: среднее время активности в группе B больше, чем в группе A.\n"
     ]
    }
   ],
   "source": [
    "# Интерпретация\n",
    "alpha = 0.05\n",
    "if p_value < alpha:\n",
    "    print(f\"P-value < {alpha}: Отвергаем нулевую гипотезу: среднее время активности в группе B больше, чем в группе A.\")\n",
    "else:\n",
    "    print(f\"P-value >= {alpha}: Не отвергаем нулевую гипотезу: нет доказательств, что среднее время активности в группе B больше, чем в группе A.\")"
   ]
  },
  {
   "cell_type": "markdown",
   "id": "6953e84c",
   "metadata": {
    "id": "6953e84c"
   },
   "source": [
    "## 3. Аналитическая записка"
   ]
  },
  {
   "cell_type": "markdown",
   "id": "670a5dba",
   "metadata": {},
   "source": [
    "#### **Сравнение активности пользователей Яндекс Книги в Москве и Санкт-Петербурге:**\n",
    "\n",
    "**Цель анализа**: Определить, проводят ли пользователи из Санкт-Петербурга больше времени за чтением и прослушиванием контента в сервисе Яндекс Книги, чем пользователи из Москвы, на основе данных с 1 сентября по 11 декабря 2024 года.\n",
    "\n",
    "**Данные**: Данные содержат информацию об активности 9963 пользователей (4952 из Москвы, 5011 из Санкт-Петербурга). Источник — таблицы `bookmate.audition` и `bookmate.geo`, предобработанные через SQL. Метрика — сумма часов активности (`hours`).\n",
    "\n",
    "**Гипотезы**:\n",
    "- (H_0): Среднее время активности в Санкт-Петербурге не больше, чем в Москве (СПб ≤ Москва​).\n",
    "- (H_1): Среднее время активности в Санкт-Петербурге больше, чем в Москве (СПб > Москва​).\n",
    "\n",
    "**Методология**:\n",
    "- **Выбранный тест** U-тест Манна-Уитни (односторонний). Этот тест был выбран, так как не требует нормальности и подходит для сравнения двух независимых выборок.\n",
    "- **Уровень статистической значимости** (alpha = 0.05).\n",
    "- **Результат U-теста Манна-Уитни** статистика = 12156773.0, **p-value = 0.040503**.\n",
    "\n",
    "**Выводы**:\n",
    "- Так как p-value = 0.040503 < (alpha = 0.05), мы **отвергаем нулевую гипотезу**.\n",
    "- Есть статистически значимые доказательства того, что пользователи из Санкт-Петербурга проводят больше времени за чтением и прослушиванием контента, чем пользователи из Москвы.\n",
    "\n",
    "**Возможные причины полученных результатов**:\n",
    "1. **Эффект изменений в интерфейсе.** Новый интерфейс, протестированный в группе B, вероятно, улучшил пользовательский опыт, что привело к увеличению времени, проведённого в приложении.\n",
    "2. **Влияние выборки.** Несмотря на скошенность распределения времени активности из-за пользователей с экстремально высокой активностью (до 875 часов), U-тест Манна-Уитни, который не чувствителен к выбросам, подтвердил наличие различий между группами."
   ]
  }
 ],
 "metadata": {
  "ExecuteTimeLog": [
   {
    "duration": 1204,
    "start_time": "2025-04-29T18:03:46.235Z"
   },
   {
    "duration": 134,
    "start_time": "2025-04-29T18:03:47.441Z"
   },
   {
    "duration": 0,
    "start_time": "2025-04-29T18:03:47.585Z"
   },
   {
    "duration": 0,
    "start_time": "2025-04-29T18:03:47.587Z"
   },
   {
    "duration": 0,
    "start_time": "2025-04-29T18:03:47.589Z"
   },
   {
    "duration": 0,
    "start_time": "2025-04-29T18:03:47.592Z"
   },
   {
    "duration": 0,
    "start_time": "2025-04-29T18:03:47.594Z"
   },
   {
    "duration": 0,
    "start_time": "2025-04-29T18:03:47.596Z"
   },
   {
    "duration": 0,
    "start_time": "2025-04-29T18:03:47.597Z"
   },
   {
    "duration": 0,
    "start_time": "2025-04-29T18:03:47.599Z"
   },
   {
    "duration": 0,
    "start_time": "2025-04-29T18:03:47.601Z"
   },
   {
    "duration": 0,
    "start_time": "2025-04-29T18:03:47.602Z"
   },
   {
    "duration": 0,
    "start_time": "2025-04-29T18:03:47.604Z"
   },
   {
    "duration": 0,
    "start_time": "2025-04-29T18:03:47.606Z"
   },
   {
    "duration": 0,
    "start_time": "2025-04-29T18:03:47.638Z"
   },
   {
    "duration": 0,
    "start_time": "2025-04-29T18:03:47.640Z"
   },
   {
    "duration": 0,
    "start_time": "2025-04-29T18:03:47.642Z"
   },
   {
    "duration": 0,
    "start_time": "2025-04-29T18:03:47.643Z"
   },
   {
    "duration": 0,
    "start_time": "2025-04-29T18:03:47.645Z"
   },
   {
    "duration": 0,
    "start_time": "2025-04-29T18:03:47.647Z"
   },
   {
    "duration": 0,
    "start_time": "2025-04-29T18:03:47.648Z"
   },
   {
    "duration": 0,
    "start_time": "2025-04-29T18:03:47.650Z"
   },
   {
    "duration": 0,
    "start_time": "2025-04-29T18:03:47.652Z"
   },
   {
    "duration": 0,
    "start_time": "2025-04-29T18:03:47.654Z"
   },
   {
    "duration": 0,
    "start_time": "2025-04-29T18:03:47.655Z"
   },
   {
    "duration": 0,
    "start_time": "2025-04-29T18:03:47.656Z"
   },
   {
    "duration": 0,
    "start_time": "2025-04-29T18:03:47.658Z"
   },
   {
    "duration": 0,
    "start_time": "2025-04-29T18:03:47.660Z"
   },
   {
    "duration": 0,
    "start_time": "2025-04-29T18:03:47.661Z"
   },
   {
    "duration": 0,
    "start_time": "2025-04-29T18:03:47.662Z"
   },
   {
    "duration": 0,
    "start_time": "2025-04-29T18:03:47.664Z"
   },
   {
    "duration": 0,
    "start_time": "2025-04-29T18:03:47.665Z"
   },
   {
    "duration": 0,
    "start_time": "2025-04-29T18:03:47.667Z"
   },
   {
    "duration": 0,
    "start_time": "2025-04-29T18:03:47.668Z"
   },
   {
    "duration": 0,
    "start_time": "2025-04-29T18:03:47.669Z"
   },
   {
    "duration": 0,
    "start_time": "2025-04-29T18:03:47.670Z"
   },
   {
    "duration": 0,
    "start_time": "2025-04-29T18:03:47.671Z"
   },
   {
    "duration": 0,
    "start_time": "2025-04-29T18:03:47.673Z"
   },
   {
    "duration": 0,
    "start_time": "2025-04-29T18:03:47.674Z"
   },
   {
    "duration": 0,
    "start_time": "2025-04-29T18:03:47.675Z"
   },
   {
    "duration": 0,
    "start_time": "2025-04-29T18:03:47.676Z"
   },
   {
    "duration": 0,
    "start_time": "2025-04-29T18:03:47.677Z"
   },
   {
    "duration": 0,
    "start_time": "2025-04-29T18:03:47.679Z"
   },
   {
    "duration": 0,
    "start_time": "2025-04-29T18:03:47.739Z"
   },
   {
    "duration": 0,
    "start_time": "2025-04-29T18:03:47.741Z"
   },
   {
    "duration": 0,
    "start_time": "2025-04-29T18:03:47.742Z"
   },
   {
    "duration": 0,
    "start_time": "2025-04-29T18:03:47.743Z"
   },
   {
    "duration": 0,
    "start_time": "2025-04-29T18:03:47.744Z"
   },
   {
    "duration": 0,
    "start_time": "2025-04-29T18:03:47.746Z"
   },
   {
    "duration": 0,
    "start_time": "2025-04-29T18:03:47.747Z"
   },
   {
    "duration": 0,
    "start_time": "2025-04-29T18:03:47.748Z"
   },
   {
    "duration": 0,
    "start_time": "2025-04-29T18:03:47.749Z"
   },
   {
    "duration": 0,
    "start_time": "2025-04-29T18:03:47.750Z"
   },
   {
    "duration": 0,
    "start_time": "2025-04-29T18:03:47.751Z"
   },
   {
    "duration": 0,
    "start_time": "2025-04-29T18:03:47.752Z"
   },
   {
    "duration": 0,
    "start_time": "2025-04-29T18:03:47.753Z"
   },
   {
    "duration": 0,
    "start_time": "2025-04-29T18:03:47.754Z"
   },
   {
    "duration": 0,
    "start_time": "2025-04-29T18:03:47.755Z"
   },
   {
    "duration": 0,
    "start_time": "2025-04-29T18:03:47.756Z"
   },
   {
    "duration": 0,
    "start_time": "2025-04-29T18:03:47.757Z"
   },
   {
    "duration": 0,
    "start_time": "2025-04-29T18:03:47.758Z"
   },
   {
    "duration": 0,
    "start_time": "2025-04-29T18:03:47.759Z"
   },
   {
    "duration": 0,
    "start_time": "2025-04-29T18:03:47.760Z"
   },
   {
    "duration": 0,
    "start_time": "2025-04-29T18:03:47.762Z"
   },
   {
    "duration": 0,
    "start_time": "2025-04-29T18:03:47.763Z"
   },
   {
    "duration": 0,
    "start_time": "2025-04-29T18:03:47.764Z"
   },
   {
    "duration": 0,
    "start_time": "2025-04-29T18:03:47.764Z"
   },
   {
    "duration": 0,
    "start_time": "2025-04-29T18:03:47.765Z"
   },
   {
    "duration": 0,
    "start_time": "2025-04-29T18:03:47.766Z"
   },
   {
    "duration": 2494,
    "start_time": "2025-05-01T08:48:26.794Z"
   },
   {
    "duration": 1625,
    "start_time": "2025-05-01T08:48:29.290Z"
   },
   {
    "duration": 28,
    "start_time": "2025-05-01T08:48:30.917Z"
   },
   {
    "duration": 41,
    "start_time": "2025-05-01T08:48:30.947Z"
   },
   {
    "duration": 17,
    "start_time": "2025-05-01T08:48:30.990Z"
   },
   {
    "duration": 17,
    "start_time": "2025-05-01T08:48:31.008Z"
   },
   {
    "duration": 137,
    "start_time": "2025-05-01T08:48:31.027Z"
   },
   {
    "duration": 0,
    "start_time": "2025-05-01T08:48:31.170Z"
   },
   {
    "duration": 0,
    "start_time": "2025-05-01T08:48:31.171Z"
   },
   {
    "duration": 0,
    "start_time": "2025-05-01T08:48:31.172Z"
   },
   {
    "duration": 0,
    "start_time": "2025-05-01T08:48:31.173Z"
   },
   {
    "duration": 0,
    "start_time": "2025-05-01T08:48:31.174Z"
   },
   {
    "duration": 0,
    "start_time": "2025-05-01T08:48:31.175Z"
   },
   {
    "duration": 0,
    "start_time": "2025-05-01T08:48:31.177Z"
   },
   {
    "duration": 0,
    "start_time": "2025-05-01T08:48:31.178Z"
   },
   {
    "duration": 0,
    "start_time": "2025-05-01T08:48:31.178Z"
   },
   {
    "duration": 1,
    "start_time": "2025-05-01T08:48:31.179Z"
   },
   {
    "duration": 0,
    "start_time": "2025-05-01T08:48:31.181Z"
   },
   {
    "duration": 0,
    "start_time": "2025-05-01T08:48:31.182Z"
   },
   {
    "duration": 0,
    "start_time": "2025-05-01T08:48:31.183Z"
   },
   {
    "duration": 0,
    "start_time": "2025-05-01T08:48:31.184Z"
   },
   {
    "duration": 0,
    "start_time": "2025-05-01T08:48:31.185Z"
   },
   {
    "duration": 0,
    "start_time": "2025-05-01T08:48:31.186Z"
   },
   {
    "duration": 0,
    "start_time": "2025-05-01T08:48:31.187Z"
   },
   {
    "duration": 1,
    "start_time": "2025-05-01T08:48:31.187Z"
   },
   {
    "duration": 0,
    "start_time": "2025-05-01T08:48:31.189Z"
   },
   {
    "duration": 0,
    "start_time": "2025-05-01T08:48:31.190Z"
   },
   {
    "duration": 0,
    "start_time": "2025-05-01T08:48:31.190Z"
   },
   {
    "duration": 1,
    "start_time": "2025-05-01T08:48:31.191Z"
   },
   {
    "duration": 0,
    "start_time": "2025-05-01T08:48:31.193Z"
   },
   {
    "duration": 0,
    "start_time": "2025-05-01T08:48:31.194Z"
   },
   {
    "duration": 0,
    "start_time": "2025-05-01T08:48:31.195Z"
   },
   {
    "duration": 0,
    "start_time": "2025-05-01T08:48:31.196Z"
   },
   {
    "duration": 0,
    "start_time": "2025-05-01T08:48:31.197Z"
   },
   {
    "duration": 0,
    "start_time": "2025-05-01T08:48:31.240Z"
   },
   {
    "duration": 0,
    "start_time": "2025-05-01T08:48:31.241Z"
   },
   {
    "duration": 0,
    "start_time": "2025-05-01T08:48:31.242Z"
   },
   {
    "duration": 0,
    "start_time": "2025-05-01T08:48:31.243Z"
   },
   {
    "duration": 0,
    "start_time": "2025-05-01T08:48:31.244Z"
   },
   {
    "duration": 0,
    "start_time": "2025-05-01T08:48:31.245Z"
   },
   {
    "duration": 0,
    "start_time": "2025-05-01T08:48:31.247Z"
   },
   {
    "duration": 0,
    "start_time": "2025-05-01T08:48:31.248Z"
   },
   {
    "duration": 0,
    "start_time": "2025-05-01T08:48:31.249Z"
   },
   {
    "duration": 0,
    "start_time": "2025-05-01T08:48:31.250Z"
   },
   {
    "duration": 0,
    "start_time": "2025-05-01T08:48:31.251Z"
   },
   {
    "duration": 0,
    "start_time": "2025-05-01T08:48:31.252Z"
   },
   {
    "duration": 0,
    "start_time": "2025-05-01T08:48:31.253Z"
   },
   {
    "duration": 0,
    "start_time": "2025-05-01T08:48:31.254Z"
   },
   {
    "duration": 0,
    "start_time": "2025-05-01T08:48:31.255Z"
   },
   {
    "duration": 0,
    "start_time": "2025-05-01T08:48:31.256Z"
   },
   {
    "duration": 0,
    "start_time": "2025-05-01T08:48:31.257Z"
   },
   {
    "duration": 0,
    "start_time": "2025-05-01T08:48:31.258Z"
   },
   {
    "duration": 0,
    "start_time": "2025-05-01T08:48:31.259Z"
   },
   {
    "duration": 0,
    "start_time": "2025-05-01T08:48:31.260Z"
   },
   {
    "duration": 0,
    "start_time": "2025-05-01T08:48:31.262Z"
   },
   {
    "duration": 0,
    "start_time": "2025-05-01T08:48:31.263Z"
   },
   {
    "duration": 0,
    "start_time": "2025-05-01T08:48:31.265Z"
   },
   {
    "duration": 0,
    "start_time": "2025-05-01T08:48:31.267Z"
   },
   {
    "duration": 0,
    "start_time": "2025-05-01T08:48:31.269Z"
   },
   {
    "duration": 0,
    "start_time": "2025-05-01T08:48:31.270Z"
   },
   {
    "duration": 0,
    "start_time": "2025-05-01T08:48:31.271Z"
   },
   {
    "duration": 0,
    "start_time": "2025-05-01T08:48:31.273Z"
   },
   {
    "duration": 0,
    "start_time": "2025-05-01T08:48:31.274Z"
   },
   {
    "duration": 0,
    "start_time": "2025-05-01T08:48:31.338Z"
   },
   {
    "duration": 0,
    "start_time": "2025-05-01T08:48:31.340Z"
   },
   {
    "duration": 0,
    "start_time": "2025-05-01T08:48:31.341Z"
   },
   {
    "duration": 0,
    "start_time": "2025-05-01T08:48:31.342Z"
   },
   {
    "duration": 0,
    "start_time": "2025-05-01T08:48:31.344Z"
   },
   {
    "duration": 0,
    "start_time": "2025-05-01T08:48:31.344Z"
   },
   {
    "duration": 0,
    "start_time": "2025-05-01T08:48:31.346Z"
   },
   {
    "duration": 0,
    "start_time": "2025-05-01T08:48:31.346Z"
   },
   {
    "duration": 1522,
    "start_time": "2025-05-01T19:47:44.019Z"
   },
   {
    "duration": 1614,
    "start_time": "2025-05-01T19:47:45.543Z"
   },
   {
    "duration": 21,
    "start_time": "2025-05-01T19:47:47.159Z"
   },
   {
    "duration": 27,
    "start_time": "2025-05-01T19:47:47.182Z"
   },
   {
    "duration": 31,
    "start_time": "2025-05-01T19:47:47.212Z"
   },
   {
    "duration": 15,
    "start_time": "2025-05-01T19:47:47.244Z"
   },
   {
    "duration": 73,
    "start_time": "2025-05-01T19:47:47.261Z"
   },
   {
    "duration": 7,
    "start_time": "2025-05-01T19:47:47.336Z"
   },
   {
    "duration": 34,
    "start_time": "2025-05-01T19:47:47.345Z"
   },
   {
    "duration": 139,
    "start_time": "2025-05-01T19:47:47.382Z"
   },
   {
    "duration": 32,
    "start_time": "2025-05-01T19:47:47.524Z"
   },
   {
    "duration": 56,
    "start_time": "2025-05-01T19:47:47.558Z"
   },
   {
    "duration": 40,
    "start_time": "2025-05-01T19:47:47.616Z"
   },
   {
    "duration": 414,
    "start_time": "2025-05-01T19:47:47.658Z"
   },
   {
    "duration": 5,
    "start_time": "2025-05-01T19:47:48.074Z"
   },
   {
    "duration": 25,
    "start_time": "2025-05-01T19:47:48.080Z"
   },
   {
    "duration": 25,
    "start_time": "2025-05-01T19:47:48.107Z"
   },
   {
    "duration": 3,
    "start_time": "2025-05-01T19:47:48.134Z"
   },
   {
    "duration": 54,
    "start_time": "2025-05-01T19:47:48.139Z"
   },
   {
    "duration": 153,
    "start_time": "2025-05-01T19:47:48.195Z"
   },
   {
    "duration": 6,
    "start_time": "2025-05-01T19:47:48.350Z"
   },
   {
    "duration": 14,
    "start_time": "2025-05-01T19:47:48.358Z"
   },
   {
    "duration": 35,
    "start_time": "2025-05-01T19:47:48.374Z"
   },
   {
    "duration": 7,
    "start_time": "2025-05-01T19:47:48.412Z"
   },
   {
    "duration": 336,
    "start_time": "2025-05-01T19:47:48.422Z"
   },
   {
    "duration": 8,
    "start_time": "2025-05-01T19:47:48.759Z"
   },
   {
    "duration": 15,
    "start_time": "2025-05-01T19:47:48.769Z"
   },
   {
    "duration": 24,
    "start_time": "2025-05-01T19:47:48.788Z"
   },
   {
    "duration": 20,
    "start_time": "2025-05-01T19:47:48.814Z"
   },
   {
    "duration": 5,
    "start_time": "2025-05-01T19:47:48.836Z"
   },
   {
    "duration": 183,
    "start_time": "2025-05-01T19:47:48.842Z"
   },
   {
    "duration": 0,
    "start_time": "2025-05-01T19:47:49.027Z"
   },
   {
    "duration": 0,
    "start_time": "2025-05-01T19:47:49.029Z"
   },
   {
    "duration": 0,
    "start_time": "2025-05-01T19:47:49.030Z"
   },
   {
    "duration": 0,
    "start_time": "2025-05-01T19:47:49.032Z"
   },
   {
    "duration": 0,
    "start_time": "2025-05-01T19:47:49.033Z"
   },
   {
    "duration": 0,
    "start_time": "2025-05-01T19:47:49.034Z"
   },
   {
    "duration": 0,
    "start_time": "2025-05-01T19:47:49.036Z"
   },
   {
    "duration": 0,
    "start_time": "2025-05-01T19:47:49.037Z"
   },
   {
    "duration": 0,
    "start_time": "2025-05-01T19:47:49.038Z"
   },
   {
    "duration": 0,
    "start_time": "2025-05-01T19:47:49.039Z"
   },
   {
    "duration": 0,
    "start_time": "2025-05-01T19:47:49.040Z"
   },
   {
    "duration": 0,
    "start_time": "2025-05-01T19:47:49.041Z"
   },
   {
    "duration": 0,
    "start_time": "2025-05-01T19:47:49.042Z"
   },
   {
    "duration": 0,
    "start_time": "2025-05-01T19:47:49.043Z"
   },
   {
    "duration": 0,
    "start_time": "2025-05-01T19:47:49.044Z"
   },
   {
    "duration": 0,
    "start_time": "2025-05-01T19:47:49.046Z"
   },
   {
    "duration": 0,
    "start_time": "2025-05-01T19:47:49.047Z"
   },
   {
    "duration": 0,
    "start_time": "2025-05-01T19:47:49.048Z"
   },
   {
    "duration": 0,
    "start_time": "2025-05-01T19:47:49.049Z"
   },
   {
    "duration": 0,
    "start_time": "2025-05-01T19:47:49.050Z"
   },
   {
    "duration": 0,
    "start_time": "2025-05-01T19:47:49.052Z"
   },
   {
    "duration": 0,
    "start_time": "2025-05-01T19:47:49.053Z"
   },
   {
    "duration": 0,
    "start_time": "2025-05-01T19:47:49.054Z"
   },
   {
    "duration": 0,
    "start_time": "2025-05-01T19:47:49.055Z"
   },
   {
    "duration": 0,
    "start_time": "2025-05-01T19:47:49.056Z"
   },
   {
    "duration": 0,
    "start_time": "2025-05-01T19:47:49.106Z"
   },
   {
    "duration": 0,
    "start_time": "2025-05-01T19:47:49.108Z"
   },
   {
    "duration": 0,
    "start_time": "2025-05-01T19:47:49.109Z"
   },
   {
    "duration": 0,
    "start_time": "2025-05-01T19:47:49.111Z"
   },
   {
    "duration": 0,
    "start_time": "2025-05-01T19:47:49.114Z"
   },
   {
    "duration": 0,
    "start_time": "2025-05-01T19:47:49.116Z"
   },
   {
    "duration": 0,
    "start_time": "2025-05-01T19:47:49.117Z"
   },
   {
    "duration": 0,
    "start_time": "2025-05-01T19:47:49.118Z"
   },
   {
    "duration": 0,
    "start_time": "2025-05-01T19:47:49.120Z"
   },
   {
    "duration": 0,
    "start_time": "2025-05-01T19:47:49.121Z"
   },
   {
    "duration": 0,
    "start_time": "2025-05-01T19:47:49.123Z"
   },
   {
    "duration": 0,
    "start_time": "2025-05-01T19:47:49.125Z"
   },
   {
    "duration": 0,
    "start_time": "2025-05-01T19:47:49.127Z"
   },
   {
    "duration": 0,
    "start_time": "2025-05-01T19:47:49.128Z"
   },
   {
    "duration": 0,
    "start_time": "2025-05-01T19:47:49.129Z"
   },
   {
    "duration": 1354,
    "start_time": "2025-05-01T19:48:21.495Z"
   },
   {
    "duration": 1623,
    "start_time": "2025-05-01T19:48:22.851Z"
   },
   {
    "duration": 20,
    "start_time": "2025-05-01T19:48:24.475Z"
   },
   {
    "duration": 12,
    "start_time": "2025-05-01T19:48:24.496Z"
   },
   {
    "duration": 11,
    "start_time": "2025-05-01T19:48:24.511Z"
   },
   {
    "duration": 9,
    "start_time": "2025-05-01T19:48:24.524Z"
   },
   {
    "duration": 78,
    "start_time": "2025-05-01T19:48:24.535Z"
   },
   {
    "duration": 10,
    "start_time": "2025-05-01T19:48:24.615Z"
   },
   {
    "duration": 75,
    "start_time": "2025-05-01T19:48:24.627Z"
   },
   {
    "duration": 140,
    "start_time": "2025-05-01T19:48:24.704Z"
   },
   {
    "duration": 32,
    "start_time": "2025-05-01T19:48:24.845Z"
   },
   {
    "duration": 62,
    "start_time": "2025-05-01T19:48:24.879Z"
   },
   {
    "duration": 62,
    "start_time": "2025-05-01T19:48:24.943Z"
   },
   {
    "duration": 400,
    "start_time": "2025-05-01T19:48:25.012Z"
   },
   {
    "duration": 8,
    "start_time": "2025-05-01T19:48:25.414Z"
   },
   {
    "duration": 16,
    "start_time": "2025-05-01T19:48:25.424Z"
   },
   {
    "duration": 23,
    "start_time": "2025-05-01T19:48:25.442Z"
   },
   {
    "duration": 4,
    "start_time": "2025-05-01T19:48:25.466Z"
   },
   {
    "duration": 53,
    "start_time": "2025-05-01T19:48:25.471Z"
   },
   {
    "duration": 157,
    "start_time": "2025-05-01T19:48:25.527Z"
   },
   {
    "duration": 5,
    "start_time": "2025-05-01T19:48:25.686Z"
   },
   {
    "duration": 21,
    "start_time": "2025-05-01T19:48:25.705Z"
   },
   {
    "duration": 12,
    "start_time": "2025-05-01T19:48:25.728Z"
   },
   {
    "duration": 3,
    "start_time": "2025-05-01T19:48:25.741Z"
   },
   {
    "duration": 366,
    "start_time": "2025-05-01T19:48:25.745Z"
   },
   {
    "duration": 12,
    "start_time": "2025-05-01T19:48:26.113Z"
   },
   {
    "duration": 12,
    "start_time": "2025-05-01T19:48:26.126Z"
   },
   {
    "duration": 18,
    "start_time": "2025-05-01T19:48:26.139Z"
   },
   {
    "duration": 20,
    "start_time": "2025-05-01T19:48:26.159Z"
   },
   {
    "duration": 5,
    "start_time": "2025-05-01T19:48:26.180Z"
   },
   {
    "duration": 91,
    "start_time": "2025-05-01T19:48:26.186Z"
   },
   {
    "duration": 5,
    "start_time": "2025-05-01T19:48:26.279Z"
   },
   {
    "duration": 8,
    "start_time": "2025-05-01T19:48:26.286Z"
   },
   {
    "duration": 23,
    "start_time": "2025-05-01T19:48:26.296Z"
   },
   {
    "duration": 154,
    "start_time": "2025-05-01T19:48:26.321Z"
   },
   {
    "duration": 0,
    "start_time": "2025-05-01T19:48:26.477Z"
   },
   {
    "duration": 0,
    "start_time": "2025-05-01T19:48:26.479Z"
   },
   {
    "duration": 0,
    "start_time": "2025-05-01T19:48:26.480Z"
   },
   {
    "duration": 0,
    "start_time": "2025-05-01T19:48:26.481Z"
   },
   {
    "duration": 0,
    "start_time": "2025-05-01T19:48:26.482Z"
   },
   {
    "duration": 0,
    "start_time": "2025-05-01T19:48:26.483Z"
   },
   {
    "duration": 0,
    "start_time": "2025-05-01T19:48:26.484Z"
   },
   {
    "duration": 0,
    "start_time": "2025-05-01T19:48:26.485Z"
   },
   {
    "duration": 0,
    "start_time": "2025-05-01T19:48:26.486Z"
   },
   {
    "duration": 0,
    "start_time": "2025-05-01T19:48:26.487Z"
   },
   {
    "duration": 0,
    "start_time": "2025-05-01T19:48:26.489Z"
   },
   {
    "duration": 0,
    "start_time": "2025-05-01T19:48:26.505Z"
   },
   {
    "duration": 0,
    "start_time": "2025-05-01T19:48:26.507Z"
   },
   {
    "duration": 0,
    "start_time": "2025-05-01T19:48:26.509Z"
   },
   {
    "duration": 0,
    "start_time": "2025-05-01T19:48:26.510Z"
   },
   {
    "duration": 0,
    "start_time": "2025-05-01T19:48:26.511Z"
   },
   {
    "duration": 0,
    "start_time": "2025-05-01T19:48:26.514Z"
   },
   {
    "duration": 0,
    "start_time": "2025-05-01T19:48:26.515Z"
   },
   {
    "duration": 0,
    "start_time": "2025-05-01T19:48:26.517Z"
   },
   {
    "duration": 0,
    "start_time": "2025-05-01T19:48:26.518Z"
   },
   {
    "duration": 0,
    "start_time": "2025-05-01T19:48:26.520Z"
   },
   {
    "duration": 0,
    "start_time": "2025-05-01T19:48:26.524Z"
   },
   {
    "duration": 0,
    "start_time": "2025-05-01T19:48:26.525Z"
   },
   {
    "duration": 0,
    "start_time": "2025-05-01T19:48:26.527Z"
   },
   {
    "duration": 0,
    "start_time": "2025-05-01T19:48:26.528Z"
   },
   {
    "duration": 0,
    "start_time": "2025-05-01T19:48:26.529Z"
   },
   {
    "duration": 0,
    "start_time": "2025-05-01T19:48:26.531Z"
   },
   {
    "duration": 0,
    "start_time": "2025-05-01T19:48:26.532Z"
   },
   {
    "duration": 0,
    "start_time": "2025-05-01T19:48:26.533Z"
   },
   {
    "duration": 0,
    "start_time": "2025-05-01T19:48:26.535Z"
   },
   {
    "duration": 0,
    "start_time": "2025-05-01T19:48:26.536Z"
   },
   {
    "duration": 0,
    "start_time": "2025-05-01T19:48:26.537Z"
   },
   {
    "duration": 0,
    "start_time": "2025-05-01T19:48:26.538Z"
   },
   {
    "duration": 0,
    "start_time": "2025-05-01T19:48:26.539Z"
   },
   {
    "duration": 0,
    "start_time": "2025-05-01T19:48:26.540Z"
   },
   {
    "duration": 0,
    "start_time": "2025-05-01T19:48:26.604Z"
   },
   {
    "duration": 62,
    "start_time": "2025-05-01T19:49:07.998Z"
   },
   {
    "duration": 1237,
    "start_time": "2025-05-01T19:50:02.149Z"
   },
   {
    "duration": 1645,
    "start_time": "2025-05-01T19:50:03.388Z"
   },
   {
    "duration": 22,
    "start_time": "2025-05-01T19:50:05.035Z"
   },
   {
    "duration": 15,
    "start_time": "2025-05-01T19:50:05.059Z"
   },
   {
    "duration": 61,
    "start_time": "2025-05-01T19:50:05.076Z"
   },
   {
    "duration": 83,
    "start_time": "2025-05-01T19:50:05.139Z"
   },
   {
    "duration": 76,
    "start_time": "2025-05-01T19:50:05.225Z"
   },
   {
    "duration": 9,
    "start_time": "2025-05-01T19:50:05.303Z"
   },
   {
    "duration": 22,
    "start_time": "2025-05-01T19:50:05.314Z"
   },
   {
    "duration": 150,
    "start_time": "2025-05-01T19:50:05.338Z"
   },
   {
    "duration": 49,
    "start_time": "2025-05-01T19:50:05.490Z"
   },
   {
    "duration": 44,
    "start_time": "2025-05-01T19:50:05.541Z"
   },
   {
    "duration": 70,
    "start_time": "2025-05-01T19:50:05.587Z"
   },
   {
    "duration": 379,
    "start_time": "2025-05-01T19:50:05.660Z"
   },
   {
    "duration": 6,
    "start_time": "2025-05-01T19:50:06.041Z"
   },
   {
    "duration": 61,
    "start_time": "2025-05-01T19:50:06.051Z"
   },
   {
    "duration": 27,
    "start_time": "2025-05-01T19:50:06.114Z"
   },
   {
    "duration": 3,
    "start_time": "2025-05-01T19:50:06.143Z"
   },
   {
    "duration": 25,
    "start_time": "2025-05-01T19:50:06.148Z"
   },
   {
    "duration": 189,
    "start_time": "2025-05-01T19:50:06.175Z"
   },
   {
    "duration": 7,
    "start_time": "2025-05-01T19:50:06.366Z"
   },
   {
    "duration": 43,
    "start_time": "2025-05-01T19:50:06.375Z"
   },
   {
    "duration": 31,
    "start_time": "2025-05-01T19:50:06.420Z"
   },
   {
    "duration": 46,
    "start_time": "2025-05-01T19:50:06.453Z"
   },
   {
    "duration": 296,
    "start_time": "2025-05-01T19:50:06.501Z"
   },
   {
    "duration": 13,
    "start_time": "2025-05-01T19:50:06.799Z"
   },
   {
    "duration": 54,
    "start_time": "2025-05-01T19:50:06.814Z"
   },
   {
    "duration": 33,
    "start_time": "2025-05-01T19:50:06.870Z"
   },
   {
    "duration": 98,
    "start_time": "2025-05-01T19:50:06.904Z"
   },
   {
    "duration": 18,
    "start_time": "2025-05-01T19:50:07.004Z"
   },
   {
    "duration": 87,
    "start_time": "2025-05-01T19:50:07.024Z"
   },
   {
    "duration": 10,
    "start_time": "2025-05-01T19:50:07.114Z"
   },
   {
    "duration": 76,
    "start_time": "2025-05-01T19:50:07.126Z"
   },
   {
    "duration": 34,
    "start_time": "2025-05-01T19:50:07.203Z"
   },
   {
    "duration": 58,
    "start_time": "2025-05-01T19:50:07.239Z"
   },
   {
    "duration": 4,
    "start_time": "2025-05-01T19:50:07.299Z"
   },
   {
    "duration": 78,
    "start_time": "2025-05-01T19:50:07.304Z"
   },
   {
    "duration": 63,
    "start_time": "2025-05-01T19:50:07.384Z"
   },
   {
    "duration": 10,
    "start_time": "2025-05-01T19:50:07.448Z"
   },
   {
    "duration": 15,
    "start_time": "2025-05-01T19:50:07.460Z"
   },
   {
    "duration": 142,
    "start_time": "2025-05-01T19:50:07.480Z"
   },
   {
    "duration": 14,
    "start_time": "2025-05-01T19:50:07.624Z"
   },
   {
    "duration": 27,
    "start_time": "2025-05-01T19:50:07.640Z"
   },
   {
    "duration": 48,
    "start_time": "2025-05-01T19:50:07.668Z"
   },
   {
    "duration": 6,
    "start_time": "2025-05-01T19:50:07.718Z"
   },
   {
    "duration": 24,
    "start_time": "2025-05-01T19:50:07.726Z"
   },
   {
    "duration": 21,
    "start_time": "2025-05-01T19:50:07.751Z"
   },
   {
    "duration": 42,
    "start_time": "2025-05-01T19:50:07.774Z"
   },
   {
    "duration": 18,
    "start_time": "2025-05-01T19:50:07.819Z"
   },
   {
    "duration": 6,
    "start_time": "2025-05-01T19:50:07.839Z"
   },
   {
    "duration": 34,
    "start_time": "2025-05-01T19:50:07.846Z"
   },
   {
    "duration": 23,
    "start_time": "2025-05-01T19:50:07.882Z"
   },
   {
    "duration": 25,
    "start_time": "2025-05-01T19:50:07.907Z"
   },
   {
    "duration": 11,
    "start_time": "2025-05-01T19:50:07.934Z"
   },
   {
    "duration": 4,
    "start_time": "2025-05-01T19:50:07.947Z"
   },
   {
    "duration": 7,
    "start_time": "2025-05-01T19:50:07.952Z"
   },
   {
    "duration": 117,
    "start_time": "2025-05-01T19:50:07.960Z"
   },
   {
    "duration": 65,
    "start_time": "2025-05-01T19:50:08.078Z"
   },
   {
    "duration": 6,
    "start_time": "2025-05-01T19:50:08.145Z"
   },
   {
    "duration": 48,
    "start_time": "2025-05-01T19:50:08.153Z"
   },
   {
    "duration": 5,
    "start_time": "2025-05-01T19:50:08.203Z"
   },
   {
    "duration": 115,
    "start_time": "2025-05-01T19:50:08.212Z"
   },
   {
    "duration": 34,
    "start_time": "2025-05-01T19:50:08.329Z"
   },
   {
    "duration": 14,
    "start_time": "2025-05-01T19:50:08.365Z"
   },
   {
    "duration": 8,
    "start_time": "2025-05-01T19:50:08.381Z"
   },
   {
    "duration": 10,
    "start_time": "2025-05-01T19:50:08.391Z"
   },
   {
    "duration": 23,
    "start_time": "2025-05-01T19:50:08.403Z"
   },
   {
    "duration": 19,
    "start_time": "2025-05-01T19:50:08.428Z"
   },
   {
    "duration": 5,
    "start_time": "2025-05-01T19:50:08.448Z"
   },
   {
    "duration": 14,
    "start_time": "2025-05-01T19:50:08.454Z"
   },
   {
    "duration": 5,
    "start_time": "2025-05-01T19:50:08.470Z"
   },
   {
    "duration": 21,
    "start_time": "2025-05-01T19:51:30.292Z"
   },
   {
    "duration": 8,
    "start_time": "2025-05-01T19:51:42.251Z"
   },
   {
    "duration": 8,
    "start_time": "2025-05-01T19:51:49.315Z"
   },
   {
    "duration": 7,
    "start_time": "2025-05-01T19:56:01.454Z"
   },
   {
    "duration": 24,
    "start_time": "2025-05-01T19:56:10.398Z"
   },
   {
    "duration": 37,
    "start_time": "2025-05-01T19:56:20.958Z"
   },
   {
    "duration": 39,
    "start_time": "2025-05-01T19:56:28.183Z"
   },
   {
    "duration": 5,
    "start_time": "2025-05-01T19:57:02.855Z"
   },
   {
    "duration": 19,
    "start_time": "2025-05-01T19:57:24.360Z"
   },
   {
    "duration": 141,
    "start_time": "2025-05-01T19:57:46.488Z"
   },
   {
    "duration": 8,
    "start_time": "2025-05-01T19:58:00.225Z"
   },
   {
    "duration": 8,
    "start_time": "2025-05-01T19:58:02.744Z"
   },
   {
    "duration": 8,
    "start_time": "2025-05-01T19:58:14.288Z"
   },
   {
    "duration": 8,
    "start_time": "2025-05-01T19:58:18.888Z"
   },
   {
    "duration": 8,
    "start_time": "2025-05-01T19:58:22.192Z"
   },
   {
    "duration": 10,
    "start_time": "2025-05-01T19:58:26.120Z"
   },
   {
    "duration": 5,
    "start_time": "2025-05-01T19:58:31.000Z"
   },
   {
    "duration": 74,
    "start_time": "2025-05-01T19:58:36.209Z"
   },
   {
    "duration": 67,
    "start_time": "2025-05-01T19:58:38.304Z"
   },
   {
    "duration": 58,
    "start_time": "2025-05-01T19:58:46.297Z"
   },
   {
    "duration": 4,
    "start_time": "2025-05-01T19:58:50.169Z"
   },
   {
    "duration": 63,
    "start_time": "2025-05-01T19:58:52.089Z"
   },
   {
    "duration": 54,
    "start_time": "2025-05-01T19:58:59.808Z"
   },
   {
    "duration": 57,
    "start_time": "2025-05-01T19:59:06.081Z"
   },
   {
    "duration": 9,
    "start_time": "2025-05-01T19:59:11.610Z"
   },
   {
    "duration": 16,
    "start_time": "2025-05-01T19:59:22.714Z"
   },
   {
    "duration": 19,
    "start_time": "2025-05-01T19:59:27.514Z"
   },
   {
    "duration": 13,
    "start_time": "2025-05-01T19:59:32.250Z"
   },
   {
    "duration": 13,
    "start_time": "2025-05-01T19:59:35.618Z"
   },
   {
    "duration": 12,
    "start_time": "2025-05-01T19:59:39.265Z"
   },
   {
    "duration": 5,
    "start_time": "2025-05-01T19:59:46.386Z"
   },
   {
    "duration": 5,
    "start_time": "2025-05-01T19:59:56.241Z"
   },
   {
    "duration": 4,
    "start_time": "2025-05-01T20:00:00.097Z"
   },
   {
    "duration": 5,
    "start_time": "2025-05-01T20:00:02.018Z"
   },
   {
    "duration": 20,
    "start_time": "2025-05-01T20:00:10.490Z"
   },
   {
    "duration": 17,
    "start_time": "2025-05-01T20:00:13.385Z"
   },
   {
    "duration": 7,
    "start_time": "2025-05-01T20:00:16.321Z"
   },
   {
    "duration": 4,
    "start_time": "2025-05-01T20:00:23.362Z"
   },
   {
    "duration": 5,
    "start_time": "2025-05-01T20:00:26.402Z"
   },
   {
    "duration": 1266,
    "start_time": "2025-05-01T20:00:41.102Z"
   },
   {
    "duration": 1790,
    "start_time": "2025-05-01T20:00:42.370Z"
   },
   {
    "duration": 20,
    "start_time": "2025-05-01T20:00:44.161Z"
   },
   {
    "duration": 4,
    "start_time": "2025-05-01T20:00:44.183Z"
   },
   {
    "duration": 11,
    "start_time": "2025-05-01T20:00:44.210Z"
   },
   {
    "duration": 8,
    "start_time": "2025-05-01T20:00:44.223Z"
   },
   {
    "duration": 54,
    "start_time": "2025-05-01T20:00:44.233Z"
   },
   {
    "duration": 7,
    "start_time": "2025-05-01T20:00:44.288Z"
   },
   {
    "duration": 21,
    "start_time": "2025-05-01T20:00:44.306Z"
   },
   {
    "duration": 181,
    "start_time": "2025-05-01T20:00:44.329Z"
   },
   {
    "duration": 42,
    "start_time": "2025-05-01T20:00:44.513Z"
   },
   {
    "duration": 73,
    "start_time": "2025-05-01T20:00:44.557Z"
   },
   {
    "duration": 37,
    "start_time": "2025-05-01T20:00:44.631Z"
   },
   {
    "duration": 446,
    "start_time": "2025-05-01T20:00:44.672Z"
   },
   {
    "duration": 6,
    "start_time": "2025-05-01T20:00:45.120Z"
   },
   {
    "duration": 142,
    "start_time": "2025-05-01T20:00:45.128Z"
   },
   {
    "duration": 35,
    "start_time": "2025-05-01T20:00:45.272Z"
   },
   {
    "duration": 57,
    "start_time": "2025-05-01T20:00:45.309Z"
   },
   {
    "duration": 31,
    "start_time": "2025-05-01T20:00:45.367Z"
   },
   {
    "duration": 224,
    "start_time": "2025-05-01T20:00:45.400Z"
   },
   {
    "duration": 7,
    "start_time": "2025-05-01T20:00:45.626Z"
   },
   {
    "duration": 28,
    "start_time": "2025-05-01T20:00:45.634Z"
   },
   {
    "duration": 36,
    "start_time": "2025-05-01T20:00:45.663Z"
   },
   {
    "duration": 8,
    "start_time": "2025-05-01T20:00:45.701Z"
   },
   {
    "duration": 328,
    "start_time": "2025-05-01T20:00:45.711Z"
   },
   {
    "duration": 14,
    "start_time": "2025-05-01T20:00:46.041Z"
   },
   {
    "duration": 87,
    "start_time": "2025-05-01T20:00:46.058Z"
   },
   {
    "duration": 9,
    "start_time": "2025-05-01T20:00:46.147Z"
   },
   {
    "duration": 21,
    "start_time": "2025-05-01T20:00:46.158Z"
   },
   {
    "duration": 12,
    "start_time": "2025-05-01T20:00:46.181Z"
   },
   {
    "duration": 97,
    "start_time": "2025-05-01T20:00:46.195Z"
   },
   {
    "duration": 6,
    "start_time": "2025-05-01T20:00:46.294Z"
   },
   {
    "duration": 8,
    "start_time": "2025-05-01T20:00:46.302Z"
   },
   {
    "duration": 18,
    "start_time": "2025-05-01T20:00:46.313Z"
   },
   {
    "duration": 58,
    "start_time": "2025-05-01T20:00:46.333Z"
   },
   {
    "duration": 4,
    "start_time": "2025-05-01T20:00:46.393Z"
   },
   {
    "duration": 91,
    "start_time": "2025-05-01T20:00:46.398Z"
   },
   {
    "duration": 49,
    "start_time": "2025-05-01T20:00:46.491Z"
   },
   {
    "duration": 11,
    "start_time": "2025-05-01T20:00:46.542Z"
   },
   {
    "duration": 16,
    "start_time": "2025-05-01T20:00:46.554Z"
   },
   {
    "duration": 152,
    "start_time": "2025-05-01T20:00:46.574Z"
   },
   {
    "duration": 99,
    "start_time": "2025-05-01T20:00:46.728Z"
   },
   {
    "duration": 19,
    "start_time": "2025-05-01T20:00:46.830Z"
   },
   {
    "duration": 30,
    "start_time": "2025-05-01T20:00:46.851Z"
   },
   {
    "duration": 6,
    "start_time": "2025-05-01T20:00:46.883Z"
   },
   {
    "duration": 33,
    "start_time": "2025-05-01T20:00:46.891Z"
   },
   {
    "duration": 13,
    "start_time": "2025-05-01T20:00:46.931Z"
   },
   {
    "duration": 22,
    "start_time": "2025-05-01T20:00:46.947Z"
   },
   {
    "duration": 37,
    "start_time": "2025-05-01T20:00:46.971Z"
   },
   {
    "duration": 5,
    "start_time": "2025-05-01T20:00:47.010Z"
   },
   {
    "duration": 16,
    "start_time": "2025-05-01T20:00:47.016Z"
   },
   {
    "duration": 14,
    "start_time": "2025-05-01T20:00:47.034Z"
   },
   {
    "duration": 4,
    "start_time": "2025-05-01T20:00:47.050Z"
   },
   {
    "duration": 10,
    "start_time": "2025-05-01T20:00:47.056Z"
   },
   {
    "duration": 21,
    "start_time": "2025-05-01T20:00:47.067Z"
   },
   {
    "duration": 13,
    "start_time": "2025-05-01T20:00:47.090Z"
   },
   {
    "duration": 14,
    "start_time": "2025-05-01T20:00:47.105Z"
   },
   {
    "duration": 36,
    "start_time": "2025-05-01T20:00:47.121Z"
   },
   {
    "duration": 7,
    "start_time": "2025-05-01T20:00:47.158Z"
   },
   {
    "duration": 91,
    "start_time": "2025-05-01T20:00:47.166Z"
   },
   {
    "duration": 25,
    "start_time": "2025-05-01T20:00:47.259Z"
   },
   {
    "duration": 45,
    "start_time": "2025-05-01T20:00:47.285Z"
   },
   {
    "duration": 23,
    "start_time": "2025-05-01T20:00:47.332Z"
   },
   {
    "duration": 27,
    "start_time": "2025-05-01T20:00:47.357Z"
   },
   {
    "duration": 15,
    "start_time": "2025-05-01T20:00:47.386Z"
   },
   {
    "duration": 13,
    "start_time": "2025-05-01T20:00:47.402Z"
   },
   {
    "duration": 17,
    "start_time": "2025-05-01T20:00:47.417Z"
   },
   {
    "duration": 13,
    "start_time": "2025-05-01T20:00:47.435Z"
   },
   {
    "duration": 16,
    "start_time": "2025-05-01T20:00:47.449Z"
   },
   {
    "duration": 17,
    "start_time": "2025-05-01T20:00:47.466Z"
   },
   {
    "duration": 20,
    "start_time": "2025-05-01T20:00:47.485Z"
   }
  ],
  "colab": {
   "provenance": [],
   "toc_visible": true
  },
  "kernelspec": {
   "display_name": "Python 3",
   "language": "python",
   "name": "python3"
  },
  "language_info": {
   "codemirror_mode": {
    "name": "ipython",
    "version": 3
   },
   "file_extension": ".py",
   "mimetype": "text/x-python",
   "name": "python",
   "nbconvert_exporter": "python",
   "pygments_lexer": "ipython3",
   "version": "3.13.3"
  },
  "toc": {
   "base_numbering": 1,
   "nav_menu": {},
   "number_sections": true,
   "sideBar": true,
   "skip_h1_title": true,
   "title_cell": "Table of Contents",
   "title_sidebar": "Contents",
   "toc_cell": false,
   "toc_position": {
    "height": "calc(100% - 180px)",
    "left": "10px",
    "top": "150px",
    "width": "165px"
   },
   "toc_section_display": true,
   "toc_window_display": true
  }
 },
 "nbformat": 4,
 "nbformat_minor": 5
}
