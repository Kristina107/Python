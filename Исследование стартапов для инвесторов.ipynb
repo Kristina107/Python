{
 "cells": [
  {
   "cell_type": "markdown",
   "metadata": {
    "id": "4mJbK1knrJgz"
   },
   "source": [
    "# <font color='#6A5ACD'>Исследование стартапов для инвесторов</font>"
   ]
  },
  {
   "cell_type": "markdown",
   "metadata": {},
   "source": [
    "- Автор: Романовкская Кристина\n",
    "- Дата: 17.02.2025"
   ]
  },
  {
   "cell_type": "markdown",
   "metadata": {},
   "source": [
    "### <font color='#00FFFF'> Цели и задачи проекта</font>\n",
    "\n",
    "### Цель:\n",
    "Подготовить датасет и проверить, что данные корректны для проведения анализа, выявить показатели и признаки, которые указывают на повышенную вероятность успешной сделки по покупке компании.\n",
    "\n",
    "### Задачи:\n",
    "1. Загрузить данные и познакомиться с их содержимым.\n",
    "2. Провести предобработку данных.\n",
    "3. Провести исследовательский анализ данных:\n",
    "    - 3.1. Объединение данных\n",
    "    - 3.2. Анализ выбросов\n",
    "    - 3.3. Куплены забесплатно\n",
    "    - 3.4. Цены стартапов по категориям\n",
    "    - 3.5. Сколько раундов продержится стартап перед покупкой\n",
    "4. Итоговый вывод и рекомендации."
   ]
  },
  {
   "cell_type": "markdown",
   "metadata": {},
   "source": [
    "## <font color='#00FFFF'> Описание данных</font>\n",
    "\n",
    "Для анализа поступили данные о финансовой компании, которая предоставляет льготные займы стартапам. Данные состоят из семи датасетов:\n",
    "\n",
    "- `company_and_rounds.csv` — информация о покупках одними компаниями других компаний;\n",
    "- `acquisition.csv` — информация о компаниях и раундах финансирования;\n",
    "- `people.csv` — информация об образовании сотрудника;\n",
    "- `education.csv` — информация о сотрудниках;\n",
    "- `degrees.csv` — информация о типе образования сотрудника;\n",
    "- `fund.csv` — информация о фондах;\n",
    "- `investment.csv` —  информация о раундах инвестирования.\n",
    "\n",
    "### Описание датасета `acquisition.csv`\n",
    "\n",
    "- `id` — идентификатор покупки;\n",
    "- `acquiring_company_id` — идентификатор покупающей компании;\n",
    "- `acquired_company_id` — идентификатор покупаемой компании;\n",
    "- `term_code` — варианты расчёта;\n",
    "- `price_amount` — сумма сделки;\n",
    "- `acquired_at` — дата сделки.\n",
    "\n",
    "### Описание датасета `company_and_rounds.csv`\n",
    "\n",
    "- `company ID` — идентификатор компании;\n",
    "- `name` — название компании;\n",
    "- `category code` — категория области деятельности компании;\n",
    "- `status` — статус компании;\n",
    "- `founded at` — дата инвестирования;\n",
    "- `closed at` — дата закрытия компании;\n",
    "- `domain` — официальный сайт компании;\n",
    "- `network username` — ник компании в сети;\n",
    "- `country code` — код страны компании;\n",
    "- `investment rounds` — число инвестиционных раундов;\n",
    "- `funding rounds` — число раундов финансирования;\n",
    "- `funding total` — сумма финансирования;\n",
    "- `milestones` — вехи финансирования;\n",
    "- `funding round id` — идентификатор этапа финансирования;\n",
    "- `company id` — идентификатор компании;\n",
    "- `funded at` — дата финансирования;\n",
    "- `funding round type` — тип финансирования;\n",
    "- `raised amount` — сумма финансирования;\n",
    "- `pre money valuation` — предварительная денежная оценка;\n",
    "- `participants` — число участников;\n",
    "- `is first round` — является ли раунд первым;\n",
    "- `is last round` — является раунд последним.\n",
    "\n",
    "### Описание датасета `education.csv`\n",
    "\n",
    "- `id` — идентификатор записи об образовании;\n",
    "- `person_id` — идентификатор работника;\n",
    "- `instituition` — название учебного заведения;\n",
    "- `graduated_at` — дата получения образования.\n",
    "\n",
    "### Описание датасета `people.csv`\n",
    "\n",
    "- `id` — идентификатор сотрудника;\n",
    "- `first_name` — имя сотрудника;\n",
    "- `last_name` — фамилия сотрудника;\n",
    "- `company_id` — идентификатор компании;\n",
    "- `network_username` — ник в социальных сетях.\n",
    "\n",
    "### Описание датасета `degrees.csv`\n",
    "\n",
    "- `id` — идентификатор записи;\n",
    "- `object_id` — идентификатор сотрудника;\n",
    "- `degree_type` — тип образования;\n",
    "- `subject` — специальность.\n",
    "\n",
    "### Описание датасета `fund.csv`\n",
    "\n",
    "- `id` — идентификатор фонда;\n",
    "- `name` — название фонда;\n",
    "- `category_code` — категория области деятельности компании;\n",
    "- `founded_at` — дата создания фонда;\n",
    "- `domain` — сайт фонда;\n",
    "- `network_username` — ник фонда в сети;\n",
    "- `country_code` — код страны фонда;\n",
    "- `investment_rounds` — число инвестиционных раундов;\n",
    "- `invested_companies` — число профинансированных компаний;\n",
    "- `milestones` — вехи финансирования.\n",
    "\n",
    "### Описание датасета `investment.csv`\n",
    "\n",
    "- `id` — идентификатор этапа инвестирования;\n",
    "- `funding_round_id` — идентификатор раунда инвестирования;\n",
    "- `company_id` — индентификатор компании;\n",
    "- `funding_round_type` — тип финансирования;\n",
    "- `fund_id` — идентификатор фонда."
   ]
  },
  {
   "cell_type": "markdown",
   "metadata": {},
   "source": [
    "## <font color='#00FFFF'> Содержимое проекта</font>\n",
    "\n",
    "1. <a href=\"#part1\">Загрузка данных и знакомство с ними.</a>\n",
    "    1) <a href=\"#part2\">Вывод общей информации, исправление названия столбцов;</a>\n",
    "    2) <a href=\"#part3\">Смена типов и анализ пропусков;</a>\n",
    "2. <a href=\"#part4\">Предобработка данных, предварительное исследование:</a>\n",
    "    1) <a href=\"#part5\">Раунды финансирования по годам;</a>\n",
    "    2) <a href=\"#part6\">Люди и их образование;</a>\n",
    "    3) <a href=\"#part7\">Объединять или не объединять;</a> \n",
    "    4) <a href=\"#part8\">Проблемный датасет и причина возникновения пропусков;</a>       \n",
    "3. <a href=\"#part9\">Исследовательский анализ объединённых таблиц:</a>\n",
    "    1) <a href=\"#part10\">Объединение данных;</a>\n",
    "    2) <a href=\"#part11\">Анализ выбросов;</a>\n",
    "    3) <a href=\"#part12\">Куплены забесплатно;</a>\n",
    "    4) <a href=\"#part13\">Цены стартапов по категориям;</a>\n",
    "    5) <a href=\"#part14\">Сколько раундов продержится стартап перед покупкой.</a>\n",
    "4. <a href=\"#part15\">Итоговый вывод и рекомендации.</a>"
   ]
  },
  {
   "cell_type": "markdown",
   "metadata": {
    "id": "xqr6uttCrJg0"
   },
   "source": [
    "\n",
    "## <a href=\"#part1\">Шаг 1. Знакомство с данными: загрузка и первичная предобработка</a>\n",
    "\n",
    "Названия файлов:\n",
    "* acquisition.csv\n",
    "* company_and_rounds.csv\n",
    "* degrees.csv\n",
    "* education.csv\n",
    "* fund.csv\n",
    "* investment.csv\n",
    "* people.csv"
   ]
  },
  {
   "cell_type": "markdown",
   "metadata": {},
   "source": [
    "### 1.1. <a href=\"#part2\">Вывод общей информации, исправление названия столбцов</a>"
   ]
  },
  {
   "cell_type": "code",
   "execution_count": 1,
   "metadata": {
    "id": "4u9np9gSnyqT"
   },
   "outputs": [],
   "source": [
    "# Импортируем библиотеки\n",
    "import pandas as pd\n",
    "import numpy as np\n",
    "\n",
    "# Загружаем библиотеки для визуализации данных\n",
    "import matplotlib.pyplot as plt\n",
    "import seaborn as sns\n",
    "\n",
    "# Метод dendrogram из библиотеки missingno\n",
    "!pip install missingno -q\n",
    "import missingno as msno"
   ]
  },
  {
   "cell_type": "code",
   "execution_count": 2,
   "metadata": {},
   "outputs": [],
   "source": [
    "# Выгружаем данные в переменные\n",
    "acquisition_df = pd.read_csv('/datasets/acquisition.csv')\n",
    "company_and_rounds_df = pd.read_csv('/datasets/company_and_rounds.csv')\n",
    "degrees_df = pd.read_csv('/datasets/degrees.csv')\n",
    "education_df = pd.read_csv('/datasets/education.csv')\n",
    "fund_df = pd.read_csv('/datasets/fund.csv')\n",
    "investment_df = pd.read_csv('/datasets/investment.csv')\n",
    "people_df = pd.read_csv('/datasets/people.csv')"
   ]
  },
  {
   "cell_type": "code",
   "execution_count": 3,
   "metadata": {},
   "outputs": [
    {
     "data": {
      "text/html": [
       "<div>\n",
       "<style scoped>\n",
       "    .dataframe tbody tr th:only-of-type {\n",
       "        vertical-align: middle;\n",
       "    }\n",
       "\n",
       "    .dataframe tbody tr th {\n",
       "        vertical-align: top;\n",
       "    }\n",
       "\n",
       "    .dataframe thead th {\n",
       "        text-align: right;\n",
       "    }\n",
       "</style>\n",
       "<table border=\"1\" class=\"dataframe\">\n",
       "  <thead>\n",
       "    <tr style=\"text-align: right;\">\n",
       "      <th></th>\n",
       "      <th>id</th>\n",
       "      <th>acquiring_company_id</th>\n",
       "      <th>acquired_company_id</th>\n",
       "      <th>term_code</th>\n",
       "      <th>price_amount</th>\n",
       "      <th>acquired_at</th>\n",
       "    </tr>\n",
       "  </thead>\n",
       "  <tbody>\n",
       "    <tr>\n",
       "      <th>0</th>\n",
       "      <td>1</td>\n",
       "      <td>11</td>\n",
       "      <td>10</td>\n",
       "      <td>NaN</td>\n",
       "      <td>20000000</td>\n",
       "      <td>2007-05-30</td>\n",
       "    </tr>\n",
       "    <tr>\n",
       "      <th>1</th>\n",
       "      <td>7</td>\n",
       "      <td>59</td>\n",
       "      <td>72</td>\n",
       "      <td>cash</td>\n",
       "      <td>60000000</td>\n",
       "      <td>2007-07-01</td>\n",
       "    </tr>\n",
       "    <tr>\n",
       "      <th>2</th>\n",
       "      <td>8</td>\n",
       "      <td>24</td>\n",
       "      <td>132</td>\n",
       "      <td>cash</td>\n",
       "      <td>280000000</td>\n",
       "      <td>2007-05-01</td>\n",
       "    </tr>\n",
       "    <tr>\n",
       "      <th>3</th>\n",
       "      <td>9</td>\n",
       "      <td>59</td>\n",
       "      <td>155</td>\n",
       "      <td>cash</td>\n",
       "      <td>100000000</td>\n",
       "      <td>2007-06-01</td>\n",
       "    </tr>\n",
       "    <tr>\n",
       "      <th>4</th>\n",
       "      <td>10</td>\n",
       "      <td>212</td>\n",
       "      <td>215</td>\n",
       "      <td>cash</td>\n",
       "      <td>25000000</td>\n",
       "      <td>2007-07-01</td>\n",
       "    </tr>\n",
       "  </tbody>\n",
       "</table>\n",
       "</div>"
      ],
      "text/plain": [
       "   id  acquiring_company_id  acquired_company_id term_code  price_amount  \\\n",
       "0   1                    11                   10       NaN      20000000   \n",
       "1   7                    59                   72      cash      60000000   \n",
       "2   8                    24                  132      cash     280000000   \n",
       "3   9                    59                  155      cash     100000000   \n",
       "4  10                   212                  215      cash      25000000   \n",
       "\n",
       "  acquired_at  \n",
       "0  2007-05-30  \n",
       "1  2007-07-01  \n",
       "2  2007-05-01  \n",
       "3  2007-06-01  \n",
       "4  2007-07-01  "
      ]
     },
     "execution_count": 3,
     "metadata": {},
     "output_type": "execute_result"
    }
   ],
   "source": [
    "# Выводим первые строки acquisition на экран\n",
    "acquisition_df.head()"
   ]
  },
  {
   "cell_type": "code",
   "execution_count": 4,
   "metadata": {
    "id": "W_W4jRazrJg0"
   },
   "outputs": [
    {
     "name": "stdout",
     "output_type": "stream",
     "text": [
      "<class 'pandas.core.frame.DataFrame'>\n",
      "RangeIndex: 9407 entries, 0 to 9406\n",
      "Data columns (total 6 columns):\n",
      " #   Column                Non-Null Count  Dtype \n",
      "---  ------                --------------  ----- \n",
      " 0   id                    9407 non-null   int64 \n",
      " 1   acquiring_company_id  9407 non-null   int64 \n",
      " 2   acquired_company_id   9407 non-null   int64 \n",
      " 3   term_code             1831 non-null   object\n",
      " 4   price_amount          9407 non-null   int64 \n",
      " 5   acquired_at           9378 non-null   object\n",
      "dtypes: int64(4), object(2)\n",
      "memory usage: 441.1+ KB\n"
     ]
    }
   ],
   "source": [
    "# Выводим информацию о датафрейме acquisition\n",
    "acquisition_df.info()"
   ]
  },
  {
   "cell_type": "code",
   "execution_count": 5,
   "metadata": {},
   "outputs": [
    {
     "data": {
      "text/html": [
       "<div>\n",
       "<style scoped>\n",
       "    .dataframe tbody tr th:only-of-type {\n",
       "        vertical-align: middle;\n",
       "    }\n",
       "\n",
       "    .dataframe tbody tr th {\n",
       "        vertical-align: top;\n",
       "    }\n",
       "\n",
       "    .dataframe thead th {\n",
       "        text-align: right;\n",
       "    }\n",
       "</style>\n",
       "<table border=\"1\" class=\"dataframe\">\n",
       "  <thead>\n",
       "    <tr style=\"text-align: right;\">\n",
       "      <th></th>\n",
       "      <th>company  ID</th>\n",
       "      <th>name</th>\n",
       "      <th>category  code</th>\n",
       "      <th>status</th>\n",
       "      <th>founded  at</th>\n",
       "      <th>closed  at</th>\n",
       "      <th>domain</th>\n",
       "      <th>network  username</th>\n",
       "      <th>country  code</th>\n",
       "      <th>investment  rounds</th>\n",
       "      <th>...</th>\n",
       "      <th>milestones</th>\n",
       "      <th>funding  round  id</th>\n",
       "      <th>company  id</th>\n",
       "      <th>funded  at</th>\n",
       "      <th>funding  round  type</th>\n",
       "      <th>raised  amount</th>\n",
       "      <th>pre  money  valuation</th>\n",
       "      <th>participants</th>\n",
       "      <th>is  first  round</th>\n",
       "      <th>is  last  round</th>\n",
       "    </tr>\n",
       "  </thead>\n",
       "  <tbody>\n",
       "    <tr>\n",
       "      <th>0</th>\n",
       "      <td>1.0</td>\n",
       "      <td>Wetpaint</td>\n",
       "      <td>web</td>\n",
       "      <td>operating</td>\n",
       "      <td>2005-10-17</td>\n",
       "      <td>NaN</td>\n",
       "      <td>wetpaint-inc.com</td>\n",
       "      <td>BachelrWetpaint</td>\n",
       "      <td>USA</td>\n",
       "      <td>0.0</td>\n",
       "      <td>...</td>\n",
       "      <td>5.0</td>\n",
       "      <td>888.0</td>\n",
       "      <td>1.0</td>\n",
       "      <td>2005-10-01</td>\n",
       "      <td>series-a</td>\n",
       "      <td>5250000.0</td>\n",
       "      <td>0.0</td>\n",
       "      <td>2.0</td>\n",
       "      <td>0.0</td>\n",
       "      <td>1.0</td>\n",
       "    </tr>\n",
       "    <tr>\n",
       "      <th>1</th>\n",
       "      <td>1.0</td>\n",
       "      <td>Wetpaint</td>\n",
       "      <td>web</td>\n",
       "      <td>operating</td>\n",
       "      <td>2005-10-17</td>\n",
       "      <td>NaN</td>\n",
       "      <td>wetpaint-inc.com</td>\n",
       "      <td>BachelrWetpaint</td>\n",
       "      <td>USA</td>\n",
       "      <td>0.0</td>\n",
       "      <td>...</td>\n",
       "      <td>5.0</td>\n",
       "      <td>889.0</td>\n",
       "      <td>1.0</td>\n",
       "      <td>2007-01-01</td>\n",
       "      <td>series-b</td>\n",
       "      <td>9500000.0</td>\n",
       "      <td>0.0</td>\n",
       "      <td>3.0</td>\n",
       "      <td>0.0</td>\n",
       "      <td>0.0</td>\n",
       "    </tr>\n",
       "    <tr>\n",
       "      <th>2</th>\n",
       "      <td>1.0</td>\n",
       "      <td>Wetpaint</td>\n",
       "      <td>web</td>\n",
       "      <td>operating</td>\n",
       "      <td>2005-10-17</td>\n",
       "      <td>NaN</td>\n",
       "      <td>wetpaint-inc.com</td>\n",
       "      <td>BachelrWetpaint</td>\n",
       "      <td>USA</td>\n",
       "      <td>0.0</td>\n",
       "      <td>...</td>\n",
       "      <td>5.0</td>\n",
       "      <td>2312.0</td>\n",
       "      <td>1.0</td>\n",
       "      <td>2008-05-19</td>\n",
       "      <td>series-c+</td>\n",
       "      <td>25000000.0</td>\n",
       "      <td>0.0</td>\n",
       "      <td>4.0</td>\n",
       "      <td>1.0</td>\n",
       "      <td>0.0</td>\n",
       "    </tr>\n",
       "    <tr>\n",
       "      <th>3</th>\n",
       "      <td>10.0</td>\n",
       "      <td>Flektor</td>\n",
       "      <td>games_video</td>\n",
       "      <td>acquired</td>\n",
       "      <td>NaN</td>\n",
       "      <td>NaN</td>\n",
       "      <td>flektor.com</td>\n",
       "      <td>NaN</td>\n",
       "      <td>USA</td>\n",
       "      <td>0.0</td>\n",
       "      <td>...</td>\n",
       "      <td>0.0</td>\n",
       "      <td>NaN</td>\n",
       "      <td>NaN</td>\n",
       "      <td>NaN</td>\n",
       "      <td>NaN</td>\n",
       "      <td>NaN</td>\n",
       "      <td>NaN</td>\n",
       "      <td>NaN</td>\n",
       "      <td>NaN</td>\n",
       "      <td>NaN</td>\n",
       "    </tr>\n",
       "    <tr>\n",
       "      <th>4</th>\n",
       "      <td>100.0</td>\n",
       "      <td>There</td>\n",
       "      <td>games_video</td>\n",
       "      <td>acquired</td>\n",
       "      <td>NaN</td>\n",
       "      <td>NaN</td>\n",
       "      <td>there.com</td>\n",
       "      <td>NaN</td>\n",
       "      <td>USA</td>\n",
       "      <td>0.0</td>\n",
       "      <td>...</td>\n",
       "      <td>4.0</td>\n",
       "      <td>NaN</td>\n",
       "      <td>NaN</td>\n",
       "      <td>NaN</td>\n",
       "      <td>NaN</td>\n",
       "      <td>NaN</td>\n",
       "      <td>NaN</td>\n",
       "      <td>NaN</td>\n",
       "      <td>NaN</td>\n",
       "      <td>NaN</td>\n",
       "    </tr>\n",
       "  </tbody>\n",
       "</table>\n",
       "<p>5 rows × 22 columns</p>\n",
       "</div>"
      ],
      "text/plain": [
       "   company  ID      name category  code     status founded  at closed  at  \\\n",
       "0          1.0  Wetpaint            web  operating  2005-10-17        NaN   \n",
       "1          1.0  Wetpaint            web  operating  2005-10-17        NaN   \n",
       "2          1.0  Wetpaint            web  operating  2005-10-17        NaN   \n",
       "3         10.0   Flektor    games_video   acquired         NaN        NaN   \n",
       "4        100.0     There    games_video   acquired         NaN        NaN   \n",
       "\n",
       "             domain network  username country  code  investment  rounds  ...  \\\n",
       "0  wetpaint-inc.com   BachelrWetpaint           USA                 0.0  ...   \n",
       "1  wetpaint-inc.com   BachelrWetpaint           USA                 0.0  ...   \n",
       "2  wetpaint-inc.com   BachelrWetpaint           USA                 0.0  ...   \n",
       "3       flektor.com               NaN           USA                 0.0  ...   \n",
       "4         there.com               NaN           USA                 0.0  ...   \n",
       "\n",
       "   milestones  funding  round  id  company  id  funded  at  \\\n",
       "0         5.0               888.0          1.0  2005-10-01   \n",
       "1         5.0               889.0          1.0  2007-01-01   \n",
       "2         5.0              2312.0          1.0  2008-05-19   \n",
       "3         0.0                 NaN          NaN         NaN   \n",
       "4         4.0                 NaN          NaN         NaN   \n",
       "\n",
       "   funding  round  type raised  amount pre  money  valuation  participants  \\\n",
       "0              series-a      5250000.0                   0.0           2.0   \n",
       "1              series-b      9500000.0                   0.0           3.0   \n",
       "2             series-c+     25000000.0                   0.0           4.0   \n",
       "3                   NaN            NaN                   NaN           NaN   \n",
       "4                   NaN            NaN                   NaN           NaN   \n",
       "\n",
       "   is  first  round  is  last  round  \n",
       "0               0.0              1.0  \n",
       "1               0.0              0.0  \n",
       "2               1.0              0.0  \n",
       "3               NaN              NaN  \n",
       "4               NaN              NaN  \n",
       "\n",
       "[5 rows x 22 columns]"
      ]
     },
     "execution_count": 5,
     "metadata": {},
     "output_type": "execute_result"
    }
   ],
   "source": [
    "# Выводим первые строки company_and_rounds на экран\n",
    "company_and_rounds_df.head()"
   ]
  },
  {
   "cell_type": "code",
   "execution_count": 6,
   "metadata": {},
   "outputs": [
    {
     "name": "stdout",
     "output_type": "stream",
     "text": [
      "<class 'pandas.core.frame.DataFrame'>\n",
      "RangeIndex: 217774 entries, 0 to 217773\n",
      "Data columns (total 22 columns):\n",
      " #   Column                 Non-Null Count   Dtype  \n",
      "---  ------                 --------------   -----  \n",
      " 0   company  ID            217472 non-null  float64\n",
      " 1   name                   217471 non-null  object \n",
      " 2   category  code         143886 non-null  object \n",
      " 3   status                 217472 non-null  object \n",
      " 4   founded  at            109956 non-null  object \n",
      " 5   closed  at             3449 non-null    object \n",
      " 6   domain                 147159 non-null  object \n",
      " 7   network  username      95534 non-null   object \n",
      " 8   country  code          108607 non-null  object \n",
      " 9   investment  rounds     217472 non-null  float64\n",
      " 10  funding  rounds        217472 non-null  float64\n",
      " 11  funding  total         217472 non-null  float64\n",
      " 12  milestones             217472 non-null  float64\n",
      " 13  funding  round  id     52928 non-null   float64\n",
      " 14  company  id            52928 non-null   float64\n",
      " 15  funded  at             52680 non-null   object \n",
      " 16  funding  round  type   52928 non-null   object \n",
      " 17  raised  amount         52928 non-null   float64\n",
      " 18  pre  money  valuation  52928 non-null   float64\n",
      " 19  participants           52928 non-null   float64\n",
      " 20  is  first  round       52928 non-null   float64\n",
      " 21  is  last  round        52928 non-null   float64\n",
      "dtypes: float64(12), object(10)\n",
      "memory usage: 36.6+ MB\n"
     ]
    }
   ],
   "source": [
    "# Выводим информацию о датафрейме company_and_rounds\n",
    "company_and_rounds_df.info()"
   ]
  },
  {
   "cell_type": "markdown",
   "metadata": {},
   "source": [
    "Преобразовываем строки датафрейма company_and_rounds в snake_case, предварительно переименовав столбец 'company  id' в 'round_company_id'."
   ]
  },
  {
   "cell_type": "code",
   "execution_count": 7,
   "metadata": {},
   "outputs": [
    {
     "data": {
      "text/plain": [
       "Index(['company_id', 'name', 'category_code', 'status', 'founded_at',\n",
       "       'closed_at', 'domain', 'network_username', 'country_code',\n",
       "       'investment_rounds', 'funding_rounds', 'funding_total', 'milestones',\n",
       "       'funding_round_id', 'round_company_id', 'funded_at',\n",
       "       'funding_round_type', 'raised_amount', 'pre_money_valuation',\n",
       "       'participants', 'is_first_round', 'is_last_round'],\n",
       "      dtype='object')"
      ]
     },
     "metadata": {},
     "output_type": "display_data"
    }
   ],
   "source": [
    "# Явное переименование столбца 'company  id' в 'round_company_id'\n",
    "company_and_rounds_df.rename(columns={'company  id': 'round_company_id'}, inplace=True)\n",
    "\n",
    "# Функция для преобразования названий столбцов в snake_case\n",
    "def snake_case_ultimate(s):\n",
    "    \"\"\"\n",
    "    Преобразует строку в snake_case, корректно обрабатывая множественные пробелы,\n",
    "    аббревиатуры и смешанный регистр.\n",
    "    \"\"\"\n",
    "    # Заменяем двойные пробелы на одинарные\n",
    "    s = s.replace(\"  \", \" \").strip()\n",
    "    \n",
    "    # Заменяем пробелы на подчеркивания\n",
    "    s = s.replace(\" \", \"_\")\n",
    "    \n",
    "    # Обрабатываем аббревиатуры: ID -> id, URL -> url и т.д.\n",
    "    s = s.replace(\"ID\", \"id\").replace(\"URL\", \"url\")\n",
    "    \n",
    "    # Разделяем слова с верхним регистром внутри строки (CamelCase)\n",
    "    s = ''.join(['_' + c.lower() if c.isupper() else c for c in s])\n",
    "    \n",
    "    # Удаляем лишние подчеркивания в начале или конце строки\n",
    "    s = s.lstrip('_').rstrip('_')\n",
    "    \n",
    "    return s\n",
    "\n",
    "# Переименование всех столбцов с помощью функции\n",
    "company_and_rounds_df.columns = [snake_case_ultimate(col) for col in company_and_rounds_df.columns]\n",
    "\n",
    "# Проверяем результат\n",
    "display(company_and_rounds_df.columns)"
   ]
  },
  {
   "cell_type": "code",
   "execution_count": 8,
   "metadata": {},
   "outputs": [
    {
     "data": {
      "text/html": [
       "<div>\n",
       "<style scoped>\n",
       "    .dataframe tbody tr th:only-of-type {\n",
       "        vertical-align: middle;\n",
       "    }\n",
       "\n",
       "    .dataframe tbody tr th {\n",
       "        vertical-align: top;\n",
       "    }\n",
       "\n",
       "    .dataframe thead th {\n",
       "        text-align: right;\n",
       "    }\n",
       "</style>\n",
       "<table border=\"1\" class=\"dataframe\">\n",
       "  <thead>\n",
       "    <tr style=\"text-align: right;\">\n",
       "      <th></th>\n",
       "      <th>id</th>\n",
       "      <th>object_id</th>\n",
       "      <th>degree_type</th>\n",
       "      <th>subject</th>\n",
       "    </tr>\n",
       "  </thead>\n",
       "  <tbody>\n",
       "    <tr>\n",
       "      <th>0</th>\n",
       "      <td>1</td>\n",
       "      <td>p:6117</td>\n",
       "      <td>MBA</td>\n",
       "      <td>NaN</td>\n",
       "    </tr>\n",
       "    <tr>\n",
       "      <th>1</th>\n",
       "      <td>2</td>\n",
       "      <td>p:6136</td>\n",
       "      <td>BA</td>\n",
       "      <td>English, French</td>\n",
       "    </tr>\n",
       "    <tr>\n",
       "      <th>2</th>\n",
       "      <td>3</td>\n",
       "      <td>p:6136</td>\n",
       "      <td>MS</td>\n",
       "      <td>Mass Communication</td>\n",
       "    </tr>\n",
       "    <tr>\n",
       "      <th>3</th>\n",
       "      <td>4</td>\n",
       "      <td>p:6005</td>\n",
       "      <td>MS</td>\n",
       "      <td>Internet Technology</td>\n",
       "    </tr>\n",
       "    <tr>\n",
       "      <th>4</th>\n",
       "      <td>5</td>\n",
       "      <td>p:5832</td>\n",
       "      <td>BCS</td>\n",
       "      <td>Computer Science, Psychology</td>\n",
       "    </tr>\n",
       "  </tbody>\n",
       "</table>\n",
       "</div>"
      ],
      "text/plain": [
       "   id object_id degree_type                       subject\n",
       "0   1    p:6117         MBA                           NaN\n",
       "1   2    p:6136          BA               English, French\n",
       "2   3    p:6136          MS            Mass Communication\n",
       "3   4    p:6005          MS           Internet Technology\n",
       "4   5    p:5832         BCS  Computer Science, Psychology"
      ]
     },
     "execution_count": 8,
     "metadata": {},
     "output_type": "execute_result"
    }
   ],
   "source": [
    "# Выводим первые строки degrees на экран\n",
    "degrees_df.head()"
   ]
  },
  {
   "cell_type": "code",
   "execution_count": 9,
   "metadata": {},
   "outputs": [
    {
     "data": {
      "text/html": [
       "<div>\n",
       "<style scoped>\n",
       "    .dataframe tbody tr th:only-of-type {\n",
       "        vertical-align: middle;\n",
       "    }\n",
       "\n",
       "    .dataframe tbody tr th {\n",
       "        vertical-align: top;\n",
       "    }\n",
       "\n",
       "    .dataframe thead th {\n",
       "        text-align: right;\n",
       "    }\n",
       "</style>\n",
       "<table border=\"1\" class=\"dataframe\">\n",
       "  <thead>\n",
       "    <tr style=\"text-align: right;\">\n",
       "      <th></th>\n",
       "      <th>id</th>\n",
       "      <th>object_id</th>\n",
       "      <th>degree_type</th>\n",
       "      <th>subject</th>\n",
       "    </tr>\n",
       "  </thead>\n",
       "  <tbody>\n",
       "    <tr>\n",
       "      <th>0</th>\n",
       "      <td>1</td>\n",
       "      <td>6117</td>\n",
       "      <td>MBA</td>\n",
       "      <td>NaN</td>\n",
       "    </tr>\n",
       "    <tr>\n",
       "      <th>1</th>\n",
       "      <td>2</td>\n",
       "      <td>6136</td>\n",
       "      <td>BA</td>\n",
       "      <td>English, French</td>\n",
       "    </tr>\n",
       "    <tr>\n",
       "      <th>2</th>\n",
       "      <td>3</td>\n",
       "      <td>6136</td>\n",
       "      <td>MS</td>\n",
       "      <td>Mass Communication</td>\n",
       "    </tr>\n",
       "    <tr>\n",
       "      <th>3</th>\n",
       "      <td>4</td>\n",
       "      <td>6005</td>\n",
       "      <td>MS</td>\n",
       "      <td>Internet Technology</td>\n",
       "    </tr>\n",
       "    <tr>\n",
       "      <th>4</th>\n",
       "      <td>5</td>\n",
       "      <td>5832</td>\n",
       "      <td>BCS</td>\n",
       "      <td>Computer Science, Psychology</td>\n",
       "    </tr>\n",
       "  </tbody>\n",
       "</table>\n",
       "</div>"
      ],
      "text/plain": [
       "   id object_id degree_type                       subject\n",
       "0   1      6117         MBA                           NaN\n",
       "1   2      6136          BA               English, French\n",
       "2   3      6136          MS            Mass Communication\n",
       "3   4      6005          MS           Internet Technology\n",
       "4   5      5832         BCS  Computer Science, Psychology"
      ]
     },
     "execution_count": 9,
     "metadata": {},
     "output_type": "execute_result"
    }
   ],
   "source": [
    "# Удаляем префикс 'p:' из object_id\n",
    "degrees_df['object_id'] = degrees_df['object_id'].str.replace('p:', '', regex=False)\n",
    "\n",
    "# Выводим первые строки обновленного DataFrame\n",
    "degrees_df.head()"
   ]
  },
  {
   "cell_type": "code",
   "execution_count": 10,
   "metadata": {},
   "outputs": [
    {
     "name": "stdout",
     "output_type": "stream",
     "text": [
      "<class 'pandas.core.frame.DataFrame'>\n",
      "RangeIndex: 109610 entries, 0 to 109609\n",
      "Data columns (total 4 columns):\n",
      " #   Column       Non-Null Count   Dtype \n",
      "---  ------       --------------   ----- \n",
      " 0   id           109610 non-null  int64 \n",
      " 1   object_id    109610 non-null  object\n",
      " 2   degree_type  98389 non-null   object\n",
      " 3   subject      81298 non-null   object\n",
      "dtypes: int64(1), object(3)\n",
      "memory usage: 3.3+ MB\n"
     ]
    }
   ],
   "source": [
    "# Выводим информацию о датафрейме degrees\n",
    "degrees_df.info()"
   ]
  },
  {
   "cell_type": "code",
   "execution_count": 11,
   "metadata": {},
   "outputs": [
    {
     "data": {
      "text/html": [
       "<div>\n",
       "<style scoped>\n",
       "    .dataframe tbody tr th:only-of-type {\n",
       "        vertical-align: middle;\n",
       "    }\n",
       "\n",
       "    .dataframe tbody tr th {\n",
       "        vertical-align: top;\n",
       "    }\n",
       "\n",
       "    .dataframe thead th {\n",
       "        text-align: right;\n",
       "    }\n",
       "</style>\n",
       "<table border=\"1\" class=\"dataframe\">\n",
       "  <thead>\n",
       "    <tr style=\"text-align: right;\">\n",
       "      <th></th>\n",
       "      <th>id</th>\n",
       "      <th>person_id</th>\n",
       "      <th>instituition</th>\n",
       "      <th>graduated_at</th>\n",
       "    </tr>\n",
       "  </thead>\n",
       "  <tbody>\n",
       "    <tr>\n",
       "      <th>0</th>\n",
       "      <td>1</td>\n",
       "      <td>6117</td>\n",
       "      <td>NaN</td>\n",
       "      <td>NaN</td>\n",
       "    </tr>\n",
       "    <tr>\n",
       "      <th>1</th>\n",
       "      <td>2</td>\n",
       "      <td>6136</td>\n",
       "      <td>Washington University, St. Louis</td>\n",
       "      <td>1990-01-01</td>\n",
       "    </tr>\n",
       "    <tr>\n",
       "      <th>2</th>\n",
       "      <td>3</td>\n",
       "      <td>6136</td>\n",
       "      <td>Boston University</td>\n",
       "      <td>1992-01-01</td>\n",
       "    </tr>\n",
       "    <tr>\n",
       "      <th>3</th>\n",
       "      <td>4</td>\n",
       "      <td>6005</td>\n",
       "      <td>University of Greenwich</td>\n",
       "      <td>2006-01-01</td>\n",
       "    </tr>\n",
       "    <tr>\n",
       "      <th>4</th>\n",
       "      <td>5</td>\n",
       "      <td>5832</td>\n",
       "      <td>Rice University</td>\n",
       "      <td>NaN</td>\n",
       "    </tr>\n",
       "  </tbody>\n",
       "</table>\n",
       "</div>"
      ],
      "text/plain": [
       "   id  person_id                      instituition graduated_at\n",
       "0   1       6117                               NaN          NaN\n",
       "1   2       6136  Washington University, St. Louis   1990-01-01\n",
       "2   3       6136                 Boston University   1992-01-01\n",
       "3   4       6005           University of Greenwich   2006-01-01\n",
       "4   5       5832                   Rice University          NaN"
      ]
     },
     "execution_count": 11,
     "metadata": {},
     "output_type": "execute_result"
    }
   ],
   "source": [
    "# Выводим первые строки education на экран\n",
    "education_df.head()"
   ]
  },
  {
   "cell_type": "code",
   "execution_count": 12,
   "metadata": {},
   "outputs": [
    {
     "name": "stdout",
     "output_type": "stream",
     "text": [
      "<class 'pandas.core.frame.DataFrame'>\n",
      "RangeIndex: 109610 entries, 0 to 109609\n",
      "Data columns (total 4 columns):\n",
      " #   Column        Non-Null Count   Dtype \n",
      "---  ------        --------------   ----- \n",
      " 0   id            109610 non-null  int64 \n",
      " 1   person_id     109610 non-null  int64 \n",
      " 2   instituition  109555 non-null  object\n",
      " 3   graduated_at  58054 non-null   object\n",
      "dtypes: int64(2), object(2)\n",
      "memory usage: 3.3+ MB\n"
     ]
    }
   ],
   "source": [
    "# Выводим информацию о датафрейме education\n",
    "education_df.info()"
   ]
  },
  {
   "cell_type": "code",
   "execution_count": 13,
   "metadata": {},
   "outputs": [
    {
     "data": {
      "text/html": [
       "<div>\n",
       "<style scoped>\n",
       "    .dataframe tbody tr th:only-of-type {\n",
       "        vertical-align: middle;\n",
       "    }\n",
       "\n",
       "    .dataframe tbody tr th {\n",
       "        vertical-align: top;\n",
       "    }\n",
       "\n",
       "    .dataframe thead th {\n",
       "        text-align: right;\n",
       "    }\n",
       "</style>\n",
       "<table border=\"1\" class=\"dataframe\">\n",
       "  <thead>\n",
       "    <tr style=\"text-align: right;\">\n",
       "      <th></th>\n",
       "      <th>id</th>\n",
       "      <th>name</th>\n",
       "      <th>founded_at</th>\n",
       "      <th>domain</th>\n",
       "      <th>network_username</th>\n",
       "      <th>country_code</th>\n",
       "      <th>investment_rounds</th>\n",
       "      <th>invested_companies</th>\n",
       "      <th>milestones</th>\n",
       "    </tr>\n",
       "  </thead>\n",
       "  <tbody>\n",
       "    <tr>\n",
       "      <th>0</th>\n",
       "      <td>13131</td>\n",
       "      <td>NaN</td>\n",
       "      <td>NaN</td>\n",
       "      <td>NaN</td>\n",
       "      <td>NaN</td>\n",
       "      <td>NaN</td>\n",
       "      <td>0</td>\n",
       "      <td>0</td>\n",
       "      <td>0</td>\n",
       "    </tr>\n",
       "    <tr>\n",
       "      <th>1</th>\n",
       "      <td>1</td>\n",
       "      <td>Greylock Partners</td>\n",
       "      <td>1965-01-01</td>\n",
       "      <td>greylock.com</td>\n",
       "      <td>greylockvc</td>\n",
       "      <td>USA</td>\n",
       "      <td>307</td>\n",
       "      <td>196</td>\n",
       "      <td>0</td>\n",
       "    </tr>\n",
       "    <tr>\n",
       "      <th>2</th>\n",
       "      <td>10</td>\n",
       "      <td>Mission Ventures</td>\n",
       "      <td>1996-01-01</td>\n",
       "      <td>missionventures.com</td>\n",
       "      <td>NaN</td>\n",
       "      <td>USA</td>\n",
       "      <td>58</td>\n",
       "      <td>33</td>\n",
       "      <td>0</td>\n",
       "    </tr>\n",
       "    <tr>\n",
       "      <th>3</th>\n",
       "      <td>100</td>\n",
       "      <td>Kapor Enterprises, Inc.</td>\n",
       "      <td>NaN</td>\n",
       "      <td>kei.com</td>\n",
       "      <td>NaN</td>\n",
       "      <td>USA</td>\n",
       "      <td>2</td>\n",
       "      <td>1</td>\n",
       "      <td>0</td>\n",
       "    </tr>\n",
       "    <tr>\n",
       "      <th>4</th>\n",
       "      <td>1000</td>\n",
       "      <td>Speed Ventures</td>\n",
       "      <td>NaN</td>\n",
       "      <td>NaN</td>\n",
       "      <td>NaN</td>\n",
       "      <td>NaN</td>\n",
       "      <td>0</td>\n",
       "      <td>0</td>\n",
       "      <td>1</td>\n",
       "    </tr>\n",
       "  </tbody>\n",
       "</table>\n",
       "</div>"
      ],
      "text/plain": [
       "      id                     name  founded_at               domain  \\\n",
       "0  13131                      NaN         NaN                  NaN   \n",
       "1      1        Greylock Partners  1965-01-01         greylock.com   \n",
       "2     10         Mission Ventures  1996-01-01  missionventures.com   \n",
       "3    100  Kapor Enterprises, Inc.         NaN              kei.com   \n",
       "4   1000           Speed Ventures         NaN                  NaN   \n",
       "\n",
       "  network_username country_code  investment_rounds  invested_companies  \\\n",
       "0              NaN          NaN                  0                   0   \n",
       "1       greylockvc          USA                307                 196   \n",
       "2              NaN          USA                 58                  33   \n",
       "3              NaN          USA                  2                   1   \n",
       "4              NaN          NaN                  0                   0   \n",
       "\n",
       "   milestones  \n",
       "0           0  \n",
       "1           0  \n",
       "2           0  \n",
       "3           0  \n",
       "4           1  "
      ]
     },
     "execution_count": 13,
     "metadata": {},
     "output_type": "execute_result"
    }
   ],
   "source": [
    "# Выводим первые строки fund на экран\n",
    "fund_df.head()"
   ]
  },
  {
   "cell_type": "code",
   "execution_count": 14,
   "metadata": {},
   "outputs": [
    {
     "name": "stdout",
     "output_type": "stream",
     "text": [
      "<class 'pandas.core.frame.DataFrame'>\n",
      "RangeIndex: 11652 entries, 0 to 11651\n",
      "Data columns (total 9 columns):\n",
      " #   Column              Non-Null Count  Dtype \n",
      "---  ------              --------------  ----- \n",
      " 0   id                  11652 non-null  int64 \n",
      " 1   name                11649 non-null  object\n",
      " 2   founded_at          4605 non-null   object\n",
      " 3   domain              7362 non-null   object\n",
      " 4   network_username    2149 non-null   object\n",
      " 5   country_code        7053 non-null   object\n",
      " 6   investment_rounds   11652 non-null  int64 \n",
      " 7   invested_companies  11652 non-null  int64 \n",
      " 8   milestones          11652 non-null  int64 \n",
      "dtypes: int64(4), object(5)\n",
      "memory usage: 819.4+ KB\n"
     ]
    }
   ],
   "source": [
    "# Выводим информацию о датафрейме fund\n",
    "fund_df.info()"
   ]
  },
  {
   "cell_type": "code",
   "execution_count": 15,
   "metadata": {},
   "outputs": [
    {
     "data": {
      "text/html": [
       "<div>\n",
       "<style scoped>\n",
       "    .dataframe tbody tr th:only-of-type {\n",
       "        vertical-align: middle;\n",
       "    }\n",
       "\n",
       "    .dataframe tbody tr th {\n",
       "        vertical-align: top;\n",
       "    }\n",
       "\n",
       "    .dataframe thead th {\n",
       "        text-align: right;\n",
       "    }\n",
       "</style>\n",
       "<table border=\"1\" class=\"dataframe\">\n",
       "  <thead>\n",
       "    <tr style=\"text-align: right;\">\n",
       "      <th></th>\n",
       "      <th>id</th>\n",
       "      <th>funding_round_id</th>\n",
       "      <th>company_id</th>\n",
       "      <th>fund_id</th>\n",
       "    </tr>\n",
       "  </thead>\n",
       "  <tbody>\n",
       "    <tr>\n",
       "      <th>0</th>\n",
       "      <td>1</td>\n",
       "      <td>1</td>\n",
       "      <td>4</td>\n",
       "      <td>1</td>\n",
       "    </tr>\n",
       "    <tr>\n",
       "      <th>1</th>\n",
       "      <td>2</td>\n",
       "      <td>1</td>\n",
       "      <td>4</td>\n",
       "      <td>2</td>\n",
       "    </tr>\n",
       "    <tr>\n",
       "      <th>2</th>\n",
       "      <td>3</td>\n",
       "      <td>3</td>\n",
       "      <td>5</td>\n",
       "      <td>4</td>\n",
       "    </tr>\n",
       "    <tr>\n",
       "      <th>3</th>\n",
       "      <td>4</td>\n",
       "      <td>4</td>\n",
       "      <td>5</td>\n",
       "      <td>1</td>\n",
       "    </tr>\n",
       "    <tr>\n",
       "      <th>4</th>\n",
       "      <td>5</td>\n",
       "      <td>4</td>\n",
       "      <td>5</td>\n",
       "      <td>5</td>\n",
       "    </tr>\n",
       "  </tbody>\n",
       "</table>\n",
       "</div>"
      ],
      "text/plain": [
       "   id  funding_round_id  company_id  fund_id\n",
       "0   1                 1           4        1\n",
       "1   2                 1           4        2\n",
       "2   3                 3           5        4\n",
       "3   4                 4           5        1\n",
       "4   5                 4           5        5"
      ]
     },
     "execution_count": 15,
     "metadata": {},
     "output_type": "execute_result"
    }
   ],
   "source": [
    "# Выводим первые строки investment на экран\n",
    "investment_df.head()"
   ]
  },
  {
   "cell_type": "code",
   "execution_count": 16,
   "metadata": {},
   "outputs": [
    {
     "name": "stdout",
     "output_type": "stream",
     "text": [
      "<class 'pandas.core.frame.DataFrame'>\n",
      "RangeIndex: 61403 entries, 0 to 61402\n",
      "Data columns (total 4 columns):\n",
      " #   Column            Non-Null Count  Dtype\n",
      "---  ------            --------------  -----\n",
      " 0   id                61403 non-null  int64\n",
      " 1   funding_round_id  61403 non-null  int64\n",
      " 2   company_id        61403 non-null  int64\n",
      " 3   fund_id           61403 non-null  int64\n",
      "dtypes: int64(4)\n",
      "memory usage: 1.9 MB\n"
     ]
    }
   ],
   "source": [
    "# Выводим информацию о датафрейме investment\n",
    "investment_df.info()"
   ]
  },
  {
   "cell_type": "code",
   "execution_count": 17,
   "metadata": {},
   "outputs": [
    {
     "data": {
      "text/html": [
       "<div>\n",
       "<style scoped>\n",
       "    .dataframe tbody tr th:only-of-type {\n",
       "        vertical-align: middle;\n",
       "    }\n",
       "\n",
       "    .dataframe tbody tr th {\n",
       "        vertical-align: top;\n",
       "    }\n",
       "\n",
       "    .dataframe thead th {\n",
       "        text-align: right;\n",
       "    }\n",
       "</style>\n",
       "<table border=\"1\" class=\"dataframe\">\n",
       "  <thead>\n",
       "    <tr style=\"text-align: right;\">\n",
       "      <th></th>\n",
       "      <th>id</th>\n",
       "      <th>first_name</th>\n",
       "      <th>last_name</th>\n",
       "      <th>company_id</th>\n",
       "      <th>network_username</th>\n",
       "    </tr>\n",
       "  </thead>\n",
       "  <tbody>\n",
       "    <tr>\n",
       "      <th>0</th>\n",
       "      <td>10</td>\n",
       "      <td>Mark</td>\n",
       "      <td>Zuckerberg</td>\n",
       "      <td>5.0</td>\n",
       "      <td>NaN</td>\n",
       "    </tr>\n",
       "    <tr>\n",
       "      <th>1</th>\n",
       "      <td>100</td>\n",
       "      <td>Peter</td>\n",
       "      <td>Lester</td>\n",
       "      <td>27.0</td>\n",
       "      <td>NaN</td>\n",
       "    </tr>\n",
       "    <tr>\n",
       "      <th>2</th>\n",
       "      <td>1000</td>\n",
       "      <td>Dr. Steven</td>\n",
       "      <td>E. Saunders</td>\n",
       "      <td>292.0</td>\n",
       "      <td>NaN</td>\n",
       "    </tr>\n",
       "    <tr>\n",
       "      <th>3</th>\n",
       "      <td>10000</td>\n",
       "      <td>Neil</td>\n",
       "      <td>Capel</td>\n",
       "      <td>2526.0</td>\n",
       "      <td>NaN</td>\n",
       "    </tr>\n",
       "    <tr>\n",
       "      <th>4</th>\n",
       "      <td>100000</td>\n",
       "      <td>Sue</td>\n",
       "      <td>Pilsch</td>\n",
       "      <td>NaN</td>\n",
       "      <td>NaN</td>\n",
       "    </tr>\n",
       "  </tbody>\n",
       "</table>\n",
       "</div>"
      ],
      "text/plain": [
       "       id  first_name    last_name  company_id network_username\n",
       "0      10        Mark   Zuckerberg         5.0              NaN\n",
       "1     100       Peter       Lester        27.0              NaN\n",
       "2    1000  Dr. Steven  E. Saunders       292.0              NaN\n",
       "3   10000        Neil        Capel      2526.0              NaN\n",
       "4  100000         Sue       Pilsch         NaN              NaN"
      ]
     },
     "execution_count": 17,
     "metadata": {},
     "output_type": "execute_result"
    }
   ],
   "source": [
    "# Выводим первые строки people на экран\n",
    "people_df.head()"
   ]
  },
  {
   "cell_type": "code",
   "execution_count": 18,
   "metadata": {},
   "outputs": [
    {
     "name": "stdout",
     "output_type": "stream",
     "text": [
      "<class 'pandas.core.frame.DataFrame'>\n",
      "RangeIndex: 226709 entries, 0 to 226708\n",
      "Data columns (total 5 columns):\n",
      " #   Column            Non-Null Count   Dtype  \n",
      "---  ------            --------------   -----  \n",
      " 0   id                226709 non-null  int64  \n",
      " 1   first_name        226700 non-null  object \n",
      " 2   last_name         226705 non-null  object \n",
      " 3   company_id        34615 non-null   float64\n",
      " 4   network_username  38867 non-null   object \n",
      "dtypes: float64(1), int64(1), object(3)\n",
      "memory usage: 8.6+ MB\n"
     ]
    }
   ],
   "source": [
    "# Выводим информацию о датафрейме people\n",
    "people_df.info()"
   ]
  },
  {
   "cell_type": "markdown",
   "metadata": {},
   "source": [
    "На данном этапе выполнены следующие шаги: \n",
    "1) Определена структура каждого датафрейма и типы данных.\n",
    "2) Проведен анализ необходимости переименования столбцов для удобства работы.\n",
    "3) Выявлены столбцы, требующие преобразования в формат datetime:\n",
    "    - в acquisition: acquired_at;\n",
    "    - в company_and_rounds: founded_at, closed_at, funded_at;\n",
    "    - в fund: founded_at;\n",
    "    - в education: graduated_at.\n",
    "4) Составлен план проверки для оценки полноты данных."
   ]
  },
  {
   "cell_type": "markdown",
   "metadata": {
    "id": "mg2gEwh0rJg0"
   },
   "source": [
    "### 1.2. <a href=\"#part3\">Смена типов и анализ пропусков</a>"
   ]
  },
  {
   "cell_type": "code",
   "execution_count": 19,
   "metadata": {},
   "outputs": [
    {
     "name": "stdout",
     "output_type": "stream",
     "text": [
      "datetime64[ns]\n"
     ]
    }
   ],
   "source": [
    "# Преобразование даты и времени в acquisition\n",
    "acquisition_df['acquired_at'] = pd.to_datetime(acquisition_df['acquired_at'])\n",
    "print(acquisition_df['acquired_at'].dtype)"
   ]
  },
  {
   "cell_type": "code",
   "execution_count": 20,
   "metadata": {},
   "outputs": [
    {
     "name": "stdout",
     "output_type": "stream",
     "text": [
      "datetime64[ns]\n",
      "datetime64[ns]\n",
      "datetime64[ns]\n"
     ]
    }
   ],
   "source": [
    "# Преобразование даты и времени в company_and_rounds\n",
    "company_and_rounds_df['founded_at'] = pd.to_datetime(company_and_rounds_df['founded_at'])\n",
    "company_and_rounds_df['closed_at'] = pd.to_datetime(company_and_rounds_df['closed_at'])\n",
    "company_and_rounds_df['funded_at'] = pd.to_datetime(company_and_rounds_df['funded_at'])\n",
    "print(company_and_rounds_df['founded_at'].dtype)\n",
    "print(company_and_rounds_df['closed_at'].dtype)\n",
    "print(company_and_rounds_df['funded_at'].dtype)"
   ]
  },
  {
   "cell_type": "code",
   "execution_count": 21,
   "metadata": {},
   "outputs": [
    {
     "name": "stdout",
     "output_type": "stream",
     "text": [
      "datetime64[ns]\n"
     ]
    }
   ],
   "source": [
    "# Преобразование даты и времени в fund\n",
    "fund_df['founded_at'] = pd.to_datetime(fund_df['founded_at'])\n",
    "print(fund_df['founded_at'].dtype)"
   ]
  },
  {
   "cell_type": "code",
   "execution_count": 22,
   "metadata": {},
   "outputs": [
    {
     "name": "stdout",
     "output_type": "stream",
     "text": [
      "datetime64[ns]\n"
     ]
    }
   ],
   "source": [
    "# Преобразование даты и времени в education\n",
    "education_df['graduated_at'] = pd.to_datetime(education_df['graduated_at'])\n",
    "print(education_df['graduated_at'].dtype)"
   ]
  },
  {
   "cell_type": "code",
   "execution_count": 23,
   "metadata": {
    "id": "FsL0A8RBrJg1"
   },
   "outputs": [
    {
     "data": {
      "text/plain": [
       "'acquisition_df missing values:'"
      ]
     },
     "metadata": {},
     "output_type": "display_data"
    },
    {
     "data": {
      "text/plain": [
       "id                         0\n",
       "acquiring_company_id       0\n",
       "acquired_company_id        0\n",
       "term_code               7576\n",
       "price_amount               0\n",
       "acquired_at               29\n",
       "dtype: int64"
      ]
     },
     "metadata": {},
     "output_type": "display_data"
    },
    {
     "data": {
      "text/plain": [
       "'company_and_rounds_df missing values:'"
      ]
     },
     "metadata": {},
     "output_type": "display_data"
    },
    {
     "data": {
      "text/plain": [
       "company_id                302\n",
       "name                      303\n",
       "category_code           73888\n",
       "status                    302\n",
       "founded_at             107818\n",
       "closed_at              214325\n",
       "domain                  70615\n",
       "network_username       122240\n",
       "country_code           109167\n",
       "investment_rounds         302\n",
       "funding_rounds            302\n",
       "funding_total             302\n",
       "milestones                302\n",
       "funding_round_id       164846\n",
       "round_company_id       164846\n",
       "funded_at              165094\n",
       "funding_round_type     164846\n",
       "raised_amount          164846\n",
       "pre_money_valuation    164846\n",
       "participants           164846\n",
       "is_first_round         164846\n",
       "is_last_round          164846\n",
       "dtype: int64"
      ]
     },
     "metadata": {},
     "output_type": "display_data"
    },
    {
     "data": {
      "text/plain": [
       "'degrees_df missing values:'"
      ]
     },
     "metadata": {},
     "output_type": "display_data"
    },
    {
     "data": {
      "text/plain": [
       "id                 0\n",
       "object_id          0\n",
       "degree_type    11221\n",
       "subject        28312\n",
       "dtype: int64"
      ]
     },
     "metadata": {},
     "output_type": "display_data"
    },
    {
     "data": {
      "text/plain": [
       "'education_df missing values:'"
      ]
     },
     "metadata": {},
     "output_type": "display_data"
    },
    {
     "data": {
      "text/plain": [
       "id                  0\n",
       "person_id           0\n",
       "instituition       55\n",
       "graduated_at    51556\n",
       "dtype: int64"
      ]
     },
     "metadata": {},
     "output_type": "display_data"
    },
    {
     "data": {
      "text/plain": [
       "'fund_df missing values:'"
      ]
     },
     "metadata": {},
     "output_type": "display_data"
    },
    {
     "data": {
      "text/plain": [
       "id                       0\n",
       "name                     3\n",
       "founded_at            7047\n",
       "domain                4290\n",
       "network_username      9503\n",
       "country_code          4599\n",
       "investment_rounds        0\n",
       "invested_companies       0\n",
       "milestones               0\n",
       "dtype: int64"
      ]
     },
     "metadata": {},
     "output_type": "display_data"
    },
    {
     "data": {
      "text/plain": [
       "'investment_df missing values:'"
      ]
     },
     "metadata": {},
     "output_type": "display_data"
    },
    {
     "data": {
      "text/plain": [
       "id                  0\n",
       "funding_round_id    0\n",
       "company_id          0\n",
       "fund_id             0\n",
       "dtype: int64"
      ]
     },
     "metadata": {},
     "output_type": "display_data"
    },
    {
     "data": {
      "text/plain": [
       "'people_df missing values:'"
      ]
     },
     "metadata": {},
     "output_type": "display_data"
    },
    {
     "data": {
      "text/plain": [
       "id                       0\n",
       "first_name               9\n",
       "last_name                4\n",
       "company_id          192094\n",
       "network_username    187842\n",
       "dtype: int64"
      ]
     },
     "metadata": {},
     "output_type": "display_data"
    }
   ],
   "source": [
    "# Проверка полноты данных в датафреймах\n",
    "display(\"acquisition_df missing values:\", acquisition_df.isnull().sum())\n",
    "display(\"company_and_rounds_df missing values:\", company_and_rounds_df.isnull().sum())\n",
    "display(\"degrees_df missing values:\", degrees_df.isnull().sum())\n",
    "display(\"education_df missing values:\", education_df.isnull().sum())\n",
    "display(\"fund_df missing values:\", fund_df.isnull().sum())\n",
    "display(\"investment_df missing values:\", investment_df.isnull().sum())\n",
    "display(\"people_df missing values:\", people_df.isnull().sum())"
   ]
  },
  {
   "cell_type": "markdown",
   "metadata": {},
   "source": [
    "Предварительные выводы о достаточности данных:\n",
    "\n",
    "1. acquisition_df: \n",
    "    - Есть пропущенные значения в term_code и acquired_at. term_code может быть не критичным, но пропущенные даты приобретения нужно будет обработать.\n",
    "2. company_and_rounds_df:\n",
    "    -  Много пропущенных значений в category_code, closed_at, domain, network_username, country_code, funded_at и других столбцах, связанных с финансированием. Это может ограничить возможности анализа.\n",
    "3. degrees_df:\n",
    "    - Пропущенные значения в degree_type и subject могут снизить точность анализа образования сотрудников.\n",
    "4. education_df: \n",
    "    - Пропущенные значения в instituition и graduated_at также могут снизить точность анализа образования сотрудников.\n",
    "5. fund_df: \n",
    "    - Много пропущенных значений, что может затруднить анализ фондов.\n",
    "6. investment_df: \n",
    "    - Нет пропущенных значений.\n",
    "7. people_df: \n",
    "    - Пропущенные значения в company_id могут затруднить связь сотрудников с компаниями."
   ]
  },
  {
   "cell_type": "markdown",
   "metadata": {
    "id": "u60cHsn6rJg1"
   },
   "source": [
    "## <a href=\"#part4\">Шаг 2. Предобработка данных, предварительное исследование</a>"
   ]
  },
  {
   "cell_type": "markdown",
   "metadata": {
    "id": "g2bHIIjcrJg1"
   },
   "source": [
    "\n",
    "### 2.1. <a href=\"#part5\">Раунды финансирования по годам</a>\n",
    "\n",
    "На основе полученных данных необходимо ответить на вопросы:\n",
    "\n",
    "* В каком году типичный размер собранных в рамках одного раунда средств был максимален?\n",
    "\n",
    "* Какая тенденция по количеству раундов и выделяемых в рамках каждого раунда средств наблюдалась в 2013 году?"
   ]
  },
  {
   "cell_type": "code",
   "execution_count": 24,
   "metadata": {
    "id": "ovyDibxNrJg1"
   },
   "outputs": [],
   "source": [
    "# Подготовка данных\n",
    "df = company_and_rounds_df.copy()  # Создаем копию, чтобы не изменять исходный DataFrame"
   ]
  },
  {
   "cell_type": "code",
   "execution_count": 25,
   "metadata": {},
   "outputs": [],
   "source": [
    "# Удаляем строки с пропущенными значениями в 'raised_amount' или 'funded_at'\n",
    "df.dropna(subset=['raised_amount', 'funded_at'], inplace=True)"
   ]
  },
  {
   "cell_type": "code",
   "execution_count": 26,
   "metadata": {},
   "outputs": [],
   "source": [
    "# Извлекаем год из 'funded_at' \n",
    "df['year'] = df['funded_at'].dt.year"
   ]
  },
  {
   "cell_type": "code",
   "execution_count": 27,
   "metadata": {},
   "outputs": [],
   "source": [
    "# Создание сводной таблицы с использованием медианы\n",
    "pivot_table = df.groupby('year').agg(\n",
    "    typical_raised_amount=('raised_amount', 'median'),  # Медиана для \"типичного\" размера средств\n",
    "    count_rounds=('raised_amount', 'count')             # Количество раундов\n",
    ")"
   ]
  },
  {
   "cell_type": "code",
   "execution_count": 28,
   "metadata": {},
   "outputs": [],
   "source": [
    "# Фильтрация данных: оставляем только годы с более чем 50 раундами\n",
    "pivot_table = pivot_table[pivot_table['count_rounds'] > 50]"
   ]
  },
  {
   "cell_type": "code",
   "execution_count": 29,
   "metadata": {},
   "outputs": [
    {
     "name": "stdout",
     "output_type": "stream",
     "text": [
      "Сводная таблица:\n"
     ]
    },
    {
     "data": {
      "text/html": [
       "<div>\n",
       "<style scoped>\n",
       "    .dataframe tbody tr th:only-of-type {\n",
       "        vertical-align: middle;\n",
       "    }\n",
       "\n",
       "    .dataframe tbody tr th {\n",
       "        vertical-align: top;\n",
       "    }\n",
       "\n",
       "    .dataframe thead th {\n",
       "        text-align: right;\n",
       "    }\n",
       "</style>\n",
       "<table border=\"1\" class=\"dataframe\">\n",
       "  <thead>\n",
       "    <tr style=\"text-align: right;\">\n",
       "      <th></th>\n",
       "      <th>typical_raised_amount</th>\n",
       "      <th>count_rounds</th>\n",
       "    </tr>\n",
       "    <tr>\n",
       "      <th>year</th>\n",
       "      <th></th>\n",
       "      <th></th>\n",
       "    </tr>\n",
       "  </thead>\n",
       "  <tbody>\n",
       "    <tr>\n",
       "      <th>1999</th>\n",
       "      <td>2000000.0</td>\n",
       "      <td>76</td>\n",
       "    </tr>\n",
       "    <tr>\n",
       "      <th>2000</th>\n",
       "      <td>4200000.0</td>\n",
       "      <td>125</td>\n",
       "    </tr>\n",
       "    <tr>\n",
       "      <th>2001</th>\n",
       "      <td>3000000.0</td>\n",
       "      <td>96</td>\n",
       "    </tr>\n",
       "    <tr>\n",
       "      <th>2002</th>\n",
       "      <td>4200000.0</td>\n",
       "      <td>116</td>\n",
       "    </tr>\n",
       "    <tr>\n",
       "      <th>2003</th>\n",
       "      <td>3000000.0</td>\n",
       "      <td>159</td>\n",
       "    </tr>\n",
       "    <tr>\n",
       "      <th>2004</th>\n",
       "      <td>5000000.0</td>\n",
       "      <td>291</td>\n",
       "    </tr>\n",
       "    <tr>\n",
       "      <th>2005</th>\n",
       "      <td>5500000.0</td>\n",
       "      <td>1633</td>\n",
       "    </tr>\n",
       "    <tr>\n",
       "      <th>2006</th>\n",
       "      <td>5000000.0</td>\n",
       "      <td>2436</td>\n",
       "    </tr>\n",
       "    <tr>\n",
       "      <th>2007</th>\n",
       "      <td>3973320.0</td>\n",
       "      <td>3279</td>\n",
       "    </tr>\n",
       "    <tr>\n",
       "      <th>2008</th>\n",
       "      <td>3110000.0</td>\n",
       "      <td>3774</td>\n",
       "    </tr>\n",
       "    <tr>\n",
       "      <th>2009</th>\n",
       "      <td>2000000.0</td>\n",
       "      <td>4151</td>\n",
       "    </tr>\n",
       "    <tr>\n",
       "      <th>2010</th>\n",
       "      <td>1602500.0</td>\n",
       "      <td>6221</td>\n",
       "    </tr>\n",
       "    <tr>\n",
       "      <th>2011</th>\n",
       "      <td>1200000.0</td>\n",
       "      <td>9204</td>\n",
       "    </tr>\n",
       "    <tr>\n",
       "      <th>2012</th>\n",
       "      <td>1000000.0</td>\n",
       "      <td>9970</td>\n",
       "    </tr>\n",
       "    <tr>\n",
       "      <th>2013</th>\n",
       "      <td>1200000.0</td>\n",
       "      <td>11072</td>\n",
       "    </tr>\n",
       "  </tbody>\n",
       "</table>\n",
       "</div>"
      ],
      "text/plain": [
       "      typical_raised_amount  count_rounds\n",
       "year                                     \n",
       "1999              2000000.0            76\n",
       "2000              4200000.0           125\n",
       "2001              3000000.0            96\n",
       "2002              4200000.0           116\n",
       "2003              3000000.0           159\n",
       "2004              5000000.0           291\n",
       "2005              5500000.0          1633\n",
       "2006              5000000.0          2436\n",
       "2007              3973320.0          3279\n",
       "2008              3110000.0          3774\n",
       "2009              2000000.0          4151\n",
       "2010              1602500.0          6221\n",
       "2011              1200000.0          9204\n",
       "2012              1000000.0          9970\n",
       "2013              1200000.0         11072"
      ]
     },
     "metadata": {},
     "output_type": "display_data"
    }
   ],
   "source": [
    "# Вывод сводной таблицы\n",
    "print(\"Сводная таблица:\")\n",
    "display(pivot_table)"
   ]
  },
  {
   "cell_type": "code",
   "execution_count": 30,
   "metadata": {
    "scrolled": true
   },
   "outputs": [
    {
     "data": {
      "image/png": "[encoded data removed]",
      "text/plain": [
       "<Figure size 1200x600 with 1 Axes>"
      ]
     },
     "metadata": {},
     "output_type": "display_data"
    }
   ],
   "source": [
    "# Построение графика\n",
    "plt.figure(figsize=(12, 6))\n",
    "plt.plot(pivot_table.index, pivot_table['typical_raised_amount'], marker='o', linestyle='-', color='b') \n",
    "plt.xlabel('Год', fontsize=12)  # Подпись оси X\n",
    "plt.ylabel('Типичный размер средств (млн.$)', fontsize=12)  # Подпись оси Y с указанием размерности\n",
    "plt.title('Динамика типичного размера средств по годам', fontsize=14) \n",
    "plt.grid(True)  # Добавляем сетку\n",
    "plt.xticks(pivot_table.index)  # Устанавливаем метки по годам\n",
    "plt.tight_layout()  # Автоматическая настройка отступов\n",
    "plt.show()  "
   ]
  },
  {
   "cell_type": "markdown",
   "metadata": {},
   "source": [
    "Максимальные значения представлены в 2005 году."
   ]
  },
  {
   "cell_type": "markdown",
   "metadata": {},
   "source": [
    "Полученные данные позволяют нам ответить на поставленные вопросы: \n",
    "1. В каком году типичный размер собранных в рамках одного раунда средств был максимален?  \n",
    "    - Максимальный типичный размер средств был в 2005 году  (5.5 млн.$).\n",
    "     \n",
    "2. Какая тенденция по количеству раундов и выделяемых в рамках каждого раунда средств наблюдалась в 2013 году?  \n",
    "    - Количество раундов в 2013 году достигло пика (11,072 раундов ).\n",
    "    - Однако типичный размер средств снизился до 1.2 млн.$, что может указывать на рост числа малобюджетных проектов или изменение стратегии инвесторов.\n",
    "         \n",
    "     "
   ]
  },
  {
   "cell_type": "markdown",
   "metadata": {
    "id": "45if1en1rJg2"
   },
   "source": [
    "\n",
    "### 2.2. <a href=\"#part6\">Люди и их образование</a>\n",
    "\n",
    "Заказчик хочет понять, зависит ли полнота сведений о сотрудниках (об их образовании) от размера компаний."
   ]
  },
  {
   "cell_type": "code",
   "execution_count": 31,
   "metadata": {},
   "outputs": [
    {
     "data": {
      "text/html": [
       "<div>\n",
       "<style scoped>\n",
       "    .dataframe tbody tr th:only-of-type {\n",
       "        vertical-align: middle;\n",
       "    }\n",
       "\n",
       "    .dataframe tbody tr th {\n",
       "        vertical-align: top;\n",
       "    }\n",
       "\n",
       "    .dataframe thead th {\n",
       "        text-align: right;\n",
       "    }\n",
       "</style>\n",
       "<table border=\"1\" class=\"dataframe\">\n",
       "  <thead>\n",
       "    <tr style=\"text-align: right;\">\n",
       "      <th></th>\n",
       "      <th>id</th>\n",
       "      <th>first_name</th>\n",
       "      <th>last_name</th>\n",
       "      <th>company_id</th>\n",
       "      <th>network_username</th>\n",
       "    </tr>\n",
       "  </thead>\n",
       "  <tbody>\n",
       "    <tr>\n",
       "      <th>0</th>\n",
       "      <td>10</td>\n",
       "      <td>Mark</td>\n",
       "      <td>Zuckerberg</td>\n",
       "      <td>5.0</td>\n",
       "      <td>NaN</td>\n",
       "    </tr>\n",
       "    <tr>\n",
       "      <th>1</th>\n",
       "      <td>100</td>\n",
       "      <td>Peter</td>\n",
       "      <td>Lester</td>\n",
       "      <td>27.0</td>\n",
       "      <td>NaN</td>\n",
       "    </tr>\n",
       "    <tr>\n",
       "      <th>2</th>\n",
       "      <td>1000</td>\n",
       "      <td>Dr. Steven</td>\n",
       "      <td>E. Saunders</td>\n",
       "      <td>292.0</td>\n",
       "      <td>NaN</td>\n",
       "    </tr>\n",
       "    <tr>\n",
       "      <th>3</th>\n",
       "      <td>10000</td>\n",
       "      <td>Neil</td>\n",
       "      <td>Capel</td>\n",
       "      <td>2526.0</td>\n",
       "      <td>NaN</td>\n",
       "    </tr>\n",
       "    <tr>\n",
       "      <th>4</th>\n",
       "      <td>100000</td>\n",
       "      <td>Sue</td>\n",
       "      <td>Pilsch</td>\n",
       "      <td>NaN</td>\n",
       "      <td>NaN</td>\n",
       "    </tr>\n",
       "  </tbody>\n",
       "</table>\n",
       "</div>"
      ],
      "text/plain": [
       "       id  first_name    last_name  company_id network_username\n",
       "0      10        Mark   Zuckerberg         5.0              NaN\n",
       "1     100       Peter       Lester        27.0              NaN\n",
       "2    1000  Dr. Steven  E. Saunders       292.0              NaN\n",
       "3   10000        Neil        Capel      2526.0              NaN\n",
       "4  100000         Sue       Pilsch         NaN              NaN"
      ]
     },
     "execution_count": 31,
     "metadata": {},
     "output_type": "execute_result"
    }
   ],
   "source": [
    "# Выводим первые строки people на экран\n",
    "people_df.head()"
   ]
  },
  {
   "cell_type": "code",
   "execution_count": 32,
   "metadata": {},
   "outputs": [
    {
     "data": {
      "text/html": [
       "<div>\n",
       "<style scoped>\n",
       "    .dataframe tbody tr th:only-of-type {\n",
       "        vertical-align: middle;\n",
       "    }\n",
       "\n",
       "    .dataframe tbody tr th {\n",
       "        vertical-align: top;\n",
       "    }\n",
       "\n",
       "    .dataframe thead th {\n",
       "        text-align: right;\n",
       "    }\n",
       "</style>\n",
       "<table border=\"1\" class=\"dataframe\">\n",
       "  <thead>\n",
       "    <tr style=\"text-align: right;\">\n",
       "      <th></th>\n",
       "      <th>id</th>\n",
       "      <th>person_id</th>\n",
       "      <th>instituition</th>\n",
       "      <th>graduated_at</th>\n",
       "    </tr>\n",
       "  </thead>\n",
       "  <tbody>\n",
       "    <tr>\n",
       "      <th>0</th>\n",
       "      <td>1</td>\n",
       "      <td>6117</td>\n",
       "      <td>NaN</td>\n",
       "      <td>NaT</td>\n",
       "    </tr>\n",
       "    <tr>\n",
       "      <th>1</th>\n",
       "      <td>2</td>\n",
       "      <td>6136</td>\n",
       "      <td>Washington University, St. Louis</td>\n",
       "      <td>1990-01-01</td>\n",
       "    </tr>\n",
       "    <tr>\n",
       "      <th>2</th>\n",
       "      <td>3</td>\n",
       "      <td>6136</td>\n",
       "      <td>Boston University</td>\n",
       "      <td>1992-01-01</td>\n",
       "    </tr>\n",
       "    <tr>\n",
       "      <th>3</th>\n",
       "      <td>4</td>\n",
       "      <td>6005</td>\n",
       "      <td>University of Greenwich</td>\n",
       "      <td>2006-01-01</td>\n",
       "    </tr>\n",
       "    <tr>\n",
       "      <th>4</th>\n",
       "      <td>5</td>\n",
       "      <td>5832</td>\n",
       "      <td>Rice University</td>\n",
       "      <td>NaT</td>\n",
       "    </tr>\n",
       "  </tbody>\n",
       "</table>\n",
       "</div>"
      ],
      "text/plain": [
       "   id  person_id                      instituition graduated_at\n",
       "0   1       6117                               NaN          NaT\n",
       "1   2       6136  Washington University, St. Louis   1990-01-01\n",
       "2   3       6136                 Boston University   1992-01-01\n",
       "3   4       6005           University of Greenwich   2006-01-01\n",
       "4   5       5832                   Rice University          NaT"
      ]
     },
     "execution_count": 32,
     "metadata": {},
     "output_type": "execute_result"
    }
   ],
   "source": [
    "# Выводим первые строки education на экран\n",
    "education_df.head()"
   ]
  },
  {
   "cell_type": "code",
   "execution_count": 33,
   "metadata": {},
   "outputs": [
    {
     "data": {
      "text/html": [
       "<div>\n",
       "<style scoped>\n",
       "    .dataframe tbody tr th:only-of-type {\n",
       "        vertical-align: middle;\n",
       "    }\n",
       "\n",
       "    .dataframe tbody tr th {\n",
       "        vertical-align: top;\n",
       "    }\n",
       "\n",
       "    .dataframe thead th {\n",
       "        text-align: right;\n",
       "    }\n",
       "</style>\n",
       "<table border=\"1\" class=\"dataframe\">\n",
       "  <thead>\n",
       "    <tr style=\"text-align: right;\">\n",
       "      <th></th>\n",
       "      <th>id</th>\n",
       "      <th>object_id</th>\n",
       "      <th>degree_type</th>\n",
       "      <th>subject</th>\n",
       "    </tr>\n",
       "  </thead>\n",
       "  <tbody>\n",
       "    <tr>\n",
       "      <th>0</th>\n",
       "      <td>1</td>\n",
       "      <td>6117</td>\n",
       "      <td>MBA</td>\n",
       "      <td>NaN</td>\n",
       "    </tr>\n",
       "    <tr>\n",
       "      <th>1</th>\n",
       "      <td>2</td>\n",
       "      <td>6136</td>\n",
       "      <td>BA</td>\n",
       "      <td>English, French</td>\n",
       "    </tr>\n",
       "    <tr>\n",
       "      <th>2</th>\n",
       "      <td>3</td>\n",
       "      <td>6136</td>\n",
       "      <td>MS</td>\n",
       "      <td>Mass Communication</td>\n",
       "    </tr>\n",
       "    <tr>\n",
       "      <th>3</th>\n",
       "      <td>4</td>\n",
       "      <td>6005</td>\n",
       "      <td>MS</td>\n",
       "      <td>Internet Technology</td>\n",
       "    </tr>\n",
       "    <tr>\n",
       "      <th>4</th>\n",
       "      <td>5</td>\n",
       "      <td>5832</td>\n",
       "      <td>BCS</td>\n",
       "      <td>Computer Science, Psychology</td>\n",
       "    </tr>\n",
       "  </tbody>\n",
       "</table>\n",
       "</div>"
      ],
      "text/plain": [
       "   id object_id degree_type                       subject\n",
       "0   1      6117         MBA                           NaN\n",
       "1   2      6136          BA               English, French\n",
       "2   3      6136          MS            Mass Communication\n",
       "3   4      6005          MS           Internet Technology\n",
       "4   5      5832         BCS  Computer Science, Psychology"
      ]
     },
     "execution_count": 33,
     "metadata": {},
     "output_type": "execute_result"
    }
   ],
   "source": [
    "# Выводим первые строки degrees на экран\n",
    "degrees_df.head()"
   ]
  },
  {
   "cell_type": "code",
   "execution_count": 34,
   "metadata": {},
   "outputs": [],
   "source": [
    "# Подсчёт количества сотрудников в каждой компании\n",
    "company_size = people_df.groupby('company_id').size().reset_index(name='employee_count')"
   ]
  },
  {
   "cell_type": "code",
   "execution_count": 35,
   "metadata": {},
   "outputs": [
    {
     "data": {
      "text/plain": [
       "count    22922.00\n",
       "mean         1.51\n",
       "std          2.76\n",
       "min          1.00\n",
       "25%          1.00\n",
       "50%          1.00\n",
       "75%          1.00\n",
       "max        244.00\n",
       "Name: employee_count, dtype: float64"
      ]
     },
     "metadata": {},
     "output_type": "display_data"
    }
   ],
   "source": [
    "# Описательная статистика\n",
    "display(company_size['employee_count'].describe().round(2))"
   ]
  },
  {
   "cell_type": "markdown",
   "metadata": {},
   "source": [
    "Анализ полученных данных:\n",
    "\n",
    "1) Минимум и максимум : \n",
    "    - Минимальное количество сотрудников в компании равно 1.00, максимальное количество сотрудников равно 244.00. Это указывает на большой разброс значений, большинство компаний имеют очень маленький штат.\n",
    "         \n",
    "2) Медиана : \n",
    "    - Медиана равна 1.00, что означает, что более половины компаний в датасете являются индивидуальными предпринимателями или микрокомпаниями. \n",
    "\n",
    "3) Среднее значение : \n",
    "    - Среднее количество сотрудников в компании: 1.51.\n",
    "    - Это незначительно больше медианы, что может быть связано с влиянием нескольких крупных компаний.\n",
    "         \n",
    "\n",
    "4) Стандартное отклонение : \n",
    "    - Высокое стандартное отклонение (2.76 ) подтверждает, что данные сильно разбросаны.\n",
    "         \n",
    "\n",
    "5) Квартили : \n",
    "    - Первый квартиль (25%) и медиана (50%) равны 1.00, что говорит о том, что 75% компаний имеют не более одного сотрудника.       \n",
    "     "
   ]
  },
  {
   "cell_type": "code",
   "execution_count": 36,
   "metadata": {},
   "outputs": [
    {
     "data": {
      "image/png": "[encoded data removed]",
      "text/plain": [
       "<Figure size 1200x600 with 1 Axes>"
      ]
     },
     "metadata": {},
     "output_type": "display_data"
    }
   ],
   "source": [
    "# Визуализация распределения\n",
    "plt.figure(figsize=(12, 6))\n",
    "sns.histplot(company_size['employee_count'], bins=50, kde=True)\n",
    "plt.title('Распределение количества сотрудников в компаниях', fontsize=14)\n",
    "plt.xlabel('Количество сотрудников', fontsize=12)\n",
    "plt.ylabel('Частота', fontsize=12)\n",
    "plt.grid(True)\n",
    "plt.show()"
   ]
  },
  {
   "cell_type": "markdown",
   "metadata": {},
   "source": [
    "Гистограмма показывает, что большинство компаний сосредоточено в диапазоне 1–2 сотрудника."
   ]
  },
  {
   "cell_type": "markdown",
   "metadata": {},
   "source": [
    "#### На основе анализа данных проводим следующую категоризацию: \n",
    "- Группа 1 : Компании с 1 сотрудником (микрокомпании).\n",
    "- Группа 2 : Компании с 2–5 сотрудниками (маленькие компании).\n",
    "- Группа 3 : Компании с 6–20 сотрудниками (средние компании).\n",
    "- Группа 4 : Компании с более 20 сотрудников (крупные компании).\n",
    "     \n",
    "Эти границы основаны на реальном распределении данных и позволяют избежать сравнения слишком разных по объему групп. "
   ]
  },
  {
   "cell_type": "code",
   "execution_count": 37,
   "metadata": {},
   "outputs": [
    {
     "data": {
      "text/plain": [
       "company_size\n",
       "Микрокомпания    18117\n",
       "Маленькая         4317\n",
       "Средняя            460\n",
       "Большая             28\n",
       "Name: count, dtype: int64"
      ]
     },
     "metadata": {},
     "output_type": "display_data"
    }
   ],
   "source": [
    "# Категоризация компаний на основе employee_count\n",
    "def classify_company_size(count):\n",
    "    if count == 1:\n",
    "        return 'Микрокомпания'\n",
    "    elif 2 <= count <= 5:\n",
    "        return 'Маленькая'\n",
    "    elif 6 <= count <= 20:\n",
    "        return 'Средняя'\n",
    "    else:\n",
    "        return 'Большая'\n",
    "\n",
    "# Применяем функцию к данным\n",
    "company_size['company_size'] = company_size['employee_count'].apply(classify_company_size)\n",
    "\n",
    "# Вывод распределения по категориям\n",
    "display(company_size['company_size'].value_counts())"
   ]
  },
  {
   "cell_type": "code",
   "execution_count": 38,
   "metadata": {},
   "outputs": [],
   "source": [
    "# Объединяем данные о сотрудниках и образовании\n",
    "merged_df = pd.merge(people_df, education_df, left_on='id', right_on='person_id', how='left', suffixes=('_people', '_education'))"
   ]
  },
  {
   "cell_type": "code",
   "execution_count": 39,
   "metadata": {},
   "outputs": [],
   "source": [
    "# Добавляем информацию о размере компании\n",
    "merged_df = pd.merge(merged_df, company_size[['company_id', 'company_size']], on='company_id', how='left')"
   ]
  },
  {
   "cell_type": "code",
   "execution_count": 40,
   "metadata": {},
   "outputs": [
    {
     "data": {
      "text/plain": [
       "Index(['id_people', 'first_name', 'last_name', 'company_id',\n",
       "       'network_username', 'id_education', 'person_id', 'instituition',\n",
       "       'graduated_at', 'company_size'],\n",
       "      dtype='object')"
      ]
     },
     "metadata": {},
     "output_type": "display_data"
    }
   ],
   "source": [
    "# Проверка столбцов в merged_df\n",
    "display(merged_df.columns)"
   ]
  },
  {
   "cell_type": "code",
   "execution_count": 41,
   "metadata": {},
   "outputs": [],
   "source": [
    "# Подсчёт доли сотрудников без образования по группам\n",
    "grouped = merged_df.groupby('company_size').agg(\n",
    "    total_employees=('id_people', 'count'),  # Общее количество сотрудников (используем 'id_people')\n",
    "    missing_education=('instituition', lambda x: x.isnull().sum())  # Пропущенные значения в instituition\n",
    ").reset_index()"
   ]
  },
  {
   "cell_type": "code",
   "execution_count": 42,
   "metadata": {},
   "outputs": [],
   "source": [
    "# Добавляем столбцы с процентами\n",
    "grouped['percentage_with_education'] = ((grouped['total_employees'] - grouped['missing_education']) / grouped['total_employees'] * 100).round(2)\n",
    "grouped['percentage_without_education'] = (grouped['missing_education'] / grouped['total_employees'] * 100).round(2)"
   ]
  },
  {
   "cell_type": "code",
   "execution_count": 43,
   "metadata": {},
   "outputs": [
    {
     "data": {
      "text/html": [
       "<div>\n",
       "<style scoped>\n",
       "    .dataframe tbody tr th:only-of-type {\n",
       "        vertical-align: middle;\n",
       "    }\n",
       "\n",
       "    .dataframe tbody tr th {\n",
       "        vertical-align: top;\n",
       "    }\n",
       "\n",
       "    .dataframe thead th {\n",
       "        text-align: right;\n",
       "    }\n",
       "</style>\n",
       "<table border=\"1\" class=\"dataframe\">\n",
       "  <thead>\n",
       "    <tr style=\"text-align: right;\">\n",
       "      <th></th>\n",
       "      <th>company_size</th>\n",
       "      <th>total_employees</th>\n",
       "      <th>missing_education</th>\n",
       "      <th>percentage_with_education</th>\n",
       "      <th>percentage_without_education</th>\n",
       "    </tr>\n",
       "  </thead>\n",
       "  <tbody>\n",
       "    <tr>\n",
       "      <th>0</th>\n",
       "      <td>Большая</td>\n",
       "      <td>2102</td>\n",
       "      <td>431</td>\n",
       "      <td>79.50</td>\n",
       "      <td>20.50</td>\n",
       "    </tr>\n",
       "    <tr>\n",
       "      <th>1</th>\n",
       "      <td>Маленькая</td>\n",
       "      <td>14316</td>\n",
       "      <td>5370</td>\n",
       "      <td>62.49</td>\n",
       "      <td>37.51</td>\n",
       "    </tr>\n",
       "    <tr>\n",
       "      <th>2</th>\n",
       "      <td>Микрокомпания</td>\n",
       "      <td>23292</td>\n",
       "      <td>8395</td>\n",
       "      <td>63.96</td>\n",
       "      <td>36.04</td>\n",
       "    </tr>\n",
       "    <tr>\n",
       "      <th>3</th>\n",
       "      <td>Средняя</td>\n",
       "      <td>5079</td>\n",
       "      <td>1984</td>\n",
       "      <td>60.94</td>\n",
       "      <td>39.06</td>\n",
       "    </tr>\n",
       "  </tbody>\n",
       "</table>\n",
       "</div>"
      ],
      "text/plain": [
       "    company_size  total_employees  missing_education  \\\n",
       "0        Большая             2102                431   \n",
       "1      Маленькая            14316               5370   \n",
       "2  Микрокомпания            23292               8395   \n",
       "3        Средняя             5079               1984   \n",
       "\n",
       "   percentage_with_education  percentage_without_education  \n",
       "0                      79.50                         20.50  \n",
       "1                      62.49                         37.51  \n",
       "2                      63.96                         36.04  \n",
       "3                      60.94                         39.06  "
      ]
     },
     "metadata": {},
     "output_type": "display_data"
    }
   ],
   "source": [
    "# Вывод результатов\n",
    "display(grouped)"
   ]
  },
  {
   "cell_type": "code",
   "execution_count": 44,
   "metadata": {},
   "outputs": [
    {
     "data": {
      "image/png": "[encoded data removed]",
      "text/plain": [
       "<Figure size 1000x600 with 1 Axes>"
      ]
     },
     "metadata": {},
     "output_type": "display_data"
    }
   ],
   "source": [
    "# Подготовка данных для визуализации\n",
    "result = grouped[['company_size', 'percentage_with_education', 'percentage_without_education']]\n",
    "\n",
    "# Установка правильного порядка категорий\n",
    "order = ['Микрокомпания', 'Маленькая', 'Средняя', 'Большая']\n",
    "result = result.set_index('company_size').loc[order].reset_index()\n",
    "\n",
    "# Настройка параметров графика\n",
    "plt.figure(figsize=(10, 6))\n",
    "bar_width = 0.35\n",
    "index = range(len(result))\n",
    "\n",
    "# Столбцы для сотрудников с образованием и без\n",
    "bar1 = plt.bar(index, result['percentage_with_education'], bar_width, label='С образованием', color='#4c72b0')\n",
    "bar2 = plt.bar([i + bar_width for i in index], result['percentage_without_education'], bar_width, label='Без образования', color='#dd8452')\n",
    "\n",
    "# Настройки графика\n",
    "plt.xlabel('Размер компании', fontsize=12)\n",
    "plt.ylabel('Процент сотрудников (%)', fontsize=12)\n",
    "plt.title('Доля сотрудников с и без информации об образовании по размеру компании', fontsize=14)\n",
    "plt.xticks([i + bar_width / 2 for i in index], order, fontsize=10)  # Используем заданный порядок\n",
    "plt.legend(fontsize=10)\n",
    "\n",
    "# Добавление подписей к столбцам\n",
    "for bars in [bar1, bar2]:\n",
    "    for bar in bars:\n",
    "        yval = bar.get_height()\n",
    "        plt.text(bar.get_x() + bar.get_width() / 2, yval + 1, f'{yval:.2f}%', ha='center', va='bottom', fontsize=10)\n",
    "\n",
    "# Отображение графика\n",
    "plt.show()"
   ]
  },
  {
   "cell_type": "markdown",
   "metadata": {},
   "source": [
    "На основе представленных результатов можно сделать следующие выводы:\n",
    "\n",
    "1) Микро- и маленькие компании. В маленькой (62.49%) и микрокомпании (63.96%) наблюдается значительно меньший процент сотрудников с образованием по сравнению с большой компанией. Это может свидетельствовать о более гибких требованиях к квалификации или о том, что в этих компаниях ценятся практические навыки больше, чем формальное образование.\n",
    "\n",
    "2) Средние компании. Наименьший процент образованных сотрудников (60.94%) и самый высокий процент сотрудников без образования (39.06%). Это может указывать на меньшее внимание к формальному образованию и более открытый подход к найму.\n",
    "\n",
    "3) Большие компании. Выделяется на фоне остальных с наивысшей долей сотрудников с образованием (79.50%). Это может указывать на строгие требования к квалификации и высокую конкуренцию за рабочие места.\n",
    "\n",
    "Общие выводы:\n",
    "- С увеличением размера компании, как правило, повышается процент сотрудников с образованием. \n",
    "- Меньшие компании имеют более высокие доли сотрудников без образования, что может отражать их специфику и требования к навыкам."
   ]
  },
  {
   "cell_type": "markdown",
   "metadata": {},
   "source": [
    "#### Итоговые выводы:\n",
    "1) Зависит ли полнота сведений об образовании от размера компаний?\n",
    "\n",
    "- Полнота сведений об образовании действительно зависит от размера компаний. Крупные компании демонстрируют наиболее полные данные, в то время как маленькие и средние компании имеют заметно больше пропусков. Микрокомпании находятся между этими группами, сохраняя относительно высокий уровень документирования, но все же ниже, чем у крупных компаний. \n",
    "- Таким образом, размер компании влияет на степень детализации данных о сотрудниках, что подтверждается полученными результатами анализа. \n",
    "\n",
    "2) Можно ли использовать degrees.csv?\n",
    "\n",
    "- Таблица degrees.csv содержит дополнительные сведения об образовании, но не добавляет новых сотрудников или компаний. Поэтому её использование не влияет на основной анализ полноты данных."
   ]
  },
  {
   "cell_type": "markdown",
   "metadata": {},
   "source": [
    "### 2.3. <a href=\"#part7\">Оценка возможности объединения данных по столбцу `network_username`</a> \n",
    "\n",
    "Некоторые названия столбцов встречаются в датасетах чаще других. И, например, в результате предварительной проверки датасетов было выяснено, что столбец `company_id` подходит для объединения данных, так как большая часть значений встречается в разных датасетах не один, а несколько раз. Этот столбец может быть использован для объединения данных."
   ]
  },
  {
   "cell_type": "code",
   "execution_count": 45,
   "metadata": {},
   "outputs": [],
   "source": [
    "# Список датафреймов и их названий\n",
    "dataframes = {\n",
    "    'acquisition_df': acquisition_df,\n",
    "    'company_and_rounds_df': company_and_rounds_df,\n",
    "    'degrees_df': degrees_df,\n",
    "    'education_df': education_df,\n",
    "    'fund_df': fund_df,\n",
    "    'investment_df': investment_df,\n",
    "    'people_df': people_df\n",
    "}"
   ]
  },
  {
   "cell_type": "code",
   "execution_count": 46,
   "metadata": {},
   "outputs": [
    {
     "name": "stdout",
     "output_type": "stream",
     "text": [
      "acquisition_df does not have the column 'network_username'.\n",
      "company_and_rounds_df - Unique values: 79571, Total records: 95534\n",
      "degrees_df does not have the column 'network_username'.\n",
      "education_df does not have the column 'network_username'.\n",
      "fund_df - Unique values: 2098, Total records: 2149\n",
      "investment_df does not have the column 'network_username'.\n",
      "people_df - Unique values: 38421, Total records: 38867\n"
     ]
    }
   ],
   "source": [
    "# Проверка уникальности значений\n",
    "for df_name, df in dataframes.items():\n",
    "    if 'network_username' in df.columns:\n",
    "        unique_count = df['network_username'].nunique()\n",
    "        total_count = df['network_username'].count()\n",
    "        print(f\"{df_name} - Unique values: {unique_count}, Total records: {total_count}\")\n",
    "    else:\n",
    "        print(f\"{df_name} does not have the column 'network_username'.\")"
   ]
  },
  {
   "cell_type": "code",
   "execution_count": 47,
   "metadata": {},
   "outputs": [
    {
     "name": "stdout",
     "output_type": "stream",
     "text": [
      "company_and_rounds_df has 138202 duplicate network_username values.\n",
      "fund_df has 9553 duplicate network_username values.\n",
      "people_df has 188287 duplicate network_username values.\n"
     ]
    }
   ],
   "source": [
    "# Проверка дублирующихся значений\n",
    "for df_name, df in dataframes.items():\n",
    "    if 'network_username' in df.columns:\n",
    "        duplicate_count = df['network_username'].duplicated().sum()\n",
    "        print(f\"{df_name} has {duplicate_count} duplicate network_username values.\")"
   ]
  },
  {
   "cell_type": "code",
   "execution_count": 48,
   "metadata": {},
   "outputs": [
    {
     "name": "stdout",
     "output_type": "stream",
     "text": [
      "Total unique network_usernames across all dataframes: 117749\n",
      "Total duplicate network_usernames across all dataframes: 10961\n"
     ]
    }
   ],
   "source": [
    "# Проверка дублирования между датафреймами\n",
    "# Соберем все значения network_username в один список\n",
    "all_usernames = pd.concat([df['network_username'] for df in dataframes.values() if 'network_username' in df.columns])\n",
    "unique_usernames = all_usernames.nunique()\n",
    "duplicate_usernames = all_usernames[all_usernames.duplicated()].nunique()\n",
    "\n",
    "print(f\"Total unique network_usernames across all dataframes: {unique_usernames}\")\n",
    "print(f\"Total duplicate network_usernames across all dataframes: {duplicate_usernames}\")"
   ]
  },
  {
   "cell_type": "markdown",
   "metadata": {},
   "source": [
    "На основе предоставленных результатов проверки столбца `network_username`, можно сделать следующие выводы:\n",
    "\n",
    "#### Результаты проверки\n",
    "\n",
    "1. **Наличие столбца**:\n",
    "   - Столбец `network_username` отсутствует в следующих датафреймах:\n",
    "     - `acquisition_df`\n",
    "     - `degrees_df`\n",
    "     - `education_df`\n",
    "     - `investment_df`\n",
    "   - Столбец присутствует только в трех датафреймах: `company_and_rounds_df`, `fund_df` и `people_df`.\n",
    "\n",
    "2. **Уникальные значения и дубли**:\n",
    "   - `company_and_rounds_df`: 79,571 уникальных значений из 95,534 записей, с 138,202 дублирующимися значениями.\n",
    "   - `fund_df`: 2,098 уникальных значений из 2,149 записей, с 9,553 дублирующимися значениями.\n",
    "   - `people_df`: 38,421 уникальных значений из 38,867 записей, с 188,287 дублирующимися значениями.\n",
    "\n",
    "3. **Общие уникальные и дублирующиеся значения**:\n",
    "   - Всего уникальных `network_usernames` во всех датафреймах: 117,749.\n",
    "   - Всего дублирующихся `network_usernames`: 10,961.\n",
    "\n",
    "#### Оценка возможности объединения\n",
    "\n",
    "1. **Дублирование в отдельных датафреймах**:\n",
    "   - В каждом из датафреймов, где присутствует `network_username`, наблюдается значительное количество дублирующихся значений. Это может указывать на то, что в рамках каждого датафрейма есть несколько записей, относящихся к одному и тому же пользователю. \n",
    "\n",
    "2. **Общее количество уникальных и дублирующихся значений**:\n",
    "   - Хотя общее количество уникальных значений (`117,749`) высоко, количество дублирующихся значений также значительное (`10,961`). Это говорит о том, что `network_username` не может быть использован для объединения данных, так как в этом случае могут возникнуть конфликты, если один и тот же `network_username` будет относиться к разным записям в разных датафреймах.\n",
    "\n",
    "Оставляем данные без изменений.\n"
   ]
  },
  {
   "cell_type": "markdown",
   "metadata": {
    "id": "EHcODomVrJg1"
   },
   "source": [
    "### 2.4. <a href=\"#part8\">Корректировка датасета `company_and_rounds.csv`</a> \n",
    "\n",
    "Во время собственного анализа данных у заказчика больше всего вопросов возникло к датасету `company_and_rounds.csv`. В нём много пропусков как раз в информации о раундах, которая заказчику важна. Хотя информация об общем объёме финансирования по раундам присутствует в других датасетах, заказчик считает данные `company_and_rounds.csv` о размере средств наиболее верными.\n",
    "\n",
    "По гипотезе заказчика данные по компаниям из этой таблицы раньше хранились иначе, более удобным для исследования образом."
   ]
  },
  {
   "cell_type": "code",
   "execution_count": 49,
   "metadata": {},
   "outputs": [
    {
     "name": "stdout",
     "output_type": "stream",
     "text": [
      "<class 'pandas.core.frame.DataFrame'>\n",
      "RangeIndex: 217774 entries, 0 to 217773\n",
      "Data columns (total 22 columns):\n",
      " #   Column               Non-Null Count   Dtype         \n",
      "---  ------               --------------   -----         \n",
      " 0   company_id           217472 non-null  float64       \n",
      " 1   name                 217471 non-null  object        \n",
      " 2   category_code        143886 non-null  object        \n",
      " 3   status               217472 non-null  object        \n",
      " 4   founded_at           109956 non-null  datetime64[ns]\n",
      " 5   closed_at            3449 non-null    datetime64[ns]\n",
      " 6   domain               147159 non-null  object        \n",
      " 7   network_username     95534 non-null   object        \n",
      " 8   country_code         108607 non-null  object        \n",
      " 9   investment_rounds    217472 non-null  float64       \n",
      " 10  funding_rounds       217472 non-null  float64       \n",
      " 11  funding_total        217472 non-null  float64       \n",
      " 12  milestones           217472 non-null  float64       \n",
      " 13  funding_round_id     52928 non-null   float64       \n",
      " 14  round_company_id     52928 non-null   float64       \n",
      " 15  funded_at            52680 non-null   datetime64[ns]\n",
      " 16  funding_round_type   52928 non-null   object        \n",
      " 17  raised_amount        52928 non-null   float64       \n",
      " 18  pre_money_valuation  52928 non-null   float64       \n",
      " 19  participants         52928 non-null   float64       \n",
      " 20  is_first_round       52928 non-null   float64       \n",
      " 21  is_last_round        52928 non-null   float64       \n",
      "dtypes: datetime64[ns](3), float64(12), object(7)\n",
      "memory usage: 36.6+ MB\n"
     ]
    },
    {
     "data": {
      "text/plain": [
       "None"
      ]
     },
     "metadata": {},
     "output_type": "display_data"
    }
   ],
   "source": [
    "# Предварительный анализ\n",
    "display(company_and_rounds_df.info())"
   ]
  },
  {
   "cell_type": "markdown",
   "metadata": {},
   "source": [
    "Из предоставленных данных видно, что: \n",
    "\n",
    "- Столбцы, связанные с раундами финансирования, содержат много пропущенных значений.\n",
    "- Эти пропуски могут возникать из-за того, что не все компании проходили раунды финансирования или информация о раундах была утеряна.\n",
    "     \n",
    "\n",
    "Можно предположить, что данные по компаниям изначально хранились в двух отдельных таблицах: \n",
    "\n",
    "- Таблица компаний  — с информацией о каждой компании (название, категория, статус, дата основания и т.д.).\n",
    "- Таблица раундов финансирования  — с детальной информацией о каждом раунде финансирования (сумма, тип, дата и т.д.).\n",
    "     \n",
    "\n",
    "В текущем датасете эти две таблицы объединены, но из-за этого появились пропуски там, где компания не имеет информации о раундах. "
   ]
  },
  {
   "cell_type": "code",
   "execution_count": 50,
   "metadata": {},
   "outputs": [
    {
     "data": {
      "text/html": [
       "<div>\n",
       "<style scoped>\n",
       "    .dataframe tbody tr th:only-of-type {\n",
       "        vertical-align: middle;\n",
       "    }\n",
       "\n",
       "    .dataframe tbody tr th {\n",
       "        vertical-align: top;\n",
       "    }\n",
       "\n",
       "    .dataframe thead th {\n",
       "        text-align: right;\n",
       "    }\n",
       "</style>\n",
       "<table border=\"1\" class=\"dataframe\">\n",
       "  <thead>\n",
       "    <tr style=\"text-align: right;\">\n",
       "      <th></th>\n",
       "      <th>company_id</th>\n",
       "      <th>name</th>\n",
       "      <th>category_code</th>\n",
       "      <th>status</th>\n",
       "      <th>founded_at</th>\n",
       "      <th>closed_at</th>\n",
       "      <th>domain</th>\n",
       "      <th>network_username</th>\n",
       "      <th>country_code</th>\n",
       "      <th>investment_rounds</th>\n",
       "      <th>...</th>\n",
       "      <th>milestones</th>\n",
       "      <th>funding_round_id</th>\n",
       "      <th>round_company_id</th>\n",
       "      <th>funded_at</th>\n",
       "      <th>funding_round_type</th>\n",
       "      <th>raised_amount</th>\n",
       "      <th>pre_money_valuation</th>\n",
       "      <th>participants</th>\n",
       "      <th>is_first_round</th>\n",
       "      <th>is_last_round</th>\n",
       "    </tr>\n",
       "  </thead>\n",
       "  <tbody>\n",
       "    <tr>\n",
       "      <th>0</th>\n",
       "      <td>1.0</td>\n",
       "      <td>Wetpaint</td>\n",
       "      <td>web</td>\n",
       "      <td>operating</td>\n",
       "      <td>2005-10-17</td>\n",
       "      <td>NaT</td>\n",
       "      <td>wetpaint-inc.com</td>\n",
       "      <td>BachelrWetpaint</td>\n",
       "      <td>USA</td>\n",
       "      <td>0.0</td>\n",
       "      <td>...</td>\n",
       "      <td>5.0</td>\n",
       "      <td>888.0</td>\n",
       "      <td>1.0</td>\n",
       "      <td>2005-10-01</td>\n",
       "      <td>series-a</td>\n",
       "      <td>5250000.0</td>\n",
       "      <td>0.0</td>\n",
       "      <td>2.0</td>\n",
       "      <td>0.0</td>\n",
       "      <td>1.0</td>\n",
       "    </tr>\n",
       "    <tr>\n",
       "      <th>1</th>\n",
       "      <td>1.0</td>\n",
       "      <td>Wetpaint</td>\n",
       "      <td>web</td>\n",
       "      <td>operating</td>\n",
       "      <td>2005-10-17</td>\n",
       "      <td>NaT</td>\n",
       "      <td>wetpaint-inc.com</td>\n",
       "      <td>BachelrWetpaint</td>\n",
       "      <td>USA</td>\n",
       "      <td>0.0</td>\n",
       "      <td>...</td>\n",
       "      <td>5.0</td>\n",
       "      <td>889.0</td>\n",
       "      <td>1.0</td>\n",
       "      <td>2007-01-01</td>\n",
       "      <td>series-b</td>\n",
       "      <td>9500000.0</td>\n",
       "      <td>0.0</td>\n",
       "      <td>3.0</td>\n",
       "      <td>0.0</td>\n",
       "      <td>0.0</td>\n",
       "    </tr>\n",
       "    <tr>\n",
       "      <th>2</th>\n",
       "      <td>1.0</td>\n",
       "      <td>Wetpaint</td>\n",
       "      <td>web</td>\n",
       "      <td>operating</td>\n",
       "      <td>2005-10-17</td>\n",
       "      <td>NaT</td>\n",
       "      <td>wetpaint-inc.com</td>\n",
       "      <td>BachelrWetpaint</td>\n",
       "      <td>USA</td>\n",
       "      <td>0.0</td>\n",
       "      <td>...</td>\n",
       "      <td>5.0</td>\n",
       "      <td>2312.0</td>\n",
       "      <td>1.0</td>\n",
       "      <td>2008-05-19</td>\n",
       "      <td>series-c+</td>\n",
       "      <td>25000000.0</td>\n",
       "      <td>0.0</td>\n",
       "      <td>4.0</td>\n",
       "      <td>1.0</td>\n",
       "      <td>0.0</td>\n",
       "    </tr>\n",
       "    <tr>\n",
       "      <th>3</th>\n",
       "      <td>10.0</td>\n",
       "      <td>Flektor</td>\n",
       "      <td>games_video</td>\n",
       "      <td>acquired</td>\n",
       "      <td>NaT</td>\n",
       "      <td>NaT</td>\n",
       "      <td>flektor.com</td>\n",
       "      <td>NaN</td>\n",
       "      <td>USA</td>\n",
       "      <td>0.0</td>\n",
       "      <td>...</td>\n",
       "      <td>0.0</td>\n",
       "      <td>NaN</td>\n",
       "      <td>NaN</td>\n",
       "      <td>NaT</td>\n",
       "      <td>NaN</td>\n",
       "      <td>NaN</td>\n",
       "      <td>NaN</td>\n",
       "      <td>NaN</td>\n",
       "      <td>NaN</td>\n",
       "      <td>NaN</td>\n",
       "    </tr>\n",
       "    <tr>\n",
       "      <th>4</th>\n",
       "      <td>100.0</td>\n",
       "      <td>There</td>\n",
       "      <td>games_video</td>\n",
       "      <td>acquired</td>\n",
       "      <td>NaT</td>\n",
       "      <td>NaT</td>\n",
       "      <td>there.com</td>\n",
       "      <td>NaN</td>\n",
       "      <td>USA</td>\n",
       "      <td>0.0</td>\n",
       "      <td>...</td>\n",
       "      <td>4.0</td>\n",
       "      <td>NaN</td>\n",
       "      <td>NaN</td>\n",
       "      <td>NaT</td>\n",
       "      <td>NaN</td>\n",
       "      <td>NaN</td>\n",
       "      <td>NaN</td>\n",
       "      <td>NaN</td>\n",
       "      <td>NaN</td>\n",
       "      <td>NaN</td>\n",
       "    </tr>\n",
       "  </tbody>\n",
       "</table>\n",
       "<p>5 rows × 22 columns</p>\n",
       "</div>"
      ],
      "text/plain": [
       "   company_id      name category_code     status founded_at closed_at  \\\n",
       "0         1.0  Wetpaint           web  operating 2005-10-17       NaT   \n",
       "1         1.0  Wetpaint           web  operating 2005-10-17       NaT   \n",
       "2         1.0  Wetpaint           web  operating 2005-10-17       NaT   \n",
       "3        10.0   Flektor   games_video   acquired        NaT       NaT   \n",
       "4       100.0     There   games_video   acquired        NaT       NaT   \n",
       "\n",
       "             domain network_username country_code  investment_rounds  ...  \\\n",
       "0  wetpaint-inc.com  BachelrWetpaint          USA                0.0  ...   \n",
       "1  wetpaint-inc.com  BachelrWetpaint          USA                0.0  ...   \n",
       "2  wetpaint-inc.com  BachelrWetpaint          USA                0.0  ...   \n",
       "3       flektor.com              NaN          USA                0.0  ...   \n",
       "4         there.com              NaN          USA                0.0  ...   \n",
       "\n",
       "   milestones  funding_round_id  round_company_id  funded_at  \\\n",
       "0         5.0             888.0               1.0 2005-10-01   \n",
       "1         5.0             889.0               1.0 2007-01-01   \n",
       "2         5.0            2312.0               1.0 2008-05-19   \n",
       "3         0.0               NaN               NaN        NaT   \n",
       "4         4.0               NaN               NaN        NaT   \n",
       "\n",
       "   funding_round_type raised_amount pre_money_valuation  participants  \\\n",
       "0            series-a     5250000.0                 0.0           2.0   \n",
       "1            series-b     9500000.0                 0.0           3.0   \n",
       "2           series-c+    25000000.0                 0.0           4.0   \n",
       "3                 NaN           NaN                 NaN           NaN   \n",
       "4                 NaN           NaN                 NaN           NaN   \n",
       "\n",
       "   is_first_round  is_last_round  \n",
       "0             0.0            1.0  \n",
       "1             0.0            0.0  \n",
       "2             1.0            0.0  \n",
       "3             NaN            NaN  \n",
       "4             NaN            NaN  \n",
       "\n",
       "[5 rows x 22 columns]"
      ]
     },
     "metadata": {},
     "output_type": "display_data"
    }
   ],
   "source": [
    "# Предварительный анализ\n",
    "display(company_and_rounds_df.head())"
   ]
  },
  {
   "cell_type": "code",
   "execution_count": 51,
   "metadata": {},
   "outputs": [
    {
     "data": {
      "image/png": "[encoded data removed]",
      "text/plain": [
       "<Figure size 2500x1000 with 1 Axes>"
      ]
     },
     "metadata": {},
     "output_type": "display_data"
    }
   ],
   "source": [
    "# Загрузка данных\n",
    "company_and_rounds_new = pd.read_csv('/datasets/company_and_rounds.csv')\n",
    "\n",
    "# Построение дендрограммы для анализа структуры пропусков\n",
    "msno.dendrogram(company_and_rounds_new)\n",
    "plt.show()"
   ]
  },
  {
   "cell_type": "markdown",
   "metadata": {},
   "source": [
    "Дентограмма подтвержадет гипотезу о том, что данные изначально хранились в разных таблицах: одна для компаний, другая для раундов финансирования."
   ]
  },
  {
   "cell_type": "markdown",
   "metadata": {},
   "source": [
    "Чтобы сделать анализ более удобным, мы можем разделить датасет на две таблицы: \n",
    "1) Таблица компаний  (companies_df) — содержит общую информацию о компаниях.\n",
    "2) Таблица раундов  (rounds_df) — содержит информацию о раундах финансирования.     "
   ]
  },
  {
   "cell_type": "code",
   "execution_count": 52,
   "metadata": {},
   "outputs": [],
   "source": [
    "# Разделение данных на компании и раунды\n",
    "\n",
    "# Таблица компаний\n",
    "companies_columns = [\n",
    "    'company_id', 'name', 'category_code', 'status', 'founded_at', 'closed_at',\n",
    "    'domain', 'network_username', 'country_code', 'investment_rounds',\n",
    "    'funding_rounds', 'funding_total', 'milestones'\n",
    "]\n",
    "\n",
    "companies_df = company_and_rounds_df[companies_columns].drop_duplicates(subset='company_id')"
   ]
  },
  {
   "cell_type": "code",
   "execution_count": 53,
   "metadata": {},
   "outputs": [],
   "source": [
    "# Удаление полных дубликатов\n",
    "companies_df = companies_df.drop_duplicates()"
   ]
  },
  {
   "cell_type": "code",
   "execution_count": 54,
   "metadata": {},
   "outputs": [],
   "source": [
    "# Таблица раундов\n",
    "rounds_columns = [\n",
    "    'company_id', 'funding_round_id', 'round_company_id', 'funded_at', 'funding_round_type',\n",
    "    'raised_amount', 'pre_money_valuation', 'participants', 'is_first_round', 'is_last_round'\n",
    "]\n",
    "rounds_df = company_and_rounds_df[rounds_columns]"
   ]
  },
  {
   "cell_type": "code",
   "execution_count": 55,
   "metadata": {},
   "outputs": [],
   "source": [
    "# Удаление строк без информации о раундах\n",
    "rounds_df = rounds_df.dropna(subset=['funding_round_id'])"
   ]
  },
  {
   "cell_type": "code",
   "execution_count": 56,
   "metadata": {},
   "outputs": [],
   "source": [
    "# Удаление полных дубликатов\n",
    "rounds_df = rounds_df.drop_duplicates()"
   ]
  },
  {
   "cell_type": "code",
   "execution_count": 57,
   "metadata": {},
   "outputs": [],
   "source": [
    "# Проверка связности данных\n",
    "valid_company_ids = companies_df['company_id'].unique()\n",
    "rounds_df = rounds_df[rounds_df['company_id'].isin(valid_company_ids)]"
   ]
  },
  {
   "cell_type": "code",
   "execution_count": 58,
   "metadata": {},
   "outputs": [
    {
     "name": "stdout",
     "output_type": "stream",
     "text": [
      "Таблица компаний (companies_df):\n"
     ]
    },
    {
     "data": {
      "text/html": [
       "<div>\n",
       "<style scoped>\n",
       "    .dataframe tbody tr th:only-of-type {\n",
       "        vertical-align: middle;\n",
       "    }\n",
       "\n",
       "    .dataframe tbody tr th {\n",
       "        vertical-align: top;\n",
       "    }\n",
       "\n",
       "    .dataframe thead th {\n",
       "        text-align: right;\n",
       "    }\n",
       "</style>\n",
       "<table border=\"1\" class=\"dataframe\">\n",
       "  <thead>\n",
       "    <tr style=\"text-align: right;\">\n",
       "      <th></th>\n",
       "      <th>company_id</th>\n",
       "      <th>name</th>\n",
       "      <th>category_code</th>\n",
       "      <th>status</th>\n",
       "      <th>founded_at</th>\n",
       "      <th>closed_at</th>\n",
       "      <th>domain</th>\n",
       "      <th>network_username</th>\n",
       "      <th>country_code</th>\n",
       "      <th>investment_rounds</th>\n",
       "      <th>funding_rounds</th>\n",
       "      <th>funding_total</th>\n",
       "      <th>milestones</th>\n",
       "    </tr>\n",
       "  </thead>\n",
       "  <tbody>\n",
       "    <tr>\n",
       "      <th>0</th>\n",
       "      <td>1.0</td>\n",
       "      <td>Wetpaint</td>\n",
       "      <td>web</td>\n",
       "      <td>operating</td>\n",
       "      <td>2005-10-17</td>\n",
       "      <td>NaT</td>\n",
       "      <td>wetpaint-inc.com</td>\n",
       "      <td>BachelrWetpaint</td>\n",
       "      <td>USA</td>\n",
       "      <td>0.0</td>\n",
       "      <td>3.0</td>\n",
       "      <td>39750000.0</td>\n",
       "      <td>5.0</td>\n",
       "    </tr>\n",
       "    <tr>\n",
       "      <th>3</th>\n",
       "      <td>10.0</td>\n",
       "      <td>Flektor</td>\n",
       "      <td>games_video</td>\n",
       "      <td>acquired</td>\n",
       "      <td>NaT</td>\n",
       "      <td>NaT</td>\n",
       "      <td>flektor.com</td>\n",
       "      <td>NaN</td>\n",
       "      <td>USA</td>\n",
       "      <td>0.0</td>\n",
       "      <td>0.0</td>\n",
       "      <td>0.0</td>\n",
       "      <td>0.0</td>\n",
       "    </tr>\n",
       "    <tr>\n",
       "      <th>4</th>\n",
       "      <td>100.0</td>\n",
       "      <td>There</td>\n",
       "      <td>games_video</td>\n",
       "      <td>acquired</td>\n",
       "      <td>NaT</td>\n",
       "      <td>NaT</td>\n",
       "      <td>there.com</td>\n",
       "      <td>NaN</td>\n",
       "      <td>USA</td>\n",
       "      <td>0.0</td>\n",
       "      <td>0.0</td>\n",
       "      <td>0.0</td>\n",
       "      <td>4.0</td>\n",
       "    </tr>\n",
       "    <tr>\n",
       "      <th>5</th>\n",
       "      <td>10000.0</td>\n",
       "      <td>MYWEBBO</td>\n",
       "      <td>network_hosting</td>\n",
       "      <td>operating</td>\n",
       "      <td>2008-07-26</td>\n",
       "      <td>NaT</td>\n",
       "      <td>mywebbo.com</td>\n",
       "      <td>NaN</td>\n",
       "      <td>NaN</td>\n",
       "      <td>0.0</td>\n",
       "      <td>0.0</td>\n",
       "      <td>0.0</td>\n",
       "      <td>0.0</td>\n",
       "    </tr>\n",
       "    <tr>\n",
       "      <th>6</th>\n",
       "      <td>10001.0</td>\n",
       "      <td>THE Movie Streamer</td>\n",
       "      <td>games_video</td>\n",
       "      <td>operating</td>\n",
       "      <td>2008-07-26</td>\n",
       "      <td>NaT</td>\n",
       "      <td>themoviestreamer.com</td>\n",
       "      <td>NaN</td>\n",
       "      <td>NaN</td>\n",
       "      <td>0.0</td>\n",
       "      <td>0.0</td>\n",
       "      <td>0.0</td>\n",
       "      <td>0.0</td>\n",
       "    </tr>\n",
       "  </tbody>\n",
       "</table>\n",
       "</div>"
      ],
      "text/plain": [
       "   company_id                name    category_code     status founded_at  \\\n",
       "0         1.0            Wetpaint              web  operating 2005-10-17   \n",
       "3        10.0             Flektor      games_video   acquired        NaT   \n",
       "4       100.0               There      games_video   acquired        NaT   \n",
       "5     10000.0             MYWEBBO  network_hosting  operating 2008-07-26   \n",
       "6     10001.0  THE Movie Streamer      games_video  operating 2008-07-26   \n",
       "\n",
       "  closed_at                domain network_username country_code  \\\n",
       "0       NaT      wetpaint-inc.com  BachelrWetpaint          USA   \n",
       "3       NaT           flektor.com              NaN          USA   \n",
       "4       NaT             there.com              NaN          USA   \n",
       "5       NaT           mywebbo.com              NaN          NaN   \n",
       "6       NaT  themoviestreamer.com              NaN          NaN   \n",
       "\n",
       "   investment_rounds  funding_rounds  funding_total  milestones  \n",
       "0                0.0             3.0     39750000.0         5.0  \n",
       "3                0.0             0.0            0.0         0.0  \n",
       "4                0.0             0.0            0.0         4.0  \n",
       "5                0.0             0.0            0.0         0.0  \n",
       "6                0.0             0.0            0.0         0.0  "
      ]
     },
     "metadata": {},
     "output_type": "display_data"
    }
   ],
   "source": [
    "# Вывод результатов companies_df\n",
    "print(\"Таблица компаний (companies_df):\")\n",
    "display(companies_df.head())"
   ]
  },
  {
   "cell_type": "code",
   "execution_count": 59,
   "metadata": {},
   "outputs": [
    {
     "name": "stdout",
     "output_type": "stream",
     "text": [
      "Таблица компаний (companies_df):\n",
      "<class 'pandas.core.frame.DataFrame'>\n",
      "Index: 196554 entries, 0 to 217472\n",
      "Data columns (total 13 columns):\n",
      " #   Column             Non-Null Count   Dtype         \n",
      "---  ------             --------------   -----         \n",
      " 0   company_id         196553 non-null  float64       \n",
      " 1   name               196552 non-null  object        \n",
      " 2   category_code      123186 non-null  object        \n",
      " 3   status             196553 non-null  object        \n",
      " 4   founded_at         91227 non-null   datetime64[ns]\n",
      " 5   closed_at          2620 non-null    datetime64[ns]\n",
      " 6   domain             126545 non-null  object        \n",
      " 7   network_username   80591 non-null   object        \n",
      " 8   country_code       87990 non-null   object        \n",
      " 9   investment_rounds  196553 non-null  float64       \n",
      " 10  funding_rounds     196553 non-null  float64       \n",
      " 11  funding_total      196553 non-null  float64       \n",
      " 12  milestones         196553 non-null  float64       \n",
      "dtypes: datetime64[ns](2), float64(5), object(6)\n",
      "memory usage: 21.0+ MB\n"
     ]
    },
    {
     "data": {
      "text/plain": [
       "None"
      ]
     },
     "metadata": {},
     "output_type": "display_data"
    }
   ],
   "source": [
    "print(\"Таблица компаний (companies_df):\")\n",
    "display(companies_df.info())"
   ]
  },
  {
   "cell_type": "code",
   "execution_count": 60,
   "metadata": {},
   "outputs": [
    {
     "name": "stdout",
     "output_type": "stream",
     "text": [
      "\n",
      "Таблица раундов (rounds_df):\n"
     ]
    },
    {
     "data": {
      "text/html": [
       "<div>\n",
       "<style scoped>\n",
       "    .dataframe tbody tr th:only-of-type {\n",
       "        vertical-align: middle;\n",
       "    }\n",
       "\n",
       "    .dataframe tbody tr th {\n",
       "        vertical-align: top;\n",
       "    }\n",
       "\n",
       "    .dataframe thead th {\n",
       "        text-align: right;\n",
       "    }\n",
       "</style>\n",
       "<table border=\"1\" class=\"dataframe\">\n",
       "  <thead>\n",
       "    <tr style=\"text-align: right;\">\n",
       "      <th></th>\n",
       "      <th>company_id</th>\n",
       "      <th>funding_round_id</th>\n",
       "      <th>round_company_id</th>\n",
       "      <th>funded_at</th>\n",
       "      <th>funding_round_type</th>\n",
       "      <th>raised_amount</th>\n",
       "      <th>pre_money_valuation</th>\n",
       "      <th>participants</th>\n",
       "      <th>is_first_round</th>\n",
       "      <th>is_last_round</th>\n",
       "    </tr>\n",
       "  </thead>\n",
       "  <tbody>\n",
       "    <tr>\n",
       "      <th>0</th>\n",
       "      <td>1.0</td>\n",
       "      <td>888.0</td>\n",
       "      <td>1.0</td>\n",
       "      <td>2005-10-01</td>\n",
       "      <td>series-a</td>\n",
       "      <td>5250000.0</td>\n",
       "      <td>0.0</td>\n",
       "      <td>2.0</td>\n",
       "      <td>0.0</td>\n",
       "      <td>1.0</td>\n",
       "    </tr>\n",
       "    <tr>\n",
       "      <th>1</th>\n",
       "      <td>1.0</td>\n",
       "      <td>889.0</td>\n",
       "      <td>1.0</td>\n",
       "      <td>2007-01-01</td>\n",
       "      <td>series-b</td>\n",
       "      <td>9500000.0</td>\n",
       "      <td>0.0</td>\n",
       "      <td>3.0</td>\n",
       "      <td>0.0</td>\n",
       "      <td>0.0</td>\n",
       "    </tr>\n",
       "    <tr>\n",
       "      <th>2</th>\n",
       "      <td>1.0</td>\n",
       "      <td>2312.0</td>\n",
       "      <td>1.0</td>\n",
       "      <td>2008-05-19</td>\n",
       "      <td>series-c+</td>\n",
       "      <td>25000000.0</td>\n",
       "      <td>0.0</td>\n",
       "      <td>4.0</td>\n",
       "      <td>1.0</td>\n",
       "      <td>0.0</td>\n",
       "    </tr>\n",
       "    <tr>\n",
       "      <th>15</th>\n",
       "      <td>1001.0</td>\n",
       "      <td>1644.0</td>\n",
       "      <td>1001.0</td>\n",
       "      <td>2008-02-26</td>\n",
       "      <td>series-a</td>\n",
       "      <td>5000000.0</td>\n",
       "      <td>0.0</td>\n",
       "      <td>3.0</td>\n",
       "      <td>1.0</td>\n",
       "      <td>1.0</td>\n",
       "    </tr>\n",
       "    <tr>\n",
       "      <th>20</th>\n",
       "      <td>10014.0</td>\n",
       "      <td>6682.0</td>\n",
       "      <td>10014.0</td>\n",
       "      <td>2008-09-01</td>\n",
       "      <td>angel</td>\n",
       "      <td>0.0</td>\n",
       "      <td>0.0</td>\n",
       "      <td>1.0</td>\n",
       "      <td>1.0</td>\n",
       "      <td>1.0</td>\n",
       "    </tr>\n",
       "  </tbody>\n",
       "</table>\n",
       "</div>"
      ],
      "text/plain": [
       "    company_id  funding_round_id  round_company_id  funded_at  \\\n",
       "0          1.0             888.0               1.0 2005-10-01   \n",
       "1          1.0             889.0               1.0 2007-01-01   \n",
       "2          1.0            2312.0               1.0 2008-05-19   \n",
       "15      1001.0            1644.0            1001.0 2008-02-26   \n",
       "20     10014.0            6682.0           10014.0 2008-09-01   \n",
       "\n",
       "   funding_round_type  raised_amount  pre_money_valuation  participants  \\\n",
       "0            series-a      5250000.0                  0.0           2.0   \n",
       "1            series-b      9500000.0                  0.0           3.0   \n",
       "2           series-c+     25000000.0                  0.0           4.0   \n",
       "15           series-a      5000000.0                  0.0           3.0   \n",
       "20              angel            0.0                  0.0           1.0   \n",
       "\n",
       "    is_first_round  is_last_round  \n",
       "0              0.0            1.0  \n",
       "1              0.0            0.0  \n",
       "2              1.0            0.0  \n",
       "15             1.0            1.0  \n",
       "20             1.0            1.0  "
      ]
     },
     "metadata": {},
     "output_type": "display_data"
    }
   ],
   "source": [
    "# Вывод результатов rounds_df\n",
    "print(\"\\nТаблица раундов (rounds_df):\")\n",
    "display(rounds_df.head())"
   ]
  },
  {
   "cell_type": "code",
   "execution_count": 61,
   "metadata": {},
   "outputs": [
    {
     "name": "stdout",
     "output_type": "stream",
     "text": [
      "\n",
      "Таблица раундов (rounds_df):\n",
      "<class 'pandas.core.frame.DataFrame'>\n",
      "Index: 52928 entries, 0 to 217773\n",
      "Data columns (total 10 columns):\n",
      " #   Column               Non-Null Count  Dtype         \n",
      "---  ------               --------------  -----         \n",
      " 0   company_id           52626 non-null  float64       \n",
      " 1   funding_round_id     52928 non-null  float64       \n",
      " 2   round_company_id     52928 non-null  float64       \n",
      " 3   funded_at            52680 non-null  datetime64[ns]\n",
      " 4   funding_round_type   52928 non-null  object        \n",
      " 5   raised_amount        52928 non-null  float64       \n",
      " 6   pre_money_valuation  52928 non-null  float64       \n",
      " 7   participants         52928 non-null  float64       \n",
      " 8   is_first_round       52928 non-null  float64       \n",
      " 9   is_last_round        52928 non-null  float64       \n",
      "dtypes: datetime64[ns](1), float64(8), object(1)\n",
      "memory usage: 4.4+ MB\n"
     ]
    },
    {
     "data": {
      "text/plain": [
       "None"
      ]
     },
     "metadata": {},
     "output_type": "display_data"
    }
   ],
   "source": [
    "print(\"\\nТаблица раундов (rounds_df):\")\n",
    "display(rounds_df.info())"
   ]
  },
  {
   "cell_type": "markdown",
   "metadata": {},
   "source": [
    "#### Итоговые выводы:\n",
    "\n",
    "1) Обработка данных : \n",
    "    - Удалены полные дубликаты и все пустые строки.\n",
    "\n",
    "2) Связность данных : \n",
    "    - Компании и их раунды финансирования связаны через company_id.\n",
    "    - Добавлен флаг has_rounds, который указывает, есть ли у компании хотя бы один раунд финансирования.\n",
    "\n",
    "3) Удобство анализа : \n",
    "    - Companies_df и rounds_df содержат все необходимые данные для анализа.\n",
    "    - Можно легко фильтровать данные по компаниям или раундам финансирования. \n",
    "\n",
    "4) Отсутствие агрегаций : \n",
    "    - Все данные представлены в детализированном виде, без предварительных суммирований или группировок.  \n",
    "     \n",
    "\n",
    "\n"
   ]
  },
  {
   "cell_type": "markdown",
   "metadata": {},
   "source": [
    " В итоге получили обработанный датасет, который можно использовать для анализа в разрезе отдельных компаний. В нем сохранены все важные данные, пропуски обработаны, а структура позволяет отбирать компании по параметрам и рассчитывать показатели."
   ]
  },
  {
   "cell_type": "markdown",
   "metadata": {
    "id": "bmVYhphNrJg2"
   },
   "source": [
    "## <a href=\"#part9\">Шаг 3. Исследовательский анализ объединённых таблиц</a>"
   ]
  },
  {
   "cell_type": "markdown",
   "metadata": {
    "id": "3Di6tCT3rJg2"
   },
   "source": [
    "### 3.1. <a href=\"#part10\">Объединение данных</a>"
   ]
  },
  {
   "cell_type": "code",
   "execution_count": 62,
   "metadata": {},
   "outputs": [],
   "source": [
    "# Фильтрация данных\n",
    "filtered_companies = companies_df[\n",
    "    (companies_df['funding_rounds'] > 0) | \n",
    "    (companies_df['investment_rounds'] > 0) | \n",
    "    (companies_df['status'] == 'acquired')\n",
    "].copy()  # Создаем независимую копию"
   ]
  },
  {
   "cell_type": "code",
   "execution_count": 63,
   "metadata": {},
   "outputs": [],
   "source": [
    "# Создадим новый столбец has_rounds, который будет указывать, есть ли у компании хотя бы один раунд финансирования.\n",
    "# Добавление флага has_rounds\n",
    "filtered_companies.loc[:, 'has_rounds'] = filtered_companies['funding_rounds'] > 0"
   ]
  },
  {
   "cell_type": "code",
   "execution_count": 64,
   "metadata": {},
   "outputs": [
    {
     "name": "stdout",
     "output_type": "stream",
     "text": [
      "\n",
      "Таблица компаний (filtered_companies):\n"
     ]
    },
    {
     "data": {
      "text/html": [
       "<div>\n",
       "<style scoped>\n",
       "    .dataframe tbody tr th:only-of-type {\n",
       "        vertical-align: middle;\n",
       "    }\n",
       "\n",
       "    .dataframe tbody tr th {\n",
       "        vertical-align: top;\n",
       "    }\n",
       "\n",
       "    .dataframe thead th {\n",
       "        text-align: right;\n",
       "    }\n",
       "</style>\n",
       "<table border=\"1\" class=\"dataframe\">\n",
       "  <thead>\n",
       "    <tr style=\"text-align: right;\">\n",
       "      <th></th>\n",
       "      <th>company_id</th>\n",
       "      <th>name</th>\n",
       "      <th>category_code</th>\n",
       "      <th>status</th>\n",
       "      <th>founded_at</th>\n",
       "      <th>closed_at</th>\n",
       "      <th>domain</th>\n",
       "      <th>network_username</th>\n",
       "      <th>country_code</th>\n",
       "      <th>investment_rounds</th>\n",
       "      <th>funding_rounds</th>\n",
       "      <th>funding_total</th>\n",
       "      <th>milestones</th>\n",
       "      <th>has_rounds</th>\n",
       "    </tr>\n",
       "  </thead>\n",
       "  <tbody>\n",
       "    <tr>\n",
       "      <th>0</th>\n",
       "      <td>1.0</td>\n",
       "      <td>Wetpaint</td>\n",
       "      <td>web</td>\n",
       "      <td>operating</td>\n",
       "      <td>2005-10-17</td>\n",
       "      <td>NaT</td>\n",
       "      <td>wetpaint-inc.com</td>\n",
       "      <td>BachelrWetpaint</td>\n",
       "      <td>USA</td>\n",
       "      <td>0.0</td>\n",
       "      <td>3.0</td>\n",
       "      <td>39750000.0</td>\n",
       "      <td>5.0</td>\n",
       "      <td>True</td>\n",
       "    </tr>\n",
       "    <tr>\n",
       "      <th>3</th>\n",
       "      <td>10.0</td>\n",
       "      <td>Flektor</td>\n",
       "      <td>games_video</td>\n",
       "      <td>acquired</td>\n",
       "      <td>NaT</td>\n",
       "      <td>NaT</td>\n",
       "      <td>flektor.com</td>\n",
       "      <td>NaN</td>\n",
       "      <td>USA</td>\n",
       "      <td>0.0</td>\n",
       "      <td>0.0</td>\n",
       "      <td>0.0</td>\n",
       "      <td>0.0</td>\n",
       "      <td>False</td>\n",
       "    </tr>\n",
       "    <tr>\n",
       "      <th>4</th>\n",
       "      <td>100.0</td>\n",
       "      <td>There</td>\n",
       "      <td>games_video</td>\n",
       "      <td>acquired</td>\n",
       "      <td>NaT</td>\n",
       "      <td>NaT</td>\n",
       "      <td>there.com</td>\n",
       "      <td>NaN</td>\n",
       "      <td>USA</td>\n",
       "      <td>0.0</td>\n",
       "      <td>0.0</td>\n",
       "      <td>0.0</td>\n",
       "      <td>4.0</td>\n",
       "      <td>False</td>\n",
       "    </tr>\n",
       "    <tr>\n",
       "      <th>15</th>\n",
       "      <td>1001.0</td>\n",
       "      <td>FriendFeed</td>\n",
       "      <td>web</td>\n",
       "      <td>acquired</td>\n",
       "      <td>2007-10-01</td>\n",
       "      <td>NaT</td>\n",
       "      <td>friendfeed.com</td>\n",
       "      <td>friendfeed</td>\n",
       "      <td>USA</td>\n",
       "      <td>0.0</td>\n",
       "      <td>1.0</td>\n",
       "      <td>5000000.0</td>\n",
       "      <td>3.0</td>\n",
       "      <td>True</td>\n",
       "    </tr>\n",
       "    <tr>\n",
       "      <th>20</th>\n",
       "      <td>10014.0</td>\n",
       "      <td>Mobclix</td>\n",
       "      <td>mobile</td>\n",
       "      <td>acquired</td>\n",
       "      <td>2008-03-01</td>\n",
       "      <td>NaT</td>\n",
       "      <td>mobclix.com</td>\n",
       "      <td>mobclix</td>\n",
       "      <td>USA</td>\n",
       "      <td>0.0</td>\n",
       "      <td>1.0</td>\n",
       "      <td>0.0</td>\n",
       "      <td>4.0</td>\n",
       "      <td>True</td>\n",
       "    </tr>\n",
       "  </tbody>\n",
       "</table>\n",
       "</div>"
      ],
      "text/plain": [
       "    company_id        name category_code     status founded_at closed_at  \\\n",
       "0          1.0    Wetpaint           web  operating 2005-10-17       NaT   \n",
       "3         10.0     Flektor   games_video   acquired        NaT       NaT   \n",
       "4        100.0       There   games_video   acquired        NaT       NaT   \n",
       "15      1001.0  FriendFeed           web   acquired 2007-10-01       NaT   \n",
       "20     10014.0     Mobclix        mobile   acquired 2008-03-01       NaT   \n",
       "\n",
       "              domain network_username country_code  investment_rounds  \\\n",
       "0   wetpaint-inc.com  BachelrWetpaint          USA                0.0   \n",
       "3        flektor.com              NaN          USA                0.0   \n",
       "4          there.com              NaN          USA                0.0   \n",
       "15    friendfeed.com       friendfeed          USA                0.0   \n",
       "20       mobclix.com          mobclix          USA                0.0   \n",
       "\n",
       "    funding_rounds  funding_total  milestones  has_rounds  \n",
       "0              3.0     39750000.0         5.0        True  \n",
       "3              0.0            0.0         0.0       False  \n",
       "4              0.0            0.0         4.0       False  \n",
       "15             1.0      5000000.0         3.0        True  \n",
       "20             1.0            0.0         4.0        True  "
      ]
     },
     "metadata": {},
     "output_type": "display_data"
    }
   ],
   "source": [
    "# Просмотр результата\n",
    "print(\"\\nТаблица компаний (filtered_companies):\")\n",
    "display(filtered_companies.head())"
   ]
  },
  {
   "cell_type": "code",
   "execution_count": 65,
   "metadata": {},
   "outputs": [
    {
     "name": "stdout",
     "output_type": "stream",
     "text": [
      "Таблица компаний (filtered_companies):\n",
      "<class 'pandas.core.frame.DataFrame'>\n",
      "Index: 40747 entries, 0 to 217469\n",
      "Data columns (total 14 columns):\n",
      " #   Column             Non-Null Count  Dtype         \n",
      "---  ------             --------------  -----         \n",
      " 0   company_id         40747 non-null  float64       \n",
      " 1   name               40747 non-null  object        \n",
      " 2   category_code      35315 non-null  object        \n",
      " 3   status             40747 non-null  object        \n",
      " 4   founded_at         27807 non-null  datetime64[ns]\n",
      " 5   closed_at          2128 non-null   datetime64[ns]\n",
      " 6   domain             35754 non-null  object        \n",
      " 7   network_username   20850 non-null  object        \n",
      " 8   country_code       34742 non-null  object        \n",
      " 9   investment_rounds  40747 non-null  float64       \n",
      " 10  funding_rounds     40747 non-null  float64       \n",
      " 11  funding_total      40747 non-null  float64       \n",
      " 12  milestones         40747 non-null  float64       \n",
      " 13  has_rounds         40747 non-null  bool          \n",
      "dtypes: bool(1), datetime64[ns](2), float64(5), object(6)\n",
      "memory usage: 4.4+ MB\n"
     ]
    },
    {
     "data": {
      "text/plain": [
       "None"
      ]
     },
     "metadata": {},
     "output_type": "display_data"
    }
   ],
   "source": [
    "print(\"Таблица компаний (filtered_companies):\")\n",
    "display(filtered_companies.info())"
   ]
  },
  {
   "cell_type": "markdown",
   "metadata": {},
   "source": [
    "ПРомежуточные выводы:\n",
    "- Подготовили таблицу по заданным критериям.\n",
    "- Создан новый столбец has_rounds, который будет указывать, есть ли у компании хотя бы один раунд финансирования."
   ]
  },
  {
   "cell_type": "markdown",
   "metadata": {
    "id": "DFHINkV3rJg2"
   },
   "source": [
    "### 3.2. <a href=\"#part11\">Анализ выбросов</a>\n",
    "\n",
    "Заказчика интересует обычный для рассматриваемого периода размер средств, который предоставлялся компаниям."
   ]
  },
  {
   "cell_type": "code",
   "execution_count": 66,
   "metadata": {
    "id": "8jm75fKXrJg2"
   },
   "outputs": [
    {
     "data": {
      "image/png": "[encoded data removed]",
      "text/plain": [
       "<Figure size 1000x600 with 1 Axes>"
      ]
     },
     "metadata": {},
     "output_type": "display_data"
    }
   ],
   "source": [
    "# Гистограмма funding_total\n",
    "plt.figure(figsize=(10, 6))\n",
    "filtered_companies['funding_total'].hist(bins=50, color='skyblue', edgecolor='black')\n",
    "plt.title('Распределение funding_total')\n",
    "plt.xlabel('Сумма финансирования (млрд.$)')\n",
    "plt.ylabel('Количество компаний')\n",
    "plt.yscale('log')  # Используем логарифмическую шкалу по Y для лучшей визуализации\n",
    "plt.show()"
   ]
  },
  {
   "cell_type": "markdown",
   "metadata": {},
   "source": [
    "На графике видно, что большенство компаний имеют нулевое финансирование."
   ]
  },
  {
   "cell_type": "code",
   "execution_count": 67,
   "metadata": {},
   "outputs": [
    {
     "data": {
      "image/png": "[encoded data removed]",
      "text/plain": [
       "<Figure size 800x600 with 1 Axes>"
      ]
     },
     "metadata": {},
     "output_type": "display_data"
    }
   ],
   "source": [
    "# Boxplot для funding_total\n",
    "plt.figure(figsize=(8, 6))\n",
    "plt.boxplot(filtered_companies['funding_total'], vert=False)\n",
    "plt.title('Boxplot для funding_total')\n",
    "plt.xlabel('Сумма финансирования ($)')\n",
    "plt.xscale('log')  # Используем логарифмическую шкалу по X для лучшей визуализации\n",
    "plt.show()"
   ]
  },
  {
   "cell_type": "markdown",
   "metadata": {},
   "source": [
    "На Boxplot ярко выражены выбросы данных вплоть до млрд.$, что сильно искажает данные. "
   ]
  },
  {
   "cell_type": "code",
   "execution_count": 68,
   "metadata": {},
   "outputs": [
    {
     "data": {
      "text/plain": [
       "count    4.074700e+04\n",
       "mean     1.013561e+07\n",
       "std      5.646436e+07\n",
       "min      0.000000e+00\n",
       "25%      0.000000e+00\n",
       "50%      6.000000e+05\n",
       "75%      5.650650e+06\n",
       "max      5.700000e+09\n",
       "Name: funding_total, dtype: float64"
      ]
     },
     "execution_count": 68,
     "metadata": {},
     "output_type": "execute_result"
    }
   ],
   "source": [
    "# Описательная статистика  \n",
    "filtered_companies['funding_total'].describe()"
   ]
  },
  {
   "cell_type": "markdown",
   "metadata": {},
   "source": [
    "Анализ статистических показателей:  \n",
    "- count (Количество непропущенных значений) — 40747. Это количество компаний, участвующих в анализе.\n",
    "- mean (Среднее значение) — 10,135,610 (примерно 10 млн. долларов). Однако это значение может быть сильно искажено большими выбросами.\n",
    "- std (Стандартное отклонение) — 56,464,360. Высокое стандартное отклонение указывает на сильную вариацию значений.\n",
    "- min (Минимальное значение) — 0. Это нормально, если есть компании, которые не получили финансирование.\n",
    "- 25% (Первый квартиль) — 0. 25% компаний не получили финансирование или получили очень маленькие суммы.\n",
    "- 50% (Медиана) — 600,000 (600 тысяч долларов). Половина компаний получила сумму менее или равную этому значению.\n",
    "- 75% (Третий квартиль) — 5,650,650 (5.65 млн. долларов). 75% компаний получили сумму менее или равную этому значению.\n",
    "- max (Максимальное значение) — 5,700,000,000 (5.7 млрд. долларов). Это явный выброс."
   ]
  },
  {
   "cell_type": "markdown",
   "metadata": {},
   "source": [
    "Медиана (50%) лучше характеризует типичное значение, чем среднее, так как данные сильно скошены вправо (большинство значений маленькие, но есть несколько очень больших). В данном случае медиана равна 600,000  долларов. "
   ]
  },
  {
   "cell_type": "markdown",
   "metadata": {},
   "source": [
    "#### Итоговые выводы: \n",
    "- Среднее значение не применимо, так как оно искажено выбросами.\n",
    "- Медиана является наиболее подходящим показателем для определения типичного размера финансирования.\n",
    "- Мода менее информативна из-за большого количества нулевых значений.\n",
    "- Графические методы (гистограммы, boxplot) подходят для анализа разброса данных и выявления выбросов.\n",
    "     "
   ]
  },
  {
   "cell_type": "markdown",
   "metadata": {
    "id": "JqkRAQrIrJg2"
   },
   "source": [
    "### 3.3. <a href=\"#part12\">Куплены забесплатно?</a>\n",
    "\n",
    "* Исследуем компании, которые были проданы за ноль или за один доллар, и при этом известно, что у них был ненулевой общий объём финансирования."
   ]
  },
  {
   "cell_type": "code",
   "execution_count": 69,
   "metadata": {},
   "outputs": [],
   "source": [
    "# Объединение filtered_companies с acquisition_df по company_id\n",
    "combined_df = pd.merge(\n",
    "    filtered_companies,\n",
    "    acquisition_df[['acquired_company_id', 'price_amount']],  # Выбираем нужный столбец из acquisition\n",
    "    left_on='company_id',  # Соответствие с company_id из filtered_companies\n",
    "    right_on='acquired_company_id',  # Соответствие с acquired_company_id из acquisition\n",
    "    how='left'  # Левое объединение, чтобы сохранить все компании из filtered_companies\n",
    ")"
   ]
  },
  {
   "cell_type": "code",
   "execution_count": 70,
   "metadata": {
    "id": "wJHXCBwwrJg2"
   },
   "outputs": [],
   "source": [
    "# Фильтрация данных\n",
    "sold_for_zero_or_one = combined_df[\n",
    "    (combined_df['status'] == 'acquired') &  # Компания была продана\n",
    "    (combined_df['funding_total'] > 0) &    # Общий объем финансирования больше 0\n",
    "    ((combined_df['closed_at'].notna()) |   # Имеется дата закрытия\n",
    "     (combined_df['price_amount'] ==0) |\n",
    "     (combined_df['price_amount'] ==1))   # Или сумма покупки равна 0 или 1\n",
    "]"
   ]
  },
  {
   "cell_type": "code",
   "execution_count": 71,
   "metadata": {},
   "outputs": [
    {
     "data": {
      "text/html": [
       "<div>\n",
       "<style scoped>\n",
       "    .dataframe tbody tr th:only-of-type {\n",
       "        vertical-align: middle;\n",
       "    }\n",
       "\n",
       "    .dataframe tbody tr th {\n",
       "        vertical-align: top;\n",
       "    }\n",
       "\n",
       "    .dataframe thead th {\n",
       "        text-align: right;\n",
       "    }\n",
       "</style>\n",
       "<table border=\"1\" class=\"dataframe\">\n",
       "  <thead>\n",
       "    <tr style=\"text-align: right;\">\n",
       "      <th></th>\n",
       "      <th>name</th>\n",
       "      <th>funding_total</th>\n",
       "      <th>status</th>\n",
       "      <th>closed_at</th>\n",
       "      <th>price_amount</th>\n",
       "    </tr>\n",
       "  </thead>\n",
       "  <tbody>\n",
       "    <tr>\n",
       "      <th>25</th>\n",
       "      <td>Jumptap</td>\n",
       "      <td>121500000.0</td>\n",
       "      <td>acquired</td>\n",
       "      <td>NaT</td>\n",
       "      <td>0.0</td>\n",
       "    </tr>\n",
       "    <tr>\n",
       "      <th>63</th>\n",
       "      <td>SideTour</td>\n",
       "      <td>4000000.0</td>\n",
       "      <td>acquired</td>\n",
       "      <td>NaT</td>\n",
       "      <td>0.0</td>\n",
       "    </tr>\n",
       "    <tr>\n",
       "      <th>66</th>\n",
       "      <td>ChoicePass</td>\n",
       "      <td>250000.0</td>\n",
       "      <td>acquired</td>\n",
       "      <td>NaT</td>\n",
       "      <td>0.0</td>\n",
       "    </tr>\n",
       "    <tr>\n",
       "      <th>67</th>\n",
       "      <td>Producteev</td>\n",
       "      <td>1310000.0</td>\n",
       "      <td>acquired</td>\n",
       "      <td>NaT</td>\n",
       "      <td>0.0</td>\n",
       "    </tr>\n",
       "    <tr>\n",
       "      <th>68</th>\n",
       "      <td>TradeCard</td>\n",
       "      <td>44925000.0</td>\n",
       "      <td>acquired</td>\n",
       "      <td>NaT</td>\n",
       "      <td>0.0</td>\n",
       "    </tr>\n",
       "    <tr>\n",
       "      <th>...</th>\n",
       "      <td>...</td>\n",
       "      <td>...</td>\n",
       "      <td>...</td>\n",
       "      <td>...</td>\n",
       "      <td>...</td>\n",
       "    </tr>\n",
       "    <tr>\n",
       "      <th>40834</th>\n",
       "      <td>Amie Street</td>\n",
       "      <td>3900000.0</td>\n",
       "      <td>acquired</td>\n",
       "      <td>NaT</td>\n",
       "      <td>0.0</td>\n",
       "    </tr>\n",
       "    <tr>\n",
       "      <th>40836</th>\n",
       "      <td>UBmatrix</td>\n",
       "      <td>5172350.0</td>\n",
       "      <td>acquired</td>\n",
       "      <td>NaT</td>\n",
       "      <td>0.0</td>\n",
       "    </tr>\n",
       "    <tr>\n",
       "      <th>40840</th>\n",
       "      <td>wunderloop</td>\n",
       "      <td>10000000.0</td>\n",
       "      <td>acquired</td>\n",
       "      <td>NaT</td>\n",
       "      <td>0.0</td>\n",
       "    </tr>\n",
       "    <tr>\n",
       "      <th>40854</th>\n",
       "      <td>Zimbra</td>\n",
       "      <td>14500000.0</td>\n",
       "      <td>acquired</td>\n",
       "      <td>NaT</td>\n",
       "      <td>0.0</td>\n",
       "    </tr>\n",
       "    <tr>\n",
       "      <th>40872</th>\n",
       "      <td>Yoke</td>\n",
       "      <td>500000.0</td>\n",
       "      <td>acquired</td>\n",
       "      <td>NaT</td>\n",
       "      <td>0.0</td>\n",
       "    </tr>\n",
       "  </tbody>\n",
       "</table>\n",
       "<p>1627 rows × 5 columns</p>\n",
       "</div>"
      ],
      "text/plain": [
       "              name  funding_total    status closed_at  price_amount\n",
       "25         Jumptap    121500000.0  acquired       NaT           0.0\n",
       "63        SideTour      4000000.0  acquired       NaT           0.0\n",
       "66      ChoicePass       250000.0  acquired       NaT           0.0\n",
       "67      Producteev      1310000.0  acquired       NaT           0.0\n",
       "68       TradeCard     44925000.0  acquired       NaT           0.0\n",
       "...            ...            ...       ...       ...           ...\n",
       "40834  Amie Street      3900000.0  acquired       NaT           0.0\n",
       "40836     UBmatrix      5172350.0  acquired       NaT           0.0\n",
       "40840   wunderloop     10000000.0  acquired       NaT           0.0\n",
       "40854       Zimbra     14500000.0  acquired       NaT           0.0\n",
       "40872         Yoke       500000.0  acquired       NaT           0.0\n",
       "\n",
       "[1627 rows x 5 columns]"
      ]
     },
     "metadata": {},
     "output_type": "display_data"
    }
   ],
   "source": [
    "# Вывод результатов\n",
    "display(sold_for_zero_or_one[['name', 'funding_total', 'status', 'closed_at', 'price_amount']])"
   ]
  },
  {
   "cell_type": "code",
   "execution_count": 72,
   "metadata": {},
   "outputs": [],
   "source": [
    "combined_df = combined_df.dropna(subset=['price_amount'])"
   ]
  },
  {
   "cell_type": "code",
   "execution_count": 73,
   "metadata": {
    "id": "-kA4CO27n2ql"
   },
   "outputs": [
    {
     "data": {
      "text/html": [
       "<div>\n",
       "<style scoped>\n",
       "    .dataframe tbody tr th:only-of-type {\n",
       "        vertical-align: middle;\n",
       "    }\n",
       "\n",
       "    .dataframe tbody tr th {\n",
       "        vertical-align: top;\n",
       "    }\n",
       "\n",
       "    .dataframe thead th {\n",
       "        text-align: right;\n",
       "    }\n",
       "</style>\n",
       "<table border=\"1\" class=\"dataframe\">\n",
       "  <thead>\n",
       "    <tr style=\"text-align: right;\">\n",
       "      <th></th>\n",
       "      <th>name</th>\n",
       "      <th>funding_total</th>\n",
       "      <th>status</th>\n",
       "      <th>closed_at</th>\n",
       "    </tr>\n",
       "  </thead>\n",
       "  <tbody>\n",
       "    <tr>\n",
       "      <th>25</th>\n",
       "      <td>Jumptap</td>\n",
       "      <td>121500000.0</td>\n",
       "      <td>acquired</td>\n",
       "      <td>NaT</td>\n",
       "    </tr>\n",
       "    <tr>\n",
       "      <th>63</th>\n",
       "      <td>SideTour</td>\n",
       "      <td>4000000.0</td>\n",
       "      <td>acquired</td>\n",
       "      <td>NaT</td>\n",
       "    </tr>\n",
       "    <tr>\n",
       "      <th>66</th>\n",
       "      <td>ChoicePass</td>\n",
       "      <td>250000.0</td>\n",
       "      <td>acquired</td>\n",
       "      <td>NaT</td>\n",
       "    </tr>\n",
       "    <tr>\n",
       "      <th>67</th>\n",
       "      <td>Producteev</td>\n",
       "      <td>1310000.0</td>\n",
       "      <td>acquired</td>\n",
       "      <td>NaT</td>\n",
       "    </tr>\n",
       "    <tr>\n",
       "      <th>68</th>\n",
       "      <td>TradeCard</td>\n",
       "      <td>44925000.0</td>\n",
       "      <td>acquired</td>\n",
       "      <td>NaT</td>\n",
       "    </tr>\n",
       "    <tr>\n",
       "      <th>...</th>\n",
       "      <td>...</td>\n",
       "      <td>...</td>\n",
       "      <td>...</td>\n",
       "      <td>...</td>\n",
       "    </tr>\n",
       "    <tr>\n",
       "      <th>40834</th>\n",
       "      <td>Amie Street</td>\n",
       "      <td>3900000.0</td>\n",
       "      <td>acquired</td>\n",
       "      <td>NaT</td>\n",
       "    </tr>\n",
       "    <tr>\n",
       "      <th>40836</th>\n",
       "      <td>UBmatrix</td>\n",
       "      <td>5172350.0</td>\n",
       "      <td>acquired</td>\n",
       "      <td>NaT</td>\n",
       "    </tr>\n",
       "    <tr>\n",
       "      <th>40840</th>\n",
       "      <td>wunderloop</td>\n",
       "      <td>10000000.0</td>\n",
       "      <td>acquired</td>\n",
       "      <td>NaT</td>\n",
       "    </tr>\n",
       "    <tr>\n",
       "      <th>40854</th>\n",
       "      <td>Zimbra</td>\n",
       "      <td>14500000.0</td>\n",
       "      <td>acquired</td>\n",
       "      <td>NaT</td>\n",
       "    </tr>\n",
       "    <tr>\n",
       "      <th>40872</th>\n",
       "      <td>Yoke</td>\n",
       "      <td>500000.0</td>\n",
       "      <td>acquired</td>\n",
       "      <td>NaT</td>\n",
       "    </tr>\n",
       "  </tbody>\n",
       "</table>\n",
       "<p>1627 rows × 4 columns</p>\n",
       "</div>"
      ],
      "text/plain": [
       "              name  funding_total    status closed_at\n",
       "25         Jumptap    121500000.0  acquired       NaT\n",
       "63        SideTour      4000000.0  acquired       NaT\n",
       "66      ChoicePass       250000.0  acquired       NaT\n",
       "67      Producteev      1310000.0  acquired       NaT\n",
       "68       TradeCard     44925000.0  acquired       NaT\n",
       "...            ...            ...       ...       ...\n",
       "40834  Amie Street      3900000.0  acquired       NaT\n",
       "40836     UBmatrix      5172350.0  acquired       NaT\n",
       "40840   wunderloop     10000000.0  acquired       NaT\n",
       "40854       Zimbra     14500000.0  acquired       NaT\n",
       "40872         Yoke       500000.0  acquired       NaT\n",
       "\n",
       "[1627 rows x 4 columns]"
      ]
     },
     "metadata": {},
     "output_type": "display_data"
    }
   ],
   "source": [
    "# Вывод результатов\n",
    "display(sold_for_zero_or_one[['name', 'funding_total', 'status', 'closed_at']])"
   ]
  },
  {
   "cell_type": "code",
   "execution_count": 74,
   "metadata": {},
   "outputs": [
    {
     "data": {
      "text/html": [
       "<div>\n",
       "<style scoped>\n",
       "    .dataframe tbody tr th:only-of-type {\n",
       "        vertical-align: middle;\n",
       "    }\n",
       "\n",
       "    .dataframe tbody tr th {\n",
       "        vertical-align: top;\n",
       "    }\n",
       "\n",
       "    .dataframe thead th {\n",
       "        text-align: right;\n",
       "    }\n",
       "</style>\n",
       "<table border=\"1\" class=\"dataframe\">\n",
       "  <thead>\n",
       "    <tr style=\"text-align: right;\">\n",
       "      <th></th>\n",
       "      <th>company_id</th>\n",
       "      <th>name</th>\n",
       "      <th>category_code</th>\n",
       "      <th>status</th>\n",
       "      <th>founded_at</th>\n",
       "      <th>closed_at</th>\n",
       "      <th>domain</th>\n",
       "      <th>network_username</th>\n",
       "      <th>country_code</th>\n",
       "      <th>investment_rounds</th>\n",
       "      <th>funding_rounds</th>\n",
       "      <th>funding_total</th>\n",
       "      <th>milestones</th>\n",
       "      <th>has_rounds</th>\n",
       "      <th>acquired_company_id</th>\n",
       "      <th>price_amount</th>\n",
       "    </tr>\n",
       "  </thead>\n",
       "  <tbody>\n",
       "    <tr>\n",
       "      <th>25</th>\n",
       "      <td>10054.0</td>\n",
       "      <td>Jumptap</td>\n",
       "      <td>mobile</td>\n",
       "      <td>acquired</td>\n",
       "      <td>2005-01-01</td>\n",
       "      <td>NaT</td>\n",
       "      <td>jumptap.com</td>\n",
       "      <td>jumptap</td>\n",
       "      <td>USA</td>\n",
       "      <td>0.0</td>\n",
       "      <td>7.0</td>\n",
       "      <td>121500000.0</td>\n",
       "      <td>3.0</td>\n",
       "      <td>True</td>\n",
       "      <td>10054.0</td>\n",
       "      <td>0.0</td>\n",
       "    </tr>\n",
       "    <tr>\n",
       "      <th>63</th>\n",
       "      <td>101312.0</td>\n",
       "      <td>SideTour</td>\n",
       "      <td>web</td>\n",
       "      <td>acquired</td>\n",
       "      <td>2011-06-01</td>\n",
       "      <td>NaT</td>\n",
       "      <td>sidetour.com</td>\n",
       "      <td>sidetour</td>\n",
       "      <td>USA</td>\n",
       "      <td>0.0</td>\n",
       "      <td>3.0</td>\n",
       "      <td>4000000.0</td>\n",
       "      <td>2.0</td>\n",
       "      <td>True</td>\n",
       "      <td>101312.0</td>\n",
       "      <td>0.0</td>\n",
       "    </tr>\n",
       "    <tr>\n",
       "      <th>66</th>\n",
       "      <td>101340.0</td>\n",
       "      <td>ChoicePass</td>\n",
       "      <td>enterprise</td>\n",
       "      <td>acquired</td>\n",
       "      <td>2011-07-01</td>\n",
       "      <td>NaT</td>\n",
       "      <td>choicepass.com</td>\n",
       "      <td>choicepass</td>\n",
       "      <td>USA</td>\n",
       "      <td>0.0</td>\n",
       "      <td>1.0</td>\n",
       "      <td>250000.0</td>\n",
       "      <td>1.0</td>\n",
       "      <td>True</td>\n",
       "      <td>101340.0</td>\n",
       "      <td>0.0</td>\n",
       "    </tr>\n",
       "    <tr>\n",
       "      <th>67</th>\n",
       "      <td>10137.0</td>\n",
       "      <td>Producteev</td>\n",
       "      <td>software</td>\n",
       "      <td>acquired</td>\n",
       "      <td>2008-07-08</td>\n",
       "      <td>NaT</td>\n",
       "      <td>producteev.com</td>\n",
       "      <td>producteev</td>\n",
       "      <td>USA</td>\n",
       "      <td>0.0</td>\n",
       "      <td>3.0</td>\n",
       "      <td>1310000.0</td>\n",
       "      <td>2.0</td>\n",
       "      <td>True</td>\n",
       "      <td>10137.0</td>\n",
       "      <td>0.0</td>\n",
       "    </tr>\n",
       "    <tr>\n",
       "      <th>68</th>\n",
       "      <td>10139.0</td>\n",
       "      <td>TradeCard</td>\n",
       "      <td>enterprise</td>\n",
       "      <td>acquired</td>\n",
       "      <td>1999-01-01</td>\n",
       "      <td>NaT</td>\n",
       "      <td>tradecard.com</td>\n",
       "      <td>TradeCard</td>\n",
       "      <td>USA</td>\n",
       "      <td>0.0</td>\n",
       "      <td>2.0</td>\n",
       "      <td>44925000.0</td>\n",
       "      <td>1.0</td>\n",
       "      <td>True</td>\n",
       "      <td>10139.0</td>\n",
       "      <td>0.0</td>\n",
       "    </tr>\n",
       "  </tbody>\n",
       "</table>\n",
       "</div>"
      ],
      "text/plain": [
       "    company_id        name category_code    status founded_at closed_at  \\\n",
       "25     10054.0     Jumptap        mobile  acquired 2005-01-01       NaT   \n",
       "63    101312.0    SideTour           web  acquired 2011-06-01       NaT   \n",
       "66    101340.0  ChoicePass    enterprise  acquired 2011-07-01       NaT   \n",
       "67     10137.0  Producteev      software  acquired 2008-07-08       NaT   \n",
       "68     10139.0   TradeCard    enterprise  acquired 1999-01-01       NaT   \n",
       "\n",
       "            domain network_username country_code  investment_rounds  \\\n",
       "25     jumptap.com          jumptap          USA                0.0   \n",
       "63    sidetour.com         sidetour          USA                0.0   \n",
       "66  choicepass.com       choicepass          USA                0.0   \n",
       "67  producteev.com       producteev          USA                0.0   \n",
       "68   tradecard.com        TradeCard          USA                0.0   \n",
       "\n",
       "    funding_rounds  funding_total  milestones  has_rounds  \\\n",
       "25             7.0    121500000.0         3.0        True   \n",
       "63             3.0      4000000.0         2.0        True   \n",
       "66             1.0       250000.0         1.0        True   \n",
       "67             3.0      1310000.0         2.0        True   \n",
       "68             2.0     44925000.0         1.0        True   \n",
       "\n",
       "    acquired_company_id  price_amount  \n",
       "25              10054.0           0.0  \n",
       "63             101312.0           0.0  \n",
       "66             101340.0           0.0  \n",
       "67              10137.0           0.0  \n",
       "68              10139.0           0.0  "
      ]
     },
     "metadata": {},
     "output_type": "display_data"
    }
   ],
   "source": [
    "display(sold_for_zero_or_one.head())"
   ]
  },
  {
   "cell_type": "code",
   "execution_count": 75,
   "metadata": {},
   "outputs": [
    {
     "data": {
      "text/plain": [
       "count    1.627000e+03\n",
       "mean     1.828242e+07\n",
       "std      1.441438e+08\n",
       "min      3.750000e+03\n",
       "25%      2.000000e+06\n",
       "50%      6.000000e+06\n",
       "75%      1.567500e+07\n",
       "max      5.700000e+09\n",
       "Name: funding_total, dtype: float64"
      ]
     },
     "execution_count": 75,
     "metadata": {},
     "output_type": "execute_result"
    }
   ],
   "source": [
    "sold_for_zero_or_one['funding_total'].describe()"
   ]
  },
  {
   "cell_type": "markdown",
   "metadata": {},
   "source": [
    "Анализ статистических показателей:  \n",
    "- count (Количество компаний) = 1,627. Это количество компаний, которые были проданы за $0 или $1 и имели ненулевое общее финансирование.\n",
    "- mean (Среднее значение) = 18,282,420 долларов. Это средний объем финансирования для таких компаний.\n",
    "- std (Стандартное отклонение) = 144,143,800 долларов. Высокое стандартное отклонение указывает на значительную вариацию в суммах финансирования.\n",
    "- min (Минимальное значение) = 3,750 долларов. Наименьшая сумма финансирования среди этих компаний.\n",
    "- 25% (Первый квартиль) = 2,000,000 долларов. 25% компаний получили сумму менее или равную этому значению.\n",
    "- 50% (Медиана) = 6,000,000 долларов. Половина компаний получила сумму менее или равную этому значению.\n",
    "- 75% (Третий квартиль) = 15,675,000 долларов. 75% компаний получили сумму менее или равную этому значению.\n",
    "- max (Максимальное значение) = 5,700,000,000 долларов. Это максимальная сумма финансирования среди компаний, проданных за $0 или $1."
   ]
  },
  {
   "cell_type": "code",
   "execution_count": 76,
   "metadata": {},
   "outputs": [
    {
     "data": {
      "image/png": "[encoded data removed]",
      "text/plain": [
       "<Figure size 1000x600 with 1 Axes>"
      ]
     },
     "metadata": {},
     "output_type": "display_data"
    }
   ],
   "source": [
    "# Расчет границ IQR\n",
    "Q1 = sold_for_zero_or_one['funding_total'].quantile(0.25)\n",
    "Q3 = sold_for_zero_or_one['funding_total'].quantile(0.75)\n",
    "IQR = Q3 - Q1\n",
    "lower_bound_iqr = max(0, Q1 - 1.5 * IQR)\n",
    "upper_bound_iqr = Q3 + 1.5 * IQR\n",
    "\n",
    "# Расчет границ по процентилям\n",
    "lower_bound_percentile = sold_for_zero_or_one['funding_total'].quantile(0.01)\n",
    "upper_bound_percentile = sold_for_zero_or_one['funding_total'].quantile(0.99)\n",
    "\n",
    "# Гистограмма с границами\n",
    "plt.figure(figsize=(10, 6))\n",
    "sold_for_zero_or_one['funding_total'].hist(bins=30, color='skyblue', edgecolor='black', alpha=0.7)\n",
    "plt.axvline(lower_bound_iqr, color='red', linestyle='--', label=f'IQR Нижняя граница: {lower_bound_iqr:.0f}')\n",
    "plt.axvline(upper_bound_iqr, color='red', linestyle='--', label=f'IQR Верхняя граница: {upper_bound_iqr:.0f}')\n",
    "plt.axvline(lower_bound_percentile, color='green', linestyle='--', label=f'1%-й процентиль: {lower_bound_percentile:.0f}')\n",
    "plt.axvline(upper_bound_percentile, color='green', linestyle='--', label=f'99%-й процентиль: {upper_bound_percentile:.0f}')\n",
    "plt.title('Распределение funding_total с границами выбросов')\n",
    "plt.xlabel('Сумма финансирования (млрд.$)')\n",
    "plt.ylabel('Количество компаний')\n",
    "plt.yscale('log')  # Логарифмическая шкала для лучшей визуализации\n",
    "plt.legend()\n",
    "plt.show()"
   ]
  },
  {
   "cell_type": "markdown",
   "metadata": {},
   "source": [
    "Объединенная визуализация показывает, что метод IQR более строгий, чем использование процентилей."
   ]
  },
  {
   "cell_type": "markdown",
   "metadata": {},
   "source": [
    "Выводы по графику:  \n",
    "\n",
    "1) Границы выбросов методом IQR: \n",
    "    - Нижняя граница: 0 (соответствует 0%-му процентилю)\n",
    "    - Верхняя граница: 36,187,500\n",
    "         \n",
    "\n",
    "2) Корректность замены границ на процентили: \n",
    "    - Нижняя граница: 20,000 (соответствует 1%-му процентилю)\n",
    "    - Верхняя граница: 151,384,540 (99%-й процентиль)\n",
    "    - Замена на процентили может быть обоснована, если цель — сохранить больше данных и избежать потери редких наблюдений."
   ]
  },
  {
   "cell_type": "markdown",
   "metadata": {},
   "source": [
    "Возможность замены на процентили: \n",
    "- Учет реального распределения данных: процентили лучше отражают реальное распределение значений, особенно при наших сильно скошеных данных.\n",
    "- Значения по процентилям менее чувствительны к экстремальным выбросам, чем границы IQR.\n",
    "- Замена на 1%-й и 99%-й процентили позволяет сохранить большую часть данных, исключив только самые экстремальные значения.  "
   ]
  },
  {
   "cell_type": "markdown",
   "metadata": {
    "id": "mEiWpROjrJg2"
   },
   "source": [
    "### 3.4. <a href=\"#part13\">Цены стартапов по категориям</a>\n",
    "\n",
    "Категории стартапов с наибольшими ценами и значительным разбросом цен могут быть наиболее привлекательными для крупных инвесторов, которые готовы к высоким рискам ради потенциально больших доходов. Среди категорий стартапов выделите категории стартапов, характеризующиеся:\n",
    "\n",
    "* наибольшими ценами;\n",
    "* и наибольшим разбросом цен за стартап."
   ]
  },
  {
   "cell_type": "code",
   "execution_count": 77,
   "metadata": {
    "id": "jQ09dYUWrJg2"
   },
   "outputs": [],
   "source": [
    "# Группировка данных по категориям и расчет метрик\n",
    "category_stats = filtered_companies.groupby('category_code')['funding_total'].agg(\n",
    "    median_price=pd.Series.median,  # Медиана цены\n",
    "    max_price=pd.Series.max,        # Максимальная цена\n",
    "    std_deviation=pd.Series.std,    # Стандартное отклонение\n",
    "    iqr=lambda x: x.quantile(0.75) - x.quantile(0.25)  # Межквартильный размах\n",
    ").reset_index()"
   ]
  },
  {
   "cell_type": "code",
   "execution_count": 78,
   "metadata": {},
   "outputs": [],
   "source": [
    "\n",
    "# Фильтрация категорий с достаточным количеством наблюдений\n",
    "min_samples_per_category = 10  # Минимальное количество компаний в категории\n",
    "category_stats = category_stats[\n",
    "    category_stats['category_code'].map(\n",
    "        filtered_companies['category_code'].value_counts()\n",
    "    ) >= min_samples_per_category\n",
    "]"
   ]
  },
  {
   "cell_type": "markdown",
   "metadata": {},
   "source": [
    "Объяснение выбора методологии почему составили топ именно из 5 категорий: \n",
    "- Топ-5 достаточно компактен для анализа, но в то же время позволяет выделить ключевые категории.\n",
    "- Для инвесторов важно сосредоточиться на ограниченном числе категорий, чтобы минимизировать риски и максимизировать доходы.\n",
    "     \n",
    "Почему рассчитывали именно такие метрики: \n",
    "1) Медиана (median_price) :\n",
    "    - Лучше характеризует типичную цену, чем среднее значение, так как данные могут быть сильно скошены.\n",
    "         \n",
    "2) Максимум (max_price) :\n",
    "    - Показывает потенциал категории для крупных сделок.\n",
    "         \n",
    "3) Стандартное отклонение (std_deviation) :\n",
    "    - Оценивает общую волатильность цен в категории.\n",
    "         \n",
    "4) Межквартильный размах (IQR) :\n",
    "    - Более устойчив к выбросам, чем стандартное отклонение, и показывает разброс цен среди основной массы наблюдений.    "
   ]
  },
  {
   "cell_type": "code",
   "execution_count": 79,
   "metadata": {},
   "outputs": [],
   "source": [
    "# Отбор топ-5 категорий по каждой метрике\n",
    "top_by_median = category_stats.nlargest(5, 'median_price')\n",
    "top_by_max = category_stats.nlargest(5, 'max_price')\n",
    "top_by_std = category_stats.nlargest(5, 'std_deviation')\n",
    "top_by_iqr = category_stats.nlargest(5, 'iqr')"
   ]
  },
  {
   "cell_type": "code",
   "execution_count": 80,
   "metadata": {},
   "outputs": [],
   "source": [
    "# Объединение результатов\n",
    "top_categories = pd.concat([top_by_median, top_by_max, top_by_std, top_by_iqr]).drop_duplicates()"
   ]
  },
  {
   "cell_type": "code",
   "execution_count": 81,
   "metadata": {},
   "outputs": [
    {
     "name": "stdout",
     "output_type": "stream",
     "text": [
      "Топ-5 категорий по медианной цене:\n"
     ]
    },
    {
     "data": {
      "text/html": [
       "<div>\n",
       "<style scoped>\n",
       "    .dataframe tbody tr th:only-of-type {\n",
       "        vertical-align: middle;\n",
       "    }\n",
       "\n",
       "    .dataframe tbody tr th {\n",
       "        vertical-align: top;\n",
       "    }\n",
       "\n",
       "    .dataframe thead th {\n",
       "        text-align: right;\n",
       "    }\n",
       "</style>\n",
       "<table border=\"1\" class=\"dataframe\">\n",
       "  <thead>\n",
       "    <tr style=\"text-align: right;\">\n",
       "      <th></th>\n",
       "      <th>category_code</th>\n",
       "      <th>median_price</th>\n",
       "    </tr>\n",
       "  </thead>\n",
       "  <tbody>\n",
       "    <tr>\n",
       "      <th>35</th>\n",
       "      <td>semiconductor</td>\n",
       "      <td>8100000.0</td>\n",
       "    </tr>\n",
       "    <tr>\n",
       "      <th>4</th>\n",
       "      <td>cleantech</td>\n",
       "      <td>6000000.0</td>\n",
       "    </tr>\n",
       "    <tr>\n",
       "      <th>20</th>\n",
       "      <td>medical</td>\n",
       "      <td>5400000.0</td>\n",
       "    </tr>\n",
       "    <tr>\n",
       "      <th>24</th>\n",
       "      <td>nanotech</td>\n",
       "      <td>5115960.0</td>\n",
       "    </tr>\n",
       "    <tr>\n",
       "      <th>3</th>\n",
       "      <td>biotech</td>\n",
       "      <td>4000000.0</td>\n",
       "    </tr>\n",
       "  </tbody>\n",
       "</table>\n",
       "</div>"
      ],
      "text/plain": [
       "    category_code  median_price\n",
       "35  semiconductor     8100000.0\n",
       "4       cleantech     6000000.0\n",
       "20        medical     5400000.0\n",
       "24       nanotech     5115960.0\n",
       "3         biotech     4000000.0"
      ]
     },
     "metadata": {},
     "output_type": "display_data"
    }
   ],
   "source": [
    "print(\"Топ-5 категорий по медианной цене:\")\n",
    "display(top_by_median[['category_code', 'median_price']])"
   ]
  },
  {
   "cell_type": "code",
   "execution_count": 82,
   "metadata": {},
   "outputs": [
    {
     "data": {
      "image/png": "[encoded data removed]",
      "text/plain": [
       "<Figure size 1000x600 with 1 Axes>"
      ]
     },
     "metadata": {},
     "output_type": "display_data"
    }
   ],
   "source": [
    "# Создаем график\n",
    "plt.figure(figsize=(10, 6))\n",
    "bars = plt.bar(top_by_median['category_code'], top_by_median['median_price'], color='skyblue')\n",
    "\n",
    "# Добавляем значения на столбцы\n",
    "for bar in bars:\n",
    "    yval = bar.get_height()\n",
    "    plt.text(bar.get_x() + bar.get_width()/2, yval, int(yval), ha='center', va='bottom', fontsize=12)\n",
    "\n",
    "plt.title('Топ-5 категорий по медианной цене', fontsize=16)\n",
    "plt.xlabel('Категория', fontsize=14)\n",
    "plt.ylabel('Медианная цена', fontsize=14)\n",
    "plt.grid(axis='y')\n",
    "\n",
    "# Показываем график\n",
    "plt.show()"
   ]
  },
  {
   "cell_type": "markdown",
   "metadata": {},
   "source": [
    "Категории с самыми высокими типичными (медианными) ценами на стартапы:\n",
    "1. semiconductor — 8,1 млн долларов.\n",
    "2. cleantech — 6 млн долларов.\n",
    "3. medical — 5,4 млн долларов.\n",
    "4. nanotech — 5,1 млн долларов.\n",
    "5. biotech — 4 млн долларов.\n",
    "         \n",
    "Эти категории характеризуются высокой стоимостью среднестатистического стартапа, что делает их привлекательными для инвесторов, ориентированных на стабильные и масштабируемые проекты."
   ]
  },
  {
   "cell_type": "code",
   "execution_count": 83,
   "metadata": {},
   "outputs": [
    {
     "name": "stdout",
     "output_type": "stream",
     "text": [
      "\n",
      "Топ-5 категорий по максимальной цене:\n"
     ]
    },
    {
     "data": {
      "text/html": [
       "<div>\n",
       "<style scoped>\n",
       "    .dataframe tbody tr th:only-of-type {\n",
       "        vertical-align: middle;\n",
       "    }\n",
       "\n",
       "    .dataframe tbody tr th {\n",
       "        vertical-align: top;\n",
       "    }\n",
       "\n",
       "    .dataframe thead th {\n",
       "        text-align: right;\n",
       "    }\n",
       "</style>\n",
       "<table border=\"1\" class=\"dataframe\">\n",
       "  <thead>\n",
       "    <tr style=\"text-align: right;\">\n",
       "      <th></th>\n",
       "      <th>category_code</th>\n",
       "      <th>max_price</th>\n",
       "    </tr>\n",
       "  </thead>\n",
       "  <tbody>\n",
       "    <tr>\n",
       "      <th>22</th>\n",
       "      <td>mobile</td>\n",
       "      <td>5.700000e+09</td>\n",
       "    </tr>\n",
       "    <tr>\n",
       "      <th>15</th>\n",
       "      <td>health</td>\n",
       "      <td>2.600000e+09</td>\n",
       "    </tr>\n",
       "    <tr>\n",
       "      <th>36</th>\n",
       "      <td>social</td>\n",
       "      <td>2.425700e+09</td>\n",
       "    </tr>\n",
       "    <tr>\n",
       "      <th>3</th>\n",
       "      <td>biotech</td>\n",
       "      <td>2.400000e+09</td>\n",
       "    </tr>\n",
       "    <tr>\n",
       "      <th>19</th>\n",
       "      <td>manufacturing</td>\n",
       "      <td>1.765500e+09</td>\n",
       "    </tr>\n",
       "  </tbody>\n",
       "</table>\n",
       "</div>"
      ],
      "text/plain": [
       "    category_code     max_price\n",
       "22         mobile  5.700000e+09\n",
       "15         health  2.600000e+09\n",
       "36         social  2.425700e+09\n",
       "3         biotech  2.400000e+09\n",
       "19  manufacturing  1.765500e+09"
      ]
     },
     "metadata": {},
     "output_type": "display_data"
    }
   ],
   "source": [
    "print(\"\\nТоп-5 категорий по максимальной цене:\")\n",
    "display(top_by_max[['category_code', 'max_price']])"
   ]
  },
  {
   "cell_type": "code",
   "execution_count": 84,
   "metadata": {},
   "outputs": [
    {
     "data": {
      "image/png": "[encoded data removed]",
      "text/plain": [
       "<Figure size 1000x600 with 1 Axes>"
      ]
     },
     "metadata": {},
     "output_type": "display_data"
    }
   ],
   "source": [
    "# Создаем график\n",
    "plt.figure(figsize=(10, 6))\n",
    "bars = plt.bar(top_by_max['category_code'], top_by_max['max_price'], color='skyblue')\n",
    "\n",
    "# Добавляем значения на столбцы\n",
    "for bar in bars:\n",
    "    yval = bar.get_height()\n",
    "    plt.text(bar.get_x() + bar.get_width()/2, yval, int(yval), ha='center', va='bottom', fontsize=12)\n",
    "\n",
    "plt.title('Топ-5 категорий по максимальной цене', fontsize=16)\n",
    "plt.xlabel('Категория', fontsize=14)\n",
    "plt.ylabel('Максимальная цена', fontsize=14)\n",
    "plt.grid(axis='y')\n",
    "\n",
    "# Показываем график\n",
    "plt.show()"
   ]
  },
  {
   "cell_type": "markdown",
   "metadata": {},
   "source": [
    "Категории с самыми дорогими сделками:\n",
    "1. mobile — 5,7 млрд долларов.\n",
    "2. health — 2,6 млрд долларов.\n",
    "3. social — 2,426 млрд долларов.\n",
    "4. biotech — 2,4 млрд долларов.\n",
    "5. manufacturing — 1,766 млрд долларов.\n",
    "\n",
    "Эти категории демонстрируют потенциал для крупных выходов (exit), что особенно важно для инвесторов, готовых к долгосрочным инвестициям с высоким уровнем риска. "
   ]
  },
  {
   "cell_type": "code",
   "execution_count": 85,
   "metadata": {},
   "outputs": [
    {
     "name": "stdout",
     "output_type": "stream",
     "text": [
      "\n",
      "Топ-5 категорий по стандартному отклонению:\n"
     ]
    },
    {
     "data": {
      "text/html": [
       "<div>\n",
       "<style scoped>\n",
       "    .dataframe tbody tr th:only-of-type {\n",
       "        vertical-align: middle;\n",
       "    }\n",
       "\n",
       "    .dataframe tbody tr th {\n",
       "        vertical-align: top;\n",
       "    }\n",
       "\n",
       "    .dataframe thead th {\n",
       "        text-align: right;\n",
       "    }\n",
       "</style>\n",
       "<table border=\"1\" class=\"dataframe\">\n",
       "  <thead>\n",
       "    <tr style=\"text-align: right;\">\n",
       "      <th></th>\n",
       "      <th>category_code</th>\n",
       "      <th>std_deviation</th>\n",
       "    </tr>\n",
       "  </thead>\n",
       "  <tbody>\n",
       "    <tr>\n",
       "      <th>2</th>\n",
       "      <td>automotive</td>\n",
       "      <td>1.832047e+08</td>\n",
       "    </tr>\n",
       "    <tr>\n",
       "      <th>22</th>\n",
       "      <td>mobile</td>\n",
       "      <td>1.459792e+08</td>\n",
       "    </tr>\n",
       "    <tr>\n",
       "      <th>36</th>\n",
       "      <td>social</td>\n",
       "      <td>1.114758e+08</td>\n",
       "    </tr>\n",
       "    <tr>\n",
       "      <th>15</th>\n",
       "      <td>health</td>\n",
       "      <td>1.050341e+08</td>\n",
       "    </tr>\n",
       "    <tr>\n",
       "      <th>24</th>\n",
       "      <td>nanotech</td>\n",
       "      <td>9.596109e+07</td>\n",
       "    </tr>\n",
       "  </tbody>\n",
       "</table>\n",
       "</div>"
      ],
      "text/plain": [
       "   category_code  std_deviation\n",
       "2     automotive   1.832047e+08\n",
       "22        mobile   1.459792e+08\n",
       "36        social   1.114758e+08\n",
       "15        health   1.050341e+08\n",
       "24      nanotech   9.596109e+07"
      ]
     },
     "metadata": {},
     "output_type": "display_data"
    }
   ],
   "source": [
    "print(\"\\nТоп-5 категорий по стандартному отклонению:\")\n",
    "display(top_by_std[['category_code', 'std_deviation']])"
   ]
  },
  {
   "cell_type": "code",
   "execution_count": 86,
   "metadata": {},
   "outputs": [
    {
     "data": {
      "image/png": "[encoded data removed]",
      "text/plain": [
       "<Figure size 1000x600 with 1 Axes>"
      ]
     },
     "metadata": {},
     "output_type": "display_data"
    }
   ],
   "source": [
    "# Создаем график\n",
    "plt.figure(figsize=(10, 6))\n",
    "bars = plt.bar(top_by_std['category_code'], top_by_std['std_deviation'], color='skyblue')\n",
    "\n",
    "# Добавляем значения на столбцы\n",
    "for bar in bars:\n",
    "    yval = bar.get_height()\n",
    "    plt.text(bar.get_x() + bar.get_width()/2, yval, round(yval, 2), ha='center', va='bottom', fontsize=12)\n",
    "\n",
    "plt.title('Топ-5 категорий по стандартному отклонению', fontsize=16)\n",
    "plt.xlabel('Категория', fontsize=14)\n",
    "plt.ylabel('Стандартное отклонение', fontsize=14)\n",
    "plt.grid(axis='y')\n",
    "\n",
    "# Показываем график\n",
    "plt.show()"
   ]
  },
  {
   "cell_type": "markdown",
   "metadata": {},
   "source": [
    "Категории с самым высоким разбросом цен (включая влияние выбросов):\n",
    "1. automotive — 183,2 млн долларов.\n",
    "2. mobile — 145,98 млн долларов.\n",
    "3. social — 111,48 млн долларов.\n",
    "4. health — 105,03 млн долларов.\n",
    "5. nanotech — 95,96 млн долларов.\n",
    "         \n",
    "Высокое стандартное отклонение указывает на значительную волатильность цен внутри этих категорий, что может быть как признаком высоких рисков, так и признаком высокого потенциала для крупных сделок."
   ]
  },
  {
   "cell_type": "code",
   "execution_count": 87,
   "metadata": {
    "id": "MFONscXPn29F"
   },
   "outputs": [
    {
     "name": "stdout",
     "output_type": "stream",
     "text": [
      "\n",
      "Топ-5 категорий по межквартильному размаху:\n"
     ]
    },
    {
     "data": {
      "text/html": [
       "<div>\n",
       "<style scoped>\n",
       "    .dataframe tbody tr th:only-of-type {\n",
       "        vertical-align: middle;\n",
       "    }\n",
       "\n",
       "    .dataframe tbody tr th {\n",
       "        vertical-align: top;\n",
       "    }\n",
       "\n",
       "    .dataframe thead th {\n",
       "        text-align: right;\n",
       "    }\n",
       "</style>\n",
       "<table border=\"1\" class=\"dataframe\">\n",
       "  <thead>\n",
       "    <tr style=\"text-align: right;\">\n",
       "      <th></th>\n",
       "      <th>category_code</th>\n",
       "      <th>iqr</th>\n",
       "    </tr>\n",
       "  </thead>\n",
       "  <tbody>\n",
       "    <tr>\n",
       "      <th>4</th>\n",
       "      <td>cleantech</td>\n",
       "      <td>24737000.0</td>\n",
       "    </tr>\n",
       "    <tr>\n",
       "      <th>35</th>\n",
       "      <td>semiconductor</td>\n",
       "      <td>23499950.0</td>\n",
       "    </tr>\n",
       "    <tr>\n",
       "      <th>24</th>\n",
       "      <td>nanotech</td>\n",
       "      <td>21513225.0</td>\n",
       "    </tr>\n",
       "    <tr>\n",
       "      <th>20</th>\n",
       "      <td>medical</td>\n",
       "      <td>20997987.0</td>\n",
       "    </tr>\n",
       "    <tr>\n",
       "      <th>3</th>\n",
       "      <td>biotech</td>\n",
       "      <td>18815000.0</td>\n",
       "    </tr>\n",
       "  </tbody>\n",
       "</table>\n",
       "</div>"
      ],
      "text/plain": [
       "    category_code         iqr\n",
       "4       cleantech  24737000.0\n",
       "35  semiconductor  23499950.0\n",
       "24       nanotech  21513225.0\n",
       "20        medical  20997987.0\n",
       "3         biotech  18815000.0"
      ]
     },
     "metadata": {},
     "output_type": "display_data"
    }
   ],
   "source": [
    "print(\"\\nТоп-5 категорий по межквартильному размаху:\")\n",
    "display(top_by_iqr[['category_code', 'iqr']])"
   ]
  },
  {
   "cell_type": "code",
   "execution_count": 88,
   "metadata": {},
   "outputs": [
    {
     "data": {
      "image/png": "[encoded data removed]",
      "text/plain": [
       "<Figure size 1000x600 with 1 Axes>"
      ]
     },
     "metadata": {},
     "output_type": "display_data"
    }
   ],
   "source": [
    "# Создаем график\n",
    "plt.figure(figsize=(10, 6))\n",
    "bars = plt.bar(top_by_iqr['category_code'], top_by_iqr['iqr'], color='skyblue')\n",
    "\n",
    "# Добавляем значения на столбцы\n",
    "for bar in bars:\n",
    "    yval = bar.get_height()\n",
    "    plt.text(bar.get_x() + bar.get_width()/2, yval, round(yval, 2), ha='center', va='bottom', fontsize=12)\n",
    "\n",
    "plt.title('Топ-5 категорий по межквартильному размаху', fontsize=16)\n",
    "plt.xlabel('Категория', fontsize=14)\n",
    "plt.ylabel('Межквартильный размах (IQR)', fontsize=14)\n",
    "plt.grid(axis='y')\n",
    "\n",
    "# Показываем график\n",
    "plt.show()"
   ]
  },
  {
   "cell_type": "markdown",
   "metadata": {},
   "source": [
    "Категории с большим разбросом цен среди основной массы наблюдений (без учета выбросов):\n",
    "1. cleantech — 24,7 млн долларов.\n",
    "2. semiconductor — 23,5 млн долларов.\n",
    "3. nanotech — 21,5 млн долларов.\n",
    "4. medical — 21 млн долларов.\n",
    "5. biotech — 18,8 млн долларов.\n",
    "         \n",
    "Высокий межквартильный размах указывает на широкий диапазон цен даже среди \"типичных\" стартапов, что может быть интересно для инвесторов, ищущих возможности в разных сегментах рынка."
   ]
  },
  {
   "cell_type": "markdown",
   "metadata": {},
   "source": [
    "Рекомендации для инвесторов: \n",
    "1) Для инвесторов, ориентированных на стабильные инвестиции: \n",
    "    - Рассмотрите категории с высокими медианными ценами (semiconductor, cleantech, medical). Эти категории характеризуются относительно высокими типичными ценами, что может свидетельствовать о зрелости рынка и меньшей волатильности.\n",
    "         \n",
    "2) Для инвесторов, готовых к высоким рискам ради потенциально больших доходов: \n",
    "    - Обратите внимание на категории с высокими максимальными ценами и стандартным отклонением (mobile, health, social, biotech, automotive). Эти категории демонстрируют потенциал для крупных выходов, но также имеют высокую волатильность.\n",
    "         \n",
    "3) Для инвесторов, ищущих баланс между риском и доходностью: \n",
    "    - Рассмотрите категории с высоким межквартильным размахом (cleantech , semiconductor, nanotech, medical, biotech). Эти категории предлагают широкий спектр возможностей для инвестиций, как среди относительно дешевых, так и среди более дорогих стартапов."
   ]
  },
  {
   "cell_type": "markdown",
   "metadata": {},
   "source": [
    "Общие выводы: \n",
    "- Мобильные технологии (mobile) и социальные платформы (social) выделяются как категории с высоким потенциалом для крупных сделок, но также имеют высокую волатильность.\n",
    "- Cleantech и semiconductor демонстрируют высокие показатели как по медианной цене, так и по разбросу цен, что делает их интересными для инвесторов с различными стратегиями.\n",
    "- Biotech и medical остаются стабильно привлекательными категориями благодаря высоким медианным ценам и потенциалу для крупных сделок."
   ]
  },
  {
   "cell_type": "markdown",
   "metadata": {
    "id": "ADOfyVY_rJg3"
   },
   "source": [
    "### 3.5. <a href=\"#part14\">Сколько раундов продержится стартап перед покупкой</a>"
   ]
  },
  {
   "cell_type": "code",
   "execution_count": 89,
   "metadata": {},
   "outputs": [],
   "source": [
    "# Фильтруем компании, которые получили финансирование\n",
    "funded_companies = filtered_companies[filtered_companies['funding_rounds'] > 0]"
   ]
  },
  {
   "cell_type": "code",
   "execution_count": 90,
   "metadata": {},
   "outputs": [],
   "source": [
    "# Группировка данных по статусу и расчет основных метрик для funding_rounds\n",
    "rounds_by_status = funded_companies.groupby('status')['funding_rounds'].agg(\n",
    "    count='count',  # Количество компаний в каждой группе\n",
    "    mean='mean',    # Среднее количество раундов\n",
    "    median='median', # Медиана количества раундов\n",
    "    min='min',      # Минимальное количество раундов\n",
    "    max='max'       # Максимальное количество раундов\n",
    ").reset_index()"
   ]
  },
  {
   "cell_type": "code",
   "execution_count": 91,
   "metadata": {},
   "outputs": [
    {
     "data": {
      "text/html": [
       "<div>\n",
       "<style scoped>\n",
       "    .dataframe tbody tr th:only-of-type {\n",
       "        vertical-align: middle;\n",
       "    }\n",
       "\n",
       "    .dataframe tbody tr th {\n",
       "        vertical-align: top;\n",
       "    }\n",
       "\n",
       "    .dataframe thead th {\n",
       "        text-align: right;\n",
       "    }\n",
       "</style>\n",
       "<table border=\"1\" class=\"dataframe\">\n",
       "  <thead>\n",
       "    <tr style=\"text-align: right;\">\n",
       "      <th></th>\n",
       "      <th>status</th>\n",
       "      <th>count</th>\n",
       "      <th>mean</th>\n",
       "      <th>median</th>\n",
       "      <th>min</th>\n",
       "      <th>max</th>\n",
       "    </tr>\n",
       "  </thead>\n",
       "  <tbody>\n",
       "    <tr>\n",
       "      <th>0</th>\n",
       "      <td>acquired</td>\n",
       "      <td>2593</td>\n",
       "      <td>1.896645</td>\n",
       "      <td>1.0</td>\n",
       "      <td>1.0</td>\n",
       "      <td>12.0</td>\n",
       "    </tr>\n",
       "    <tr>\n",
       "      <th>1</th>\n",
       "      <td>closed</td>\n",
       "      <td>2089</td>\n",
       "      <td>1.383437</td>\n",
       "      <td>1.0</td>\n",
       "      <td>1.0</td>\n",
       "      <td>8.0</td>\n",
       "    </tr>\n",
       "    <tr>\n",
       "      <th>2</th>\n",
       "      <td>ipo</td>\n",
       "      <td>490</td>\n",
       "      <td>2.526531</td>\n",
       "      <td>2.0</td>\n",
       "      <td>1.0</td>\n",
       "      <td>13.0</td>\n",
       "    </tr>\n",
       "    <tr>\n",
       "      <th>3</th>\n",
       "      <td>operating</td>\n",
       "      <td>26535</td>\n",
       "      <td>1.642359</td>\n",
       "      <td>1.0</td>\n",
       "      <td>1.0</td>\n",
       "      <td>15.0</td>\n",
       "    </tr>\n",
       "  </tbody>\n",
       "</table>\n",
       "</div>"
      ],
      "text/plain": [
       "      status  count      mean  median  min   max\n",
       "0   acquired   2593  1.896645     1.0  1.0  12.0\n",
       "1     closed   2089  1.383437     1.0  1.0   8.0\n",
       "2        ipo    490  2.526531     2.0  1.0  13.0\n",
       "3  operating  26535  1.642359     1.0  1.0  15.0"
      ]
     },
     "metadata": {},
     "output_type": "display_data"
    }
   ],
   "source": [
    "# Вывод результатов\n",
    "display(rounds_by_status)"
   ]
  },
  {
   "cell_type": "markdown",
   "metadata": {},
   "source": [
    "Типичное значение количества раундов для каждого статуса: \n",
    "1) Acquired:\n",
    "    - Среднее количество раундов — 1.897, медиана — 1. ЭЭто говорит о том, что приобретенные компании чаще имели хотя бы один раунд финансирования, что указывает на более зрелый этап развития. Многие из них могли быть куплены на стадии роста, что делает их более привлекательными для инвесторов.\n",
    "2) Closed: \n",
    "    - Среднее количество раундов — 1.383, медиана — 1. Закрывшиеся компании имеют низкое среднее количество раундов, что указывает на то, что они, как правило, не смогли привлечь достаточное количество инвестиций для устойчивого роста.\n",
    "3) IPO: \n",
    "    - Среднее количество раундов — 2.527, медиана — 2. Это подтверждает, что компании, вышедшие на IPO, обычно проходят более длительный и сложный путь развития с несколькими этапами привлечения капитала, что делает их более зрелыми и готовыми к публичному размещению.\n",
    "4) Operating: \n",
    "    - Среднее количество раундов — 1.642, медиана — 1. Работающие компании находятся между закрывшимися и компаниями, вышедшими на IPO, что указывает на их потенциал для дальнейшего роста."
   ]
  },
  {
   "cell_type": "code",
   "execution_count": 92,
   "metadata": {},
   "outputs": [
    {
     "data": {
      "image/png": "[encoded data removed]",
      "text/plain": [
       "<Figure size 1000x600 with 1 Axes>"
      ]
     },
     "metadata": {},
     "output_type": "display_data"
    }
   ],
   "source": [
    "# Сортируем данные по убыванию среднего значения (mean)\n",
    "rounds_by_status_sorted = rounds_by_status.sort_values(by='mean', ascending=False)\n",
    "\n",
    "# Создаем график\n",
    "plt.figure(figsize=(10, 6))\n",
    "sns.barplot(\n",
    "    data=rounds_by_status_sorted,\n",
    "    x='status',  # Статусы на оси X\n",
    "    y='mean',    # Среднее количество раундов на оси Y\n",
    "    hue='status', # Группировка по статусу\n",
    "    palette='viridis', # Цветовая палитра\n",
    "    legend=False  # Убираем легенду\n",
    ")\n",
    "\n",
    "# Настройка графика\n",
    "plt.title('Среднее количество раундов финансирования по статусу стартапа (только с финансированием)', fontsize=14)\n",
    "plt.xlabel('Статус стартапа', fontsize=12)\n",
    "plt.ylabel('Среднее количество раундов', fontsize=12)\n",
    "plt.xticks(fontsize=10)  # Наклон меток для лучшей читаемости\n",
    "plt.tight_layout()  # Автоматическая настройка расположения элементов\n",
    "\n",
    "# Отображаем график\n",
    "plt.show()"
   ]
  },
  {
   "cell_type": "markdown",
   "metadata": {},
   "source": [
    "На графике видно что компании, вышедшие на IPO, имеют наибольшее среднее количество раундов, а закрытые компании — наименьшее."
   ]
  },
  {
   "cell_type": "markdown",
   "metadata": {},
   "source": [
    "Данные на графике показывают, что:  \n",
    "1. компании, вышедшие на IPO (ipo), имеют наибольшее среднее количество раундов (2.527), что логично, так как они обычно проходят длительный путь развития с несколькими этапами привлечения капитала.\n",
    "2. компании, закрытые (closed), имеют среднее количество раундов (1.381), что выше, чем у приобретенных. то указывает на то, что закрывшиеся компании чаще имели хотя бы один раунд финансирования, но не смогли обеспечить устойчивый рост или успешное завершение бизнеса.\n",
    "3. компании, приобретенные (acquired), имеют наименьшее среднее количество раундов (1.897) и самую низкую медиану (0). Это может быть связано с тем, что многие из них были куплены на ранних стадиях развития.\n",
    "4. компании, продолжающие работу (operating) имеют среднее количество раундов составляет (1.642), что ставит их между закрывшимися и IPO. Это говорит о том, что работающие компании могут иметь потенциал для роста, но их успех будет зависеть от способности привлекать дополнительные инвестиции."
   ]
  },
  {
   "cell_type": "markdown",
   "metadata": {},
   "source": [
    "Практические рекомендации:\n",
    "- Если цель - найти компании для быстрой продажи (acquired), стоит обратить внимание на проекты, которые еще не проходили раунды финансирования или ограничились одним раундом.\n",
    "- Для долгосрочных инвестиций лучше выбирать компании, которые уже прошли несколько раундов (ipo или operating), так как это указывает на их способность масштабироваться."
   ]
  },
  {
   "cell_type": "markdown",
   "metadata": {
    "id": "VAFEZ2HBrJg3"
   },
   "source": [
    "## <a href=\"#part10\">Шаг 4. Итоговый вывод и рекомендации</a>"
   ]
  },
  {
   "cell_type": "markdown",
   "metadata": {},
   "source": [
    "1. <font color='#00FFFF'>Общий обзор проделанной работы:</font>\n",
    "\n",
    "    1.1. В рамках данного исследовательского проекта данные были проанализированы на предмет структуры и содержания. \n",
    "\n",
    "    1.2. Целью исследования являлось выявление ключевых факторов, влияющих на различные аспекты жизнедеятельности компаний.\n",
    "\n",
    "    1.3. Данные были очищены и подготовлены для анализа.\n",
    "    \n",
    "    1.4. Использовались методы статистического анализа и визуализации данных."
   ]
  },
  {
   "cell_type": "markdown",
   "metadata": {},
   "source": [
    "2. <font color='#00FFFF'>Ответы на исследовательские вопросы (главные выводы):</font>\n",
    "\n",
    "    2.1. Объединение данных:\n",
    "    - Создана полная таблица по заданным критериям, включая новый столбец `has_rounds`, указывающий на наличие раундов финансирования у компаний.\n",
    "\n",
    "    2.2. Анализ выбросов:\n",
    "    - Среднее значение финансирования искажено выбросами, поэтому медиана (600,000 долларов) является более подходящим показателем для определения типичного размера финансирования.\n",
    "\n",
    "    2.3. Куплены забесплатно:\n",
    "    - Анализ показал, что 1,627 компаний были проданы за $0 или $1, с высоким средним объемом финансирования (18,282,420 долларов), но значительной вариацией (144,143,800 долларов).\n",
    "\n",
    "    2.4. Цены стартапов по категориям:\n",
    "    - Наиболее высокие медианные цены наблюдаются в категориях semiconductor (8,1 млн долларов) и cleantech (6 млн долларов), что делает их привлекательными для инвесторов.\n",
    "    - Категории mobile и health демонстрируют высокий потенциал для крупных сделок, но также имеют высокую волатильность.\n",
    "\n",
    "    2.5. Количество раундов перед покупкой:\n",
    "    - Компании, которые были приобретены, в среднем проходили меньше раундов финансирования (1.897), что указывает на интерес инвесторов к ранним стадиям стартапов.\n",
    "    - Компании, вышедшие на IPO, имеют наибольшее среднее количество раундов (2.527), что подтверждает их более зрелый статус."
   ]
  },
  {
   "cell_type": "markdown",
   "metadata": {},
   "source": [
    "<font color='#00FA9A'> Ключевые выводы:</font>\n",
    "\n",
    "- Корреляция между количеством раундов и успешностью сделок: \n",
    "    - Компании, которые были приобретены, в среднем имели меньше раундов финансирования, что может указывать на то, что инвесторы часто заинтересованы в ранних стадиях стартапов.\n",
    "- Анализ цен по категориям: \n",
    "    - Категории с высокими медианными ценами, такие как semiconductor и cleantech, представляют собой привлекательные возможности для инвестиций, в то время как мобильные технологии и социальные платформы демонстрируют высокий потенциал для крупных сделок, но также и высокую волатильность.\n",
    "- Выбросы и их влияние: \n",
    "    - Искажения в данных из-за выбросов подчеркивают важность использования медианы и других устойчивых статистических метрик для более точного анализа."
   ]
  },
  {
   "cell_type": "markdown",
   "metadata": {},
   "source": [
    "3. <font color='#00FFFF'>Рекомендации для заказчика:</font>\n",
    "\n",
    "    3.1. Инвесторам на ранних стадиях: \n",
    "    - Рассмотрите стартапы, которые не прошли или прошли только один раунд финансирования, так как они могут быть более привлекательными для приобретения.\n",
    "\n",
    "    3.2. Инвесторам с высоким аппетитом к риску: \n",
    "    - Обратите внимание на категории с высоким потенциалом для крупных сделок (mobile, health), но будьте готовы к высокой волатильности.\n",
    "    \n",
    "    3.3. Инвесторам, ищущим стабильность: \n",
    "    - Рассмотрите стартапы в категориях с высокими медианными ценами (semiconductor, cleantech), которые могут предложить более стабильные доходы."
   ]
  }
 ],
 "metadata": {
  "ExecuteTimeLog": [
   {
    "duration": 5032,
    "start_time": "2025-02-18T05:33:18.723Z"
   },
   {
    "duration": 2593,
    "start_time": "2025-02-18T05:35:05.951Z"
   },
   {
    "duration": 3,
    "start_time": "2025-02-18T05:35:13.045Z"
   },
   {
    "duration": 3247,
    "start_time": "2025-02-18T05:35:13.050Z"
   },
   {
    "duration": 14,
    "start_time": "2025-02-18T05:35:16.298Z"
   },
   {
    "duration": 14,
    "start_time": "2025-02-18T05:35:16.313Z"
   },
   {
    "duration": 25,
    "start_time": "2025-02-18T05:35:16.329Z"
   },
   {
    "duration": 129,
    "start_time": "2025-02-18T05:35:16.356Z"
   },
   {
    "duration": 14,
    "start_time": "2025-02-18T05:35:16.486Z"
   },
   {
    "duration": 8,
    "start_time": "2025-02-18T05:35:16.502Z"
   },
   {
    "duration": 108,
    "start_time": "2025-02-18T05:35:16.511Z"
   },
   {
    "duration": 84,
    "start_time": "2025-02-18T05:35:16.621Z"
   },
   {
    "duration": 7,
    "start_time": "2025-02-18T05:35:16.707Z"
   },
   {
    "duration": 21,
    "start_time": "2025-02-18T05:35:16.716Z"
   },
   {
    "duration": 12,
    "start_time": "2025-02-18T05:35:16.741Z"
   },
   {
    "duration": 44,
    "start_time": "2025-02-18T05:35:16.755Z"
   },
   {
    "duration": 9,
    "start_time": "2025-02-18T05:35:16.801Z"
   },
   {
    "duration": 10,
    "start_time": "2025-02-18T05:35:16.812Z"
   },
   {
    "duration": 10,
    "start_time": "2025-02-18T05:35:16.824Z"
   },
   {
    "duration": 74,
    "start_time": "2025-02-18T05:35:16.836Z"
   },
   {
    "duration": 9,
    "start_time": "2025-02-18T05:35:16.912Z"
   },
   {
    "duration": 169,
    "start_time": "2025-02-18T05:35:16.923Z"
   },
   {
    "duration": 11,
    "start_time": "2025-02-18T05:35:17.094Z"
   },
   {
    "duration": 78,
    "start_time": "2025-02-18T05:35:17.107Z"
   },
   {
    "duration": 167,
    "start_time": "2025-02-18T05:35:17.186Z"
   },
   {
    "duration": 94,
    "start_time": "2025-02-18T05:35:17.354Z"
   },
   {
    "duration": 14,
    "start_time": "2025-02-18T05:35:17.449Z"
   },
   {
    "duration": 5,
    "start_time": "2025-02-18T05:35:17.465Z"
   },
   {
    "duration": 30,
    "start_time": "2025-02-18T05:35:17.471Z"
   },
   {
    "duration": 189,
    "start_time": "2025-02-18T05:35:17.502Z"
   },
   {
    "duration": 7,
    "start_time": "2025-02-18T05:35:17.693Z"
   },
   {
    "duration": 39,
    "start_time": "2025-02-18T05:35:17.702Z"
   },
   {
    "duration": 11,
    "start_time": "2025-02-18T05:35:17.742Z"
   },
   {
    "duration": 12,
    "start_time": "2025-02-18T05:35:17.755Z"
   },
   {
    "duration": 205,
    "start_time": "2025-02-18T05:35:17.769Z"
   },
   {
    "duration": 381,
    "start_time": "2025-02-18T05:35:17.976Z"
   },
   {
    "duration": 4,
    "start_time": "2025-02-18T05:35:18.359Z"
   },
   {
    "duration": 89,
    "start_time": "2025-02-18T05:35:18.365Z"
   },
   {
    "duration": 42,
    "start_time": "2025-02-18T05:35:18.458Z"
   },
   {
    "duration": 107,
    "start_time": "2025-02-18T05:35:18.502Z"
   },
   {
    "duration": 96,
    "start_time": "2025-02-18T05:35:18.611Z"
   },
   {
    "duration": 28,
    "start_time": "2025-02-18T05:35:18.709Z"
   },
   {
    "duration": 27,
    "start_time": "2025-02-18T05:35:18.739Z"
   },
   {
    "duration": 416,
    "start_time": "2025-02-18T05:35:18.768Z"
   },
   {
    "duration": 95,
    "start_time": "2025-02-18T05:35:19.186Z"
   },
   {
    "duration": 67,
    "start_time": "2025-02-18T05:35:19.283Z"
   },
   {
    "duration": 22,
    "start_time": "2025-02-18T05:35:19.351Z"
   },
   {
    "duration": 25,
    "start_time": "2025-02-18T05:35:19.375Z"
   },
   {
    "duration": 4134,
    "start_time": "2025-02-18T05:35:19.402Z"
   },
   {
    "duration": 27,
    "start_time": "2025-02-18T05:35:23.538Z"
   },
   {
    "duration": 100,
    "start_time": "2025-02-18T05:35:23.566Z"
   },
   {
    "duration": 3445,
    "start_time": "2025-02-18T05:35:23.667Z"
   },
   {
    "duration": 4518,
    "start_time": "2025-02-18T05:36:44.694Z"
   },
   {
    "duration": 4711,
    "start_time": "2025-02-18T05:36:51.601Z"
   }
  ],
  "colab": {
   "provenance": []
  },
  "kernelspec": {
   "display_name": "Python 3",
   "language": "python",
   "name": "python3"
  },
  "language_info": {
   "codemirror_mode": {
    "name": "ipython",
    "version": 3
   },
   "file_extension": ".py",
   "mimetype": "text/x-python",
   "name": "python",
   "nbconvert_exporter": "python",
   "pygments_lexer": "ipython3",
   "version": "3.13.3"
  },
  "toc": {
   "base_numbering": 1,
   "nav_menu": {},
   "number_sections": true,
   "sideBar": true,
   "skip_h1_title": true,
   "title_cell": "Table of Contents",
   "title_sidebar": "Contents",
   "toc_cell": false,
   "toc_position": {},
   "toc_section_display": true,
   "toc_window_display": false
  }
 },
 "nbformat": 4,
 "nbformat_minor": 1
}
